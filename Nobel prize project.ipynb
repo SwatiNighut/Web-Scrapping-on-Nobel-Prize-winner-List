{
 "cells": [
  {
   "cell_type": "markdown",
   "id": "29d46de8",
   "metadata": {},
   "source": [
    "# Project :\n",
    "Webscrapping with Pandas oprations and Data visualization"
   ]
  },
  {
   "cell_type": "markdown",
   "id": "c418793b",
   "metadata": {},
   "source": [
    "# NOBEL PRIZE WINNER LIST"
   ]
  },
  {
   "cell_type": "markdown",
   "id": "9785f487",
   "metadata": {},
   "source": [
    "The aim is to extract the data from wikipedia for nobel prize winner list."
   ]
  },
  {
   "cell_type": "markdown",
   "id": "01f6588f",
   "metadata": {},
   "source": [
    "After extracting the data make the data useful for some operations."
   ]
  },
  {
   "cell_type": "markdown",
   "id": "568511db",
   "metadata": {},
   "source": [
    "For a particular requirement do some pandas opearation and represent data in data visualization."
   ]
  },
  {
   "cell_type": "markdown",
   "id": "62272d25",
   "metadata": {},
   "source": [
    "#                                       Data Extraction"
   ]
  },
  {
   "cell_type": "code",
   "execution_count": null,
   "id": "0a71b429",
   "metadata": {},
   "outputs": [],
   "source": [
    "# first step is to extract the data from website.for that we require to import requests and BeautifulSoap."
   ]
  },
  {
   "cell_type": "code",
   "execution_count": 1,
   "id": "e7a18f3c",
   "metadata": {},
   "outputs": [],
   "source": [
    "import requests"
   ]
  },
  {
   "cell_type": "code",
   "execution_count": 2,
   "id": "805ae50f",
   "metadata": {},
   "outputs": [],
   "source": [
    "r = requests.get('https://en.wikipedia.org/wiki/List_of_Nobel_laureates')"
   ]
  },
  {
   "cell_type": "code",
   "execution_count": 3,
   "id": "2b71ba6b",
   "metadata": {},
   "outputs": [
    {
     "data": {
      "text/plain": [
       "<Response [200]>"
      ]
     },
     "execution_count": 3,
     "metadata": {},
     "output_type": "execute_result"
    }
   ],
   "source": [
    "r"
   ]
  },
  {
   "cell_type": "code",
   "execution_count": 4,
   "id": "5067b140",
   "metadata": {},
   "outputs": [
    {
     "data": {
      "text/plain": [
       "'<!DOCTYPE html>\\n<html class=\"client-nojs\" lang=\"en\" dir=\"ltr\">\\n<head>\\n<meta charset=\"UTF-8\"/>\\n<title>List of Nobel laureates - Wikipedia</title>\\n<script>document.documentElement.className=\"client-js\";RLCONF={\"wgBreakFrames\":!1,\"wgSeparatorTransformTable\":[\"\",\"\"],\"wgDigitTransformTable\":[\"\",\"\"],\"wgDefaultDateFormat\":\"dmy\",\"wgMonthNames\":[\"\",\"January\",\"February\",\"March\",\"April\",\"May\",\"June\",\"July\",\"August\",\"September\",\"October\",\"November\",\"December\"],\"wgRequestId\":\"3b2bbfe7-93db-427e-aae7-4b00efd86fce\",\"wgCSPNonce\":!1,\"wgCanonicalNamespace\":\"\",\"wgCanonicalSpecialPageName\":!1,\"wgNamespaceNumber\":0,\"wgPageName\":\"List_of_Nobel_laureates\",\"wgTitle\":\"List of Nobel laureates\",\"wgCurRevisionId\":1026136130,\"wgRevisionId\":1026136130,\"wgArticleId\":1175987,\"wgIsArticle\":!0,\"wgIsRedirect\":!1,\"wgAction\":\"view\",\"wgUserName\":null,\"wgUserGroups\":[\"*\"],\"wgCategories\":[\"Articles with short description\",\"Short description is different from Wikidata\",\"Wikipedia indefinitely semi-protected pages\",\"Articles containing Swedish-language text\",\"Articles containing Norwegian-language text\",\"Articles with hCards\",\\n\"Commons category link is on Wikidata\",\"Featured lists\",\"Nobel laureates\",\"Lists of Nobel laureates\"],\"wgPageContentLanguage\":\"en\",\"wgPageContentModel\":\"wikitext\",\"wgRelevantPageName\":\"List_of_Nobel_laureates\",\"wgRelevantArticleId\":1175987,\"wgIsProbablyEditable\":!1,\"wgRelevantPageIsProbablyEditable\":!1,\"wgRestrictionEdit\":[\"autoconfirmed\"],\"wgRestrictionMove\":[\"autoconfirmed\"],\"wgFlaggedRevsParams\":{\"tags\":{\"status\":{\"levels\":-1}}},\"wgMediaViewerOnClick\":!0,\"wgMediaViewerEnabledByDefault\":!0,\"wgPopupsFlags\":10,\"wgVisualEditor\":{\"pageLanguageCode\":\"en\",\"pageLanguageDir\":\"ltr\",\"pageVariantFallbacks\":\"en\"},\"wgMFDisplayWikibaseDescriptions\":{\"search\":!0,\"nearby\":!0,\"watchlist\":!0,\"tagline\":!1},\"wgWMESchemaEditAttemptStepOversample\":!1,\"wgULSCurrentAutonym\":\"English\",\"wgNoticeProject\":\"wikipedia\",\"wgCentralAuthMobileDomain\":!1,\"wgEditSubmitButtonLabelPublish\":!0,\"wgULSPosition\":\"interlanguage\",\"wgGENewcomerTasksGuidanceEnabled\":!0,\"wgGEAskQuestionEnabled\":!1,\\n\"wgGELinkRecommendationsFrontendEnabled\":!1,\"wgWikibaseItemId\":\"Q339619\"};RLSTATE={\"ext.globalCssJs.user.styles\":\"ready\",\"site.styles\":\"ready\",\"noscript\":\"ready\",\"user.styles\":\"ready\",\"ext.globalCssJs.user\":\"ready\",\"user\":\"ready\",\"user.options\":\"loading\",\"ext.cite.styles\":\"ready\",\"skins.vector.styles.legacy\":\"ready\",\"jquery.tablesorter.styles\":\"ready\",\"jquery.makeCollapsible.styles\":\"ready\",\"ext.visualEditor.desktopArticleTarget.noscript\":\"ready\",\"ext.uls.interlanguage\":\"ready\",\"ext.wikimediaBadges\":\"ready\",\"wikibase.client.init\":\"ready\"};RLPAGEMODULES=[\"ext.cite.ux-enhancements\",\"site\",\"mediawiki.page.ready\",\"jquery.tablesorter\",\"jquery.makeCollapsible\",\"mediawiki.toc\",\"skins.vector.legacy.js\",\"ext.gadget.ReferenceTooltips\",\"ext.gadget.charinsert\",\"ext.gadget.extra-toolbar-buttons\",\"ext.gadget.refToolbar\",\"ext.gadget.switcher\",\"ext.centralauth.centralautologin\",\"mmv.head\",\"mmv.bootstrap.autostart\",\"ext.popups\",\"ext.visualEditor.desktopArticleTarget.init\",\\n\"ext.visualEditor.targetLoader\",\"ext.eventLogging\",\"ext.wikimediaEvents\",\"ext.navigationTiming\",\"ext.uls.compactlinks\",\"ext.uls.interface\",\"ext.cx.eventlogging.campaigns\",\"ext.centralNotice.geoIP\",\"ext.centralNotice.startUp\",\"ext.growthExperiments.SuggestedEditSession\"];</script>\\n<script>(RLQ=window.RLQ||[]).push(function(){mw.loader.implement(\"user.options@1hzgi\",function($,jQuery,require,module){/*@nomin*/mw.user.tokens.set({\"patrolToken\":\"+\\\\\\\\\",\"watchToken\":\"+\\\\\\\\\",\"csrfToken\":\"+\\\\\\\\\"});\\n});});</script>\\n<link rel=\"stylesheet\" href=\"/w/load.php?lang=en&amp;modules=ext.cite.styles%7Cext.uls.interlanguage%7Cext.visualEditor.desktopArticleTarget.noscript%7Cext.wikimediaBadges%7Cjquery.makeCollapsible.styles%7Cjquery.tablesorter.styles%7Cskins.vector.styles.legacy%7Cwikibase.client.init&amp;only=styles&amp;skin=vector\"/>\\n<script async=\"\" src=\"/w/load.php?lang=en&amp;modules=startup&amp;only=scripts&amp;raw=1&amp;skin=vector\"></script>\\n<meta name=\"ResourceLoaderDynamicStyles\" content=\"\"/>\\n<link rel=\"stylesheet\" href=\"/w/load.php?lang=en&amp;modules=site.styles&amp;only=styles&amp;skin=vector\"/>\\n<meta name=\"generator\" content=\"MediaWiki 1.37.0-wmf.7\"/>\\n<meta name=\"referrer\" content=\"origin\"/>\\n<meta name=\"referrer\" content=\"origin-when-crossorigin\"/>\\n<meta name=\"referrer\" content=\"origin-when-cross-origin\"/>\\n<meta property=\"og:image\" content=\"https://upload.wikimedia.org/wikipedia/en/e/ed/Nobel_Prize.png\"/>\\n<meta property=\"og:title\" content=\"List of Nobel laureates - Wikipedia\"/>\\n<meta property=\"og:type\" content=\"website\"/>\\n<link rel=\"preconnect\" href=\"//upload.wikimedia.org\"/>\\n<link rel=\"alternate\" media=\"only screen and (max-width: 720px)\" href=\"//en.m.wikipedia.org/wiki/List_of_Nobel_laureates\"/>\\n<link rel=\"apple-touch-icon\" href=\"/static/apple-touch/wikipedia.png\"/>\\n<link rel=\"shortcut icon\" href=\"/static/favicon/wikipedia.ico\"/>\\n<link rel=\"search\" type=\"application/opensearchdescription+xml\" href=\"/w/opensearch_desc.php\" title=\"Wikipedia (en)\"/>\\n<link rel=\"EditURI\" type=\"application/rsd+xml\" href=\"//en.wikipedia.org/w/api.php?action=rsd\"/>\\n<link rel=\"license\" href=\"//creativecommons.org/licenses/by-sa/3.0/\"/>\\n<link rel=\"canonical\" href=\"https://en.wikipedia.org/wiki/List_of_Nobel_laureates\"/>\\n<link rel=\"dns-prefetch\" href=\"//login.wikimedia.org\"/>\\n<link rel=\"dns-prefetch\" href=\"//meta.wikimedia.org\" />\\n</head>\\n<body class=\"mediawiki ltr sitedir-ltr mw-hide-empty-elt ns-0 ns-subject page-List_of_Nobel_laureates rootpage-List_of_Nobel_laureates skin-vector action-view skin-vector-legacy\"><div id=\"mw-page-base\" class=\"noprint\"></div>\\n<div id=\"mw-head-base\" class=\"noprint\"></div>\\n<div id=\"content\" class=\"mw-body\" role=\"main\">\\n\\t<a id=\"top\"></a>\\n\\t<div id=\"siteNotice\"><!-- CentralNotice --></div>\\n\\t<div class=\"mw-indicators\">\\n\\t<div id=\"mw-indicator-featured-star\" class=\"mw-indicator\"><a href=\"/wiki/Wikipedia:Featured_lists\" title=\"This is a featured list. Click here for more information.\"><img alt=\"This is a featured list. Click here for more information.\" src=\"//upload.wikimedia.org/wikipedia/en/thumb/e/e7/Cscr-featured.svg/20px-Cscr-featured.svg.png\" decoding=\"async\" width=\"20\" height=\"19\" srcset=\"//upload.wikimedia.org/wikipedia/en/thumb/e/e7/Cscr-featured.svg/30px-Cscr-featured.svg.png 1.5x, //upload.wikimedia.org/wikipedia/en/thumb/e/e7/Cscr-featured.svg/40px-Cscr-featured.svg.png 2x\" data-file-width=\"462\" data-file-height=\"438\" /></a></div>\\n\\t<div id=\"mw-indicator-pp-default\" class=\"mw-indicator\"><a href=\"/wiki/Wikipedia:Protection_policy#semi\" title=\"This article is semi-protected.\"><img alt=\"Page semi-protected\" src=\"//upload.wikimedia.org/wikipedia/en/thumb/1/1b/Semi-protection-shackle.svg/20px-Semi-protection-shackle.svg.png\" decoding=\"async\" width=\"20\" height=\"20\" srcset=\"//upload.wikimedia.org/wikipedia/en/thumb/1/1b/Semi-protection-shackle.svg/30px-Semi-protection-shackle.svg.png 1.5x, //upload.wikimedia.org/wikipedia/en/thumb/1/1b/Semi-protection-shackle.svg/40px-Semi-protection-shackle.svg.png 2x\" data-file-width=\"512\" data-file-height=\"512\" /></a></div>\\n\\t</div>\\n\\t<h1 id=\"firstHeading\" class=\"firstHeading\" >List of Nobel laureates</h1>\\n\\t<div id=\"bodyContent\" class=\"vector-body\">\\n\\t\\t<div id=\"siteSub\" class=\"noprint\">From Wikipedia, the free encyclopedia</div>\\n\\t\\t<div id=\"contentSub\"></div>\\n\\t\\t<div id=\"contentSub2\"></div>\\n\\t\\t\\n\\t\\t<div id=\"jump-to-nav\"></div>\\n\\t\\t<a class=\"mw-jump-link\" href=\"#mw-head\">Jump to navigation</a>\\n\\t\\t<a class=\"mw-jump-link\" href=\"#searchInput\">Jump to search</a>\\n\\t\\t<div id=\"mw-content-text\" class=\"mw-body-content mw-content-ltr\" lang=\"en\" dir=\"ltr\"><div class=\"mw-parser-output\"><div class=\"shortdescription nomobile noexcerpt noprint searchaux\" style=\"display:none\">Wikipedia list article</div>\\n<p class=\"mw-empty-elt\">\\n</p>\\n<div class=\"thumb tright\"><div class=\"thumbinner\" style=\"width:222px;\"><a href=\"/wiki/File:Nobel_Prize.png\" class=\"image\"><img alt=\"\" src=\"//upload.wikimedia.org/wikipedia/en/thumb/e/ed/Nobel_Prize.png/220px-Nobel_Prize.png\" decoding=\"async\" width=\"220\" height=\"216\" class=\"thumbimage\" srcset=\"//upload.wikimedia.org/wikipedia/en/thumb/e/ed/Nobel_Prize.png/330px-Nobel_Prize.png 1.5x, //upload.wikimedia.org/wikipedia/en/thumb/e/ed/Nobel_Prize.png/440px-Nobel_Prize.png 2x\" data-file-width=\"500\" data-file-height=\"492\" /></a>  <div class=\"thumbcaption\"><div class=\"magnify\"><a href=\"/wiki/File:Nobel_Prize.png\" class=\"internal\" title=\"Enlarge\"></a></div><a href=\"/wiki/Nobel_laureates\" class=\"mw-redirect\" title=\"Nobel laureates\">Nobel laureates</a> receive a gold medal together with a diploma and (as of 2017) 9 million <a href=\"/wiki/Swedish_krona\" title=\"Swedish krona\">SEK</a> (roughly US $1.0 million, €0.87 million).</div></div></div>\\n<div class=\"thumb tright\"><div class=\"thumbinner\" style=\"width:222px;\"><a href=\"/wiki/File:Nobel_Prize_winners_2012.jpg\" class=\"image\"><img alt=\"\" src=\"//upload.wikimedia.org/wikipedia/commons/thumb/b/b5/Nobel_Prize_winners_2012.jpg/220px-Nobel_Prize_winners_2012.jpg\" decoding=\"async\" width=\"220\" height=\"110\" class=\"thumbimage\" srcset=\"//upload.wikimedia.org/wikipedia/commons/thumb/b/b5/Nobel_Prize_winners_2012.jpg/330px-Nobel_Prize_winners_2012.jpg 1.5x, //upload.wikimedia.org/wikipedia/commons/thumb/b/b5/Nobel_Prize_winners_2012.jpg/440px-Nobel_Prize_winners_2012.jpg 2x\" data-file-width=\"3118\" data-file-height=\"1559\" /></a>  <div class=\"thumbcaption\"><div class=\"magnify\"><a href=\"/wiki/File:Nobel_Prize_winners_2012.jpg\" class=\"internal\" title=\"Enlarge\"></a></div>Nobel laureates of 2012 <a href=\"/wiki/Alvin_E._Roth\" title=\"Alvin E. Roth\">Alvin E. Roth</a>, <a href=\"/wiki/Brian_Kobilka\" title=\"Brian Kobilka\">Brian Kobilka</a>, <a href=\"/wiki/Robert_J._Lefkowitz\" class=\"mw-redirect\" title=\"Robert J. Lefkowitz\">Robert J. Lefkowitz</a>, <a href=\"/wiki/David_J._Wineland\" title=\"David J. Wineland\">David J. Wineland</a>, and <a href=\"/wiki/Serge_Haroche\" title=\"Serge Haroche\">Serge Haroche</a> during the ceremony</div></div></div>\\n<p>The <a href=\"/wiki/Nobel_Prize\" title=\"Nobel Prize\">Nobel Prizes</a> (<a href=\"/wiki/Swedish_language\" title=\"Swedish language\">Swedish</a>: <i lang=\"sv\">Nobelpriset</i>, <a href=\"/wiki/Norwegian_language\" title=\"Norwegian language\">Norwegian</a>: <i lang=\"no\">Nobelprisen</i>) are  prizes awarded annually by the <a href=\"/wiki/Royal_Swedish_Academy_of_Sciences\" title=\"Royal Swedish Academy of Sciences\">Royal Swedish Academy of Sciences</a>, the <a href=\"/wiki/Swedish_Academy\" title=\"Swedish Academy\">Swedish Academy</a>, the <a href=\"/wiki/Karolinska_Institute\" title=\"Karolinska Institute\">Karolinska Institutet</a>, and the <a href=\"/wiki/Norwegian_Nobel_Committee\" title=\"Norwegian Nobel Committee\">Norwegian Nobel Committee</a> to individuals and organizations who make outstanding contributions in the fields of <a href=\"/wiki/Nobel_Prize_in_Chemistry\" title=\"Nobel Prize in Chemistry\">chemistry</a>, <a href=\"/wiki/Nobel_Prize_in_Physics\" title=\"Nobel Prize in Physics\">physics</a>, <a href=\"/wiki/Nobel_Prize_in_Literature\" title=\"Nobel Prize in Literature\">literature</a>, <a href=\"/wiki/Nobel_Peace_Prize\" title=\"Nobel Peace Prize\">peace</a>, and <a href=\"/wiki/Nobel_Prize_in_Physiology_or_Medicine\" title=\"Nobel Prize in Physiology or Medicine\">physiology or medicine</a>.<sup id=\"cite_ref-1\" class=\"reference\"><a href=\"#cite_note-1\">&#91;1&#93;</a></sup> They were established by the 1895 will of <a href=\"/wiki/Alfred_Nobel\" title=\"Alfred Nobel\">Alfred Nobel</a>, which dictates that the awards should be administered by the <a href=\"/wiki/Nobel_Foundation\" title=\"Nobel Foundation\">Nobel Foundation</a>. The <a href=\"/wiki/Nobel_Memorial_Prize_in_Economic_Sciences\" title=\"Nobel Memorial Prize in Economic Sciences\">Nobel Memorial Prize in Economic Sciences</a> was established in 1968 by the <a href=\"/wiki/Sveriges_Riksbank\" class=\"mw-redirect\" title=\"Sveriges Riksbank\">Sveriges Riksbank</a>, the <a href=\"/wiki/Central_bank\" title=\"Central bank\">central bank</a> of <a href=\"/wiki/Sweden\" title=\"Sweden\">Sweden</a>, for contributions to the field of economics. Each recipient, or \"laureate\", receives a gold medal, a <a href=\"/wiki/Diploma\" title=\"Diploma\">diploma</a>, and a sum of money, which is decided annually by the Nobel Foundation.<sup id=\"cite_ref-NobelPrizeDescription_2-0\" class=\"reference\"><a href=\"#cite_note-NobelPrizeDescription-2\">&#91;2&#93;</a></sup>\\n</p>\\n<div id=\"toc\" class=\"toc\" role=\"navigation\" aria-labelledby=\"mw-toc-heading\"><input type=\"checkbox\" role=\"button\" id=\"toctogglecheckbox\" class=\"toctogglecheckbox\" style=\"display:none\" /><div class=\"toctitle\" lang=\"en\" dir=\"ltr\"><h2 id=\"mw-toc-heading\">Contents</h2><span class=\"toctogglespan\"><label class=\"toctogglelabel\" for=\"toctogglecheckbox\"></label></span></div>\\n<ul>\\n<li class=\"toclevel-1 tocsection-1\"><a href=\"#Prize\"><span class=\"tocnumber\">1</span> <span class=\"toctext\">Prize</span></a></li>\\n<li class=\"toclevel-1 tocsection-2\"><a href=\"#Laureates\"><span class=\"tocnumber\">2</span> <span class=\"toctext\">Laureates</span></a></li>\\n<li class=\"toclevel-1 tocsection-3\"><a href=\"#List_of_laureates\"><span class=\"tocnumber\">3</span> <span class=\"toctext\">List of laureates</span></a></li>\\n<li class=\"toclevel-1 tocsection-4\"><a href=\"#See_also\"><span class=\"tocnumber\">4</span> <span class=\"toctext\">See also</span></a></li>\\n<li class=\"toclevel-1 tocsection-5\"><a href=\"#Notes\"><span class=\"tocnumber\">5</span> <span class=\"toctext\">Notes</span></a></li>\\n<li class=\"toclevel-1 tocsection-6\"><a href=\"#References\"><span class=\"tocnumber\">6</span> <span class=\"toctext\">References</span></a></li>\\n<li class=\"toclevel-1 tocsection-7\"><a href=\"#External_links\"><span class=\"tocnumber\">7</span> <span class=\"toctext\">External links</span></a></li>\\n</ul>\\n</div>\\n\\n<h2><span class=\"mw-headline\" id=\"Prize\">Prize</span></h2>\\n<p>Each prize is awarded by a separate committee; the Royal Swedish Academy of Sciences awards the Prizes in Physics, Chemistry, and Economics; the Karolinska Institute awards the Prize in Physiology or Medicine; and the Norwegian Nobel Committee awards the Prize in Peace.<sup id=\"cite_ref-3\" class=\"reference\"><a href=\"#cite_note-3\">&#91;3&#93;</a></sup> Each recipient receives a medal, a diploma and a monetary award that has varied throughout the years.<sup id=\"cite_ref-NobelPrizeDescription_2-1\" class=\"reference\"><a href=\"#cite_note-NobelPrizeDescription-2\">&#91;2&#93;</a></sup> In 1901, the recipients of the first Nobel Prizes were given 150,782 <a href=\"/wiki/Swedish_krona\" title=\"Swedish krona\">SEK</a>, which is equal to 8,402,670 SEK in December 2017. In 2017, the laureates were awarded a prize amount of 9,000,000 SEK.<sup id=\"cite_ref-4\" class=\"reference\"><a href=\"#cite_note-4\">&#91;4&#93;</a></sup> The awards are presented in <a href=\"/wiki/Stockholm\" title=\"Stockholm\">Stockholm</a> in an annual ceremony on December 10, the anniversary of Nobel\\'s death.<sup id=\"cite_ref-5\" class=\"reference\"><a href=\"#cite_note-5\">&#91;5&#93;</a></sup>\\n</p><p>In years in which the Nobel Prize is not awarded due to external events or a lack of nominations, the prize money is returned to the funds delegated to the relevant prize.<sup id=\"cite_ref-Winners1942_6-0\" class=\"reference\"><a href=\"#cite_note-Winners1942-6\">&#91;6&#93;</a></sup> The Nobel Prize was not awarded between 1940 and 1942 due to the outbreak of <a href=\"/wiki/World_War_II\" title=\"World War II\">World War&#160;II</a>.<sup id=\"cite_ref-PeacePrizeArticle_7-0\" class=\"reference\"><a href=\"#cite_note-PeacePrizeArticle-7\">&#91;7&#93;</a></sup>\\n</p>\\n<h2><span class=\"mw-headline\" id=\"Laureates\">Laureates</span></h2>\\n<p>Between 1901 and 2017, the <a href=\"/wiki/Nobel_Prizes\" class=\"mw-redirect\" title=\"Nobel Prizes\">Nobel Prizes</a> and the <a href=\"/wiki/Nobel_Memorial_Prize_in_Economic_Sciences\" title=\"Nobel Memorial Prize in Economic Sciences\">Nobel Memorial Prize in Economic Sciences</a> were awarded 585 times to 923 people and organizations. With some receiving the Nobel Prize more than once, this makes a total of 892 individuals (including 844 men, 48 women) and 24 organizations.<sup id=\"cite_ref-8\" class=\"reference\"><a href=\"#cite_note-8\">&#91;8&#93;</a></sup>  Six Nobel laureates were not permitted by their governments to accept the Nobel Prize. <a href=\"/wiki/Adolf_Hitler\" title=\"Adolf Hitler\">Adolf Hitler</a> forbade four Germans, <a href=\"/wiki/Richard_Kuhn\" title=\"Richard Kuhn\">Richard Kuhn</a> (Chemistry, 1938), <a href=\"/wiki/Adolf_Butenandt\" title=\"Adolf Butenandt\">Adolf Butenandt</a> (Chemistry, 1939), <a href=\"/wiki/Gerhard_Domagk\" title=\"Gerhard Domagk\">Gerhard Domagk</a> (Physiology or Medicine, 1939), <a href=\"/wiki/Carl_von_Ossietzky\" title=\"Carl von Ossietzky\">Carl von Ossietzky</a> (Peace, 1936) from accepting their Nobel Prizes. The <a href=\"/wiki/Government_of_China\" title=\"Government of China\">Chinese government</a> forbade <a href=\"/wiki/Liu_Xiaobo\" title=\"Liu Xiaobo\">Liu Xiaobo</a> from accepting his Nobel Prize (Peace, 2010)<sup id=\"cite_ref-9\" class=\"reference\"><a href=\"#cite_note-9\">&#91;9&#93;</a></sup> and the government of the <a href=\"/wiki/Soviet_Union\" title=\"Soviet Union\">Soviet Union</a> pressured <a href=\"/wiki/Boris_Pasternak\" title=\"Boris Pasternak\">Boris Pasternak</a> (Literature, 1958) to decline his award. <a href=\"/wiki/Liu_Xiaobo\" title=\"Liu Xiaobo\">Liu Xiaobo</a>, <a href=\"/wiki/Carl_von_Ossietzky\" title=\"Carl von Ossietzky\">Carl von Ossietzky</a> and <a href=\"/wiki/Aung_San_Suu_Kyi\" title=\"Aung San Suu Kyi\">Aung San Suu Kyi</a> were all awarded their Nobel Prize while in prison or detention.<sup id=\"cite_ref-10\" class=\"reference\"><a href=\"#cite_note-10\">&#91;10&#93;</a></sup> Two Nobel laureates, <a href=\"/wiki/Jean-Paul_Sartre\" title=\"Jean-Paul Sartre\">Jean-Paul Sartre</a> (Literature, 1964) and <a href=\"/wiki/Le_Duc_Tho\" class=\"mw-redirect\" title=\"Le Duc Tho\">Lê Ðức Thọ</a> (Peace, 1973), declined the award; Sartre declined the award as he declined all official honors, and Lê declined the award due to the situation Vietnam was in at the time.\\n</p><p>Six laureates have received more than one prize; of the six, the <a href=\"/wiki/International_Committee_of_the_Red_Cross\" title=\"International Committee of the Red Cross\">International Committee of the Red Cross</a> has received the <a href=\"/wiki/Nobel_Peace_Prize\" title=\"Nobel Peace Prize\">Nobel Peace Prize</a> three times, more than any other.<sup id=\"cite_ref-NobelFacts_11-0\" class=\"reference\"><a href=\"#cite_note-NobelFacts-11\">&#91;11&#93;</a></sup> <a href=\"/wiki/UNHCR\" class=\"mw-redirect\" title=\"UNHCR\">UNHCR</a> has been awarded the <a href=\"/wiki/Nobel_Peace_Prize\" title=\"Nobel Peace Prize\">Nobel Peace Prize</a> twice. Also the <a href=\"/wiki/Nobel_Prize_in_Physics\" title=\"Nobel Prize in Physics\">Nobel Prize in Physics</a> was awarded to <a href=\"/wiki/John_Bardeen\" title=\"John Bardeen\">John Bardeen</a> twice, and the <a href=\"/wiki/Nobel_Prize_in_Chemistry\" title=\"Nobel Prize in Chemistry\">Nobel Prize in Chemistry</a> to <a href=\"/wiki/Frederick_Sanger\" title=\"Frederick Sanger\">Frederick Sanger</a>. Two laureates have been awarded twice but not in the same field: <a href=\"/wiki/Marie_Curie\" title=\"Marie Curie\">Marie Curie</a> (Physics and Chemistry) and <a href=\"/wiki/Linus_Pauling\" title=\"Linus Pauling\">Linus Pauling</a> (Chemistry and Peace). Among the 892 Nobel laureates, 48 have been women; the first woman to receive a Nobel Prize was <a href=\"/wiki/Marie_Curie\" title=\"Marie Curie\">Marie Curie</a>, who received the Nobel Prize in Physics in 1903.<sup id=\"cite_ref-WomenLaureates_12-0\" class=\"reference\"><a href=\"#cite_note-WomenLaureates-12\">&#91;12&#93;</a></sup>  She was also the first person (male or female) to be awarded two Nobel Prizes, the second award being the Nobel Prize in Chemistry, given in 1911.<sup id=\"cite_ref-NobelFacts_11-1\" class=\"reference\"><a href=\"#cite_note-NobelFacts-11\">&#91;11&#93;</a></sup>\\n</p>\\n<h2><span class=\"mw-headline\" id=\"List_of_laureates\">List of laureates</span></h2>\\n<table class=\"wikitable sortable\">\\n\\n<tbody><tr>\\n<th>Year\\n</th>\\n<th width=\"18%\"><a href=\"/wiki/List_of_Nobel_laureates_in_Physics\" title=\"List of Nobel laureates in Physics\">Physics</a>\\n</th>\\n<th width=\"16%\"><a href=\"/wiki/List_of_Nobel_laureates_in_Chemistry\" title=\"List of Nobel laureates in Chemistry\">Chemistry</a>\\n</th>\\n<th width=\"18%\"><a href=\"/wiki/List_of_Nobel_laureates_in_Physiology_or_Medicine\" title=\"List of Nobel laureates in Physiology or Medicine\">Physiology<br />or Medicine</a>\\n</th>\\n<th width=\"16%\"><a href=\"/wiki/List_of_Nobel_laureates_in_Literature\" title=\"List of Nobel laureates in Literature\">Literature</a>\\n</th>\\n<th width=\"16%\"><a href=\"/wiki/List_of_Nobel_Peace_Prize_laureates\" title=\"List of Nobel Peace Prize laureates\">Peace</a>\\n</th>\\n<th width=\"15%\"><a href=\"/wiki/List_of_Nobel_laureates_in_Economics\" class=\"mw-redirect\" title=\"List of Nobel laureates in Economics\">Economics</a><br />(The Sveriges Riksbank Prize)<sup id=\"cite_ref-13\" class=\"reference\"><a href=\"#cite_note-13\">&#91;13&#93;</a></sup>\\n</th></tr>\\n<tr>\\n<td align=\"center\">1901\\n</td>\\n<td><span data-sort-value=\"Röntgen, Wilhelm\"><span class=\"vcard\"><span class=\"fn\"><a href=\"/wiki/Wilhelm_R%C3%B6ntgen\" title=\"Wilhelm Röntgen\">Wilhelm Röntgen</a></span></span></span>\\n</td>\\n<td><span data-sort-value=\"Hoff, Jacobus Henricus van &#39;t\"><span class=\"vcard\"><span class=\"fn\"><a href=\"/wiki/Jacobus_Henricus_van_%27t_Hoff\" title=\"Jacobus Henricus van &#39;t Hoff\">Jacobus Henricus van \\'t Hoff</a></span></span></span>\\n</td>\\n<td><span data-sort-value=\"von Behring, Emil Adolf\"><span class=\"vcard\"><span class=\"fn\"><a href=\"/wiki/Emil_Adolf_von_Behring\" class=\"mw-redirect\" title=\"Emil Adolf von Behring\">Emil Adolf von Behring</a></span></span></span>\\n</td>\\n<td><span data-sort-value=\"Prudhomme, Sully\"><span class=\"vcard\"><span class=\"fn\"><a href=\"/wiki/Sully_Prudhomme\" title=\"Sully Prudhomme\">Sully Prudhomme</a></span></span></span>\\n</td>\\n<td><span data-sort-value=\"Dunant, Henry\"><span class=\"vcard\"><span class=\"fn\"><a href=\"/wiki/Henry_Dunant\" title=\"Henry Dunant\">Henry Dunant</a></span></span></span>;<br /><span data-sort-value=\"Passy, Frédéric\"><span class=\"vcard\"><span class=\"fn\"><a href=\"/wiki/Fr%C3%A9d%C3%A9ric_Passy\" title=\"Frédéric Passy\">Frédéric Passy</a></span></span></span>\\n</td>\\n<td align=\"center\">(prize not established)\\n</td></tr>\\n<tr>\\n<td align=\"center\">1902\\n</td>\\n<td><span data-sort-value=\"Lorentz, Hendrik\"><span class=\"vcard\"><span class=\"fn\"><a href=\"/wiki/Hendrik_Lorentz\" title=\"Hendrik Lorentz\">Hendrik Lorentz</a></span></span></span>;<br /><span data-sort-value=\"Zeeman, Pieter\"><span class=\"vcard\"><span class=\"fn\"><a href=\"/wiki/Pieter_Zeeman\" title=\"Pieter Zeeman\">Pieter Zeeman</a></span></span></span>\\n</td>\\n<td><span data-sort-value=\"Fischer, Hermann Emil\"><span class=\"vcard\"><span class=\"fn\"><a href=\"/wiki/Hermann_Emil_Fischer\" class=\"mw-redirect\" title=\"Hermann Emil Fischer\">Hermann Emil Fischer</a></span></span></span>\\n</td>\\n<td><span data-sort-value=\"Ross, Ronald\"><span class=\"vcard\"><span class=\"fn\"><a href=\"/wiki/Ronald_Ross\" title=\"Ronald Ross\">Ronald Ross</a></span></span></span>\\n</td>\\n<td><span data-sort-value=\"Mommsen, Theodor\"><span class=\"vcard\"><span class=\"fn\"><a href=\"/wiki/Theodor_Mommsen\" title=\"Theodor Mommsen\">Theodor Mommsen</a></span></span></span>\\n</td>\\n<td><span data-sort-value=\"Ducommun, Élie\"><span class=\"vcard\"><span class=\"fn\"><a href=\"/wiki/%C3%89lie_Ducommun\" title=\"Élie Ducommun\">Élie Ducommun</a></span></span></span>;<br /><span data-sort-value=\"Gobat, Charles Albert\"><span class=\"vcard\"><span class=\"fn\"><a href=\"/wiki/Charles_Albert_Gobat\" title=\"Charles Albert Gobat\">Charles Albert Gobat</a></span></span></span>\\n</td>\\n<td align=\"center\">—\\n</td></tr>\\n<tr>\\n<td align=\"center\">1903\\n</td>\\n<td><span data-sort-value=\"Becquerel, Henri\"><span class=\"vcard\"><span class=\"fn\"><a href=\"/wiki/Henri_Becquerel\" title=\"Henri Becquerel\">Henri Becquerel</a></span></span></span>;<br /><span data-sort-value=\"Curie, Pierre\"><span class=\"vcard\"><span class=\"fn\"><a href=\"/wiki/Pierre_Curie\" title=\"Pierre Curie\">Pierre Curie</a></span></span></span>;<br /><span data-sort-value=\"Curie, Marie\"><span class=\"vcard\"><span class=\"fn\"><a href=\"/wiki/Marie_Curie\" title=\"Marie Curie\">Marie Curie</a></span></span></span>\\n</td>\\n<td><span data-sort-value=\"Arrhenius, Svante\"><span class=\"vcard\"><span class=\"fn\"><a href=\"/wiki/Svante_Arrhenius\" title=\"Svante Arrhenius\">Svante Arrhenius</a></span></span></span>\\n</td>\\n<td><span data-sort-value=\"Finsen, Niels Ryberg\"><span class=\"vcard\"><span class=\"fn\"><a href=\"/wiki/Niels_Ryberg_Finsen\" title=\"Niels Ryberg Finsen\">Niels Ryberg Finsen</a></span></span></span>\\n</td>\\n<td><span data-sort-value=\"Bjørnson, Bjørnstjerne\"><span class=\"vcard\"><span class=\"fn\"><a href=\"/wiki/Bj%C3%B8rnstjerne_Bj%C3%B8rnson\" title=\"Bjørnstjerne Bjørnson\">Bjørnstjerne Bjørnson</a></span></span></span>\\n</td>\\n<td><span data-sort-value=\"Cremer, Randal\"><span class=\"vcard\"><span class=\"fn\"><a href=\"/wiki/Randal_Cremer\" title=\"Randal Cremer\">Randal Cremer</a></span></span></span>\\n</td>\\n<td align=\"center\">—\\n</td></tr>\\n<tr>\\n<td align=\"center\">1904\\n</td>\\n<td><span data-sort-value=\"Rayleigh, Lord\"><span class=\"vcard\"><span class=\"fn\"><a href=\"/wiki/John_Strutt,_3rd_Baron_Rayleigh\" class=\"mw-redirect\" title=\"John Strutt, 3rd Baron Rayleigh\">Lord Rayleigh</a></span></span></span>\\n</td>\\n<td><span data-sort-value=\"Ramsay, William\"><span class=\"vcard\"><span class=\"fn\"><a href=\"/wiki/William_Ramsay\" title=\"William Ramsay\">William Ramsay</a></span></span></span>\\n</td>\\n<td><span data-sort-value=\"Pavlov, Ivan\"><span class=\"vcard\"><span class=\"fn\"><a href=\"/wiki/Ivan_Pavlov\" title=\"Ivan Pavlov\">Ivan Pavlov</a></span></span></span>\\n</td>\\n<td><span data-sort-value=\"Mistral, Frédéric\"><span class=\"vcard\"><span class=\"fn\"><a href=\"/wiki/Fr%C3%A9d%C3%A9ric_Mistral\" title=\"Frédéric Mistral\">Frédéric Mistral</a></span></span></span>;<br /><span data-sort-value=\"Echegaray, José\"><span class=\"vcard\"><span class=\"fn\"><a href=\"/wiki/Jos%C3%A9_Echegaray\" title=\"José Echegaray\">José Echegaray</a></span></span></span>\\n</td>\\n<td><a href=\"/wiki/Institut_de_Droit_International\" title=\"Institut de Droit International\">Institut de Droit International</a>\\n</td>\\n<td align=\"center\">—\\n</td></tr>\\n<tr>\\n<td align=\"center\">1905\\n</td>\\n<td><span data-sort-value=\"Lenard, Philipp\"><span class=\"vcard\"><span class=\"fn\"><a href=\"/wiki/Philipp_Lenard\" title=\"Philipp Lenard\">Philipp Lenard</a></span></span></span>\\n</td>\\n<td><span data-sort-value=\"Baeyer, Adolf von\"><span class=\"vcard\"><span class=\"fn\"><a href=\"/wiki/Adolf_von_Baeyer\" title=\"Adolf von Baeyer\">Adolf von Baeyer</a></span></span></span>\\n</td>\\n<td><span data-sort-value=\"Koch, Robert\"><span class=\"vcard\"><span class=\"fn\"><a href=\"/wiki/Robert_Koch\" title=\"Robert Koch\">Robert Koch</a></span></span></span>\\n</td>\\n<td><span data-sort-value=\"Sienkiewicz, Henryk\"><span class=\"vcard\"><span class=\"fn\"><a href=\"/wiki/Henryk_Sienkiewicz\" title=\"Henryk Sienkiewicz\">Henryk Sienkiewicz</a></span></span></span>\\n</td>\\n<td><span data-sort-value=\"Suttner, Bertha von\"><span class=\"vcard\"><span class=\"fn\"><a href=\"/wiki/Bertha_von_Suttner\" title=\"Bertha von Suttner\">Bertha von Suttner</a></span></span></span>\\n</td>\\n<td align=\"center\">—\\n</td></tr>\\n<tr>\\n<td align=\"center\">1906\\n</td>\\n<td><span data-sort-value=\"Thomson, J. J.\"><span class=\"vcard\"><span class=\"fn\"><a href=\"/wiki/J._J._Thomson\" title=\"J. J. Thomson\">J. J. Thomson</a></span></span></span>\\n</td>\\n<td><span data-sort-value=\"Moissan, Henri\"><span class=\"vcard\"><span class=\"fn\"><a href=\"/wiki/Henri_Moissan\" title=\"Henri Moissan\">Henri Moissan</a></span></span></span>\\n</td>\\n<td><span data-sort-value=\"Golgi, Camillo\"><span class=\"vcard\"><span class=\"fn\"><a href=\"/wiki/Camillo_Golgi\" title=\"Camillo Golgi\">Camillo Golgi</a></span></span></span>;<br /><span data-sort-value=\"Ramón y Cajal, Santiago\"><span class=\"vcard\"><span class=\"fn\"><a href=\"/wiki/Santiago_Ram%C3%B3n_y_Cajal\" title=\"Santiago Ramón y Cajal\">Santiago Ramón y Cajal</a></span></span></span>\\n</td>\\n<td><span data-sort-value=\"Carducci, Giosuè\"><span class=\"vcard\"><span class=\"fn\"><a href=\"/wiki/Giosu%C3%A8_Carducci\" title=\"Giosuè Carducci\">Giosuè Carducci</a></span></span></span>\\n</td>\\n<td><span data-sort-value=\"Roosevelt, Theodore\"><span class=\"vcard\"><span class=\"fn\"><a href=\"/wiki/Theodore_Roosevelt\" title=\"Theodore Roosevelt\">Theodore Roosevelt</a></span></span></span>\\n</td>\\n<td align=\"center\">—\\n</td></tr>\\n<tr>\\n<td align=\"center\">1907\\n</td>\\n<td><span data-sort-value=\"Michelson, Albert Abraham\"><span class=\"vcard\"><span class=\"fn\"><a href=\"/wiki/Albert_Abraham_Michelson\" class=\"mw-redirect\" title=\"Albert Abraham Michelson\">Albert Abraham Michelson</a></span></span></span>\\n</td>\\n<td><span data-sort-value=\"Buchner, Eduard\"><span class=\"vcard\"><span class=\"fn\"><a href=\"/wiki/Eduard_Buchner\" title=\"Eduard Buchner\">Eduard Buchner</a></span></span></span>\\n</td>\\n<td><span data-sort-value=\"Laveran, Charles Louis Alphonse\"><span class=\"vcard\"><span class=\"fn\"><a href=\"/wiki/Charles_Louis_Alphonse_Laveran\" title=\"Charles Louis Alphonse Laveran\">Charles Louis Alphonse Laveran</a></span></span></span>\\n</td>\\n<td><span data-sort-value=\"Kipling, Rudyard\"><span class=\"vcard\"><span class=\"fn\"><a href=\"/wiki/Rudyard_Kipling\" title=\"Rudyard Kipling\">Rudyard Kipling</a></span></span></span>\\n</td>\\n<td><span data-sort-value=\"Moneta, Ernesto Teodoro\"><span class=\"vcard\"><span class=\"fn\"><a href=\"/wiki/Ernesto_Teodoro_Moneta\" title=\"Ernesto Teodoro Moneta\">Ernesto Teodoro Moneta</a></span></span></span>;<br /><span data-sort-value=\"Renault, Louis\"><span class=\"vcard\"><span class=\"fn\"><a href=\"/wiki/Louis_Renault_(jurist)\" title=\"Louis Renault (jurist)\">Louis Renault</a></span></span></span>\\n</td>\\n<td align=\"center\">—\\n</td></tr>\\n<tr>\\n<td align=\"center\">1908\\n</td>\\n<td><span data-sort-value=\"Lippmann, Gabriel\"><span class=\"vcard\"><span class=\"fn\"><a href=\"/wiki/Gabriel_Lippmann\" title=\"Gabriel Lippmann\">Gabriel Lippmann</a></span></span></span>\\n</td>\\n<td><span data-sort-value=\"Rutherford, Ernest\"><span class=\"vcard\"><span class=\"fn\"><a href=\"/wiki/Ernest_Rutherford\" title=\"Ernest Rutherford\">Ernest Rutherford</a></span></span></span>\\n</td>\\n<td><span data-sort-value=\"Metchnikoff, Élie\"><span class=\"vcard\"><span class=\"fn\"><a href=\"/wiki/%C3%89lie_Metchnikoff\" title=\"Élie Metchnikoff\">Élie Metchnikoff</a></span></span></span>;<br /><span data-sort-value=\"Ehrlich, Paul\"><span class=\"vcard\"><span class=\"fn\"><a href=\"/wiki/Paul_Ehrlich\" title=\"Paul Ehrlich\">Paul Ehrlich</a></span></span></span>\\n</td>\\n<td><span data-sort-value=\"Eucken, Rudolf Christoph\"><span class=\"vcard\"><span class=\"fn\"><a href=\"/wiki/Rudolf_Christoph_Eucken\" title=\"Rudolf Christoph Eucken\">Rudolf Christoph Eucken</a></span></span></span>\\n</td>\\n<td><span data-sort-value=\"Arnoldson, Klas Pontus\"><span class=\"vcard\"><span class=\"fn\"><a href=\"/wiki/Klas_Pontus_Arnoldson\" title=\"Klas Pontus Arnoldson\">Klas Pontus Arnoldson</a></span></span></span>;<br /><span data-sort-value=\"Bajer, Fredrik\"><span class=\"vcard\"><span class=\"fn\"><a href=\"/wiki/Fredrik_Bajer\" title=\"Fredrik Bajer\">Fredrik Bajer</a></span></span></span>\\n</td>\\n<td align=\"center\">—\\n</td></tr>\\n<tr>\\n<td align=\"center\">1909\\n</td>\\n<td><span data-sort-value=\"Braun, Karl Ferdinand\"><span class=\"vcard\"><span class=\"fn\"><a href=\"/wiki/Karl_Ferdinand_Braun\" title=\"Karl Ferdinand Braun\">Karl Ferdinand Braun</a></span></span></span>;<br /><span data-sort-value=\"Marconi, Guglielmo\"><span class=\"vcard\"><span class=\"fn\"><a href=\"/wiki/Guglielmo_Marconi\" title=\"Guglielmo Marconi\">Guglielmo Marconi</a></span></span></span>\\n</td>\\n<td><span data-sort-value=\"Ostwald, Wilhelm\"><span class=\"vcard\"><span class=\"fn\"><a href=\"/wiki/Wilhelm_Ostwald\" title=\"Wilhelm Ostwald\">Wilhelm Ostwald</a></span></span></span>\\n</td>\\n<td><span data-sort-value=\"Kocher, Emil Theodor\"><span class=\"vcard\"><span class=\"fn\"><a href=\"/wiki/Emil_Theodor_Kocher\" title=\"Emil Theodor Kocher\">Emil Theodor Kocher</a></span></span></span>\\n</td>\\n<td><span data-sort-value=\"Lagerlöf, Selma\"><span class=\"vcard\"><span class=\"fn\"><a href=\"/wiki/Selma_Lagerl%C3%B6f\" title=\"Selma Lagerlöf\">Selma Lagerlöf</a></span></span></span>\\n</td>\\n<td><span data-sort-value=\"Beernaert, Auguste Marie François\"><span class=\"vcard\"><span class=\"fn\"><a href=\"/wiki/Auguste_Marie_Fran%C3%A7ois_Beernaert\" class=\"mw-redirect\" title=\"Auguste Marie François Beernaert\">Auguste Marie François Beernaert</a></span></span></span>;<br /><span data-sort-value=\"d&#39;Estournelles de Constant, Paul-Henri-Benjamin\"><span class=\"vcard\"><span class=\"fn\"><a href=\"/wiki/Paul-Henri-Benjamin_d%27Estournelles_de_Constant\" class=\"mw-redirect\" title=\"Paul-Henri-Benjamin d&#39;Estournelles de Constant\">Paul-Henri-Benjamin d\\'Estournelles de Constant</a></span></span></span>\\n</td>\\n<td align=\"center\">—\\n</td></tr>\\n<tr>\\n<td align=\"center\">1910\\n</td>\\n<td><span data-sort-value=\"Waals, Johannes Diderik van der\"><span class=\"vcard\"><span class=\"fn\"><a href=\"/wiki/Johannes_Diderik_van_der_Waals\" title=\"Johannes Diderik van der Waals\">Johannes Diderik van der Waals</a></span></span></span>\\n</td>\\n<td><span data-sort-value=\"Wallach, Otto\"><span class=\"vcard\"><span class=\"fn\"><a href=\"/wiki/Otto_Wallach\" title=\"Otto Wallach\">Otto Wallach</a></span></span></span>\\n</td>\\n<td><span data-sort-value=\"Kossel, Albrecht\"><span class=\"vcard\"><span class=\"fn\"><a href=\"/wiki/Albrecht_Kossel\" title=\"Albrecht Kossel\">Albrecht Kossel</a></span></span></span>\\n</td>\\n<td><span data-sort-value=\"Heyse, Paul\"><span class=\"vcard\"><span class=\"fn\"><a href=\"/wiki/Paul_Heyse\" title=\"Paul Heyse\">Paul Heyse</a></span></span></span>\\n</td>\\n<td><a href=\"/wiki/International_Peace_Bureau\" title=\"International Peace Bureau\">International Peace Bureau</a>\\n</td>\\n<td align=\"center\">—\\n</td></tr>\\n<tr>\\n<td align=\"center\">1911\\n</td>\\n<td><span data-sort-value=\"Wien, Wilhelm\"><span class=\"vcard\"><span class=\"fn\"><a href=\"/wiki/Wilhelm_Wien\" title=\"Wilhelm Wien\">Wilhelm Wien</a></span></span></span>\\n</td>\\n<td><span data-sort-value=\"Skłodowska-Curie, Marie\"><span class=\"vcard\"><span class=\"fn\"><a href=\"/wiki/Marie_Sk%C5%82odowska-Curie\" class=\"mw-redirect\" title=\"Marie Skłodowska-Curie\">Marie Skłodowska-Curie</a></span></span></span>\\n</td>\\n<td><span data-sort-value=\"Gullstrand, Allvar\"><span class=\"vcard\"><span class=\"fn\"><a href=\"/wiki/Allvar_Gullstrand\" title=\"Allvar Gullstrand\">Allvar Gullstrand</a></span></span></span>\\n</td>\\n<td><span data-sort-value=\"Maeterlinck, Maurice\"><span class=\"vcard\"><span class=\"fn\"><a href=\"/wiki/Maurice_Maeterlinck\" title=\"Maurice Maeterlinck\">Maurice Maeterlinck</a></span></span></span>\\n</td>\\n<td><span data-sort-value=\"Asser, Tobias\"><span class=\"vcard\"><span class=\"fn\"><a href=\"/wiki/Tobias_Asser\" title=\"Tobias Asser\">Tobias Asser</a></span></span></span>;<br /><span data-sort-value=\"Fried, Alfred Hermann\"><span class=\"vcard\"><span class=\"fn\"><a href=\"/wiki/Alfred_Hermann_Fried\" title=\"Alfred Hermann Fried\">Alfred Hermann Fried</a></span></span></span>\\n</td>\\n<td align=\"center\">—\\n</td></tr>\\n<tr>\\n<td align=\"center\">1912\\n</td>\\n<td><span data-sort-value=\"Dalén, Gustaf\"><span class=\"vcard\"><span class=\"fn\"><a href=\"/wiki/Gustaf_Dal%C3%A9n\" title=\"Gustaf Dalén\">Gustaf Dalén</a></span></span></span>\\n</td>\\n<td><span data-sort-value=\"Grignard, Victor\"><span class=\"vcard\"><span class=\"fn\"><a href=\"/wiki/Victor_Grignard\" title=\"Victor Grignard\">Victor Grignard</a></span></span></span>;<br /><span data-sort-value=\"Sabatier, Paul\"><span class=\"vcard\"><span class=\"fn\"><a href=\"/wiki/Paul_Sabatier_(chemist)\" title=\"Paul Sabatier (chemist)\">Paul Sabatier</a></span></span></span>\\n</td>\\n<td><span data-sort-value=\"Carrel, Alexis\"><span class=\"vcard\"><span class=\"fn\"><a href=\"/wiki/Alexis_Carrel\" title=\"Alexis Carrel\">Alexis Carrel</a></span></span></span>\\n</td>\\n<td><span data-sort-value=\"Hauptmann, Gerhart\"><span class=\"vcard\"><span class=\"fn\"><a href=\"/wiki/Gerhart_Hauptmann\" title=\"Gerhart Hauptmann\">Gerhart Hauptmann</a></span></span></span>\\n</td>\\n<td><span data-sort-value=\"Root, Elihu\"><span class=\"vcard\"><span class=\"fn\"><a href=\"/wiki/Elihu_Root\" title=\"Elihu Root\">Elihu Root</a></span></span></span>\\n</td>\\n<td align=\"center\">—\\n</td></tr>\\n<tr>\\n<td align=\"center\">1913\\n</td>\\n<td><span data-sort-value=\"Kamerlingh Onnes, Heike\"><span class=\"vcard\"><span class=\"fn\"><a href=\"/wiki/Heike_Kamerlingh_Onnes\" title=\"Heike Kamerlingh Onnes\">Heike Kamerlingh Onnes</a></span></span></span>\\n</td>\\n<td><span data-sort-value=\"Werner, Alfred\"><span class=\"vcard\"><span class=\"fn\"><a href=\"/wiki/Alfred_Werner\" title=\"Alfred Werner\">Alfred Werner</a></span></span></span>\\n</td>\\n<td><span data-sort-value=\"Richet, Charles\"><span class=\"vcard\"><span class=\"fn\"><a href=\"/wiki/Charles_Richet\" title=\"Charles Richet\">Charles Richet</a></span></span></span>\\n</td>\\n<td><span data-sort-value=\"Tagore, Rabindranath\"><span class=\"vcard\"><span class=\"fn\"><a href=\"/wiki/Rabindranath_Tagore\" title=\"Rabindranath Tagore\">Rabindranath Tagore</a></span></span></span>\\n</td>\\n<td><span data-sort-value=\"La Fontaine, Henri\"><span class=\"vcard\"><span class=\"fn\"><a href=\"/wiki/Henri_La_Fontaine\" title=\"Henri La Fontaine\">Henri La Fontaine</a></span></span></span>\\n</td>\\n<td align=\"center\">—\\n</td></tr>\\n<tr>\\n<td align=\"center\">1914\\n</td>\\n<td><span data-sort-value=\"von Laue, Max\"><span class=\"vcard\"><span class=\"fn\"><a href=\"/wiki/Max_von_Laue\" title=\"Max von Laue\">Max von Laue</a></span></span></span>\\n</td>\\n<td><span data-sort-value=\"Richards, Theodore William\"><span class=\"vcard\"><span class=\"fn\"><a href=\"/wiki/Theodore_William_Richards\" title=\"Theodore William Richards\">Theodore William Richards</a></span></span></span>\\n</td>\\n<td><span data-sort-value=\"Bárány, Robert\"><span class=\"vcard\"><span class=\"fn\"><a href=\"/wiki/Robert_B%C3%A1r%C3%A1ny\" class=\"mw-redirect\" title=\"Robert Bárány\">Robert Bárány</a></span></span></span>\\n</td>\\n<td align=\"center\"><i>None</i>\\n</td>\\n<td align=\"center\"><i>None</i>\\n</td>\\n<td align=\"center\">—\\n</td></tr>\\n<tr>\\n<td align=\"center\">1915\\n</td>\\n<td><span data-sort-value=\"Bragg, William Henry\"><span class=\"vcard\"><span class=\"fn\"><a href=\"/wiki/William_Henry_Bragg\" title=\"William Henry Bragg\">William Henry Bragg</a></span></span></span>;<br /><span data-sort-value=\"Bragg, William Lawrence\"><span class=\"vcard\"><span class=\"fn\"><a href=\"/wiki/William_Lawrence_Bragg\" class=\"mw-redirect\" title=\"William Lawrence Bragg\">William Lawrence Bragg</a></span></span></span>\\n</td>\\n<td><span data-sort-value=\"Willstätter, Richard\"><span class=\"vcard\"><span class=\"fn\"><a href=\"/wiki/Richard_Willst%C3%A4tter\" title=\"Richard Willstätter\">Richard Willstätter</a></span></span></span>\\n</td>\\n<td align=\"center\"><i>None</i>\\n</td>\\n<td><span data-sort-value=\"Rolland, Romain\"><span class=\"vcard\"><span class=\"fn\"><a href=\"/wiki/Romain_Rolland\" title=\"Romain Rolland\">Romain Rolland</a></span></span></span>\\n</td>\\n<td align=\"center\"><i>None</i>\\n</td>\\n<td align=\"center\">—\\n</td></tr>\\n<tr>\\n<td align=\"center\">1916\\n</td>\\n<td align=\"center\"><i>None</i>\\n</td>\\n<td align=\"center\"><i>None</i>\\n</td>\\n<td align=\"center\"><i>None</i>\\n</td>\\n<td><span data-sort-value=\"Heidenstam, Verner von\"><span class=\"vcard\"><span class=\"fn\"><a href=\"/wiki/Verner_von_Heidenstam\" title=\"Verner von Heidenstam\">Verner von Heidenstam</a></span></span></span>\\n</td>\\n<td align=\"center\"><i>None</i>\\n</td>\\n<td align=\"center\">—\\n</td></tr>\\n<tr>\\n<td align=\"center\">1917\\n</td>\\n<td><span data-sort-value=\"Barkla, Charles Glover\"><span class=\"vcard\"><span class=\"fn\"><a href=\"/wiki/Charles_Glover_Barkla\" title=\"Charles Glover Barkla\">Charles Glover Barkla</a></span></span></span>\\n</td>\\n<td align=\"center\"><i>None</i>\\n</td>\\n<td align=\"center\"><i>None</i>\\n</td>\\n<td><span data-sort-value=\"Gjellerup, Karl Adolph\"><span class=\"vcard\"><span class=\"fn\"><a href=\"/wiki/Karl_Adolph_Gjellerup\" title=\"Karl Adolph Gjellerup\">Karl Adolph Gjellerup</a></span></span></span>;<br /><span data-sort-value=\"Pontoppidan, Henrik\"><span class=\"vcard\"><span class=\"fn\"><a href=\"/wiki/Henrik_Pontoppidan\" title=\"Henrik Pontoppidan\">Henrik Pontoppidan</a></span></span></span>\\n</td>\\n<td><a href=\"/wiki/International_Committee_of_the_Red_Cross\" title=\"International Committee of the Red Cross\">International Committee of the Red Cross</a>\\n</td>\\n<td align=\"center\">—\\n</td></tr>\\n<tr>\\n<td align=\"center\">1918\\n</td>\\n<td><span data-sort-value=\"Planck, Max\"><span class=\"vcard\"><span class=\"fn\"><a href=\"/wiki/Max_Planck\" title=\"Max Planck\">Max Planck</a></span></span></span>\\n</td>\\n<td><span data-sort-value=\"Haber, Fritz\"><span class=\"vcard\"><span class=\"fn\"><a href=\"/wiki/Fritz_Haber\" title=\"Fritz Haber\">Fritz Haber</a></span></span></span>\\n</td>\\n<td align=\"center\"><i>None</i>\\n</td>\\n<td align=\"center\"><i>None</i>\\n</td>\\n<td align=\"center\"><i>None</i>\\n</td>\\n<td align=\"center\">—\\n</td></tr>\\n<tr>\\n<td align=\"center\">1919\\n</td>\\n<td><span data-sort-value=\"Stark, Johannes\"><span class=\"vcard\"><span class=\"fn\"><a href=\"/wiki/Johannes_Stark\" title=\"Johannes Stark\">Johannes Stark</a></span></span></span>\\n</td>\\n<td align=\"center\"><i>None</i>\\n</td>\\n<td><span data-sort-value=\"Bordet, Jules\"><span class=\"vcard\"><span class=\"fn\"><a href=\"/wiki/Jules_Bordet\" title=\"Jules Bordet\">Jules Bordet</a></span></span></span>\\n</td>\\n<td><span data-sort-value=\"Spitteler, Carl\"><span class=\"vcard\"><span class=\"fn\"><a href=\"/wiki/Carl_Spitteler\" title=\"Carl Spitteler\">Carl Spitteler</a></span></span></span>\\n</td>\\n<td><span data-sort-value=\"Wilson, Woodrow\"><span class=\"vcard\"><span class=\"fn\"><a href=\"/wiki/Woodrow_Wilson\" title=\"Woodrow Wilson\">Woodrow Wilson</a></span></span></span>\\n</td>\\n<td align=\"center\">—\\n</td></tr>\\n<tr>\\n<td align=\"center\">1920\\n</td>\\n<td><span data-sort-value=\"Guillaume, Charles Édouard\"><span class=\"vcard\"><span class=\"fn\"><a href=\"/wiki/Charles_%C3%89douard_Guillaume\" title=\"Charles Édouard Guillaume\">Charles Édouard Guillaume</a></span></span></span>\\n</td>\\n<td><span data-sort-value=\"Nernst, Walther\"><span class=\"vcard\"><span class=\"fn\"><a href=\"/wiki/Walther_Nernst\" title=\"Walther Nernst\">Walther Nernst</a></span></span></span>\\n</td>\\n<td><span data-sort-value=\"Krogh, August\"><span class=\"vcard\"><span class=\"fn\"><a href=\"/wiki/August_Krogh\" title=\"August Krogh\">August Krogh</a></span></span></span>\\n</td>\\n<td><span data-sort-value=\"Hamsun, Knut\"><span class=\"vcard\"><span class=\"fn\"><a href=\"/wiki/Knut_Hamsun\" title=\"Knut Hamsun\">Knut Hamsun</a></span></span></span>\\n</td>\\n<td><span data-sort-value=\"Bourgeois, Léon\"><span class=\"vcard\"><span class=\"fn\"><a href=\"/wiki/L%C3%A9on_Bourgeois\" title=\"Léon Bourgeois\">Léon Bourgeois</a></span></span></span>\\n</td>\\n<td align=\"center\">—\\n</td></tr>\\n<tr>\\n<td align=\"center\">1921\\n</td>\\n<td><span data-sort-value=\"Einstein, Albert\"><span class=\"vcard\"><span class=\"fn\"><a href=\"/wiki/Albert_Einstein\" title=\"Albert Einstein\">Albert Einstein</a></span></span></span>\\n</td>\\n<td><span data-sort-value=\"Soddy, Frederick\"><span class=\"vcard\"><span class=\"fn\"><a href=\"/wiki/Frederick_Soddy\" title=\"Frederick Soddy\">Frederick Soddy</a></span></span></span>\\n</td>\\n<td align=\"center\"><i>None</i>\\n</td>\\n<td><span data-sort-value=\"France, Anatole\"><span class=\"vcard\"><span class=\"fn\"><a href=\"/wiki/Anatole_France\" title=\"Anatole France\">Anatole France</a></span></span></span>\\n</td>\\n<td><span data-sort-value=\"Branting, Hjalmar\"><span class=\"vcard\"><span class=\"fn\"><a href=\"/wiki/Hjalmar_Branting\" title=\"Hjalmar Branting\">Hjalmar Branting</a></span></span></span>;<br /><span data-sort-value=\"Lange, Christian Lous\"><span class=\"vcard\"><span class=\"fn\"><a href=\"/wiki/Christian_Lous_Lange\" title=\"Christian Lous Lange\">Christian Lous Lange</a></span></span></span>\\n</td>\\n<td align=\"center\">—\\n</td></tr>\\n<tr>\\n<td align=\"center\">1922\\n</td>\\n<td><span data-sort-value=\"Bohr, Niels\"><span class=\"vcard\"><span class=\"fn\"><a href=\"/wiki/Niels_Bohr\" title=\"Niels Bohr\">Niels Bohr</a></span></span></span>\\n</td>\\n<td><span data-sort-value=\"Aston, Francis William\"><span class=\"vcard\"><span class=\"fn\"><a href=\"/wiki/Francis_William_Aston\" title=\"Francis William Aston\">Francis William Aston</a></span></span></span>\\n</td>\\n<td><span data-sort-value=\"Hill, Archibald\"><span class=\"vcard\"><span class=\"fn\"><a href=\"/wiki/Archibald_Hill\" title=\"Archibald Hill\">Archibald Hill</a></span></span></span>;<br /><span data-sort-value=\"Meyerhof, Otto Fritz\"><span class=\"vcard\"><span class=\"fn\"><a href=\"/wiki/Otto_Fritz_Meyerhof\" title=\"Otto Fritz Meyerhof\">Otto Fritz Meyerhof</a></span></span></span>\\n</td>\\n<td><span data-sort-value=\"Benavente, Jacinto\"><span class=\"vcard\"><span class=\"fn\"><a href=\"/wiki/Jacinto_Benavente\" title=\"Jacinto Benavente\">Jacinto Benavente</a></span></span></span>\\n</td>\\n<td><span data-sort-value=\"Nansen, Fridtjof\"><span class=\"vcard\"><span class=\"fn\"><a href=\"/wiki/Fridtjof_Nansen\" title=\"Fridtjof Nansen\">Fridtjof Nansen</a></span></span></span>\\n</td>\\n<td align=\"center\">—\\n</td></tr>\\n<tr>\\n<td align=\"center\">1923\\n</td>\\n<td><span data-sort-value=\"Millikan, Robert Andrews\"><span class=\"vcard\"><span class=\"fn\"><a href=\"/wiki/Robert_Andrews_Millikan\" title=\"Robert Andrews Millikan\">Robert Andrews Millikan</a></span></span></span>\\n</td>\\n<td><span data-sort-value=\"Pregl, Fritz\"><span class=\"vcard\"><span class=\"fn\"><a href=\"/wiki/Fritz_Pregl\" title=\"Fritz Pregl\">Fritz Pregl</a></span></span></span>\\n</td>\\n<td><span data-sort-value=\"Banting, Frederick\"><span class=\"vcard\"><span class=\"fn\"><a href=\"/wiki/Frederick_Banting\" title=\"Frederick Banting\">Frederick Banting</a></span></span></span>;<br /><span data-sort-value=\"Macleod, John James Rickard\"><span class=\"vcard\"><span class=\"fn\"><a href=\"/wiki/John_James_Rickard_Macleod\" class=\"mw-redirect\" title=\"John James Rickard Macleod\">John James Rickard Macleod</a></span></span></span>\\n</td>\\n<td><span data-sort-value=\"Yeats, W. B.\"><span class=\"vcard\"><span class=\"fn\"><a href=\"/wiki/W._B._Yeats\" title=\"W. B. Yeats\">W. B. Yeats</a></span></span></span>\\n</td>\\n<td align=\"center\"><i>None</i>\\n</td>\\n<td align=\"center\">—\\n</td></tr>\\n<tr>\\n<td align=\"center\">1924\\n</td>\\n<td><span data-sort-value=\"Siegbahn, Manne\"><span class=\"vcard\"><span class=\"fn\"><a href=\"/wiki/Manne_Siegbahn\" title=\"Manne Siegbahn\">Manne Siegbahn</a></span></span></span>\\n</td>\\n<td align=\"center\"><i>None</i>\\n</td>\\n<td><span data-sort-value=\"Einthoven, Willem\"><span class=\"vcard\"><span class=\"fn\"><a href=\"/wiki/Willem_Einthoven\" title=\"Willem Einthoven\">Willem Einthoven</a></span></span></span>\\n</td>\\n<td><span data-sort-value=\"Reymont, Władysław\"><span class=\"vcard\"><span class=\"fn\"><a href=\"/wiki/W%C5%82adys%C5%82aw_Reymont\" title=\"Władysław Reymont\">Władysław Reymont</a></span></span></span>\\n</td>\\n<td align=\"center\"><i>None</i>\\n</td>\\n<td align=\"center\">—\\n</td></tr>\\n<tr>\\n<td align=\"center\">1925\\n</td>\\n<td><span data-sort-value=\"Franck, James\"><span class=\"vcard\"><span class=\"fn\"><a href=\"/wiki/James_Franck\" title=\"James Franck\">James Franck</a></span></span></span>;<br /><span data-sort-value=\"Hertz, Gustav Ludwig\"><span class=\"vcard\"><span class=\"fn\"><a href=\"/wiki/Gustav_Ludwig_Hertz\" title=\"Gustav Ludwig Hertz\">Gustav Ludwig Hertz</a></span></span></span>\\n</td>\\n<td><span data-sort-value=\"Zsigmondy, Richard Adolf\"><span class=\"vcard\"><span class=\"fn\"><a href=\"/wiki/Richard_Adolf_Zsigmondy\" title=\"Richard Adolf Zsigmondy\">Richard Adolf Zsigmondy</a></span></span></span>\\n</td>\\n<td align=\"center\"><i>None</i>\\n</td>\\n<td><span data-sort-value=\"Shaw, George Bernard\"><span class=\"vcard\"><span class=\"fn\"><a href=\"/wiki/George_Bernard_Shaw\" title=\"George Bernard Shaw\">George Bernard Shaw</a></span></span></span>\\n</td>\\n<td><span data-sort-value=\"Chamberlain, Austen\"><span class=\"vcard\"><span class=\"fn\"><a href=\"/wiki/Austen_Chamberlain\" title=\"Austen Chamberlain\">Austen Chamberlain</a></span></span></span>;<br /><span data-sort-value=\"Dawes, Charles G.\"><span class=\"vcard\"><span class=\"fn\"><a href=\"/wiki/Charles_G._Dawes\" title=\"Charles G. Dawes\">Charles G. Dawes</a></span></span></span>\\n</td>\\n<td align=\"center\">—\\n</td></tr>\\n<tr>\\n<td align=\"center\">1926\\n</td>\\n<td><span data-sort-value=\"Perrin, Jean Baptiste\"><span class=\"vcard\"><span class=\"fn\"><a href=\"/wiki/Jean_Baptiste_Perrin\" title=\"Jean Baptiste Perrin\">Jean Baptiste Perrin</a></span></span></span>\\n</td>\\n<td><span data-sort-value=\"Svedberg, Theodor\"><span class=\"vcard\"><span class=\"fn\"><a href=\"/wiki/Theodor_Svedberg\" title=\"Theodor Svedberg\">Theodor Svedberg</a></span></span></span>\\n</td>\\n<td><span data-sort-value=\"Fibiger, Johannes\"><span class=\"vcard\"><span class=\"fn\"><a href=\"/wiki/Johannes_Fibiger\" title=\"Johannes Fibiger\">Johannes Fibiger</a></span></span></span>\\n</td>\\n<td><span data-sort-value=\"Deledda, Grazia\"><span class=\"vcard\"><span class=\"fn\"><a href=\"/wiki/Grazia_Deledda\" title=\"Grazia Deledda\">Grazia Deledda</a></span></span></span>\\n</td>\\n<td><span data-sort-value=\"Briand, Aristide\"><span class=\"vcard\"><span class=\"fn\"><a href=\"/wiki/Aristide_Briand\" title=\"Aristide Briand\">Aristide Briand</a></span></span></span>;<br /><span data-sort-value=\"Stresemann, Gustav\"><span class=\"vcard\"><span class=\"fn\"><a href=\"/wiki/Gustav_Stresemann\" title=\"Gustav Stresemann\">Gustav Stresemann</a></span></span></span>\\n</td>\\n<td align=\"center\">—\\n</td></tr>\\n<tr>\\n<td align=\"center\">1927\\n</td>\\n<td><span data-sort-value=\"Compton, Arthur\"><span class=\"vcard\"><span class=\"fn\"><a href=\"/wiki/Arthur_Compton\" title=\"Arthur Compton\">Arthur Compton</a></span></span></span>;<br /><span data-sort-value=\"Wilson, Charles Thomson Rees\"><span class=\"vcard\"><span class=\"fn\"><a href=\"/wiki/Charles_Thomson_Rees_Wilson\" title=\"Charles Thomson Rees Wilson\">Charles Thomson Rees Wilson</a></span></span></span>\\n</td>\\n<td><span data-sort-value=\"Wieland, Heinrich Otto\"><span class=\"vcard\"><span class=\"fn\"><a href=\"/wiki/Heinrich_Otto_Wieland\" title=\"Heinrich Otto Wieland\">Heinrich Otto Wieland</a></span></span></span>\\n</td>\\n<td><span data-sort-value=\"Wagner-Jauregg, Julius\"><span class=\"vcard\"><span class=\"fn\"><a href=\"/wiki/Julius_Wagner-Jauregg\" title=\"Julius Wagner-Jauregg\">Julius Wagner-Jauregg</a></span></span></span>\\n</td>\\n<td><span data-sort-value=\"Bergson, Henri\"><span class=\"vcard\"><span class=\"fn\"><a href=\"/wiki/Henri_Bergson\" title=\"Henri Bergson\">Henri Bergson</a></span></span></span>\\n</td>\\n<td><span data-sort-value=\"Buisson, Ferdinand\"><span class=\"vcard\"><span class=\"fn\"><a href=\"/wiki/Ferdinand_Buisson\" title=\"Ferdinand Buisson\">Ferdinand Buisson</a></span></span></span>;<br /><span data-sort-value=\"Quidde, Ludwig\"><span class=\"vcard\"><span class=\"fn\"><a href=\"/wiki/Ludwig_Quidde\" title=\"Ludwig Quidde\">Ludwig Quidde</a></span></span></span>\\n</td>\\n<td align=\"center\">—\\n</td></tr>\\n<tr>\\n<td align=\"center\">1928\\n</td>\\n<td><span data-sort-value=\"Richardson, Owen Willans\"><span class=\"vcard\"><span class=\"fn\"><a href=\"/wiki/Owen_Willans_Richardson\" title=\"Owen Willans Richardson\">Owen Willans Richardson</a></span></span></span>\\n</td>\\n<td><span data-sort-value=\"Windaus, Adolf Otto Reinhold\"><span class=\"vcard\"><span class=\"fn\"><a href=\"/wiki/Adolf_Otto_Reinhold_Windaus\" class=\"mw-redirect\" title=\"Adolf Otto Reinhold Windaus\">Adolf Otto Reinhold Windaus</a></span></span></span>\\n</td>\\n<td><span data-sort-value=\"Nicolle, Charles\"><span class=\"vcard\"><span class=\"fn\"><a href=\"/wiki/Charles_Nicolle\" title=\"Charles Nicolle\">Charles Nicolle</a></span></span></span>\\n</td>\\n<td><span data-sort-value=\"Undset, Sigrid\"><span class=\"vcard\"><span class=\"fn\"><a href=\"/wiki/Sigrid_Undset\" title=\"Sigrid Undset\">Sigrid Undset</a></span></span></span>\\n</td>\\n<td align=\"center\"><i>None</i>\\n</td>\\n<td align=\"center\">—\\n</td></tr>\\n<tr>\\n<td align=\"center\">1929\\n</td>\\n<td><span data-sort-value=\"Broglie, Louis de\"><span class=\"vcard\"><span class=\"fn\"><a href=\"/wiki/Louis_de_Broglie\" title=\"Louis de Broglie\">Louis de Broglie</a></span></span></span>\\n</td>\\n<td><span data-sort-value=\"Harden, Arthur\"><span class=\"vcard\"><span class=\"fn\"><a href=\"/wiki/Arthur_Harden\" title=\"Arthur Harden\">Arthur Harden</a></span></span></span>;<br /><span data-sort-value=\"von Euler-Chelpin, Hans\"><span class=\"vcard\"><span class=\"fn\"><a href=\"/wiki/Hans_von_Euler-Chelpin\" title=\"Hans von Euler-Chelpin\">Hans von Euler-Chelpin</a></span></span></span>\\n</td>\\n<td><span data-sort-value=\"Eijkman, Christiaan\"><span class=\"vcard\"><span class=\"fn\"><a href=\"/wiki/Christiaan_Eijkman\" title=\"Christiaan Eijkman\">Christiaan Eijkman</a></span></span></span>;<br /><span data-sort-value=\"Hopkins, Frederick Gowland\"><span class=\"vcard\"><span class=\"fn\"><a href=\"/wiki/Frederick_Gowland_Hopkins\" title=\"Frederick Gowland Hopkins\">Frederick Gowland Hopkins</a></span></span></span>\\n</td>\\n<td><span data-sort-value=\"Mann, Thomas\"><span class=\"vcard\"><span class=\"fn\"><a href=\"/wiki/Thomas_Mann\" title=\"Thomas Mann\">Thomas Mann</a></span></span></span>\\n</td>\\n<td><span data-sort-value=\"Kellogg, Frank B.\"><span class=\"vcard\"><span class=\"fn\"><a href=\"/wiki/Frank_B._Kellogg\" title=\"Frank B. Kellogg\">Frank B. Kellogg</a></span></span></span>\\n</td>\\n<td align=\"center\">—\\n</td></tr>\\n<tr>\\n<td align=\"center\">1930\\n</td>\\n<td><span data-sort-value=\"Raman, C. V.\"><span class=\"vcard\"><span class=\"fn\"><a href=\"/wiki/C._V._Raman\" title=\"C. V. Raman\">C. V. Raman</a></span></span></span>\\n</td>\\n<td><span data-sort-value=\"Fischer, Hans\"><span class=\"vcard\"><span class=\"fn\"><a href=\"/wiki/Hans_Fischer\" title=\"Hans Fischer\">Hans Fischer</a></span></span></span>\\n</td>\\n<td><span data-sort-value=\"Landsteiner, Karl\"><span class=\"vcard\"><span class=\"fn\"><a href=\"/wiki/Karl_Landsteiner\" title=\"Karl Landsteiner\">Karl Landsteiner</a></span></span></span>\\n</td>\\n<td><span data-sort-value=\"Lewis, Sinclair\"><span class=\"vcard\"><span class=\"fn\"><a href=\"/wiki/Sinclair_Lewis\" title=\"Sinclair Lewis\">Sinclair Lewis</a></span></span></span>\\n</td>\\n<td><span data-sort-value=\"Söderblom, Nathan\"><span class=\"vcard\"><span class=\"fn\"><a href=\"/wiki/Nathan_S%C3%B6derblom\" title=\"Nathan Söderblom\">Nathan Söderblom</a></span></span></span>\\n</td>\\n<td align=\"center\">—\\n</td></tr>\\n<tr>\\n<td align=\"center\">1931\\n</td>\\n<td align=\"center\"><i>None</i>\\n</td>\\n<td><span data-sort-value=\"Bosch, Carl\"><span class=\"vcard\"><span class=\"fn\"><a href=\"/wiki/Carl_Bosch\" title=\"Carl Bosch\">Carl Bosch</a></span></span></span>;<br /><span data-sort-value=\"Bergius, Friedrich\"><span class=\"vcard\"><span class=\"fn\"><a href=\"/wiki/Friedrich_Bergius\" title=\"Friedrich Bergius\">Friedrich Bergius</a></span></span></span>\\n</td>\\n<td><span data-sort-value=\"Warburg, Otto Heinrich\"><span class=\"vcard\"><span class=\"fn\"><a href=\"/wiki/Otto_Heinrich_Warburg\" title=\"Otto Heinrich Warburg\">Otto Heinrich Warburg</a></span></span></span>\\n</td>\\n<td><span data-sort-value=\"Karlfeldt, Erik Axel\"><span class=\"vcard\"><span class=\"fn\"><a href=\"/wiki/Erik_Axel_Karlfeldt\" title=\"Erik Axel Karlfeldt\">Erik Axel Karlfeldt</a></span></span></span>\\n</td>\\n<td><span data-sort-value=\"Addams, Jane\"><span class=\"vcard\"><span class=\"fn\"><a href=\"/wiki/Jane_Addams\" title=\"Jane Addams\">Jane Addams</a></span></span></span>;<br /><span data-sort-value=\"Butler, Nicholas Murray\"><span class=\"vcard\"><span class=\"fn\"><a href=\"/wiki/Nicholas_Murray_Butler\" title=\"Nicholas Murray Butler\">Nicholas Murray Butler</a></span></span></span>\\n</td>\\n<td align=\"center\">—\\n</td></tr>\\n<tr>\\n<td align=\"center\">1932\\n</td>\\n<td><span data-sort-value=\"Heisenberg, Werner\"><span class=\"vcard\"><span class=\"fn\"><a href=\"/wiki/Werner_Heisenberg\" title=\"Werner Heisenberg\">Werner Heisenberg</a></span></span></span>\\n</td>\\n<td><span data-sort-value=\"Langmuir, Irving\"><span class=\"vcard\"><span class=\"fn\"><a href=\"/wiki/Irving_Langmuir\" title=\"Irving Langmuir\">Irving Langmuir</a></span></span></span>\\n</td>\\n<td><span data-sort-value=\"Sherrington, Charles Scott\"><span class=\"vcard\"><span class=\"fn\"><a href=\"/wiki/Charles_Scott_Sherrington\" title=\"Charles Scott Sherrington\">Charles Scott Sherrington</a></span></span></span>;<br /><span data-sort-value=\"Adrian, Edgar\"><span class=\"vcard\"><span class=\"fn\"><a href=\"/wiki/Edgar_Adrian,_1st_Baron_Adrian\" class=\"mw-redirect\" title=\"Edgar Adrian, 1st Baron Adrian\">Edgar Adrian</a></span></span></span>\\n</td>\\n<td><span data-sort-value=\"Galsworthy, John\"><span class=\"vcard\"><span class=\"fn\"><a href=\"/wiki/John_Galsworthy\" title=\"John Galsworthy\">John Galsworthy</a></span></span></span>\\n</td>\\n<td align=\"center\"><i>None</i>\\n</td>\\n<td align=\"center\">—\\n</td></tr>\\n<tr>\\n<td align=\"center\">1933\\n</td>\\n<td><span data-sort-value=\"Schrödinger, Erwin\"><span class=\"vcard\"><span class=\"fn\"><a href=\"/wiki/Erwin_Schr%C3%B6dinger\" title=\"Erwin Schrödinger\">Erwin Schrödinger</a></span></span></span>;<br /><span data-sort-value=\"Dirac, Paul\"><span class=\"vcard\"><span class=\"fn\"><a href=\"/wiki/Paul_Dirac\" title=\"Paul Dirac\">Paul Dirac</a></span></span></span>\\n</td>\\n<td align=\"center\"><i>None</i>\\n</td>\\n<td><span data-sort-value=\"Morgan, Thomas Hunt\"><span class=\"vcard\"><span class=\"fn\"><a href=\"/wiki/Thomas_Hunt_Morgan\" title=\"Thomas Hunt Morgan\">Thomas Hunt Morgan</a></span></span></span>\\n</td>\\n<td><span data-sort-value=\"Bunin, Ivan\"><span class=\"vcard\"><span class=\"fn\"><a href=\"/wiki/Ivan_Bunin\" title=\"Ivan Bunin\">Ivan Bunin</a></span></span></span>\\n</td>\\n<td><span data-sort-value=\"Angell, Norman\"><span class=\"vcard\"><span class=\"fn\"><a href=\"/wiki/Norman_Angell\" title=\"Norman Angell\">Norman Angell</a></span></span></span>\\n</td>\\n<td align=\"center\">—\\n</td></tr>\\n<tr>\\n<td align=\"center\">1934\\n</td>\\n<td align=\"center\"><i>None</i>\\n</td>\\n<td><span data-sort-value=\"Urey, Harold\"><span class=\"vcard\"><span class=\"fn\"><a href=\"/wiki/Harold_Urey\" title=\"Harold Urey\">Harold Urey</a></span></span></span>\\n</td>\\n<td><span data-sort-value=\"Whipple, George\"><span class=\"vcard\"><span class=\"fn\"><a href=\"/wiki/George_Whipple\" title=\"George Whipple\">George Whipple</a></span></span></span>;<br /><span data-sort-value=\"Minot, George\"><span class=\"vcard\"><span class=\"fn\"><a href=\"/wiki/George_Minot\" title=\"George Minot\">George Minot</a></span></span></span>;<br /><span data-sort-value=\"Murphy, William P.\"><span class=\"vcard\"><span class=\"fn\"><a href=\"/wiki/William_P._Murphy\" title=\"William P. Murphy\">William P. Murphy</a></span></span></span>\\n</td>\\n<td><span data-sort-value=\"Pirandello, Luigi\"><span class=\"vcard\"><span class=\"fn\"><a href=\"/wiki/Luigi_Pirandello\" title=\"Luigi Pirandello\">Luigi Pirandello</a></span></span></span>\\n</td>\\n<td><span data-sort-value=\"Henderson, Arthur\"><span class=\"vcard\"><span class=\"fn\"><a href=\"/wiki/Arthur_Henderson\" title=\"Arthur Henderson\">Arthur Henderson</a></span></span></span>\\n</td>\\n<td align=\"center\">—\\n</td></tr>\\n<tr>\\n<td align=\"center\">1935\\n</td>\\n<td><span data-sort-value=\"Chadwick, James\"><span class=\"vcard\"><span class=\"fn\"><a href=\"/wiki/James_Chadwick\" title=\"James Chadwick\">James Chadwick</a></span></span></span>\\n</td>\\n<td><span data-sort-value=\"Joliot-Curie, Frédéric\"><span class=\"vcard\"><span class=\"fn\"><a href=\"/wiki/Fr%C3%A9d%C3%A9ric_Joliot-Curie\" title=\"Frédéric Joliot-Curie\">Frédéric Joliot-Curie</a></span></span></span>;<br /><span data-sort-value=\"Joliot-Curie, Irène\"><span class=\"vcard\"><span class=\"fn\"><a href=\"/wiki/Ir%C3%A8ne_Joliot-Curie\" title=\"Irène Joliot-Curie\">Irène Joliot-Curie</a></span></span></span>\\n</td>\\n<td><span data-sort-value=\"Spemann, Hans\"><span class=\"vcard\"><span class=\"fn\"><a href=\"/wiki/Hans_Spemann\" title=\"Hans Spemann\">Hans Spemann</a></span></span></span>\\n</td>\\n<td align=\"center\"><i>None</i>\\n</td>\\n<td><span data-sort-value=\"von Ossietzky, Carl\"><span class=\"vcard\"><span class=\"fn\"><a href=\"/wiki/Carl_von_Ossietzky\" title=\"Carl von Ossietzky\">Carl von Ossietzky</a></span></span></span>\\n</td>\\n<td align=\"center\">—\\n</td></tr>\\n<tr>\\n<td align=\"center\">1936\\n</td>\\n<td><span data-sort-value=\"Hess, Victor Francis\"><span class=\"vcard\"><span class=\"fn\"><a href=\"/wiki/Victor_Francis_Hess\" title=\"Victor Francis Hess\">Victor Francis Hess</a></span></span></span>;<br /><span data-sort-value=\"Anderson, Carl David\"><span class=\"vcard\"><span class=\"fn\"><a href=\"/wiki/Carl_David_Anderson\" title=\"Carl David Anderson\">Carl David Anderson</a></span></span></span>\\n</td>\\n<td><span data-sort-value=\"Debye, Peter\"><span class=\"vcard\"><span class=\"fn\"><a href=\"/wiki/Peter_Debye\" title=\"Peter Debye\">Peter Debye</a></span></span></span>\\n</td>\\n<td><span data-sort-value=\"Dale, Henry Hallett\"><span class=\"vcard\"><span class=\"fn\"><a href=\"/wiki/Henry_Hallett_Dale\" title=\"Henry Hallett Dale\">Henry Hallett Dale</a></span></span></span>;<br /><span data-sort-value=\"Loewi, Otto\"><span class=\"vcard\"><span class=\"fn\"><a href=\"/wiki/Otto_Loewi\" title=\"Otto Loewi\">Otto Loewi</a></span></span></span>\\n</td>\\n<td><span data-sort-value=\"O&#39;Neill, Eugene\"><span class=\"vcard\"><span class=\"fn\"><a href=\"/wiki/Eugene_O%27Neill\" title=\"Eugene O&#39;Neill\">Eugene O\\'Neill</a></span></span></span>\\n</td>\\n<td><span data-sort-value=\"Lamas, Carlos Saavedra\"><span class=\"vcard\"><span class=\"fn\"><a href=\"/wiki/Carlos_Saavedra_Lamas\" title=\"Carlos Saavedra Lamas\">Carlos Saavedra Lamas</a></span></span></span>\\n</td>\\n<td align=\"center\">—\\n</td></tr>\\n<tr>\\n<td align=\"center\">1937\\n</td>\\n<td><span data-sort-value=\"Davisson, Clinton\"><span class=\"vcard\"><span class=\"fn\"><a href=\"/wiki/Clinton_Davisson\" title=\"Clinton Davisson\">Clinton Davisson</a></span></span></span>;<br /><span data-sort-value=\"Thomson, George Paget\"><span class=\"vcard\"><span class=\"fn\"><a href=\"/wiki/George_Paget_Thomson\" title=\"George Paget Thomson\">George Paget Thomson</a></span></span></span>\\n</td>\\n<td><span data-sort-value=\"Haworth, Norman\"><span class=\"vcard\"><span class=\"fn\"><a href=\"/wiki/Norman_Haworth\" title=\"Norman Haworth\">Norman Haworth</a></span></span></span>;<br /><span data-sort-value=\"Karrer, Paul\"><span class=\"vcard\"><span class=\"fn\"><a href=\"/wiki/Paul_Karrer\" title=\"Paul Karrer\">Paul Karrer</a></span></span></span>\\n</td>\\n<td><span data-sort-value=\"Szent-Györgyi, Albert\"><span class=\"vcard\"><span class=\"fn\"><a href=\"/wiki/Albert_Szent-Gy%C3%B6rgyi\" title=\"Albert Szent-Györgyi\">Albert Szent-Györgyi</a></span></span></span>\\n</td>\\n<td><span data-sort-value=\"du Gard, Roger Martin\"><span class=\"vcard\"><span class=\"fn\"><a href=\"/wiki/Roger_Martin_du_Gard\" title=\"Roger Martin du Gard\">Roger Martin du Gard</a></span></span></span>\\n</td>\\n<td><span data-sort-value=\"Cecil of Chelwood, The Viscount\"><span class=\"vcard\"><span class=\"fn\"><a href=\"/wiki/Robert_Cecil,_1st_Viscount_Cecil_of_Chelwood\" title=\"Robert Cecil, 1st Viscount Cecil of Chelwood\">The Viscount Cecil of Chelwood</a></span></span></span>\\n</td>\\n<td align=\"center\">—\\n</td></tr>\\n<tr>\\n<td align=\"center\">1938\\n</td>\\n<td><span data-sort-value=\"Fermi, Enrico\"><span class=\"vcard\"><span class=\"fn\"><a href=\"/wiki/Enrico_Fermi\" title=\"Enrico Fermi\">Enrico Fermi</a></span></span></span>\\n</td>\\n<td><span data-sort-value=\"Kuhn, Richard\"><span class=\"vcard\"><span class=\"fn\"><a href=\"/wiki/Richard_Kuhn\" title=\"Richard Kuhn\">Richard Kuhn</a></span></span></span> <sup id=\"cite_ref-A_14-0\" class=\"reference\"><a href=\"#cite_note-A-14\">&#91;a&#93;</a></sup>\\n</td>\\n<td><span data-sort-value=\"Heymans, Corneille\"><span class=\"vcard\"><span class=\"fn\"><a href=\"/wiki/Corneille_Heymans\" title=\"Corneille Heymans\">Corneille Heymans</a></span></span></span>\\n</td>\\n<td><span data-sort-value=\"Buck, Pearl S.\"><span class=\"vcard\"><span class=\"fn\"><a href=\"/wiki/Pearl_S._Buck\" title=\"Pearl S. Buck\">Pearl S. Buck</a></span></span></span>\\n</td>\\n<td><a href=\"/wiki/Office_international_Nansen_pour_les_r%C3%A9fugi%C3%A9s\" class=\"mw-redirect\" title=\"Office international Nansen pour les réfugiés\">Nansen International Office For Refugees</a>\\n</td>\\n<td align=\"center\">—\\n</td></tr>\\n<tr>\\n<td align=\"center\">1939\\n</td>\\n<td><span data-sort-value=\"Lawrence, Ernest\"><span class=\"vcard\"><span class=\"fn\"><a href=\"/wiki/Ernest_Lawrence\" title=\"Ernest Lawrence\">Ernest Lawrence</a></span></span></span>\\n</td>\\n<td><span data-sort-value=\"Butenandt, Adolf\"><span class=\"vcard\"><span class=\"fn\"><a href=\"/wiki/Adolf_Butenandt\" title=\"Adolf Butenandt\">Adolf Butenandt</a></span></span></span>;<sup id=\"cite_ref-A_14-1\" class=\"reference\"><a href=\"#cite_note-A-14\">&#91;a&#93;</a></sup><br /><span data-sort-value=\"Ružička, Leopold\"><span class=\"vcard\"><span class=\"fn\"><a href=\"/wiki/Leopold_Ru%C5%BEi%C4%8Dka\" title=\"Leopold Ružička\">Leopold Ružička</a></span></span></span>\\n</td>\\n<td><span data-sort-value=\"Domagk, Gerhard\"><span class=\"vcard\"><span class=\"fn\"><a href=\"/wiki/Gerhard_Domagk\" title=\"Gerhard Domagk\">Gerhard Domagk</a></span></span></span> <sup id=\"cite_ref-A_14-2\" class=\"reference\"><a href=\"#cite_note-A-14\">&#91;a&#93;</a></sup>\\n</td>\\n<td><span data-sort-value=\"Sillanpää, Frans Eemil\"><span class=\"vcard\"><span class=\"fn\"><a href=\"/wiki/Frans_Eemil_Sillanp%C3%A4%C3%A4\" title=\"Frans Eemil Sillanpää\">Frans Eemil Sillanpää</a></span></span></span>\\n</td>\\n<td align=\"center\"><i>None</i>\\n</td>\\n<td align=\"center\">—\\n</td></tr>\\n<tr>\\n<td align=\"center\">1940\\n</td>\\n<td colspan=\"5\" rowspan=\"3\" align=\"center\"><i>Cancelled due to World War II</i>\\n</td>\\n<td align=\"center\">—\\n</td></tr>\\n<tr>\\n<td align=\"center\">1941\\n</td>\\n<td align=\"center\">—\\n</td></tr>\\n<tr>\\n<td align=\"center\">1942\\n</td>\\n<td align=\"center\">—\\n</td></tr>\\n<tr>\\n<td align=\"center\">1943\\n</td>\\n<td><span data-sort-value=\"Stern, Otto\"><span class=\"vcard\"><span class=\"fn\"><a href=\"/wiki/Otto_Stern\" title=\"Otto Stern\">Otto Stern</a></span></span></span>\\n</td>\\n<td><span data-sort-value=\"Hevesy, George de\"><span class=\"vcard\"><span class=\"fn\"><a href=\"/wiki/George_de_Hevesy\" title=\"George de Hevesy\">George de Hevesy</a></span></span></span>\\n</td>\\n<td><span data-sort-value=\"Dam, Henrik\"><span class=\"vcard\"><span class=\"fn\"><a href=\"/wiki/Henrik_Dam\" title=\"Henrik Dam\">Henrik Dam</a></span></span></span>;<br /><span data-sort-value=\"Doisy, Edward Adelbert\"><span class=\"vcard\"><span class=\"fn\"><a href=\"/wiki/Edward_Adelbert_Doisy\" title=\"Edward Adelbert Doisy\">Edward Adelbert Doisy</a></span></span></span>\\n</td>\\n<td align=\"center\"><i>None</i>\\n</td>\\n<td align=\"center\"><i>None</i>\\n</td>\\n<td align=\"center\">—\\n</td></tr>\\n<tr>\\n<td align=\"center\">1944\\n</td>\\n<td><span data-sort-value=\"Rabi, Isidor Isaac\"><span class=\"vcard\"><span class=\"fn\"><a href=\"/wiki/Isidor_Isaac_Rabi\" title=\"Isidor Isaac Rabi\">Isidor Isaac Rabi</a></span></span></span>\\n</td>\\n<td><span data-sort-value=\"Hahn, Otto\"><span class=\"vcard\"><span class=\"fn\"><a href=\"/wiki/Otto_Hahn\" title=\"Otto Hahn\">Otto Hahn</a></span></span></span>\\n</td>\\n<td><span data-sort-value=\"Erlanger, Joseph\"><span class=\"vcard\"><span class=\"fn\"><a href=\"/wiki/Joseph_Erlanger\" title=\"Joseph Erlanger\">Joseph Erlanger</a></span></span></span>;<br /><span data-sort-value=\"Gasser, Herbert Spencer\"><span class=\"vcard\"><span class=\"fn\"><a href=\"/wiki/Herbert_Spencer_Gasser\" title=\"Herbert Spencer Gasser\">Herbert Spencer Gasser</a></span></span></span>\\n</td>\\n<td><span data-sort-value=\"Jensen, Johannes Vilhelm\"><span class=\"vcard\"><span class=\"fn\"><a href=\"/wiki/Johannes_Vilhelm_Jensen\" class=\"mw-redirect\" title=\"Johannes Vilhelm Jensen\">Johannes Vilhelm Jensen</a></span></span></span>\\n</td>\\n<td><a href=\"/wiki/International_Committee_of_the_Red_Cross\" title=\"International Committee of the Red Cross\">International Committee of the Red Cross</a>\\n</td>\\n<td align=\"center\">—\\n</td></tr>\\n<tr>\\n<td align=\"center\">1945\\n</td>\\n<td><span data-sort-value=\"Pauli, Wolfgang\"><span class=\"vcard\"><span class=\"fn\"><a href=\"/wiki/Wolfgang_Pauli\" title=\"Wolfgang Pauli\">Wolfgang Pauli</a></span></span></span>\\n</td>\\n<td><span data-sort-value=\"Virtanen, Artturi Ilmari\"><span class=\"vcard\"><span class=\"fn\"><a href=\"/wiki/Artturi_Ilmari_Virtanen\" title=\"Artturi Ilmari Virtanen\">Artturi Ilmari Virtanen</a></span></span></span>\\n</td>\\n<td><span data-sort-value=\"Fleming, Alexander\"><span class=\"vcard\"><span class=\"fn\"><a href=\"/wiki/Alexander_Fleming\" title=\"Alexander Fleming\">Alexander Fleming</a></span></span></span>;<br /><span data-sort-value=\"Chain, Ernst Boris\"><span class=\"vcard\"><span class=\"fn\"><a href=\"/wiki/Ernst_Boris_Chain\" class=\"mw-redirect\" title=\"Ernst Boris Chain\">Ernst Boris Chain</a></span></span></span>;<br /><span data-sort-value=\"Florey, Howard\"><span class=\"vcard\"><span class=\"fn\"><a href=\"/wiki/Howard_Florey\" title=\"Howard Florey\">Howard Florey</a></span></span></span>\\n</td>\\n<td><span data-sort-value=\"Mistral, Gabriela\"><span class=\"vcard\"><span class=\"fn\"><a href=\"/wiki/Gabriela_Mistral\" title=\"Gabriela Mistral\">Gabriela Mistral</a></span></span></span>\\n</td>\\n<td><span data-sort-value=\"Hull, Cordell\"><span class=\"vcard\"><span class=\"fn\"><a href=\"/wiki/Cordell_Hull\" title=\"Cordell Hull\">Cordell Hull</a></span></span></span>\\n</td>\\n<td align=\"center\">—\\n</td></tr>\\n<tr>\\n<td align=\"center\">1946\\n</td>\\n<td><span data-sort-value=\"Bridgman, Percy Williams\"><span class=\"vcard\"><span class=\"fn\"><a href=\"/wiki/Percy_Williams_Bridgman\" title=\"Percy Williams Bridgman\">Percy Williams Bridgman</a></span></span></span>\\n</td>\\n<td><span data-sort-value=\"Sumner, James B.\"><span class=\"vcard\"><span class=\"fn\"><a href=\"/wiki/James_B._Sumner\" title=\"James B. Sumner\">James B. Sumner</a></span></span></span>;<br /><span data-sort-value=\"Northrop, John Howard\"><span class=\"vcard\"><span class=\"fn\"><a href=\"/wiki/John_Howard_Northrop\" title=\"John Howard Northrop\">John Howard Northrop</a></span></span></span>;<br /><span data-sort-value=\"Stanley, Wendell Meredith\"><span class=\"vcard\"><span class=\"fn\"><a href=\"/wiki/Wendell_Meredith_Stanley\" title=\"Wendell Meredith Stanley\">Wendell Meredith Stanley</a></span></span></span>\\n</td>\\n<td><span data-sort-value=\"Muller, Hermann Joseph\"><span class=\"vcard\"><span class=\"fn\"><a href=\"/wiki/Hermann_Joseph_Muller\" title=\"Hermann Joseph Muller\">Hermann Joseph Muller</a></span></span></span>\\n</td>\\n<td><span data-sort-value=\"Hesse, Hermann\"><span class=\"vcard\"><span class=\"fn\"><a href=\"/wiki/Hermann_Hesse\" title=\"Hermann Hesse\">Hermann Hesse</a></span></span></span>\\n</td>\\n<td><span data-sort-value=\"Balch, Emily Greene\"><span class=\"vcard\"><span class=\"fn\"><a href=\"/wiki/Emily_Greene_Balch\" title=\"Emily Greene Balch\">Emily Greene Balch</a></span></span></span>;<br /><span data-sort-value=\"Mott, John\"><span class=\"vcard\"><span class=\"fn\"><a href=\"/wiki/John_Mott\" title=\"John Mott\">John Mott</a></span></span></span>\\n</td>\\n<td align=\"center\">—\\n</td></tr>\\n<tr>\\n<td align=\"center\">1947\\n</td>\\n<td><span data-sort-value=\"Appleton, Edward Victor\"><span class=\"vcard\"><span class=\"fn\"><a href=\"/wiki/Edward_Victor_Appleton\" title=\"Edward Victor Appleton\">Edward Victor Appleton</a></span></span></span>\\n</td>\\n<td><span data-sort-value=\"Robinson, Robert\"><span class=\"vcard\"><span class=\"fn\"><a href=\"/wiki/Robert_Robinson_(organic_chemist)\" class=\"mw-redirect\" title=\"Robert Robinson (organic chemist)\">Robert Robinson</a></span></span></span>\\n</td>\\n<td><span data-sort-value=\"Cori, Carl Ferdinand\"><span class=\"vcard\"><span class=\"fn\"><a href=\"/wiki/Carl_Ferdinand_Cori\" title=\"Carl Ferdinand Cori\">Carl Ferdinand Cori</a></span></span></span>;<br /><span data-sort-value=\"Cori, Gerty\"><span class=\"vcard\"><span class=\"fn\"><a href=\"/wiki/Gerty_Cori\" title=\"Gerty Cori\">Gerty Cori</a></span></span></span>;<br /><span data-sort-value=\"Houssay, Bernardo\"><span class=\"vcard\"><span class=\"fn\"><a href=\"/wiki/Bernardo_Houssay\" title=\"Bernardo Houssay\">Bernardo Houssay</a></span></span></span>\\n</td>\\n<td><span data-sort-value=\"Gide, André\"><span class=\"vcard\"><span class=\"fn\"><a href=\"/wiki/Andr%C3%A9_Gide\" title=\"André Gide\">André Gide</a></span></span></span>\\n</td>\\n<td><a href=\"/wiki/Quaker_Peace_and_Social_Witness\" title=\"Quaker Peace and Social Witness\">Friends Service Council</a>;<br /><a href=\"/wiki/American_Friends_Service_Committee\" title=\"American Friends Service Committee\">American Friends Service Committee</a>\\n</td>\\n<td align=\"center\">—\\n</td></tr>\\n<tr>\\n<td align=\"center\">1948\\n</td>\\n<td><span data-sort-value=\"Blackett, Patrick\"><span class=\"vcard\"><span class=\"fn\"><a href=\"/wiki/Patrick_Blackett,_Baron_Blackett\" class=\"mw-redirect\" title=\"Patrick Blackett, Baron Blackett\">Patrick Blackett</a></span></span></span>\\n</td>\\n<td><span data-sort-value=\"Tiselius, Arne\"><span class=\"vcard\"><span class=\"fn\"><a href=\"/wiki/Arne_Tiselius\" title=\"Arne Tiselius\">Arne Tiselius</a></span></span></span>\\n</td>\\n<td><span data-sort-value=\"Müller, Paul Hermann\"><span class=\"vcard\"><span class=\"fn\"><a href=\"/wiki/Paul_Hermann_M%C3%BCller\" title=\"Paul Hermann Müller\">Paul Hermann Müller</a></span></span></span>\\n</td>\\n<td><span data-sort-value=\"Eliot, T. S.\"><span class=\"vcard\"><span class=\"fn\"><a href=\"/wiki/T._S._Eliot\" title=\"T. S. Eliot\">T. S. Eliot</a></span></span></span>\\n</td>\\n<td align=\"center\"><i>None</i> <sup id=\"cite_ref-B_16-0\" class=\"reference\"><a href=\"#cite_note-B-16\">&#91;b&#93;</a></sup>\\n</td>\\n<td align=\"center\">—\\n</td></tr>\\n<tr>\\n<td align=\"center\">1949\\n</td>\\n<td><span data-sort-value=\"Yukawa, Hideki\"><span class=\"vcard\"><span class=\"fn\"><a href=\"/wiki/Hideki_Yukawa\" title=\"Hideki Yukawa\">Hideki Yukawa</a></span></span></span>\\n</td>\\n<td><span data-sort-value=\"Giauque, William\"><span class=\"vcard\"><span class=\"fn\"><a href=\"/wiki/William_Giauque\" title=\"William Giauque\">William Giauque</a></span></span></span>\\n</td>\\n<td><span data-sort-value=\"Hess, Walter Rudolf\"><span class=\"vcard\"><span class=\"fn\"><a href=\"/wiki/Walter_Rudolf_Hess\" title=\"Walter Rudolf Hess\">Walter Rudolf Hess</a></span></span></span>;<br /><span data-sort-value=\"Moniz, António Egas\"><span class=\"vcard\"><span class=\"fn\"><a href=\"/wiki/Ant%C3%B3nio_Egas_Moniz\" title=\"António Egas Moniz\">António Egas Moniz</a></span></span></span>\\n</td>\\n<td><span data-sort-value=\"Faulkner, William\"><span class=\"vcard\"><span class=\"fn\"><a href=\"/wiki/William_Faulkner\" title=\"William Faulkner\">William Faulkner</a></span></span></span>\\n</td>\\n<td><span data-sort-value=\"Boyd Orr, John\"><span class=\"vcard\"><span class=\"fn\"><a href=\"/wiki/John_Boyd_Orr,_1st_Baron_Boyd-Orr\" class=\"mw-redirect\" title=\"John Boyd Orr, 1st Baron Boyd-Orr\">John Boyd Orr</a></span></span></span>\\n</td>\\n<td align=\"center\">—\\n</td></tr>\\n<tr>\\n<td align=\"center\">1950\\n</td>\\n<td><span data-sort-value=\"Powell, C. F.\"><span class=\"vcard\"><span class=\"fn\"><a href=\"/wiki/C._F._Powell\" title=\"C. F. Powell\">C. F. Powell</a></span></span></span>\\n</td>\\n<td><span data-sort-value=\"Diels, Otto\"><span class=\"vcard\"><span class=\"fn\"><a href=\"/wiki/Otto_Diels\" title=\"Otto Diels\">Otto Diels</a></span></span></span>;<br /><span data-sort-value=\"Alder, Kurt\"><span class=\"vcard\"><span class=\"fn\"><a href=\"/wiki/Kurt_Alder\" title=\"Kurt Alder\">Kurt Alder</a></span></span></span>\\n</td>\\n<td><span data-sort-value=\"Hench, Philip Showalter\"><span class=\"vcard\"><span class=\"fn\"><a href=\"/wiki/Philip_Showalter_Hench\" title=\"Philip Showalter Hench\">Philip Showalter Hench</a></span></span></span>;<br /><span data-sort-value=\"Kendall, Edward Calvin\"><span class=\"vcard\"><span class=\"fn\"><a href=\"/wiki/Edward_Calvin_Kendall\" title=\"Edward Calvin Kendall\">Edward Calvin Kendall</a></span></span></span>;<br /><span data-sort-value=\"Reichstein, Tadeus\"><span class=\"vcard\"><span class=\"fn\"><a href=\"/wiki/Tadeus_Reichstein\" class=\"mw-redirect\" title=\"Tadeus Reichstein\">Tadeus Reichstein</a></span></span></span>\\n</td>\\n<td><span data-sort-value=\"Russell, Bertrand\"><span class=\"vcard\"><span class=\"fn\"><a href=\"/wiki/Bertrand_Russell\" title=\"Bertrand Russell\">Bertrand Russell</a></span></span></span>\\n</td>\\n<td><span data-sort-value=\"Bunche, Ralph\"><span class=\"vcard\"><span class=\"fn\"><a href=\"/wiki/Ralph_Bunche\" title=\"Ralph Bunche\">Ralph Bunche</a></span></span></span>\\n</td>\\n<td align=\"center\">—\\n</td></tr>\\n<tr>\\n<td align=\"center\">1951\\n</td>\\n<td><span data-sort-value=\"Cockcroft, John\"><span class=\"vcard\"><span class=\"fn\"><a href=\"/wiki/John_Cockcroft\" title=\"John Cockcroft\">John Cockcroft</a></span></span></span>;<br /><span data-sort-value=\"Walton, Ernest\"><span class=\"vcard\"><span class=\"fn\"><a href=\"/wiki/Ernest_Walton\" title=\"Ernest Walton\">Ernest Walton</a></span></span></span>\\n</td>\\n<td><span data-sort-value=\"McMillan, Edwin\"><span class=\"vcard\"><span class=\"fn\"><a href=\"/wiki/Edwin_McMillan\" title=\"Edwin McMillan\">Edwin McMillan</a></span></span></span>;<br /><span data-sort-value=\"Seaborg, Glenn T.\"><span class=\"vcard\"><span class=\"fn\"><a href=\"/wiki/Glenn_T._Seaborg\" title=\"Glenn T. Seaborg\">Glenn T. Seaborg</a></span></span></span>\\n</td>\\n<td><span data-sort-value=\"Theiler, Max\"><span class=\"vcard\"><span class=\"fn\"><a href=\"/wiki/Max_Theiler\" title=\"Max Theiler\">Max Theiler</a></span></span></span>\\n</td>\\n<td><span data-sort-value=\"Lagerkvist, Pär\"><span class=\"vcard\"><span class=\"fn\"><a href=\"/wiki/P%C3%A4r_Lagerkvist\" title=\"Pär Lagerkvist\">Pär Lagerkvist</a></span></span></span>\\n</td>\\n<td><span data-sort-value=\"Jouhaux, Léon\"><span class=\"vcard\"><span class=\"fn\"><a href=\"/wiki/L%C3%A9on_Jouhaux\" title=\"Léon Jouhaux\">Léon Jouhaux</a></span></span></span>\\n</td>\\n<td align=\"center\">—\\n</td></tr>\\n<tr>\\n<td align=\"center\">1952\\n</td>\\n<td><span data-sort-value=\"Bloch, Felix\"><span class=\"vcard\"><span class=\"fn\"><a href=\"/wiki/Felix_Bloch\" title=\"Felix Bloch\">Felix Bloch</a></span></span></span>;<br /><span data-sort-value=\"Purcell, Edward Mills\"><span class=\"vcard\"><span class=\"fn\"><a href=\"/wiki/Edward_Mills_Purcell\" title=\"Edward Mills Purcell\">Edward Mills Purcell</a></span></span></span>\\n</td>\\n<td><span data-sort-value=\"Martin, Archer John Porter\"><span class=\"vcard\"><span class=\"fn\"><a href=\"/wiki/Archer_John_Porter_Martin\" class=\"mw-redirect\" title=\"Archer John Porter Martin\">Archer John Porter Martin</a></span></span></span>;<br /><span data-sort-value=\"Synge, Richard Laurence Millington\"><span class=\"vcard\"><span class=\"fn\"><a href=\"/wiki/Richard_Laurence_Millington_Synge\" title=\"Richard Laurence Millington Synge\">Richard Laurence Millington Synge</a></span></span></span>\\n</td>\\n<td><span data-sort-value=\"Waksman, Selman\"><span class=\"vcard\"><span class=\"fn\"><a href=\"/wiki/Selman_Waksman\" title=\"Selman Waksman\">Selman Waksman</a></span></span></span>\\n</td>\\n<td><span data-sort-value=\"Mauriac, François\"><span class=\"vcard\"><span class=\"fn\"><a href=\"/wiki/Fran%C3%A7ois_Mauriac\" title=\"François Mauriac\">François Mauriac</a></span></span></span>\\n</td>\\n<td><span data-sort-value=\"Schweitzer, Albert\"><span class=\"vcard\"><span class=\"fn\"><a href=\"/wiki/Albert_Schweitzer\" title=\"Albert Schweitzer\">Albert Schweitzer</a></span></span></span>\\n</td>\\n<td align=\"center\">—\\n</td></tr>\\n<tr>\\n<td align=\"center\">1953\\n</td>\\n<td><span data-sort-value=\"Zernike, Frits\"><span class=\"vcard\"><span class=\"fn\"><a href=\"/wiki/Frits_Zernike\" title=\"Frits Zernike\">Frits Zernike</a></span></span></span>\\n</td>\\n<td><span data-sort-value=\"Staudinger, Hermann\"><span class=\"vcard\"><span class=\"fn\"><a href=\"/wiki/Hermann_Staudinger\" title=\"Hermann Staudinger\">Hermann Staudinger</a></span></span></span>\\n</td>\\n<td><span data-sort-value=\"Krebs, Hans Adolf\"><span class=\"vcard\"><span class=\"fn\"><a href=\"/wiki/Hans_Adolf_Krebs\" class=\"mw-redirect\" title=\"Hans Adolf Krebs\">Hans Adolf Krebs</a></span></span></span>;<br /><span data-sort-value=\"Lipmann, Fritz Albert\"><span class=\"vcard\"><span class=\"fn\"><a href=\"/wiki/Fritz_Albert_Lipmann\" title=\"Fritz Albert Lipmann\">Fritz Albert Lipmann</a></span></span></span>\\n</td>\\n<td><span data-sort-value=\"Churchill, Winston\"><span class=\"vcard\"><span class=\"fn\"><a href=\"/wiki/Winston_Churchill\" title=\"Winston Churchill\">Winston Churchill</a></span></span></span>\\n</td>\\n<td><span data-sort-value=\"Marshall, George\"><span class=\"vcard\"><span class=\"fn\"><a href=\"/wiki/George_Marshall\" class=\"mw-redirect\" title=\"George Marshall\">George Marshall</a></span></span></span>\\n</td>\\n<td align=\"center\">—\\n</td></tr>\\n<tr>\\n<td align=\"center\">1954\\n</td>\\n<td><span data-sort-value=\"Born, Max\"><span class=\"vcard\"><span class=\"fn\"><a href=\"/wiki/Max_Born\" title=\"Max Born\">Max Born</a></span></span></span>;<br /><span data-sort-value=\"Bothe, Walther\"><span class=\"vcard\"><span class=\"fn\"><a href=\"/wiki/Walther_Bothe\" title=\"Walther Bothe\">Walther Bothe</a></span></span></span>\\n</td>\\n<td><span data-sort-value=\"Pauling, Linus\"><span class=\"vcard\"><span class=\"fn\"><a href=\"/wiki/Linus_Pauling\" title=\"Linus Pauling\">Linus Pauling</a></span></span></span>\\n</td>\\n<td><span data-sort-value=\"Enders, John Franklin\"><span class=\"vcard\"><span class=\"fn\"><a href=\"/wiki/John_Franklin_Enders\" title=\"John Franklin Enders\">John Franklin Enders</a></span></span></span>;<br /><span data-sort-value=\"Robbins, Frederick Chapman\"><span class=\"vcard\"><span class=\"fn\"><a href=\"/wiki/Frederick_Chapman_Robbins\" title=\"Frederick Chapman Robbins\">Frederick Chapman Robbins</a></span></span></span>;<br /><span data-sort-value=\"Weller, Thomas Huckle\"><span class=\"vcard\"><span class=\"fn\"><a href=\"/wiki/Thomas_Huckle_Weller\" title=\"Thomas Huckle Weller\">Thomas Huckle Weller</a></span></span></span>\\n</td>\\n<td><span data-sort-value=\"Hemingway, Ernest\"><span class=\"vcard\"><span class=\"fn\"><a href=\"/wiki/Ernest_Hemingway\" title=\"Ernest Hemingway\">Ernest Hemingway</a></span></span></span>\\n</td>\\n<td><a href=\"/wiki/United_Nations_High_Commissioner_for_Refugees\" title=\"United Nations High Commissioner for Refugees\">United Nations High Commissioner for Refugees</a>\\n</td>\\n<td align=\"center\">—\\n</td></tr>\\n<tr>\\n<td align=\"center\">1955\\n</td>\\n<td><span data-sort-value=\"Lamb, Willis\"><span class=\"vcard\"><span class=\"fn\"><a href=\"/wiki/Willis_Lamb\" title=\"Willis Lamb\">Willis Lamb</a></span></span></span>;<br /><span data-sort-value=\"Kusch, Polykarp\"><span class=\"vcard\"><span class=\"fn\"><a href=\"/wiki/Polykarp_Kusch\" title=\"Polykarp Kusch\">Polykarp Kusch</a></span></span></span>\\n</td>\\n<td><span data-sort-value=\"du Vigneaud, Vincent\"><span class=\"vcard\"><span class=\"fn\"><a href=\"/wiki/Vincent_du_Vigneaud\" title=\"Vincent du Vigneaud\">Vincent du Vigneaud</a></span></span></span>\\n</td>\\n<td><span data-sort-value=\"Theorell, Hugo\"><span class=\"vcard\"><span class=\"fn\"><a href=\"/wiki/Hugo_Theorell\" title=\"Hugo Theorell\">Hugo Theorell</a></span></span></span>\\n</td>\\n<td><span data-sort-value=\"Laxness, Halldór\"><span class=\"vcard\"><span class=\"fn\"><a href=\"/wiki/Halld%C3%B3r_Laxness\" title=\"Halldór Laxness\">Halldór Laxness</a></span></span></span>\\n</td>\\n<td align=\"center\"><i>None</i>\\n</td>\\n<td align=\"center\">—\\n</td></tr>\\n<tr>\\n<td align=\"center\">1956\\n</td>\\n<td><span data-sort-value=\"Bardeen, John\"><span class=\"vcard\"><span class=\"fn\"><a href=\"/wiki/John_Bardeen\" title=\"John Bardeen\">John Bardeen</a></span></span></span>;<br /><span data-sort-value=\"Brattain, Walter Houser\"><span class=\"vcard\"><span class=\"fn\"><a href=\"/wiki/Walter_Houser_Brattain\" title=\"Walter Houser Brattain\">Walter Houser Brattain</a></span></span></span>;<br /><span data-sort-value=\"Shockley, William\"><span class=\"vcard\"><span class=\"fn\"><a href=\"/wiki/William_Shockley\" title=\"William Shockley\">William Shockley</a></span></span></span>\\n</td>\\n<td><span data-sort-value=\"Hinshelwood, Cyril Norman\"><span class=\"vcard\"><span class=\"fn\"><a href=\"/wiki/Cyril_Norman_Hinshelwood\" title=\"Cyril Norman Hinshelwood\">Cyril Norman Hinshelwood</a></span></span></span>;<br /><span data-sort-value=\"Semyonov, Nikolay\"><span class=\"vcard\"><span class=\"fn\"><a href=\"/wiki/Nikolay_Semyonov\" title=\"Nikolay Semyonov\">Nikolay Semyonov</a></span></span></span>\\n</td>\\n<td><span data-sort-value=\"Cournand, André Frédéric\"><span class=\"vcard\"><span class=\"fn\"><a href=\"/wiki/Andr%C3%A9_Fr%C3%A9d%C3%A9ric_Cournand\" title=\"André Frédéric Cournand\">André Frédéric Cournand</a></span></span></span>;<br /><span data-sort-value=\"Forssmann, Werner\"><span class=\"vcard\"><span class=\"fn\"><a href=\"/wiki/Werner_Forssmann\" title=\"Werner Forssmann\">Werner Forssmann</a></span></span></span>;<br /><span data-sort-value=\"Richards, Dickinson W.\"><span class=\"vcard\"><span class=\"fn\"><a href=\"/wiki/Dickinson_W._Richards\" title=\"Dickinson W. Richards\">Dickinson W. Richards</a></span></span></span>\\n</td>\\n<td><span data-sort-value=\"Jiménez, Juan Ramón\"><span class=\"vcard\"><span class=\"fn\"><a href=\"/wiki/Juan_Ram%C3%B3n_Jim%C3%A9nez\" title=\"Juan Ramón Jiménez\">Juan Ramón Jiménez</a></span></span></span>\\n</td>\\n<td align=\"center\"><i>None</i>\\n</td>\\n<td align=\"center\">—\\n</td></tr>\\n<tr>\\n<td align=\"center\">1957\\n</td>\\n<td><span data-sort-value=\"Yang, Chen Ning\"><span class=\"vcard\"><span class=\"fn\"><a href=\"/wiki/Chen_Ning_Yang\" class=\"mw-redirect\" title=\"Chen Ning Yang\">Chen Ning Yang</a></span></span></span>;<br /><span data-sort-value=\"Lee, Tsung-Dao\"><span class=\"vcard\"><span class=\"fn\"><a href=\"/wiki/Tsung-Dao_Lee\" title=\"Tsung-Dao Lee\">Tsung-Dao Lee</a></span></span></span>\\n</td>\\n<td><span data-sort-value=\"Todd, The Lord\"><span class=\"vcard\"><span class=\"fn\"><a href=\"/wiki/Alexander_R._Todd,_Baron_Todd\" class=\"mw-redirect\" title=\"Alexander R. Todd, Baron Todd\">The Lord Todd</a></span></span></span>\\n</td>\\n<td><span data-sort-value=\"Bovet, Daniel\"><span class=\"vcard\"><span class=\"fn\"><a href=\"/wiki/Daniel_Bovet\" title=\"Daniel Bovet\">Daniel Bovet</a></span></span></span>\\n</td>\\n<td><span data-sort-value=\"Camus, Albert\"><span class=\"vcard\"><span class=\"fn\"><a href=\"/wiki/Albert_Camus\" title=\"Albert Camus\">Albert Camus</a></span></span></span>\\n</td>\\n<td><span data-sort-value=\"Pearson, Lester B.\"><span class=\"vcard\"><span class=\"fn\"><a href=\"/wiki/Lester_B._Pearson\" title=\"Lester B. Pearson\">Lester B. Pearson</a></span></span></span>\\n</td>\\n<td align=\"center\">—\\n</td></tr>\\n<tr>\\n<td align=\"center\">1958\\n</td>\\n<td><span data-sort-value=\"Cherenkov, Pavel\"><span class=\"vcard\"><span class=\"fn\"><a href=\"/wiki/Pavel_Cherenkov\" title=\"Pavel Cherenkov\">Pavel Cherenkov</a></span></span></span>;<br /><span data-sort-value=\"Frank, Ilya\"><span class=\"vcard\"><span class=\"fn\"><a href=\"/wiki/Ilya_Frank\" title=\"Ilya Frank\">Ilya Frank</a></span></span></span>;<br /><span data-sort-value=\"Tamm, Igor\"><span class=\"vcard\"><span class=\"fn\"><a href=\"/wiki/Igor_Tamm\" title=\"Igor Tamm\">Igor Tamm</a></span></span></span>\\n</td>\\n<td><span data-sort-value=\"Sanger, Frederick\"><span class=\"vcard\"><span class=\"fn\"><a href=\"/wiki/Frederick_Sanger\" title=\"Frederick Sanger\">Frederick Sanger</a></span></span></span>\\n</td>\\n<td><span data-sort-value=\"Beadle, George Wells\"><span class=\"vcard\"><span class=\"fn\"><a href=\"/wiki/George_Wells_Beadle\" class=\"mw-redirect\" title=\"George Wells Beadle\">George Wells Beadle</a></span></span></span>;<br /><span data-sort-value=\"Tatum, Edward Lawrie\"><span class=\"vcard\"><span class=\"fn\"><a href=\"/wiki/Edward_Lawrie_Tatum\" class=\"mw-redirect\" title=\"Edward Lawrie Tatum\">Edward Lawrie Tatum</a></span></span></span>;<br /><span data-sort-value=\"Lederberg, Joshua\"><span class=\"vcard\"><span class=\"fn\"><a href=\"/wiki/Joshua_Lederberg\" title=\"Joshua Lederberg\">Joshua Lederberg</a></span></span></span>\\n</td>\\n<td><span data-sort-value=\"Pasternak, Boris\"><span class=\"vcard\"><span class=\"fn\"><a href=\"/wiki/Boris_Pasternak\" title=\"Boris Pasternak\">Boris Pasternak</a></span></span></span> <sup id=\"cite_ref-C_17-0\" class=\"reference\"><a href=\"#cite_note-C-17\">&#91;c&#93;</a></sup>\\n</td>\\n<td><span data-sort-value=\"Pire, Dominique\"><span class=\"vcard\"><span class=\"fn\"><a href=\"/wiki/Dominique_Pire\" title=\"Dominique Pire\">Dominique Pire</a></span></span></span>\\n</td>\\n<td align=\"center\">—\\n</td></tr>\\n<tr>\\n<td align=\"center\">1959\\n</td>\\n<td><span data-sort-value=\"Segrè, Emilio G.\"><span class=\"vcard\"><span class=\"fn\"><a href=\"/wiki/Emilio_G._Segr%C3%A8\" class=\"mw-redirect\" title=\"Emilio G. Segrè\">Emilio G. Segrè</a></span></span></span>;<br /><span data-sort-value=\"Chamberlain, Owen\"><span class=\"vcard\"><span class=\"fn\"><a href=\"/wiki/Owen_Chamberlain\" title=\"Owen Chamberlain\">Owen Chamberlain</a></span></span></span>\\n</td>\\n<td><span data-sort-value=\"Heyrovský, Jaroslav\"><span class=\"vcard\"><span class=\"fn\"><a href=\"/wiki/Jaroslav_Heyrovsk%C3%BD\" title=\"Jaroslav Heyrovský\">Jaroslav Heyrovský</a></span></span></span>\\n</td>\\n<td><span data-sort-value=\"Kornberg, Arthur\"><span class=\"vcard\"><span class=\"fn\"><a href=\"/wiki/Arthur_Kornberg\" title=\"Arthur Kornberg\">Arthur Kornberg</a></span></span></span>;<br /><span data-sort-value=\"Ochoa, Severo\"><span class=\"vcard\"><span class=\"fn\"><a href=\"/wiki/Severo_Ochoa\" title=\"Severo Ochoa\">Severo Ochoa</a></span></span></span>\\n</td>\\n<td><span data-sort-value=\"Quasimodo, Salvatore\"><span class=\"vcard\"><span class=\"fn\"><a href=\"/wiki/Salvatore_Quasimodo\" title=\"Salvatore Quasimodo\">Salvatore Quasimodo</a></span></span></span>\\n</td>\\n<td><span data-sort-value=\"Noel-Baker, Philip\"><span class=\"vcard\"><span class=\"fn\"><a href=\"/wiki/Philip_Noel-Baker,_Baron_Noel-Baker\" class=\"mw-redirect\" title=\"Philip Noel-Baker, Baron Noel-Baker\">Philip Noel-Baker</a></span></span></span>\\n</td>\\n<td align=\"center\">—\\n</td></tr>\\n<tr>\\n<td align=\"center\">1960\\n</td>\\n<td><span data-sort-value=\"Glaser, Donald A.\"><span class=\"vcard\"><span class=\"fn\"><a href=\"/wiki/Donald_A._Glaser\" title=\"Donald A. Glaser\">Donald A. Glaser</a></span></span></span>\\n</td>\\n<td><span data-sort-value=\"Libby, Willard\"><span class=\"vcard\"><span class=\"fn\"><a href=\"/wiki/Willard_Libby\" title=\"Willard Libby\">Willard Libby</a></span></span></span>\\n</td>\\n<td><span data-sort-value=\"Burnet, Frank Macfarlane\"><span class=\"vcard\"><span class=\"fn\"><a href=\"/wiki/Frank_Macfarlane_Burnet\" class=\"mw-redirect\" title=\"Frank Macfarlane Burnet\">Frank Macfarlane Burnet</a></span></span></span>;<br /><span data-sort-value=\"Medawar, Peter\"><span class=\"vcard\"><span class=\"fn\"><a href=\"/wiki/Peter_Medawar\" title=\"Peter Medawar\">Peter Medawar</a></span></span></span>\\n</td>\\n<td><span data-sort-value=\"Perse, Saint-John\"><span class=\"vcard\"><span class=\"fn\"><a href=\"/wiki/Saint-John_Perse\" title=\"Saint-John Perse\">Saint-John Perse</a></span></span></span>\\n</td>\\n<td><span data-sort-value=\"Lutuli, Albert\"><span class=\"vcard\"><span class=\"fn\"><a href=\"/wiki/Albert_Lutuli\" class=\"mw-redirect\" title=\"Albert Lutuli\">Albert Lutuli</a></span></span></span>\\n</td>\\n<td align=\"center\">—\\n</td></tr>\\n<tr>\\n<td align=\"center\">1961\\n</td>\\n<td><span data-sort-value=\"Hofstadter, Robert\"><span class=\"vcard\"><span class=\"fn\"><a href=\"/wiki/Robert_Hofstadter\" title=\"Robert Hofstadter\">Robert Hofstadter</a></span></span></span>;<br /><span data-sort-value=\"Mössbauer, Rudolf\"><span class=\"vcard\"><span class=\"fn\"><a href=\"/wiki/Rudolf_M%C3%B6ssbauer\" title=\"Rudolf Mössbauer\">Rudolf Mössbauer</a></span></span></span>\\n</td>\\n<td><span data-sort-value=\"Calvin, Melvin\"><span class=\"vcard\"><span class=\"fn\"><a href=\"/wiki/Melvin_Calvin\" title=\"Melvin Calvin\">Melvin Calvin</a></span></span></span>\\n</td>\\n<td><span data-sort-value=\"von Békésy, Georg\"><span class=\"vcard\"><span class=\"fn\"><a href=\"/wiki/Georg_von_B%C3%A9k%C3%A9sy\" title=\"Georg von Békésy\">Georg von Békésy</a></span></span></span>\\n</td>\\n<td><span data-sort-value=\"Andrić, Ivo\"><span class=\"vcard\"><span class=\"fn\"><a href=\"/wiki/Ivo_Andri%C4%87\" title=\"Ivo Andrić\">Ivo Andrić</a></span></span></span>\\n</td>\\n<td><span data-sort-value=\"Hammarskjöld, Dag\"><span class=\"vcard\"><span class=\"fn\"><a href=\"/wiki/Dag_Hammarskj%C3%B6ld\" title=\"Dag Hammarskjöld\">Dag Hammarskjöld</a></span></span></span>\\n</td>\\n<td align=\"center\">—\\n</td></tr>\\n<tr>\\n<td align=\"center\">1962\\n</td>\\n<td><span data-sort-value=\"Landau, Lev\"><span class=\"vcard\"><span class=\"fn\"><a href=\"/wiki/Lev_Landau\" title=\"Lev Landau\">Lev Landau</a></span></span></span>\\n</td>\\n<td><span data-sort-value=\"Perutz, Max\"><span class=\"vcard\"><span class=\"fn\"><a href=\"/wiki/Max_Perutz\" title=\"Max Perutz\">Max Perutz</a></span></span></span>;<br /><span data-sort-value=\"Kendrew, John\"><span class=\"vcard\"><span class=\"fn\"><a href=\"/wiki/John_Kendrew\" title=\"John Kendrew\">John Kendrew</a></span></span></span>\\n</td>\\n<td><span data-sort-value=\"Crick, Francis\"><span class=\"vcard\"><span class=\"fn\"><a href=\"/wiki/Francis_Crick\" title=\"Francis Crick\">Francis Crick</a></span></span></span>;<br /><span data-sort-value=\"Watson, James D.\"><span class=\"vcard\"><span class=\"fn\"><a href=\"/wiki/James_D._Watson\" class=\"mw-redirect\" title=\"James D. Watson\">James D. Watson</a></span></span></span>;<br /><span data-sort-value=\"Wilkins, Maurice\"><span class=\"vcard\"><span class=\"fn\"><a href=\"/wiki/Maurice_Wilkins\" title=\"Maurice Wilkins\">Maurice Wilkins</a></span></span></span>\\n</td>\\n<td><span data-sort-value=\"Steinbeck, John\"><span class=\"vcard\"><span class=\"fn\"><a href=\"/wiki/John_Steinbeck\" title=\"John Steinbeck\">John Steinbeck</a></span></span></span>\\n</td>\\n<td><span data-sort-value=\"Pauling, Linus\"><span class=\"vcard\"><span class=\"fn\"><a href=\"/wiki/Linus_Pauling\" title=\"Linus Pauling\">Linus Pauling</a></span></span></span>\\n</td>\\n<td align=\"center\">—\\n</td></tr>\\n<tr>\\n<td align=\"center\">1963\\n</td>\\n<td><span data-sort-value=\"Wigner, Eugene\"><span class=\"vcard\"><span class=\"fn\"><a href=\"/wiki/Eugene_Wigner\" title=\"Eugene Wigner\">Eugene Wigner</a></span></span></span>;<br /><span data-sort-value=\"Goeppert-Mayer, Maria\"><span class=\"vcard\"><span class=\"fn\"><a href=\"/wiki/Maria_Goeppert-Mayer\" class=\"mw-redirect\" title=\"Maria Goeppert-Mayer\">Maria Goeppert-Mayer</a></span></span></span>;<br /><span data-sort-value=\"Jensen, J. Hans D.\"><span class=\"vcard\"><span class=\"fn\"><a href=\"/wiki/J._Hans_D._Jensen\" title=\"J. Hans D. Jensen\">J. Hans D. Jensen</a></span></span></span>\\n</td>\\n<td><span data-sort-value=\"Ziegler, Karl\"><span class=\"vcard\"><span class=\"fn\"><a href=\"/wiki/Karl_Ziegler\" title=\"Karl Ziegler\">Karl Ziegler</a></span></span></span>;<br /><span data-sort-value=\"Natta, Giulio\"><span class=\"vcard\"><span class=\"fn\"><a href=\"/wiki/Giulio_Natta\" title=\"Giulio Natta\">Giulio Natta</a></span></span></span>\\n</td>\\n<td><span data-sort-value=\"Eccles, John\"><span class=\"vcard\"><span class=\"fn\"><a href=\"/wiki/John_Eccles_(neurophysiologist)\" title=\"John Eccles (neurophysiologist)\">John Eccles</a></span></span></span>;<br /><span data-sort-value=\"Hodgkin, Alan Lloyd\"><span class=\"vcard\"><span class=\"fn\"><a href=\"/wiki/Alan_Lloyd_Hodgkin\" class=\"mw-redirect\" title=\"Alan Lloyd Hodgkin\">Alan Lloyd Hodgkin</a></span></span></span>;<br /><span data-sort-value=\"Huxley, Andrew\"><span class=\"vcard\"><span class=\"fn\"><a href=\"/wiki/Andrew_Huxley\" title=\"Andrew Huxley\">Andrew Huxley</a></span></span></span>\\n</td>\\n<td><span data-sort-value=\"Seferis, Giorgos\"><span class=\"vcard\"><span class=\"fn\"><a href=\"/wiki/Giorgos_Seferis\" title=\"Giorgos Seferis\">Giorgos Seferis</a></span></span></span>\\n</td>\\n<td><a href=\"/wiki/International_Committee_of_the_Red_Cross\" title=\"International Committee of the Red Cross\">International Committee of the Red Cross</a>;<br /><a href=\"/wiki/International_Federation_of_Red_Cross_and_Red_Crescent_Societies\" title=\"International Federation of Red Cross and Red Crescent Societies\">League of Red Cross societies</a>\\n</td>\\n<td align=\"center\">—\\n</td></tr>\\n<tr>\\n<td align=\"center\">1964\\n</td>\\n<td><span data-sort-value=\"Townes, Charles Hard\"><span class=\"vcard\"><span class=\"fn\"><a href=\"/wiki/Charles_Hard_Townes\" class=\"mw-redirect\" title=\"Charles Hard Townes\">Charles Hard Townes</a></span></span></span>;<br /><span data-sort-value=\"Basov, Nikolay\"><span class=\"vcard\"><span class=\"fn\"><a href=\"/wiki/Nikolay_Basov\" title=\"Nikolay Basov\">Nikolay Basov</a></span></span></span>;<br /><span data-sort-value=\"Prokhorov, Alexander\"><span class=\"vcard\"><span class=\"fn\"><a href=\"/wiki/Alexander_Prokhorov\" title=\"Alexander Prokhorov\">Alexander Prokhorov</a></span></span></span>\\n</td>\\n<td><span data-sort-value=\"Hodgkin, Dorothy\"><span class=\"vcard\"><span class=\"fn\"><a href=\"/wiki/Dorothy_Hodgkin\" title=\"Dorothy Hodgkin\">Dorothy Hodgkin</a></span></span></span>\\n</td>\\n<td><span data-sort-value=\"Bloch, Konrad Emil\"><span class=\"vcard\"><span class=\"fn\"><a href=\"/wiki/Konrad_Emil_Bloch\" title=\"Konrad Emil Bloch\">Konrad Emil Bloch</a></span></span></span>;<br /><span data-sort-value=\"Lynen, Feodor Felix Konrad\"><span class=\"vcard\"><span class=\"fn\"><a href=\"/wiki/Feodor_Felix_Konrad_Lynen\" class=\"mw-redirect\" title=\"Feodor Felix Konrad Lynen\">Feodor Felix Konrad Lynen</a></span></span></span>\\n</td>\\n<td><span data-sort-value=\"Sartre, Jean-Paul\"><span class=\"vcard\"><span class=\"fn\"><a href=\"/wiki/Jean-Paul_Sartre\" title=\"Jean-Paul Sartre\">Jean-Paul Sartre</a></span></span></span> <sup id=\"cite_ref-D_18-0\" class=\"reference\"><a href=\"#cite_note-D-18\">&#91;d&#93;</a></sup>\\n</td>\\n<td><span data-sort-value=\"King, Jr., Martin Luther\"><span class=\"vcard\"><span class=\"fn\"><a href=\"/wiki/Martin_Luther_King,_Jr.\" class=\"mw-redirect\" title=\"Martin Luther King, Jr.\">Martin Luther King, Jr.</a></span></span></span>\\n</td>\\n<td align=\"center\">—\\n</td></tr>\\n<tr>\\n<td align=\"center\">1965\\n</td>\\n<td><span data-sort-value=\"Tomonaga, Sin-Itiro\"><span class=\"vcard\"><span class=\"fn\"><a href=\"/wiki/Sin-Itiro_Tomonaga\" class=\"mw-redirect\" title=\"Sin-Itiro Tomonaga\">Sin-Itiro Tomonaga</a></span></span></span>;<br /><span data-sort-value=\"Schwinger, Julian\"><span class=\"vcard\"><span class=\"fn\"><a href=\"/wiki/Julian_Schwinger\" title=\"Julian Schwinger\">Julian Schwinger</a></span></span></span>;<br /><span data-sort-value=\"Feynman, Richard\"><span class=\"vcard\"><span class=\"fn\"><a href=\"/wiki/Richard_Feynman\" title=\"Richard Feynman\">Richard Feynman</a></span></span></span>\\n</td>\\n<td><span data-sort-value=\"Woodward, Robert Burns\"><span class=\"vcard\"><span class=\"fn\"><a href=\"/wiki/Robert_Burns_Woodward\" title=\"Robert Burns Woodward\">Robert Burns Woodward</a></span></span></span>\\n</td>\\n<td><span data-sort-value=\"Jacob, François\"><span class=\"vcard\"><span class=\"fn\"><a href=\"/wiki/Fran%C3%A7ois_Jacob\" title=\"François Jacob\">François Jacob</a></span></span></span>;<br /><span data-sort-value=\"Lwoff, André Michel\"><span class=\"vcard\"><span class=\"fn\"><a href=\"/wiki/Andr%C3%A9_Michel_Lwoff\" title=\"André Michel Lwoff\">André Michel Lwoff</a></span></span></span>;<br /><span data-sort-value=\"Monod, Jacques\"><span class=\"vcard\"><span class=\"fn\"><a href=\"/wiki/Jacques_Monod\" title=\"Jacques Monod\">Jacques Monod</a></span></span></span>\\n</td>\\n<td><span data-sort-value=\"Sholokhov, Mikhail\"><span class=\"vcard\"><span class=\"fn\"><a href=\"/wiki/Mikhail_Sholokhov\" title=\"Mikhail Sholokhov\">Mikhail Sholokhov</a></span></span></span>\\n</td>\\n<td><a href=\"/wiki/UNICEF\" title=\"UNICEF\">United Nations International Children\\'s Emergency Fund (UNICEF)</a>\\n</td>\\n<td align=\"center\">—\\n</td></tr>\\n<tr>\\n<td align=\"center\">1966\\n</td>\\n<td><span data-sort-value=\"Kastler, Alfred\"><span class=\"vcard\"><span class=\"fn\"><a href=\"/wiki/Alfred_Kastler\" title=\"Alfred Kastler\">Alfred Kastler</a></span></span></span>\\n</td>\\n<td><span data-sort-value=\"Mulliken, Robert S.\"><span class=\"vcard\"><span class=\"fn\"><a href=\"/wiki/Robert_S._Mulliken\" title=\"Robert S. Mulliken\">Robert S. Mulliken</a></span></span></span>\\n</td>\\n<td><span data-sort-value=\"Rous, Francis Peyton\"><span class=\"vcard\"><span class=\"fn\"><a href=\"/wiki/Francis_Peyton_Rous\" title=\"Francis Peyton Rous\">Francis Peyton Rous</a></span></span></span>;<br /><span data-sort-value=\"Huggins, Charles Brenton\"><span class=\"vcard\"><span class=\"fn\"><a href=\"/wiki/Charles_Brenton_Huggins\" title=\"Charles Brenton Huggins\">Charles Brenton Huggins</a></span></span></span>\\n</td>\\n<td><span data-sort-value=\"Agnon, Shmuel Yosef\"><span class=\"vcard\"><span class=\"fn\"><a href=\"/wiki/Shmuel_Yosef_Agnon\" title=\"Shmuel Yosef Agnon\">Shmuel Yosef Agnon</a></span></span></span>;<br /><span data-sort-value=\"Sachs, Nelly\"><span class=\"vcard\"><span class=\"fn\"><a href=\"/wiki/Nelly_Sachs\" title=\"Nelly Sachs\">Nelly Sachs</a></span></span></span>\\n</td>\\n<td align=\"center\"><i>None</i>\\n</td>\\n<td align=\"center\">—\\n</td></tr>\\n<tr>\\n<td align=\"center\">1967\\n</td>\\n<td><span data-sort-value=\"Bethe, Hans\"><span class=\"vcard\"><span class=\"fn\"><a href=\"/wiki/Hans_Bethe\" title=\"Hans Bethe\">Hans Bethe</a></span></span></span>\\n</td>\\n<td><span data-sort-value=\"Eigen, Manfred\"><span class=\"vcard\"><span class=\"fn\"><a href=\"/wiki/Manfred_Eigen\" title=\"Manfred Eigen\">Manfred Eigen</a></span></span></span>;<br /><span data-sort-value=\"Norrish, Ronald George Wreyford\"><span class=\"vcard\"><span class=\"fn\"><a href=\"/wiki/Ronald_George_Wreyford_Norrish\" title=\"Ronald George Wreyford Norrish\">Ronald George Wreyford Norrish</a></span></span></span>;<br /><span data-sort-value=\"Porter, George\"><span class=\"vcard\"><span class=\"fn\"><a href=\"/wiki/George_Porter\" title=\"George Porter\">George Porter</a></span></span></span>\\n</td>\\n<td><span data-sort-value=\"Granit, Ragnar\"><span class=\"vcard\"><span class=\"fn\"><a href=\"/wiki/Ragnar_Granit\" title=\"Ragnar Granit\">Ragnar Granit</a></span></span></span>;<br /><span data-sort-value=\"Hartline, Haldan Keffer\"><span class=\"vcard\"><span class=\"fn\"><a href=\"/wiki/Haldan_Keffer_Hartline\" title=\"Haldan Keffer Hartline\">Haldan Keffer Hartline</a></span></span></span>;<br /><span data-sort-value=\"Wald, George\"><span class=\"vcard\"><span class=\"fn\"><a href=\"/wiki/George_Wald\" title=\"George Wald\">George Wald</a></span></span></span>\\n</td>\\n<td><span data-sort-value=\"Asturias, Miguel Ángel\"><span class=\"vcard\"><span class=\"fn\"><a href=\"/wiki/Miguel_%C3%81ngel_Asturias\" title=\"Miguel Ángel Asturias\">Miguel Ángel Asturias</a></span></span></span>\\n</td>\\n<td align=\"center\"><i>None</i>\\n</td>\\n<td align=\"center\">—\\n</td></tr>\\n<tr>\\n<td align=\"center\">1968\\n</td>\\n<td><span data-sort-value=\"Alvarez, Luis Walter\"><span class=\"vcard\"><span class=\"fn\"><a href=\"/wiki/Luis_Walter_Alvarez\" title=\"Luis Walter Alvarez\">Luis Walter Alvarez</a></span></span></span>\\n</td>\\n<td><span data-sort-value=\"Onsager, Lars\"><span class=\"vcard\"><span class=\"fn\"><a href=\"/wiki/Lars_Onsager\" title=\"Lars Onsager\">Lars Onsager</a></span></span></span>\\n</td>\\n<td><span data-sort-value=\"Holley, Robert W.\"><span class=\"vcard\"><span class=\"fn\"><a href=\"/wiki/Robert_W._Holley\" title=\"Robert W. Holley\">Robert W. Holley</a></span></span></span>;<br /><span data-sort-value=\"Khorana, Har Gobind\"><span class=\"vcard\"><span class=\"fn\"><a href=\"/wiki/Har_Gobind_Khorana\" title=\"Har Gobind Khorana\">Har Gobind Khorana</a></span></span></span>;<br /><span data-sort-value=\"Nirenberg, Marshall Warren\"><span class=\"vcard\"><span class=\"fn\"><a href=\"/wiki/Marshall_Warren_Nirenberg\" title=\"Marshall Warren Nirenberg\">Marshall Warren Nirenberg</a></span></span></span>\\n</td>\\n<td><span data-sort-value=\"Kawabata, Yasunari\"><span class=\"vcard\"><span class=\"fn\"><a href=\"/wiki/Yasunari_Kawabata\" title=\"Yasunari Kawabata\">Yasunari Kawabata</a></span></span></span>\\n</td>\\n<td><span data-sort-value=\"Cassin, René\"><span class=\"vcard\"><span class=\"fn\"><a href=\"/wiki/Ren%C3%A9_Cassin\" title=\"René Cassin\">René Cassin</a></span></span></span>\\n</td>\\n<td align=\"center\">—\\n</td></tr>\\n<tr>\\n<td align=\"center\">1969\\n</td>\\n<td><span data-sort-value=\"Gell-Mann, Murray\"><span class=\"vcard\"><span class=\"fn\"><a href=\"/wiki/Murray_Gell-Mann\" title=\"Murray Gell-Mann\">Murray Gell-Mann</a></span></span></span>\\n</td>\\n<td><span data-sort-value=\"Barton, Derek\"><span class=\"vcard\"><span class=\"fn\"><a href=\"/wiki/Derek_Barton\" title=\"Derek Barton\">Derek Barton</a></span></span></span>;<br /><span data-sort-value=\"Hassel, Odd\"><span class=\"vcard\"><span class=\"fn\"><a href=\"/wiki/Odd_Hassel\" title=\"Odd Hassel\">Odd Hassel</a></span></span></span>\\n</td>\\n<td><span data-sort-value=\"Delbrück, Max\"><span class=\"vcard\"><span class=\"fn\"><a href=\"/wiki/Max_Delbr%C3%BCck\" title=\"Max Delbrück\">Max Delbrück</a></span></span></span>;<br /><span data-sort-value=\"Hershey, Alfred\"><span class=\"vcard\"><span class=\"fn\"><a href=\"/wiki/Alfred_Hershey\" title=\"Alfred Hershey\">Alfred Hershey</a></span></span></span>;<br /><span data-sort-value=\"Luria, Salvador\"><span class=\"vcard\"><span class=\"fn\"><a href=\"/wiki/Salvador_Luria\" title=\"Salvador Luria\">Salvador Luria</a></span></span></span>\\n</td>\\n<td><span data-sort-value=\"Beckett, Samuel\"><span class=\"vcard\"><span class=\"fn\"><a href=\"/wiki/Samuel_Beckett\" title=\"Samuel Beckett\">Samuel Beckett</a></span></span></span>\\n</td>\\n<td><a href=\"/wiki/International_Labour_Organization\" title=\"International Labour Organization\">International Labour Organization</a>\\n</td>\\n<td><span data-sort-value=\"Frisch, Ragnar\"><span class=\"vcard\"><span class=\"fn\"><a href=\"/wiki/Ragnar_Frisch\" title=\"Ragnar Frisch\">Ragnar Frisch</a></span></span></span>;<br /><span data-sort-value=\"Tinbergen, Jan\"><span class=\"vcard\"><span class=\"fn\"><a href=\"/wiki/Jan_Tinbergen\" title=\"Jan Tinbergen\">Jan Tinbergen</a></span></span></span>\\n</td></tr>\\n<tr>\\n<td align=\"center\">1970\\n</td>\\n<td><span data-sort-value=\"Alfvén, Hannes\"><span class=\"vcard\"><span class=\"fn\"><a href=\"/wiki/Hannes_Alfv%C3%A9n\" title=\"Hannes Alfvén\">Hannes Alfvén</a></span></span></span>;<br /><span data-sort-value=\"Néel, Louis\"><span class=\"vcard\"><span class=\"fn\"><a href=\"/wiki/Louis_N%C3%A9el\" title=\"Louis Néel\">Louis Néel</a></span></span></span>\\n</td>\\n<td><span data-sort-value=\"Leloir, Luis Federico\"><span class=\"vcard\"><span class=\"fn\"><a href=\"/wiki/Luis_Federico_Leloir\" title=\"Luis Federico Leloir\">Luis Federico Leloir</a></span></span></span>\\n</td>\\n<td><span data-sort-value=\"Axelrod, Julius\"><span class=\"vcard\"><span class=\"fn\"><a href=\"/wiki/Julius_Axelrod\" title=\"Julius Axelrod\">Julius Axelrod</a></span></span></span>;<br /><span data-sort-value=\"von Euler, Ulf\"><span class=\"vcard\"><span class=\"fn\"><a href=\"/wiki/Ulf_von_Euler\" title=\"Ulf von Euler\">Ulf von Euler</a></span></span></span>;<br /><span data-sort-value=\"Katz, Bernard\"><span class=\"vcard\"><span class=\"fn\"><a href=\"/wiki/Bernard_Katz\" title=\"Bernard Katz\">Bernard Katz</a></span></span></span>\\n</td>\\n<td><span data-sort-value=\"Solzhenitsyn, Aleksandr\"><span class=\"vcard\"><span class=\"fn\"><a href=\"/wiki/Aleksandr_Solzhenitsyn\" title=\"Aleksandr Solzhenitsyn\">Aleksandr Solzhenitsyn</a></span></span></span>\\n</td>\\n<td><span data-sort-value=\"Borlaug, Norman\"><span class=\"vcard\"><span class=\"fn\"><a href=\"/wiki/Norman_Borlaug\" title=\"Norman Borlaug\">Norman Borlaug</a></span></span></span>\\n</td>\\n<td><span data-sort-value=\"Samuelson, Paul\"><span class=\"vcard\"><span class=\"fn\"><a href=\"/wiki/Paul_Samuelson\" title=\"Paul Samuelson\">Paul Samuelson</a></span></span></span>\\n</td></tr>\\n<tr>\\n<td align=\"center\">1971\\n</td>\\n<td><span data-sort-value=\"Gabor, Dennis\"><span class=\"vcard\"><span class=\"fn\"><a href=\"/wiki/Dennis_Gabor\" title=\"Dennis Gabor\">Dennis Gabor</a></span></span></span>\\n</td>\\n<td><span data-sort-value=\"Herzberg, Gerhard\"><span class=\"vcard\"><span class=\"fn\"><a href=\"/wiki/Gerhard_Herzberg\" title=\"Gerhard Herzberg\">Gerhard Herzberg</a></span></span></span>\\n</td>\\n<td><span data-sort-value=\"Sutherland, Jr., Earl Wilbur\"><span class=\"vcard\"><span class=\"fn\"><a href=\"/wiki/Earl_Wilbur_Sutherland,_Jr.\" class=\"mw-redirect\" title=\"Earl Wilbur Sutherland, Jr.\">Earl Wilbur Sutherland, Jr.</a></span></span></span>\\n</td>\\n<td><span data-sort-value=\"Neruda, Pablo\"><span class=\"vcard\"><span class=\"fn\"><a href=\"/wiki/Pablo_Neruda\" title=\"Pablo Neruda\">Pablo Neruda</a></span></span></span>\\n</td>\\n<td><span data-sort-value=\"Brandt, Willy\"><span class=\"vcard\"><span class=\"fn\"><a href=\"/wiki/Willy_Brandt\" title=\"Willy Brandt\">Willy Brandt</a></span></span></span>\\n</td>\\n<td><span data-sort-value=\"Kuznets, Simon\"><span class=\"vcard\"><span class=\"fn\"><a href=\"/wiki/Simon_Kuznets\" title=\"Simon Kuznets\">Simon Kuznets</a></span></span></span>\\n</td></tr>\\n<tr>\\n<td align=\"center\">1972\\n</td>\\n<td><span data-sort-value=\"Bardeen, John\"><span class=\"vcard\"><span class=\"fn\"><a href=\"/wiki/John_Bardeen\" title=\"John Bardeen\">John Bardeen</a></span></span></span>;<br /><span data-sort-value=\"Cooper, Leon\"><span class=\"vcard\"><span class=\"fn\"><a href=\"/wiki/Leon_Cooper\" title=\"Leon Cooper\">Leon Cooper</a></span></span></span>;<br /><span data-sort-value=\"Schrieffer, John Robert\"><span class=\"vcard\"><span class=\"fn\"><a href=\"/wiki/John_Robert_Schrieffer\" title=\"John Robert Schrieffer\">John Robert Schrieffer</a></span></span></span>\\n</td>\\n<td><span data-sort-value=\"Anfinsen, Christian B.\"><span class=\"vcard\"><span class=\"fn\"><a href=\"/wiki/Christian_B._Anfinsen\" title=\"Christian B. Anfinsen\">Christian B. Anfinsen</a></span></span></span>;<br /><span data-sort-value=\"Moore, Stanford\"><span class=\"vcard\"><span class=\"fn\"><a href=\"/wiki/Stanford_Moore\" title=\"Stanford Moore\">Stanford Moore</a></span></span></span>;<br /><span data-sort-value=\"Stein, William Howard\"><span class=\"vcard\"><span class=\"fn\"><a href=\"/wiki/William_Howard_Stein\" title=\"William Howard Stein\">William Howard Stein</a></span></span></span>\\n</td>\\n<td><span data-sort-value=\"Edelman, Gerald\"><span class=\"vcard\"><span class=\"fn\"><a href=\"/wiki/Gerald_Edelman\" title=\"Gerald Edelman\">Gerald Edelman</a></span></span></span>;<br /><span data-sort-value=\"Porter, Rodney Robert\"><span class=\"vcard\"><span class=\"fn\"><a href=\"/wiki/Rodney_Robert_Porter\" title=\"Rodney Robert Porter\">Rodney Robert Porter</a></span></span></span>\\n</td>\\n<td><span data-sort-value=\"Böll, Heinrich\"><span class=\"vcard\"><span class=\"fn\"><a href=\"/wiki/Heinrich_B%C3%B6ll\" title=\"Heinrich Böll\">Heinrich Böll</a></span></span></span>\\n</td>\\n<td align=\"center\"><i>None</i>\\n</td>\\n<td><span data-sort-value=\"Hicks, John\"><span class=\"vcard\"><span class=\"fn\"><a href=\"/wiki/John_Hicks\" title=\"John Hicks\">John Hicks</a></span></span></span>;<br /><span data-sort-value=\"Arrow, Kenneth\"><span class=\"vcard\"><span class=\"fn\"><a href=\"/wiki/Kenneth_Arrow\" title=\"Kenneth Arrow\">Kenneth Arrow</a></span></span></span>\\n</td></tr>\\n<tr>\\n<td align=\"center\">1973\\n</td>\\n<td><span data-sort-value=\"Esaki, Leo\"><span class=\"vcard\"><span class=\"fn\"><a href=\"/wiki/Leo_Esaki\" title=\"Leo Esaki\">Leo Esaki</a></span></span></span>;<br /><span data-sort-value=\"Giaever, Ivar\"><span class=\"vcard\"><span class=\"fn\"><a href=\"/wiki/Ivar_Giaever\" title=\"Ivar Giaever\">Ivar Giaever</a></span></span></span>;<br /><span data-sort-value=\"Josephson, Brian David\"><span class=\"vcard\"><span class=\"fn\"><a href=\"/wiki/Brian_David_Josephson\" class=\"mw-redirect\" title=\"Brian David Josephson\">Brian David Josephson</a></span></span></span>\\n</td>\\n<td><span data-sort-value=\"Fischer, Ernst Otto\"><span class=\"vcard\"><span class=\"fn\"><a href=\"/wiki/Ernst_Otto_Fischer\" title=\"Ernst Otto Fischer\">Ernst Otto Fischer</a></span></span></span>;<br /><span data-sort-value=\"Wilkinson, Geoffrey\"><span class=\"vcard\"><span class=\"fn\"><a href=\"/wiki/Geoffrey_Wilkinson\" title=\"Geoffrey Wilkinson\">Geoffrey Wilkinson</a></span></span></span>\\n</td>\\n<td><span data-sort-value=\"von Frisch, Karl\"><span class=\"vcard\"><span class=\"fn\"><a href=\"/wiki/Karl_von_Frisch\" title=\"Karl von Frisch\">Karl von Frisch</a></span></span></span>;<br /><span data-sort-value=\"Lorenz, Konrad\"><span class=\"vcard\"><span class=\"fn\"><a href=\"/wiki/Konrad_Lorenz\" title=\"Konrad Lorenz\">Konrad Lorenz</a></span></span></span>;<br /><span data-sort-value=\"Tinbergen, Nikolaas\"><span class=\"vcard\"><span class=\"fn\"><a href=\"/wiki/Nikolaas_Tinbergen\" title=\"Nikolaas Tinbergen\">Nikolaas Tinbergen</a></span></span></span>\\n</td>\\n<td><span data-sort-value=\"White, Patrick\"><span class=\"vcard\"><span class=\"fn\"><a href=\"/wiki/Patrick_White\" title=\"Patrick White\">Patrick White</a></span></span></span>\\n</td>\\n<td><span data-sort-value=\"Kissinger, Henry\"><span class=\"vcard\"><span class=\"fn\"><a href=\"/wiki/Henry_Kissinger\" title=\"Henry Kissinger\">Henry Kissinger</a></span></span></span>;<br /><span data-sort-value=\"Duc Tho, Le\"><span class=\"vcard\"><span class=\"fn\"><a href=\"/wiki/Le_Duc_Tho\" class=\"mw-redirect\" title=\"Le Duc Tho\">Le Duc Tho</a></span></span></span> <sup id=\"cite_ref-E_19-0\" class=\"reference\"><a href=\"#cite_note-E-19\">&#91;e&#93;</a></sup>\\n</td>\\n<td><span data-sort-value=\"Leontief, Wassily\"><span class=\"vcard\"><span class=\"fn\"><a href=\"/wiki/Wassily_Leontief\" title=\"Wassily Leontief\">Wassily Leontief</a></span></span></span>\\n</td></tr>\\n<tr>\\n<td align=\"center\">1974\\n</td>\\n<td><span data-sort-value=\"Ryle, Martin\"><span class=\"vcard\"><span class=\"fn\"><a href=\"/wiki/Martin_Ryle\" title=\"Martin Ryle\">Martin Ryle</a></span></span></span>;<br /><span data-sort-value=\"Hewish, Antony\"><span class=\"vcard\"><span class=\"fn\"><a href=\"/wiki/Antony_Hewish\" title=\"Antony Hewish\">Antony Hewish</a></span></span></span>\\n</td>\\n<td><span data-sort-value=\"Flory, Paul\"><span class=\"vcard\"><span class=\"fn\"><a href=\"/wiki/Paul_Flory\" title=\"Paul Flory\">Paul Flory</a></span></span></span>\\n</td>\\n<td><span data-sort-value=\"Claude, Albert\"><span class=\"vcard\"><span class=\"fn\"><a href=\"/wiki/Albert_Claude\" title=\"Albert Claude\">Albert Claude</a></span></span></span>;<br /><span data-sort-value=\"de Duve, Christian\"><span class=\"vcard\"><span class=\"fn\"><a href=\"/wiki/Christian_de_Duve\" title=\"Christian de Duve\">Christian de Duve</a></span></span></span>;<br /><span data-sort-value=\"Palade, George Emil\"><span class=\"vcard\"><span class=\"fn\"><a href=\"/wiki/George_Emil_Palade\" title=\"George Emil Palade\">George Emil Palade</a></span></span></span>\\n</td>\\n<td><span data-sort-value=\"Johnson, Eyvind\"><span class=\"vcard\"><span class=\"fn\"><a href=\"/wiki/Eyvind_Johnson\" title=\"Eyvind Johnson\">Eyvind Johnson</a></span></span></span>;<br /><span data-sort-value=\"Martinson, Harry\"><span class=\"vcard\"><span class=\"fn\"><a href=\"/wiki/Harry_Martinson\" title=\"Harry Martinson\">Harry Martinson</a></span></span></span>\\n</td>\\n<td><span data-sort-value=\"MacBride, Seán\"><span class=\"vcard\"><span class=\"fn\"><a href=\"/wiki/Se%C3%A1n_MacBride\" title=\"Seán MacBride\">Seán MacBride</a></span></span></span>;<br /><span data-sort-value=\"Satō, Eisaku\"><span class=\"vcard\"><span class=\"fn\"><a href=\"/wiki/Eisaku_Sat%C5%8D\" title=\"Eisaku Satō\">Eisaku Satō</a></span></span></span>\\n</td>\\n<td><span data-sort-value=\"Myrdal, Gunnar\"><span class=\"vcard\"><span class=\"fn\"><a href=\"/wiki/Gunnar_Myrdal\" title=\"Gunnar Myrdal\">Gunnar Myrdal</a></span></span></span>;<br /><span data-sort-value=\"Hayek, Friedrich\"><span class=\"vcard\"><span class=\"fn\"><a href=\"/wiki/Friedrich_Hayek\" title=\"Friedrich Hayek\">Friedrich Hayek</a></span></span></span>\\n</td></tr>\\n<tr>\\n<td align=\"center\">1975\\n</td>\\n<td><span data-sort-value=\"Bohr, Aage\"><span class=\"vcard\"><span class=\"fn\"><a href=\"/wiki/Aage_Bohr\" title=\"Aage Bohr\">Aage Bohr</a></span></span></span>;<br /><span data-sort-value=\"Roy Mottelson, Ben\"><span class=\"vcard\"><span class=\"fn\"><a href=\"/wiki/Ben_Roy_Mottelson\" title=\"Ben Roy Mottelson\">Ben Roy Mottelson</a></span></span></span>;<br /><span data-sort-value=\"Rainwater, James\"><span class=\"vcard\"><span class=\"fn\"><a href=\"/wiki/James_Rainwater\" title=\"James Rainwater\">James Rainwater</a></span></span></span>\\n</td>\\n<td><span data-sort-value=\"Cornforth, John\"><span class=\"vcard\"><span class=\"fn\"><a href=\"/wiki/John_Cornforth\" title=\"John Cornforth\">John Cornforth</a></span></span></span>;<br /><span data-sort-value=\"Prelog, Vladimir\"><span class=\"vcard\"><span class=\"fn\"><a href=\"/wiki/Vladimir_Prelog\" title=\"Vladimir Prelog\">Vladimir Prelog</a></span></span></span>\\n</td>\\n<td><span data-sort-value=\"Baltimore, David\"><span class=\"vcard\"><span class=\"fn\"><a href=\"/wiki/David_Baltimore\" title=\"David Baltimore\">David Baltimore</a></span></span></span>;<br /><span data-sort-value=\"Dulbecco, Renato\"><span class=\"vcard\"><span class=\"fn\"><a href=\"/wiki/Renato_Dulbecco\" title=\"Renato Dulbecco\">Renato Dulbecco</a></span></span></span>;<br /><span data-sort-value=\"Temin, Howard Martin\"><span class=\"vcard\"><span class=\"fn\"><a href=\"/wiki/Howard_Martin_Temin\" title=\"Howard Martin Temin\">Howard Martin Temin</a></span></span></span>\\n</td>\\n<td><span data-sort-value=\"Montale, Eugenio\"><span class=\"vcard\"><span class=\"fn\"><a href=\"/wiki/Eugenio_Montale\" title=\"Eugenio Montale\">Eugenio Montale</a></span></span></span>\\n</td>\\n<td><span data-sort-value=\"Sakharov, Andrei\"><span class=\"vcard\"><span class=\"fn\"><a href=\"/wiki/Andrei_Sakharov\" title=\"Andrei Sakharov\">Andrei Sakharov</a></span></span></span>\\n</td>\\n<td><span data-sort-value=\"Kantorovich, Leonid\"><span class=\"vcard\"><span class=\"fn\"><a href=\"/wiki/Leonid_Kantorovich\" title=\"Leonid Kantorovich\">Leonid Kantorovich</a></span></span></span>;<br /><span data-sort-value=\"Koopmans, Tjalling\"><span class=\"vcard\"><span class=\"fn\"><a href=\"/wiki/Tjalling_Koopmans\" title=\"Tjalling Koopmans\">Tjalling Koopmans</a></span></span></span>\\n</td></tr>\\n<tr>\\n<td align=\"center\">1976\\n</td>\\n<td><span data-sort-value=\"Richter, Burton\"><span class=\"vcard\"><span class=\"fn\"><a href=\"/wiki/Burton_Richter\" title=\"Burton Richter\">Burton Richter</a></span></span></span>;<br /><span data-sort-value=\"Ting, Samuel C. C.\"><span class=\"vcard\"><span class=\"fn\"><a href=\"/wiki/Samuel_C._C._Ting\" title=\"Samuel C. C. Ting\">Samuel C. C. Ting</a></span></span></span>\\n</td>\\n<td><span data-sort-value=\"Lipscomb, William\"><span class=\"vcard\"><span class=\"fn\"><a href=\"/wiki/William_Lipscomb\" title=\"William Lipscomb\">William Lipscomb</a></span></span></span>\\n</td>\\n<td><span data-sort-value=\"Blumberg, Baruch Samuel\"><span class=\"vcard\"><span class=\"fn\"><a href=\"/wiki/Baruch_Samuel_Blumberg\" title=\"Baruch Samuel Blumberg\">Baruch Samuel Blumberg</a></span></span></span>;<br /><span data-sort-value=\"Gajdusek, Daniel Carleton\"><span class=\"vcard\"><span class=\"fn\"><a href=\"/wiki/Daniel_Carleton_Gajdusek\" title=\"Daniel Carleton Gajdusek\">Daniel Carleton Gajdusek</a></span></span></span>\\n</td>\\n<td><span data-sort-value=\"Bellow, Saul\"><span class=\"vcard\"><span class=\"fn\"><a href=\"/wiki/Saul_Bellow\" title=\"Saul Bellow\">Saul Bellow</a></span></span></span>\\n</td>\\n<td><span data-sort-value=\"Williams, Betty\"><span class=\"vcard\"><span class=\"fn\"><a href=\"/wiki/Betty_Williams_(Nobel_laureate)\" class=\"mw-redirect\" title=\"Betty Williams (Nobel laureate)\">Betty Williams</a></span></span></span>;<br /><span data-sort-value=\"Maguire, Mairead\"><span class=\"vcard\"><span class=\"fn\"><a href=\"/wiki/Mairead_Maguire\" title=\"Mairead Maguire\">Mairead Maguire</a></span></span></span>\\n</td>\\n<td><span data-sort-value=\"Friedman, Milton\"><span class=\"vcard\"><span class=\"fn\"><a href=\"/wiki/Milton_Friedman\" title=\"Milton Friedman\">Milton Friedman</a></span></span></span>\\n</td></tr>\\n<tr>\\n<td align=\"center\">1977\\n</td>\\n<td><span data-sort-value=\"Anderson, Philip Warren\"><span class=\"vcard\"><span class=\"fn\"><a href=\"/wiki/Philip_Warren_Anderson\" class=\"mw-redirect\" title=\"Philip Warren Anderson\">Philip Warren Anderson</a></span></span></span>;<br /><span data-sort-value=\"Mott, Nevill Francis\"><span class=\"vcard\"><span class=\"fn\"><a href=\"/wiki/Nevill_Francis_Mott\" title=\"Nevill Francis Mott\">Nevill Francis Mott</a></span></span></span>;<br /><span data-sort-value=\"Van Vleck, John Hasbrouck\"><span class=\"vcard\"><span class=\"fn\"><a href=\"/wiki/John_Hasbrouck_Van_Vleck\" title=\"John Hasbrouck Van Vleck\">John Hasbrouck Van Vleck</a></span></span></span>\\n</td>\\n<td><span data-sort-value=\"Prigogine, Ilya\"><span class=\"vcard\"><span class=\"fn\"><a href=\"/wiki/Ilya_Prigogine\" title=\"Ilya Prigogine\">Ilya Prigogine</a></span></span></span>\\n</td>\\n<td><span data-sort-value=\"Guillemin, Roger\"><span class=\"vcard\"><span class=\"fn\"><a href=\"/wiki/Roger_Guillemin\" title=\"Roger Guillemin\">Roger Guillemin</a></span></span></span>;<br /><span data-sort-value=\"Schally, Andrew\"><span class=\"vcard\"><span class=\"fn\"><a href=\"/wiki/Andrew_Schally\" title=\"Andrew Schally\">Andrew Schally</a></span></span></span>;<br /><span data-sort-value=\"Yalow, Rosalyn Sussman\"><span class=\"vcard\"><span class=\"fn\"><a href=\"/wiki/Rosalyn_Sussman_Yalow\" title=\"Rosalyn Sussman Yalow\">Rosalyn Sussman Yalow</a></span></span></span>\\n</td>\\n<td><span data-sort-value=\"Aleixandre, Vicente\"><span class=\"vcard\"><span class=\"fn\"><a href=\"/wiki/Vicente_Aleixandre\" title=\"Vicente Aleixandre\">Vicente Aleixandre</a></span></span></span>\\n</td>\\n<td><a href=\"/wiki/Amnesty_International\" title=\"Amnesty International\">Amnesty International</a>\\n</td>\\n<td><span data-sort-value=\"Ohlin, Bertil\"><span class=\"vcard\"><span class=\"fn\"><a href=\"/wiki/Bertil_Ohlin\" title=\"Bertil Ohlin\">Bertil Ohlin</a></span></span></span>;<br /><span data-sort-value=\"Meade, James\"><span class=\"vcard\"><span class=\"fn\"><a href=\"/wiki/James_Meade\" title=\"James Meade\">James Meade</a></span></span></span>\\n</td></tr>\\n<tr>\\n<td align=\"center\">1978\\n</td>\\n<td><span data-sort-value=\"Kapitsa, Pyotr\"><span class=\"vcard\"><span class=\"fn\"><a href=\"/wiki/Pyotr_Kapitsa\" title=\"Pyotr Kapitsa\">Pyotr Kapitsa</a></span></span></span>;<br /><span data-sort-value=\"Penzias, Arno Allan\"><span class=\"vcard\"><span class=\"fn\"><a href=\"/wiki/Arno_Allan_Penzias\" title=\"Arno Allan Penzias\">Arno Allan Penzias</a></span></span></span>;<br /><span data-sort-value=\"Wilson, Robert Woodrow\"><span class=\"vcard\"><span class=\"fn\"><a href=\"/wiki/Robert_Woodrow_Wilson\" title=\"Robert Woodrow Wilson\">Robert Woodrow Wilson</a></span></span></span>\\n</td>\\n<td><span data-sort-value=\"Mitchell, Peter D.\"><span class=\"vcard\"><span class=\"fn\"><a href=\"/wiki/Peter_D._Mitchell\" title=\"Peter D. Mitchell\">Peter D. Mitchell</a></span></span></span>\\n</td>\\n<td><span data-sort-value=\"Arber, Werner\"><span class=\"vcard\"><span class=\"fn\"><a href=\"/wiki/Werner_Arber\" title=\"Werner Arber\">Werner Arber</a></span></span></span>;<br /><span data-sort-value=\"Nathans, Daniel\"><span class=\"vcard\"><span class=\"fn\"><a href=\"/wiki/Daniel_Nathans\" title=\"Daniel Nathans\">Daniel Nathans</a></span></span></span>;<br /><span data-sort-value=\"Smith, Hamilton O.\"><span class=\"vcard\"><span class=\"fn\"><a href=\"/wiki/Hamilton_O._Smith\" title=\"Hamilton O. Smith\">Hamilton O. Smith</a></span></span></span>\\n</td>\\n<td><span data-sort-value=\"Singer, Isaac Bashevis\"><span class=\"vcard\"><span class=\"fn\"><a href=\"/wiki/Isaac_Bashevis_Singer\" title=\"Isaac Bashevis Singer\">Isaac Bashevis Singer</a></span></span></span>\\n</td>\\n<td><span data-sort-value=\"Sadat, Anwar\"><span class=\"vcard\"><span class=\"fn\"><a href=\"/wiki/Anwar_Sadat\" title=\"Anwar Sadat\">Anwar Sadat</a></span></span></span>;<br /><span data-sort-value=\"Begin, Menachem\"><span class=\"vcard\"><span class=\"fn\"><a href=\"/wiki/Menachem_Begin\" title=\"Menachem Begin\">Menachem Begin</a></span></span></span>\\n</td>\\n<td><span data-sort-value=\"Simon, Herbert A.\"><span class=\"vcard\"><span class=\"fn\"><a href=\"/wiki/Herbert_A._Simon\" title=\"Herbert A. Simon\">Herbert A. Simon</a></span></span></span>\\n</td></tr>\\n<tr>\\n<td align=\"center\">1979\\n</td>\\n<td><span data-sort-value=\"Glashow, Sheldon Lee\"><span class=\"vcard\"><span class=\"fn\"><a href=\"/wiki/Sheldon_Lee_Glashow\" title=\"Sheldon Lee Glashow\">Sheldon Lee Glashow</a></span></span></span>;<br /><span data-sort-value=\"Salam, Abdus\"><span class=\"vcard\"><span class=\"fn\"><a href=\"/wiki/Abdus_Salam\" title=\"Abdus Salam\">Abdus Salam</a></span></span></span>;<br /><span data-sort-value=\"Weinberg, Steven\"><span class=\"vcard\"><span class=\"fn\"><a href=\"/wiki/Steven_Weinberg\" title=\"Steven Weinberg\">Steven Weinberg</a></span></span></span>\\n</td>\\n<td><span data-sort-value=\"Brown, Herbert C.\"><span class=\"vcard\"><span class=\"fn\"><a href=\"/wiki/Herbert_C._Brown\" title=\"Herbert C. Brown\">Herbert C. Brown</a></span></span></span>;<br /><span data-sort-value=\"Wittig, Georg\"><span class=\"vcard\"><span class=\"fn\"><a href=\"/wiki/Georg_Wittig\" title=\"Georg Wittig\">Georg Wittig</a></span></span></span>\\n</td>\\n<td><span data-sort-value=\"Cormack, Allan McLeod\"><span class=\"vcard\"><span class=\"fn\"><a href=\"/wiki/Allan_McLeod_Cormack\" class=\"mw-redirect\" title=\"Allan McLeod Cormack\">Allan McLeod Cormack</a></span></span></span>;<br /><span data-sort-value=\"Hounsfield, Godfrey\"><span class=\"vcard\"><span class=\"fn\"><a href=\"/wiki/Godfrey_Hounsfield\" title=\"Godfrey Hounsfield\">Godfrey Hounsfield</a></span></span></span>\\n</td>\\n<td><span data-sort-value=\"Elytis, Odysseas\"><span class=\"vcard\"><span class=\"fn\"><a href=\"/wiki/Odysseas_Elytis\" title=\"Odysseas Elytis\">Odysseas Elytis</a></span></span></span>\\n</td>\\n<td><span data-sort-value=\"Teresa, Mother\"><span class=\"vcard\"><span class=\"fn\"><a href=\"/wiki/Mother_Teresa\" title=\"Mother Teresa\">Mother Teresa</a></span></span></span>\\n</td>\\n<td><span data-sort-value=\"Schultz, Theodore\"><span class=\"vcard\"><span class=\"fn\"><a href=\"/wiki/Theodore_Schultz\" title=\"Theodore Schultz\">Theodore Schultz</a></span></span></span>;<br /><span data-sort-value=\"Lewis, Arthur\"><span class=\"vcard\"><span class=\"fn\"><a href=\"/wiki/Arthur_Lewis_(economist)\" class=\"mw-redirect\" title=\"Arthur Lewis (economist)\">Arthur Lewis</a></span></span></span>\\n</td></tr>\\n<tr>\\n<td align=\"center\">1980\\n</td>\\n<td><span data-sort-value=\"Cronin, James\"><span class=\"vcard\"><span class=\"fn\"><a href=\"/wiki/James_Cronin\" title=\"James Cronin\">James Cronin</a></span></span></span>;<br /><span data-sort-value=\"Fitch, Val Logsdon\"><span class=\"vcard\"><span class=\"fn\"><a href=\"/wiki/Val_Logsdon_Fitch\" title=\"Val Logsdon Fitch\">Val Logsdon Fitch</a></span></span></span>\\n</td>\\n<td><span data-sort-value=\"Berg, Paul\"><span class=\"vcard\"><span class=\"fn\"><a href=\"/wiki/Paul_Berg\" title=\"Paul Berg\">Paul Berg</a></span></span></span>;<br /><span data-sort-value=\"Gilbert, Walter\"><span class=\"vcard\"><span class=\"fn\"><a href=\"/wiki/Walter_Gilbert\" title=\"Walter Gilbert\">Walter Gilbert</a></span></span></span>;<br /><span data-sort-value=\"Sanger, Frederick\"><span class=\"vcard\"><span class=\"fn\"><a href=\"/wiki/Frederick_Sanger\" title=\"Frederick Sanger\">Frederick Sanger</a></span></span></span>\\n</td>\\n<td><span data-sort-value=\"Benacerraf, Baruj\"><span class=\"vcard\"><span class=\"fn\"><a href=\"/wiki/Baruj_Benacerraf\" title=\"Baruj Benacerraf\">Baruj Benacerraf</a></span></span></span>;<br /><span data-sort-value=\"Dausset, Jean\"><span class=\"vcard\"><span class=\"fn\"><a href=\"/wiki/Jean_Dausset\" title=\"Jean Dausset\">Jean Dausset</a></span></span></span>;<br /><span data-sort-value=\"Snell, George Davis\"><span class=\"vcard\"><span class=\"fn\"><a href=\"/wiki/George_Davis_Snell\" title=\"George Davis Snell\">George Davis Snell</a></span></span></span>\\n</td>\\n<td><span data-sort-value=\"Miłosz, Czesław\"><span class=\"vcard\"><span class=\"fn\"><a href=\"/wiki/Czes%C5%82aw_Mi%C5%82osz\" title=\"Czesław Miłosz\">Czesław Miłosz</a></span></span></span>\\n</td>\\n<td><span data-sort-value=\"Esquivel, Adolfo Pérez\"><span class=\"vcard\"><span class=\"fn\"><a href=\"/wiki/Adolfo_P%C3%A9rez_Esquivel\" title=\"Adolfo Pérez Esquivel\">Adolfo Pérez Esquivel</a></span></span></span>\\n</td>\\n<td><span data-sort-value=\"Klein, Lawrence\"><span class=\"vcard\"><span class=\"fn\"><a href=\"/wiki/Lawrence_Klein\" title=\"Lawrence Klein\">Lawrence Klein</a></span></span></span>\\n</td></tr>\\n<tr>\\n<td align=\"center\">1981\\n</td>\\n<td><span data-sort-value=\"Bloembergen, Nicolaas\"><span class=\"vcard\"><span class=\"fn\"><a href=\"/wiki/Nicolaas_Bloembergen\" title=\"Nicolaas Bloembergen\">Nicolaas Bloembergen</a></span></span></span>;<br /><span data-sort-value=\"Schawlow, Arthur Leonard\"><span class=\"vcard\"><span class=\"fn\"><a href=\"/wiki/Arthur_Leonard_Schawlow\" title=\"Arthur Leonard Schawlow\">Arthur Leonard Schawlow</a></span></span></span>;<br /><span data-sort-value=\"Siegbahn, Kai\"><span class=\"vcard\"><span class=\"fn\"><a href=\"/wiki/Kai_Siegbahn\" title=\"Kai Siegbahn\">Kai Siegbahn</a></span></span></span>\\n</td>\\n<td><span data-sort-value=\"Fukui, Kenichi\"><span class=\"vcard\"><span class=\"fn\"><a href=\"/wiki/Kenichi_Fukui\" title=\"Kenichi Fukui\">Kenichi Fukui</a></span></span></span>;<br /><span data-sort-value=\"Hoffmann, Roald\"><span class=\"vcard\"><span class=\"fn\"><a href=\"/wiki/Roald_Hoffmann\" title=\"Roald Hoffmann\">Roald Hoffmann</a></span></span></span>\\n</td>\\n<td><span data-sort-value=\"Sperry, Roger Wolcott\"><span class=\"vcard\"><span class=\"fn\"><a href=\"/wiki/Roger_Wolcott_Sperry\" title=\"Roger Wolcott Sperry\">Roger Wolcott Sperry</a></span></span></span>;<br /><span data-sort-value=\"Hubel, David H.\"><span class=\"vcard\"><span class=\"fn\"><a href=\"/wiki/David_H._Hubel\" title=\"David H. Hubel\">David H. Hubel</a></span></span></span>;<br /><span data-sort-value=\"Wiesel, Torsten\"><span class=\"vcard\"><span class=\"fn\"><a href=\"/wiki/Torsten_Wiesel\" title=\"Torsten Wiesel\">Torsten Wiesel</a></span></span></span>\\n</td>\\n<td><span data-sort-value=\"Canetti, Elias\"><span class=\"vcard\"><span class=\"fn\"><a href=\"/wiki/Elias_Canetti\" title=\"Elias Canetti\">Elias Canetti</a></span></span></span>\\n</td>\\n<td><a href=\"/wiki/United_Nations_High_Commissioner_for_Refugees\" title=\"United Nations High Commissioner for Refugees\">United Nations High Commissioner for Refugees</a>\\n</td>\\n<td><span data-sort-value=\"Tobin, James\"><span class=\"vcard\"><span class=\"fn\"><a href=\"/wiki/James_Tobin\" title=\"James Tobin\">James Tobin</a></span></span></span>\\n</td></tr>\\n<tr>\\n<td align=\"center\">1982\\n</td>\\n<td><span data-sort-value=\"Wilson, Kenneth G.\"><span class=\"vcard\"><span class=\"fn\"><a href=\"/wiki/Kenneth_G._Wilson\" title=\"Kenneth G. Wilson\">Kenneth G. Wilson</a></span></span></span>\\n</td>\\n<td><span data-sort-value=\"Klug, Aaron\"><span class=\"vcard\"><span class=\"fn\"><a href=\"/wiki/Aaron_Klug\" title=\"Aaron Klug\">Aaron Klug</a></span></span></span>\\n</td>\\n<td><span data-sort-value=\"Bergström, Sune\"><span class=\"vcard\"><span class=\"fn\"><a href=\"/wiki/Sune_Bergstr%C3%B6m\" title=\"Sune Bergström\">Sune Bergström</a></span></span></span>;<br /><span data-sort-value=\"Samuelsson, Bengt I.\"><span class=\"vcard\"><span class=\"fn\"><a href=\"/wiki/Bengt_I._Samuelsson\" title=\"Bengt I. Samuelsson\">Bengt I. Samuelsson</a></span></span></span>;<br /><span data-sort-value=\"Vane, John\"><span class=\"vcard\"><span class=\"fn\"><a href=\"/wiki/John_Vane\" title=\"John Vane\">John Vane</a></span></span></span>\\n</td>\\n<td><span data-sort-value=\"Márquez, Gabriel García\"><span class=\"vcard\"><span class=\"fn\"><a href=\"/wiki/Gabriel_Garc%C3%ADa_M%C3%A1rquez\" title=\"Gabriel García Márquez\">Gabriel García Márquez</a></span></span></span>\\n</td>\\n<td><span data-sort-value=\"Myrdal, Alva\"><span class=\"vcard\"><span class=\"fn\"><a href=\"/wiki/Alva_Myrdal\" title=\"Alva Myrdal\">Alva Myrdal</a></span></span></span>;<br /><span data-sort-value=\"Robles, Alfonso García\"><span class=\"vcard\"><span class=\"fn\"><a href=\"/wiki/Alfonso_Garc%C3%ADa_Robles\" title=\"Alfonso García Robles\">Alfonso García Robles</a></span></span></span>\\n</td>\\n<td><span data-sort-value=\"Stigler, George\"><span class=\"vcard\"><span class=\"fn\"><a href=\"/wiki/George_Stigler\" title=\"George Stigler\">George Stigler</a></span></span></span>\\n</td></tr>\\n<tr>\\n<td align=\"center\">1983\\n</td>\\n<td><span data-sort-value=\"Chandrasekhar, Subrahmanyan\"><span class=\"vcard\"><span class=\"fn\"><a href=\"/wiki/Subrahmanyan_Chandrasekhar\" title=\"Subrahmanyan Chandrasekhar\">Subrahmanyan Chandrasekhar</a></span></span></span>;<br /><span data-sort-value=\"Fowler, William Alfred\"><span class=\"vcard\"><span class=\"fn\"><a href=\"/wiki/William_Alfred_Fowler\" title=\"William Alfred Fowler\">William Alfred Fowler</a></span></span></span>\\n</td>\\n<td><span data-sort-value=\"Taube, Henry\"><span class=\"vcard\"><span class=\"fn\"><a href=\"/wiki/Henry_Taube\" title=\"Henry Taube\">Henry Taube</a></span></span></span>\\n</td>\\n<td><span data-sort-value=\"McClintock, Barbara\"><span class=\"vcard\"><span class=\"fn\"><a href=\"/wiki/Barbara_McClintock\" title=\"Barbara McClintock\">Barbara McClintock</a></span></span></span>\\n</td>\\n<td><span data-sort-value=\"Golding, William\"><span class=\"vcard\"><span class=\"fn\"><a href=\"/wiki/William_Golding\" title=\"William Golding\">William Golding</a></span></span></span>\\n</td>\\n<td><span data-sort-value=\"Wałęsa, Lech\"><span class=\"vcard\"><span class=\"fn\"><a href=\"/wiki/Lech_Wa%C5%82%C4%99sa\" title=\"Lech Wałęsa\">Lech Wałęsa</a></span></span></span>\\n</td>\\n<td><span data-sort-value=\"Debreu, Gérard\"><span class=\"vcard\"><span class=\"fn\"><a href=\"/wiki/G%C3%A9rard_Debreu\" title=\"Gérard Debreu\">Gérard Debreu</a></span></span></span>\\n</td></tr>\\n<tr>\\n<td align=\"center\">1984\\n</td>\\n<td><span data-sort-value=\"Rubbia, Carlo\"><span class=\"vcard\"><span class=\"fn\"><a href=\"/wiki/Carlo_Rubbia\" title=\"Carlo Rubbia\">Carlo Rubbia</a></span></span></span>;<br /><span data-sort-value=\"van der Meer, Simon\"><span class=\"vcard\"><span class=\"fn\"><a href=\"/wiki/Simon_van_der_Meer\" title=\"Simon van der Meer\">Simon van der Meer</a></span></span></span>\\n</td>\\n<td><span data-sort-value=\"Merrifield, Robert Bruce\"><span class=\"vcard\"><span class=\"fn\"><a href=\"/wiki/Robert_Bruce_Merrifield\" title=\"Robert Bruce Merrifield\">Robert Bruce Merrifield</a></span></span></span>\\n</td>\\n<td><span data-sort-value=\"Jerne, Niels Kaj\"><span class=\"vcard\"><span class=\"fn\"><a href=\"/wiki/Niels_Kaj_Jerne\" title=\"Niels Kaj Jerne\">Niels Kaj Jerne</a></span></span></span>;<br /><span data-sort-value=\"Köhler, Georges J. F.\"><span class=\"vcard\"><span class=\"fn\"><a href=\"/wiki/Georges_J._F._K%C3%B6hler\" title=\"Georges J. F. Köhler\">Georges J. F. Köhler</a></span></span></span>;<br /><span data-sort-value=\"Milstein, César\"><span class=\"vcard\"><span class=\"fn\"><a href=\"/wiki/C%C3%A9sar_Milstein\" title=\"César Milstein\">César Milstein</a></span></span></span>\\n</td>\\n<td><span data-sort-value=\"Seifert, Jaroslav\"><span class=\"vcard\"><span class=\"fn\"><a href=\"/wiki/Jaroslav_Seifert\" title=\"Jaroslav Seifert\">Jaroslav Seifert</a></span></span></span>\\n</td>\\n<td><span data-sort-value=\"Tutu, Desmond\"><span class=\"vcard\"><span class=\"fn\"><a href=\"/wiki/Desmond_Tutu\" title=\"Desmond Tutu\">Desmond Tutu</a></span></span></span>\\n</td>\\n<td><span data-sort-value=\"Stone, Richard\"><span class=\"vcard\"><span class=\"fn\"><a href=\"/wiki/Richard_Stone\" title=\"Richard Stone\">Richard Stone</a></span></span></span>\\n</td></tr>\\n<tr>\\n<td align=\"center\">1985\\n</td>\\n<td><span data-sort-value=\"von Klitzing, Klaus\"><span class=\"vcard\"><span class=\"fn\"><a href=\"/wiki/Klaus_von_Klitzing\" title=\"Klaus von Klitzing\">Klaus von Klitzing</a></span></span></span>\\n</td>\\n<td><span data-sort-value=\"Hauptman, Herbert A.\"><span class=\"vcard\"><span class=\"fn\"><a href=\"/wiki/Herbert_A._Hauptman\" title=\"Herbert A. Hauptman\">Herbert A. Hauptman</a></span></span></span>;<br /><span data-sort-value=\"Karle, Jerome\"><span class=\"vcard\"><span class=\"fn\"><a href=\"/wiki/Jerome_Karle\" title=\"Jerome Karle\">Jerome Karle</a></span></span></span>\\n</td>\\n<td><span data-sort-value=\"Brown, Michael Stuart\"><span class=\"vcard\"><span class=\"fn\"><a href=\"/wiki/Michael_Stuart_Brown\" title=\"Michael Stuart Brown\">Michael Stuart Brown</a></span></span></span>;<br /><span data-sort-value=\"Goldstein, Joseph L.\"><span class=\"vcard\"><span class=\"fn\"><a href=\"/wiki/Joseph_L._Goldstein\" title=\"Joseph L. Goldstein\">Joseph L. Goldstein</a></span></span></span>\\n</td>\\n<td><span data-sort-value=\"Simon, Claude\"><span class=\"vcard\"><span class=\"fn\"><a href=\"/wiki/Claude_Simon\" title=\"Claude Simon\">Claude Simon</a></span></span></span>\\n</td>\\n<td><a href=\"/wiki/International_Physicians_for_the_Prevention_of_Nuclear_War\" title=\"International Physicians for the Prevention of Nuclear War\">International Physicians for the Prevention of Nuclear War</a>\\n</td>\\n<td><span data-sort-value=\"Modigliani, Franco\"><span class=\"vcard\"><span class=\"fn\"><a href=\"/wiki/Franco_Modigliani\" title=\"Franco Modigliani\">Franco Modigliani</a></span></span></span>\\n</td></tr>\\n<tr>\\n<td align=\"center\">1986\\n</td>\\n<td><span data-sort-value=\"Ruska, Ernst\"><span class=\"vcard\"><span class=\"fn\"><a href=\"/wiki/Ernst_Ruska\" title=\"Ernst Ruska\">Ernst Ruska</a></span></span></span>;<br /><span data-sort-value=\"Binnig, Gerd\"><span class=\"vcard\"><span class=\"fn\"><a href=\"/wiki/Gerd_Binnig\" title=\"Gerd Binnig\">Gerd Binnig</a></span></span></span>;<br /><span data-sort-value=\"Rohrer, Heinrich\"><span class=\"vcard\"><span class=\"fn\"><a href=\"/wiki/Heinrich_Rohrer\" title=\"Heinrich Rohrer\">Heinrich Rohrer</a></span></span></span>\\n</td>\\n<td><span data-sort-value=\"Herschbach, Dudley R.\"><span class=\"vcard\"><span class=\"fn\"><a href=\"/wiki/Dudley_R._Herschbach\" title=\"Dudley R. Herschbach\">Dudley R. Herschbach</a></span></span></span>;<br /><span data-sort-value=\"Lee, Yuan T.\"><span class=\"vcard\"><span class=\"fn\"><a href=\"/wiki/Yuan_T._Lee\" title=\"Yuan T. Lee\">Yuan T. Lee</a></span></span></span>;<br /><span data-sort-value=\"Polanyi, John\"><span class=\"vcard\"><span class=\"fn\"><a href=\"/wiki/John_Polanyi\" title=\"John Polanyi\">John Polanyi</a></span></span></span>\\n</td>\\n<td><span data-sort-value=\"Cohen, Stanley\"><span class=\"vcard\"><span class=\"fn\"><a href=\"/wiki/Stanley_Cohen_(biochemist)\" title=\"Stanley Cohen (biochemist)\">Stanley Cohen</a></span></span></span>;<br /><span data-sort-value=\"Levi-Montalcini, Rita\"><span class=\"vcard\"><span class=\"fn\"><a href=\"/wiki/Rita_Levi-Montalcini\" title=\"Rita Levi-Montalcini\">Rita Levi-Montalcini</a></span></span></span>\\n</td>\\n<td><span data-sort-value=\"Soyinka, Wole\"><span class=\"vcard\"><span class=\"fn\"><a href=\"/wiki/Wole_Soyinka\" title=\"Wole Soyinka\">Wole Soyinka</a></span></span></span>\\n</td>\\n<td><span data-sort-value=\"Wiesel, Elie\"><span class=\"vcard\"><span class=\"fn\"><a href=\"/wiki/Elie_Wiesel\" title=\"Elie Wiesel\">Elie Wiesel</a></span></span></span>\\n</td>\\n<td><span data-sort-value=\"Buchanan, James M.\"><span class=\"vcard\"><span class=\"fn\"><a href=\"/wiki/James_M._Buchanan\" title=\"James M. Buchanan\">James M. Buchanan</a></span></span></span>\\n</td></tr>\\n<tr>\\n<td align=\"center\">1987\\n</td>\\n<td><span data-sort-value=\"Bednorz, Johannes Georg\"><span class=\"vcard\"><span class=\"fn\"><a href=\"/wiki/Johannes_Georg_Bednorz\" class=\"mw-redirect\" title=\"Johannes Georg Bednorz\">Johannes Georg Bednorz</a></span></span></span>;<br /><span data-sort-value=\"Müller, Karl Alexander\"><span class=\"vcard\"><span class=\"fn\"><a href=\"/wiki/Karl_Alexander_M%C3%BCller\" class=\"mw-redirect\" title=\"Karl Alexander Müller\">Karl Alexander Müller</a></span></span></span>\\n</td>\\n<td><span data-sort-value=\"Cram, Donald J.\"><span class=\"vcard\"><span class=\"fn\"><a href=\"/wiki/Donald_J._Cram\" title=\"Donald J. Cram\">Donald J. Cram</a></span></span></span>;<br /><span data-sort-value=\"Lehn, Jean-Marie\"><span class=\"vcard\"><span class=\"fn\"><a href=\"/wiki/Jean-Marie_Lehn\" title=\"Jean-Marie Lehn\">Jean-Marie Lehn</a></span></span></span>;<br /><span data-sort-value=\"Pedersen, Charles J.\"><span class=\"vcard\"><span class=\"fn\"><a href=\"/wiki/Charles_J._Pedersen\" title=\"Charles J. Pedersen\">Charles J. Pedersen</a></span></span></span>\\n</td>\\n<td><span data-sort-value=\"Tonegawa, Susumu\"><span class=\"vcard\"><span class=\"fn\"><a href=\"/wiki/Susumu_Tonegawa\" title=\"Susumu Tonegawa\">Susumu Tonegawa</a></span></span></span>\\n</td>\\n<td><span data-sort-value=\"Brodsky, Joseph\"><span class=\"vcard\"><span class=\"fn\"><a href=\"/wiki/Joseph_Brodsky\" title=\"Joseph Brodsky\">Joseph Brodsky</a></span></span></span>\\n</td>\\n<td><span data-sort-value=\"Arias, Óscar\"><span class=\"vcard\"><span class=\"fn\"><a href=\"/wiki/%C3%93scar_Arias\" title=\"Óscar Arias\">Óscar Arias</a></span></span></span>\\n</td>\\n<td><span data-sort-value=\"Solow, Robert\"><span class=\"vcard\"><span class=\"fn\"><a href=\"/wiki/Robert_Solow\" title=\"Robert Solow\">Robert Solow</a></span></span></span>\\n</td></tr>\\n<tr>\\n<td align=\"center\">1988\\n</td>\\n<td><span data-sort-value=\"Lederman, Leon M.\"><span class=\"vcard\"><span class=\"fn\"><a href=\"/wiki/Leon_M._Lederman\" title=\"Leon M. Lederman\">Leon M. Lederman</a></span></span></span>;<br /><span data-sort-value=\"Schwartz, Melvin\"><span class=\"vcard\"><span class=\"fn\"><a href=\"/wiki/Melvin_Schwartz\" title=\"Melvin Schwartz\">Melvin Schwartz</a></span></span></span>;<br /><span data-sort-value=\"Steinberger, Jack\"><span class=\"vcard\"><span class=\"fn\"><a href=\"/wiki/Jack_Steinberger\" title=\"Jack Steinberger\">Jack Steinberger</a></span></span></span>\\n</td>\\n<td><span data-sort-value=\"Deisenhofer, Johann\"><span class=\"vcard\"><span class=\"fn\"><a href=\"/wiki/Johann_Deisenhofer\" title=\"Johann Deisenhofer\">Johann Deisenhofer</a></span></span></span>;<br /><span data-sort-value=\"Huber, Robert\"><span class=\"vcard\"><span class=\"fn\"><a href=\"/wiki/Robert_Huber\" title=\"Robert Huber\">Robert Huber</a></span></span></span>;<br /><span data-sort-value=\"Michel, Hartmut\"><span class=\"vcard\"><span class=\"fn\"><a href=\"/wiki/Hartmut_Michel\" title=\"Hartmut Michel\">Hartmut Michel</a></span></span></span>\\n</td>\\n<td><span data-sort-value=\"Black, James W.\"><span class=\"vcard\"><span class=\"fn\"><a href=\"/wiki/James_W._Black\" class=\"mw-redirect\" title=\"James W. Black\">James W. Black</a></span></span></span>;<br /><span data-sort-value=\"Elion, Gertrude B.\"><span class=\"vcard\"><span class=\"fn\"><a href=\"/wiki/Gertrude_B._Elion\" title=\"Gertrude B. Elion\">Gertrude B. Elion</a></span></span></span>;<br /><span data-sort-value=\"Hitchings, George H.\"><span class=\"vcard\"><span class=\"fn\"><a href=\"/wiki/George_H._Hitchings\" title=\"George H. Hitchings\">George H. Hitchings</a></span></span></span>\\n</td>\\n<td><span data-sort-value=\"Mahfouz, Naguib\"><span class=\"vcard\"><span class=\"fn\"><a href=\"/wiki/Naguib_Mahfouz\" title=\"Naguib Mahfouz\">Naguib Mahfouz</a></span></span></span>\\n</td>\\n<td><a href=\"/wiki/United_Nations_peacekeeping\" title=\"United Nations peacekeeping\">United Nations Peace-Keeping Forces</a>\\n</td>\\n<td><span data-sort-value=\"Allais, Maurice\"><span class=\"vcard\"><span class=\"fn\"><a href=\"/wiki/Maurice_Allais\" title=\"Maurice Allais\">Maurice Allais</a></span></span></span>\\n</td></tr>\\n<tr>\\n<td align=\"center\">1989\\n</td>\\n<td><span data-sort-value=\"Ramsey, Jr., Norman Foster\"><span class=\"vcard\"><span class=\"fn\"><a href=\"/wiki/Norman_Foster_Ramsey,_Jr.\" class=\"mw-redirect\" title=\"Norman Foster Ramsey, Jr.\">Norman Foster Ramsey, Jr.</a></span></span></span>;<br /><span data-sort-value=\"Dehmelt, Hans Georg\"><span class=\"vcard\"><span class=\"fn\"><a href=\"/wiki/Hans_Georg_Dehmelt\" title=\"Hans Georg Dehmelt\">Hans Georg Dehmelt</a></span></span></span>;<br /><span data-sort-value=\"Paul, Wolfgang\"><span class=\"vcard\"><span class=\"fn\"><a href=\"/wiki/Wolfgang_Paul\" title=\"Wolfgang Paul\">Wolfgang Paul</a></span></span></span>\\n</td>\\n<td><span data-sort-value=\"Altman, Sidney\"><span class=\"vcard\"><span class=\"fn\"><a href=\"/wiki/Sidney_Altman\" title=\"Sidney Altman\">Sidney Altman</a></span></span></span>;<br /><span data-sort-value=\"Cech, Thomas\"><span class=\"vcard\"><span class=\"fn\"><a href=\"/wiki/Thomas_Cech\" title=\"Thomas Cech\">Thomas Cech</a></span></span></span>\\n</td>\\n<td><span data-sort-value=\"Bishop, J. Michael\"><span class=\"vcard\"><span class=\"fn\"><a href=\"/wiki/J._Michael_Bishop\" title=\"J. Michael Bishop\">J. Michael Bishop</a></span></span></span>;<br /><span data-sort-value=\"Varmus, Harold E.\"><span class=\"vcard\"><span class=\"fn\"><a href=\"/wiki/Harold_E._Varmus\" title=\"Harold E. Varmus\">Harold E. Varmus</a></span></span></span>\\n</td>\\n<td><span data-sort-value=\"Cela, Camilo José\"><span class=\"vcard\"><span class=\"fn\"><a href=\"/wiki/Camilo_Jos%C3%A9_Cela\" title=\"Camilo José Cela\">Camilo José Cela</a></span></span></span>\\n</td>\\n<td><span data-sort-value=\"Gyatso (The 14th Dalai Lama), Tenzin\"><span class=\"vcard\"><span class=\"fn\"><a href=\"/wiki/14th_Dalai_Lama\" title=\"14th Dalai Lama\">Tenzin Gyatso (The 14th Dalai Lama)</a></span></span></span>\\n</td>\\n<td><span data-sort-value=\"Haavelmo, Trygve\"><span class=\"vcard\"><span class=\"fn\"><a href=\"/wiki/Trygve_Haavelmo\" title=\"Trygve Haavelmo\">Trygve Haavelmo</a></span></span></span>\\n</td></tr>\\n<tr>\\n<td align=\"center\">1990\\n</td>\\n<td><span data-sort-value=\"Friedman, Jerome Isaac\"><span class=\"vcard\"><span class=\"fn\"><a href=\"/wiki/Jerome_Isaac_Friedman\" title=\"Jerome Isaac Friedman\">Jerome Isaac Friedman</a></span></span></span>;<br /><span data-sort-value=\"Kendall, Henry Way\"><span class=\"vcard\"><span class=\"fn\"><a href=\"/wiki/Henry_Way_Kendall\" title=\"Henry Way Kendall\">Henry Way Kendall</a></span></span></span>;<br /><span data-sort-value=\"Taylor, Richard E.\"><span class=\"vcard\"><span class=\"fn\"><a href=\"/wiki/Richard_E._Taylor\" title=\"Richard E. Taylor\">Richard E. Taylor</a></span></span></span>\\n</td>\\n<td><span data-sort-value=\"Corey, Elias James\"><span class=\"vcard\"><span class=\"fn\"><a href=\"/wiki/Elias_James_Corey\" title=\"Elias James Corey\">Elias James Corey</a></span></span></span>\\n</td>\\n<td><span data-sort-value=\"Murray, Joseph\"><span class=\"vcard\"><span class=\"fn\"><a href=\"/wiki/Joseph_Murray\" title=\"Joseph Murray\">Joseph Murray</a></span></span></span>;<br /><span data-sort-value=\"Thomas, E. Donnall\"><span class=\"vcard\"><span class=\"fn\"><a href=\"/wiki/E._Donnall_Thomas\" title=\"E. Donnall Thomas\">E. Donnall Thomas</a></span></span></span>\\n</td>\\n<td><span data-sort-value=\"Paz, Octavio\"><span class=\"vcard\"><span class=\"fn\"><a href=\"/wiki/Octavio_Paz\" title=\"Octavio Paz\">Octavio Paz</a></span></span></span>\\n</td>\\n<td><span data-sort-value=\"Gorbachev, Mikhail\"><span class=\"vcard\"><span class=\"fn\"><a href=\"/wiki/Mikhail_Gorbachev\" title=\"Mikhail Gorbachev\">Mikhail Gorbachev</a></span></span></span>\\n</td>\\n<td><span data-sort-value=\"Markowitz, Harry\"><span class=\"vcard\"><span class=\"fn\"><a href=\"/wiki/Harry_Markowitz\" title=\"Harry Markowitz\">Harry Markowitz</a></span></span></span>;<br /><span data-sort-value=\"Miller, Merton\"><span class=\"vcard\"><span class=\"fn\"><a href=\"/wiki/Merton_Miller\" title=\"Merton Miller\">Merton Miller</a></span></span></span>;<br /><span data-sort-value=\"Sharpe, William F.\"><span class=\"vcard\"><span class=\"fn\"><a href=\"/wiki/William_F._Sharpe\" title=\"William F. Sharpe\">William F. Sharpe</a></span></span></span>\\n</td></tr>\\n<tr>\\n<td align=\"center\">1991\\n</td>\\n<td><span data-sort-value=\"Gennes, Pierre-Gilles de\"><span class=\"vcard\"><span class=\"fn\"><a href=\"/wiki/Pierre-Gilles_de_Gennes\" title=\"Pierre-Gilles de Gennes\">Pierre-Gilles de Gennes</a></span></span></span>\\n</td>\\n<td><span data-sort-value=\"Ernst, Richard R.\"><span class=\"vcard\"><span class=\"fn\"><a href=\"/wiki/Richard_R._Ernst\" title=\"Richard R. Ernst\">Richard R. Ernst</a></span></span></span>\\n</td>\\n<td><span data-sort-value=\"Neher, Erwin\"><span class=\"vcard\"><span class=\"fn\"><a href=\"/wiki/Erwin_Neher\" title=\"Erwin Neher\">Erwin Neher</a></span></span></span>;<br /><span data-sort-value=\"Sakmann, Bert\"><span class=\"vcard\"><span class=\"fn\"><a href=\"/wiki/Bert_Sakmann\" title=\"Bert Sakmann\">Bert Sakmann</a></span></span></span>\\n</td>\\n<td><span data-sort-value=\"Gordimer, Nadine\"><span class=\"vcard\"><span class=\"fn\"><a href=\"/wiki/Nadine_Gordimer\" title=\"Nadine Gordimer\">Nadine Gordimer</a></span></span></span>\\n</td>\\n<td><span data-sort-value=\"Suu Kyi, Aung San\"><span class=\"vcard\"><span class=\"fn\"><a href=\"/wiki/Aung_San_Suu_Kyi\" title=\"Aung San Suu Kyi\">Aung San Suu Kyi</a></span></span></span>\\n</td>\\n<td><span data-sort-value=\"Coase, Ronald\"><span class=\"vcard\"><span class=\"fn\"><a href=\"/wiki/Ronald_Coase\" title=\"Ronald Coase\">Ronald Coase</a></span></span></span>\\n</td></tr>\\n<tr>\\n<td align=\"center\">1992\\n</td>\\n<td><span data-sort-value=\"Charpak, Georges\"><span class=\"vcard\"><span class=\"fn\"><a href=\"/wiki/Georges_Charpak\" title=\"Georges Charpak\">Georges Charpak</a></span></span></span>\\n</td>\\n<td><span data-sort-value=\"Marcus, Rudolph A.\"><span class=\"vcard\"><span class=\"fn\"><a href=\"/wiki/Rudolph_A._Marcus\" title=\"Rudolph A. Marcus\">Rudolph A. Marcus</a></span></span></span>\\n</td>\\n<td><span data-sort-value=\"Fischer, Edmond H.\"><span class=\"vcard\"><span class=\"fn\"><a href=\"/wiki/Edmond_H._Fischer\" title=\"Edmond H. Fischer\">Edmond H. Fischer</a></span></span></span>;<br /><span data-sort-value=\"Krebs, Edwin G.\"><span class=\"vcard\"><span class=\"fn\"><a href=\"/wiki/Edwin_G._Krebs\" title=\"Edwin G. Krebs\">Edwin G. Krebs</a></span></span></span>\\n</td>\\n<td><span data-sort-value=\"Walcott, Derek\"><span class=\"vcard\"><span class=\"fn\"><a href=\"/wiki/Derek_Walcott\" title=\"Derek Walcott\">Derek Walcott</a></span></span></span>\\n</td>\\n<td><span data-sort-value=\"Menchú, Rigoberta\"><span class=\"vcard\"><span class=\"fn\"><a href=\"/wiki/Rigoberta_Mench%C3%BA\" title=\"Rigoberta Menchú\">Rigoberta Menchú</a></span></span></span>\\n</td>\\n<td><span data-sort-value=\"Becker, Gary\"><span class=\"vcard\"><span class=\"fn\"><a href=\"/wiki/Gary_Becker\" title=\"Gary Becker\">Gary Becker</a></span></span></span>\\n</td></tr>\\n<tr>\\n<td align=\"center\">1993\\n</td>\\n<td><span data-sort-value=\"Hulse, Russell Alan\"><span class=\"vcard\"><span class=\"fn\"><a href=\"/wiki/Russell_Alan_Hulse\" title=\"Russell Alan Hulse\">Russell Alan Hulse</a></span></span></span>;<br /><span data-sort-value=\"Taylor, Jr., Joseph Hooton\"><span class=\"vcard\"><span class=\"fn\"><a href=\"/wiki/Joseph_Hooton_Taylor,_Jr.\" class=\"mw-redirect\" title=\"Joseph Hooton Taylor, Jr.\">Joseph Hooton Taylor, Jr.</a></span></span></span>\\n</td>\\n<td><span data-sort-value=\"Mullis, Kary\"><span class=\"vcard\"><span class=\"fn\"><a href=\"/wiki/Kary_Mullis\" title=\"Kary Mullis\">Kary Mullis</a></span></span></span>;<br /><span data-sort-value=\"Smith, Michael\"><span class=\"vcard\"><span class=\"fn\"><a href=\"/wiki/Michael_Smith_(chemist)\" title=\"Michael Smith (chemist)\">Michael Smith</a></span></span></span>\\n</td>\\n<td><span data-sort-value=\"Roberts, Richard J.\"><span class=\"vcard\"><span class=\"fn\"><a href=\"/wiki/Richard_J._Roberts\" title=\"Richard J. Roberts\">Richard J. Roberts</a></span></span></span>;<br /><span data-sort-value=\"Sharp, Phillip Allen\"><span class=\"vcard\"><span class=\"fn\"><a href=\"/wiki/Phillip_Allen_Sharp\" title=\"Phillip Allen Sharp\">Phillip Allen Sharp</a></span></span></span>\\n</td>\\n<td><span data-sort-value=\"Morrison, Toni\"><span class=\"vcard\"><span class=\"fn\"><a href=\"/wiki/Toni_Morrison\" title=\"Toni Morrison\">Toni Morrison</a></span></span></span>\\n</td>\\n<td><span data-sort-value=\"Mandela, Nelson\"><span class=\"vcard\"><span class=\"fn\"><a href=\"/wiki/Nelson_Mandela\" title=\"Nelson Mandela\">Nelson Mandela</a></span></span></span>;<br /><span data-sort-value=\"de Klerk, F. W.\"><span class=\"vcard\"><span class=\"fn\"><a href=\"/wiki/F._W._de_Klerk\" title=\"F. W. de Klerk\">F. W. de Klerk</a></span></span></span>\\n</td>\\n<td><span data-sort-value=\"Fogel, Robert\"><span class=\"vcard\"><span class=\"fn\"><a href=\"/wiki/Robert_Fogel\" title=\"Robert Fogel\">Robert Fogel</a></span></span></span>;<br /><span data-sort-value=\"North, Douglass\"><span class=\"vcard\"><span class=\"fn\"><a href=\"/wiki/Douglass_North\" title=\"Douglass North\">Douglass North</a></span></span></span>\\n</td></tr>\\n<tr>\\n<td align=\"center\">1994\\n</td>\\n<td><span data-sort-value=\"Brockhouse, Bertram\"><span class=\"vcard\"><span class=\"fn\"><a href=\"/wiki/Bertram_Brockhouse\" title=\"Bertram Brockhouse\">Bertram Brockhouse</a></span></span></span>;<br /><span data-sort-value=\"Shull, Clifford\"><span class=\"vcard\"><span class=\"fn\"><a href=\"/wiki/Clifford_Shull\" title=\"Clifford Shull\">Clifford Shull</a></span></span></span>\\n</td>\\n<td><span data-sort-value=\"Olah, George Andrew\"><span class=\"vcard\"><span class=\"fn\"><a href=\"/wiki/George_Andrew_Olah\" title=\"George Andrew Olah\">George Andrew Olah</a></span></span></span>\\n</td>\\n<td><span data-sort-value=\"Gilman, Alfred G.\"><span class=\"vcard\"><span class=\"fn\"><a href=\"/wiki/Alfred_G._Gilman\" title=\"Alfred G. Gilman\">Alfred G. Gilman</a></span></span></span>;<br /><span data-sort-value=\"Rodbell, Martin\"><span class=\"vcard\"><span class=\"fn\"><a href=\"/wiki/Martin_Rodbell\" title=\"Martin Rodbell\">Martin Rodbell</a></span></span></span>\\n</td>\\n<td><span data-sort-value=\"Ōe, Kenzaburō\"><span class=\"vcard\"><span class=\"fn\"><a href=\"/wiki/Kenzabur%C5%8D_%C5%8Ce\" title=\"Kenzaburō Ōe\">Kenzaburō Ōe</a></span></span></span>\\n</td>\\n<td><span data-sort-value=\"Arafat, Yasser\"><span class=\"vcard\"><span class=\"fn\"><a href=\"/wiki/Yasser_Arafat\" title=\"Yasser Arafat\">Yasser Arafat</a></span></span></span>;<br /><span data-sort-value=\"Peres, Shimon\"><span class=\"vcard\"><span class=\"fn\"><a href=\"/wiki/Shimon_Peres\" title=\"Shimon Peres\">Shimon Peres</a></span></span></span>;<br /><span data-sort-value=\"Rabin, Yitzhak\"><span class=\"vcard\"><span class=\"fn\"><a href=\"/wiki/Yitzhak_Rabin\" title=\"Yitzhak Rabin\">Yitzhak Rabin</a></span></span></span>\\n</td>\\n<td><span data-sort-value=\"Harsanyi, John\"><span class=\"vcard\"><span class=\"fn\"><a href=\"/wiki/John_Harsanyi\" title=\"John Harsanyi\">John Harsanyi</a></span></span></span>;<br /><span data-sort-value=\"Nash, Jr., John Forbes\"><span class=\"vcard\"><span class=\"fn\"><a href=\"/wiki/John_Forbes_Nash,_Jr.\" class=\"mw-redirect\" title=\"John Forbes Nash, Jr.\">John Forbes Nash, Jr.</a></span></span></span>;<br /><span data-sort-value=\"Selten, Reinhard\"><span class=\"vcard\"><span class=\"fn\"><a href=\"/wiki/Reinhard_Selten\" title=\"Reinhard Selten\">Reinhard Selten</a></span></span></span>\\n</td></tr>\\n<tr>\\n<td align=\"center\">1995\\n</td>\\n<td><span data-sort-value=\"Perl, Martin Lewis\"><span class=\"vcard\"><span class=\"fn\"><a href=\"/wiki/Martin_Lewis_Perl\" title=\"Martin Lewis Perl\">Martin Lewis Perl</a></span></span></span>;<br /><span data-sort-value=\"Reines, Frederick\"><span class=\"vcard\"><span class=\"fn\"><a href=\"/wiki/Frederick_Reines\" title=\"Frederick Reines\">Frederick Reines</a></span></span></span>\\n</td>\\n<td><span data-sort-value=\"Crutzen, Paul J.\"><span class=\"vcard\"><span class=\"fn\"><a href=\"/wiki/Paul_J._Crutzen\" title=\"Paul J. Crutzen\">Paul J. Crutzen</a></span></span></span>;<br /><span data-sort-value=\"Molina, Mario J.\"><span class=\"vcard\"><span class=\"fn\"><a href=\"/wiki/Mario_J._Molina\" class=\"mw-redirect\" title=\"Mario J. Molina\">Mario J. Molina</a></span></span></span>;<br /><span data-sort-value=\"Rowland, Frank Sherwood\"><span class=\"vcard\"><span class=\"fn\"><a href=\"/wiki/Frank_Sherwood_Rowland\" class=\"mw-redirect\" title=\"Frank Sherwood Rowland\">Frank Sherwood Rowland</a></span></span></span>\\n</td>\\n<td><span data-sort-value=\"Lewis, Edward B.\"><span class=\"vcard\"><span class=\"fn\"><a href=\"/wiki/Edward_B._Lewis\" title=\"Edward B. Lewis\">Edward B. Lewis</a></span></span></span>;<br /><span data-sort-value=\"Nüsslein-Volhard, Christiane\"><span class=\"vcard\"><span class=\"fn\"><a href=\"/wiki/Christiane_N%C3%BCsslein-Volhard\" title=\"Christiane Nüsslein-Volhard\">Christiane Nüsslein-Volhard</a></span></span></span>;<br /><span data-sort-value=\"Wieschaus, Eric F.\"><span class=\"vcard\"><span class=\"fn\"><a href=\"/wiki/Eric_F._Wieschaus\" title=\"Eric F. Wieschaus\">Eric F. Wieschaus</a></span></span></span>\\n</td>\\n<td><span data-sort-value=\"Heaney, Seamus\"><span class=\"vcard\"><span class=\"fn\"><a href=\"/wiki/Seamus_Heaney\" title=\"Seamus Heaney\">Seamus Heaney</a></span></span></span>\\n</td>\\n<td><span data-sort-value=\"Rotblat, Joseph\"><span class=\"vcard\"><span class=\"fn\"><a href=\"/wiki/Joseph_Rotblat\" title=\"Joseph Rotblat\">Joseph Rotblat</a></span></span></span>;<br /><a href=\"/wiki/Pugwash_Conferences_on_Science_and_World_Affairs\" title=\"Pugwash Conferences on Science and World Affairs\">Pugwash Conferences on Science and World Affairs</a>\\n</td>\\n<td><span data-sort-value=\"Lucas, Jr., Robert\"><span class=\"vcard\"><span class=\"fn\"><a href=\"/wiki/Robert_Lucas,_Jr.\" class=\"mw-redirect\" title=\"Robert Lucas, Jr.\">Robert Lucas, Jr.</a></span></span></span>\\n</td></tr>\\n<tr>\\n<td align=\"center\">1996\\n</td>\\n<td><span data-sort-value=\"Lee, David\"><span class=\"vcard\"><span class=\"fn\"><a href=\"/wiki/David_Lee_(physicist)\" title=\"David Lee (physicist)\">David Lee</a></span></span></span>;<br /><span data-sort-value=\"Osheroff, Douglas\"><span class=\"vcard\"><span class=\"fn\"><a href=\"/wiki/Douglas_Osheroff\" title=\"Douglas Osheroff\">Douglas Osheroff</a></span></span></span>;<br /><span data-sort-value=\"Richardson, Robert Coleman\"><span class=\"vcard\"><span class=\"fn\"><a href=\"/wiki/Robert_Coleman_Richardson\" title=\"Robert Coleman Richardson\">Robert Coleman Richardson</a></span></span></span>\\n</td>\\n<td><span data-sort-value=\"Curl Jr., Robert F.\"><span class=\"vcard\"><span class=\"fn\"><a href=\"/wiki/Robert_Curl\" title=\"Robert Curl\">Robert F. Curl Jr.</a></span></span></span>;<br /><span data-sort-value=\"Kroto, Harry\"><span class=\"vcard\"><span class=\"fn\"><a href=\"/wiki/Harry_Kroto\" title=\"Harry Kroto\">Harry Kroto</a></span></span></span>;<br /><span data-sort-value=\"Smalley, Richard\"><span class=\"vcard\"><span class=\"fn\"><a href=\"/wiki/Richard_Smalley\" title=\"Richard Smalley\">Richard Smalley</a></span></span></span>\\n</td>\\n<td><span data-sort-value=\"Doherty, Peter C.\"><span class=\"vcard\"><span class=\"fn\"><a href=\"/wiki/Peter_C._Doherty\" title=\"Peter C. Doherty\">Peter C. Doherty</a></span></span></span>;<br /><span data-sort-value=\"Zinkernagel, Rolf M.\"><span class=\"vcard\"><span class=\"fn\"><a href=\"/wiki/Rolf_M._Zinkernagel\" title=\"Rolf M. Zinkernagel\">Rolf M. Zinkernagel</a></span></span></span>\\n</td>\\n<td><span data-sort-value=\"Szymborska, Wisława\"><span class=\"vcard\"><span class=\"fn\"><a href=\"/wiki/Wis%C5%82awa_Szymborska\" title=\"Wisława Szymborska\">Wisława Szymborska</a></span></span></span>\\n</td>\\n<td><span data-sort-value=\"Belo, Carlos Filipe Ximenes\"><span class=\"vcard\"><span class=\"fn\"><a href=\"/wiki/Carlos_Filipe_Ximenes_Belo\" title=\"Carlos Filipe Ximenes Belo\">Carlos Filipe Ximenes Belo</a></span></span></span>;<br /><span data-sort-value=\"Ramos-Horta, José\"><span class=\"vcard\"><span class=\"fn\"><a href=\"/wiki/Jos%C3%A9_Ramos-Horta\" title=\"José Ramos-Horta\">José Ramos-Horta</a></span></span></span>\\n</td>\\n<td><span data-sort-value=\"Mirrlees, James\"><span class=\"vcard\"><span class=\"fn\"><a href=\"/wiki/James_Mirrlees\" title=\"James Mirrlees\">James Mirrlees</a></span></span></span>;<br /><span data-sort-value=\"Vickrey, William\"><span class=\"vcard\"><span class=\"fn\"><a href=\"/wiki/William_Vickrey\" title=\"William Vickrey\">William Vickrey</a></span></span></span>\\n</td></tr>\\n<tr>\\n<td align=\"center\">1997\\n</td>\\n<td><span data-sort-value=\"Chu, Steven\"><span class=\"vcard\"><span class=\"fn\"><a href=\"/wiki/Steven_Chu\" title=\"Steven Chu\">Steven Chu</a></span></span></span>;<br /><span data-sort-value=\"Cohen-Tannoudji, Claude\"><span class=\"vcard\"><span class=\"fn\"><a href=\"/wiki/Claude_Cohen-Tannoudji\" title=\"Claude Cohen-Tannoudji\">Claude Cohen-Tannoudji</a></span></span></span>;<br /><span data-sort-value=\"Phillips, William Daniel\"><span class=\"vcard\"><span class=\"fn\"><a href=\"/wiki/William_Daniel_Phillips\" title=\"William Daniel Phillips\">William Daniel Phillips</a></span></span></span>\\n</td>\\n<td><span data-sort-value=\"Boyer, Paul D.\"><span class=\"vcard\"><span class=\"fn\"><a href=\"/wiki/Paul_D._Boyer\" title=\"Paul D. Boyer\">Paul D. Boyer</a></span></span></span>;<br /><span data-sort-value=\"Walker, John E.\"><span class=\"vcard\"><span class=\"fn\"><a href=\"/wiki/John_E._Walker\" title=\"John E. Walker\">John E. Walker</a></span></span></span>;<br /><span data-sort-value=\"Skou, Jens Christian\"><span class=\"vcard\"><span class=\"fn\"><a href=\"/wiki/Jens_Christian_Skou\" title=\"Jens Christian Skou\">Jens Christian Skou</a></span></span></span>\\n</td>\\n<td><span data-sort-value=\"Prusiner, Stanley B.\"><span class=\"vcard\"><span class=\"fn\"><a href=\"/wiki/Stanley_B._Prusiner\" title=\"Stanley B. Prusiner\">Stanley B. Prusiner</a></span></span></span>\\n</td>\\n<td><span data-sort-value=\"Fo, Dario\"><span class=\"vcard\"><span class=\"fn\"><a href=\"/wiki/Dario_Fo\" title=\"Dario Fo\">Dario Fo</a></span></span></span>\\n</td>\\n<td><a href=\"/wiki/International_Campaign_to_Ban_Landmines\" title=\"International Campaign to Ban Landmines\">International Campaign to Ban Landmines</a>;<br /><span data-sort-value=\"Williams, Jody\"><span class=\"vcard\"><span class=\"fn\"><a href=\"/wiki/Jody_Williams\" title=\"Jody Williams\">Jody Williams</a></span></span></span>\\n</td>\\n<td><span data-sort-value=\"Merton, Robert C.\"><span class=\"vcard\"><span class=\"fn\"><a href=\"/wiki/Robert_C._Merton\" title=\"Robert C. Merton\">Robert C. Merton</a></span></span></span>;<br /><span data-sort-value=\"Scholes, Myron\"><span class=\"vcard\"><span class=\"fn\"><a href=\"/wiki/Myron_Scholes\" title=\"Myron Scholes\">Myron Scholes</a></span></span></span>\\n</td></tr>\\n<tr>\\n<td align=\"center\">1998\\n</td>\\n<td><span data-sort-value=\"Laughlin, Robert B.\"><span class=\"vcard\"><span class=\"fn\"><a href=\"/wiki/Robert_B._Laughlin\" title=\"Robert B. Laughlin\">Robert B. Laughlin</a></span></span></span>;<br /><span data-sort-value=\"Störmer, Horst Ludwig\"><span class=\"vcard\"><span class=\"fn\"><a href=\"/wiki/Horst_Ludwig_St%C3%B6rmer\" title=\"Horst Ludwig Störmer\">Horst Ludwig Störmer</a></span></span></span>;<br /><span data-sort-value=\"Tsui, Daniel C.\"><span class=\"vcard\"><span class=\"fn\"><a href=\"/wiki/Daniel_C._Tsui\" title=\"Daniel C. Tsui\">Daniel C. Tsui</a></span></span></span>\\n</td>\\n<td><span data-sort-value=\"Kohn, Walter\"><span class=\"vcard\"><span class=\"fn\"><a href=\"/wiki/Walter_Kohn\" title=\"Walter Kohn\">Walter Kohn</a></span></span></span>;<br /><span data-sort-value=\"Pople, John\"><span class=\"vcard\"><span class=\"fn\"><a href=\"/wiki/John_Pople\" title=\"John Pople\">John Pople</a></span></span></span>\\n</td>\\n<td><span data-sort-value=\"Furchgott, Robert F.\"><span class=\"vcard\"><span class=\"fn\"><a href=\"/wiki/Robert_F._Furchgott\" title=\"Robert F. Furchgott\">Robert F. Furchgott</a></span></span></span>;<br /><span data-sort-value=\"Ignarro, Louis\"><span class=\"vcard\"><span class=\"fn\"><a href=\"/wiki/Louis_Ignarro\" title=\"Louis Ignarro\">Louis Ignarro</a></span></span></span>;<br /><span data-sort-value=\"Murad, Ferid\"><span class=\"vcard\"><span class=\"fn\"><a href=\"/wiki/Ferid_Murad\" title=\"Ferid Murad\">Ferid Murad</a></span></span></span>\\n</td>\\n<td><span data-sort-value=\"Saramago, José\"><span class=\"vcard\"><span class=\"fn\"><a href=\"/wiki/Jos%C3%A9_Saramago\" title=\"José Saramago\">José Saramago</a></span></span></span>\\n</td>\\n<td><span data-sort-value=\"Hume, John\"><span class=\"vcard\"><span class=\"fn\"><a href=\"/wiki/John_Hume\" title=\"John Hume\">John Hume</a></span></span></span>;<br /><span data-sort-value=\"Trimble, David\"><span class=\"vcard\"><span class=\"fn\"><a href=\"/wiki/David_Trimble\" title=\"David Trimble\">David Trimble</a></span></span></span>\\n</td>\\n<td><span data-sort-value=\"Sen, Amartya\"><span class=\"vcard\"><span class=\"fn\"><a href=\"/wiki/Amartya_Sen\" title=\"Amartya Sen\">Amartya Sen</a></span></span></span>\\n</td></tr>\\n<tr>\\n<td align=\"center\">1999\\n</td>\\n<td><span data-sort-value=\"Hooft, Gerard &#39;t\"><span class=\"vcard\"><span class=\"fn\"><a href=\"/wiki/Gerard_%27t_Hooft\" title=\"Gerard &#39;t Hooft\">Gerard \\'t Hooft</a></span></span></span>;<br /><span data-sort-value=\"Veltman, Martinus J. G.\"><span class=\"vcard\"><span class=\"fn\"><a href=\"/wiki/Martinus_J._G._Veltman\" title=\"Martinus J. G. Veltman\">Martinus J. G. Veltman</a></span></span></span>\\n</td>\\n<td><span data-sort-value=\"Zewail, Ahmed\"><span class=\"vcard\"><span class=\"fn\"><a href=\"/wiki/Ahmed_Zewail\" title=\"Ahmed Zewail\">Ahmed Zewail</a></span></span></span>\\n</td>\\n<td><span data-sort-value=\"Blobel, Günter\"><span class=\"vcard\"><span class=\"fn\"><a href=\"/wiki/G%C3%BCnter_Blobel\" title=\"Günter Blobel\">Günter Blobel</a></span></span></span>\\n</td>\\n<td><span data-sort-value=\"Grass, Günter\"><span class=\"vcard\"><span class=\"fn\"><a href=\"/wiki/G%C3%BCnter_Grass\" title=\"Günter Grass\">Günter Grass</a></span></span></span>\\n</td>\\n<td><a href=\"/wiki/M%C3%A9decins_Sans_Fronti%C3%A8res\" title=\"Médecins Sans Frontières\">Médecins Sans Frontières</a>\\n</td>\\n<td><span data-sort-value=\"Mundell, Robert\"><span class=\"vcard\"><span class=\"fn\"><a href=\"/wiki/Robert_Mundell\" title=\"Robert Mundell\">Robert Mundell</a></span></span></span>\\n</td></tr>\\n<tr>\\n<td align=\"center\">2000\\n</td>\\n<td><span data-sort-value=\"Alferov, Zhores\"><span class=\"vcard\"><span class=\"fn\"><a href=\"/wiki/Zhores_Alferov\" title=\"Zhores Alferov\">Zhores Alferov</a></span></span></span>;<br /><span data-sort-value=\"Kroemer, Herbert\"><span class=\"vcard\"><span class=\"fn\"><a href=\"/wiki/Herbert_Kroemer\" title=\"Herbert Kroemer\">Herbert Kroemer</a></span></span></span>;<br /><span data-sort-value=\"Kilby, Jack\"><span class=\"vcard\"><span class=\"fn\"><a href=\"/wiki/Jack_Kilby\" title=\"Jack Kilby\">Jack Kilby</a></span></span></span>\\n</td>\\n<td><span data-sort-value=\"Heeger, Alan J.\"><span class=\"vcard\"><span class=\"fn\"><a href=\"/wiki/Alan_J._Heeger\" title=\"Alan J. Heeger\">Alan J. Heeger</a></span></span></span>;<br /><span data-sort-value=\"MacDiarmid, Alan\"><span class=\"vcard\"><span class=\"fn\"><a href=\"/wiki/Alan_MacDiarmid\" title=\"Alan MacDiarmid\">Alan MacDiarmid</a></span></span></span>;<br /><span data-sort-value=\"Shirakawa, Hideki\"><span class=\"vcard\"><span class=\"fn\"><a href=\"/wiki/Hideki_Shirakawa\" title=\"Hideki Shirakawa\">Hideki Shirakawa</a></span></span></span>\\n</td>\\n<td><span data-sort-value=\"Carlsson, Arvid\"><span class=\"vcard\"><span class=\"fn\"><a href=\"/wiki/Arvid_Carlsson\" title=\"Arvid Carlsson\">Arvid Carlsson</a></span></span></span>;<br /><span data-sort-value=\"Greengard, Paul\"><span class=\"vcard\"><span class=\"fn\"><a href=\"/wiki/Paul_Greengard\" title=\"Paul Greengard\">Paul Greengard</a></span></span></span>;<br /><span data-sort-value=\"Kandel, Eric\"><span class=\"vcard\"><span class=\"fn\"><a href=\"/wiki/Eric_Kandel\" title=\"Eric Kandel\">Eric Kandel</a></span></span></span>\\n</td>\\n<td><span data-sort-value=\"Xingjian, Gao\"><span class=\"vcard\"><span class=\"fn\"><a href=\"/wiki/Gao_Xingjian\" title=\"Gao Xingjian\">Gao Xingjian</a></span></span></span>\\n</td>\\n<td><span data-sort-value=\"Dae-jung, Kim\"><span class=\"vcard\"><span class=\"fn\"><a href=\"/wiki/Kim_Dae-jung\" title=\"Kim Dae-jung\">Kim Dae-jung</a></span></span></span>\\n</td>\\n<td><span data-sort-value=\"Heckman, James\"><span class=\"vcard\"><span class=\"fn\"><a href=\"/wiki/James_Heckman\" title=\"James Heckman\">James Heckman</a></span></span></span>;<br /><span data-sort-value=\"McFadden, Daniel\"><span class=\"vcard\"><span class=\"fn\"><a href=\"/wiki/Daniel_McFadden\" title=\"Daniel McFadden\">Daniel McFadden</a></span></span></span>\\n</td></tr>\\n<tr>\\n<td align=\"center\">2001\\n</td>\\n<td><span data-sort-value=\"Cornell, Eric Allin\"><span class=\"vcard\"><span class=\"fn\"><a href=\"/wiki/Eric_Allin_Cornell\" title=\"Eric Allin Cornell\">Eric Allin Cornell</a></span></span></span>;<br /><span data-sort-value=\"Ketterle, Wolfgang\"><span class=\"vcard\"><span class=\"fn\"><a href=\"/wiki/Wolfgang_Ketterle\" title=\"Wolfgang Ketterle\">Wolfgang Ketterle</a></span></span></span>;<br /><span data-sort-value=\"Wieman, Carl\"><span class=\"vcard\"><span class=\"fn\"><a href=\"/wiki/Carl_Wieman\" title=\"Carl Wieman\">Carl Wieman</a></span></span></span>\\n</td>\\n<td><span data-sort-value=\"Knowles, William Standish\"><span class=\"vcard\"><span class=\"fn\"><a href=\"/wiki/William_Standish_Knowles\" title=\"William Standish Knowles\">William Standish Knowles</a></span></span></span>;<br /><span data-sort-value=\"Noyori, Ryōji\"><span class=\"vcard\"><span class=\"fn\"><a href=\"/wiki/Ry%C5%8Dji_Noyori\" title=\"Ryōji Noyori\">Ryōji Noyori</a></span></span></span>;<br /><span data-sort-value=\"Sharpless, Karl Barry\"><span class=\"vcard\"><span class=\"fn\"><a href=\"/wiki/Karl_Barry_Sharpless\" title=\"Karl Barry Sharpless\">Karl Barry Sharpless</a></span></span></span>\\n</td>\\n<td><span data-sort-value=\"Hartwell, Leland H.\"><span class=\"vcard\"><span class=\"fn\"><a href=\"/wiki/Leland_H._Hartwell\" title=\"Leland H. Hartwell\">Leland H. Hartwell</a></span></span></span>;<br /><span data-sort-value=\"Hunt, Tim\"><span class=\"vcard\"><span class=\"fn\"><a href=\"/wiki/Tim_Hunt\" title=\"Tim Hunt\">Tim Hunt</a></span></span></span>;<br /><span data-sort-value=\"Nurse, Paul\"><span class=\"vcard\"><span class=\"fn\"><a href=\"/wiki/Paul_Nurse\" title=\"Paul Nurse\">Paul Nurse</a></span></span></span>\\n</td>\\n<td><span data-sort-value=\"Naipaul, V. S.\"><span class=\"vcard\"><span class=\"fn\"><a href=\"/wiki/V._S._Naipaul\" title=\"V. S. Naipaul\">V. S. Naipaul</a></span></span></span>\\n</td>\\n<td><a href=\"/wiki/United_Nations\" title=\"United Nations\">United Nations</a>;<br /><span data-sort-value=\"Annan, Kofi\"><span class=\"vcard\"><span class=\"fn\"><a href=\"/wiki/Kofi_Annan\" title=\"Kofi Annan\">Kofi Annan</a></span></span></span>\\n</td>\\n<td><span data-sort-value=\"Akerlof, George\"><span class=\"vcard\"><span class=\"fn\"><a href=\"/wiki/George_Akerlof\" title=\"George Akerlof\">George Akerlof</a></span></span></span>;<br /><span data-sort-value=\"Spence, Michael\"><span class=\"vcard\"><span class=\"fn\"><a href=\"/wiki/Michael_Spence\" title=\"Michael Spence\">Michael Spence</a></span></span></span>;<br /><span data-sort-value=\"Stiglitz, Joseph\"><span class=\"vcard\"><span class=\"fn\"><a href=\"/wiki/Joseph_Stiglitz\" title=\"Joseph Stiglitz\">Joseph Stiglitz</a></span></span></span>\\n</td></tr>\\n<tr>\\n<td align=\"center\">2002\\n</td>\\n<td><span data-sort-value=\"Davis, Jr., Raymond\"><span class=\"vcard\"><span class=\"fn\"><a href=\"/wiki/Raymond_Davis,_Jr.\" class=\"mw-redirect\" title=\"Raymond Davis, Jr.\">Raymond Davis, Jr.</a></span></span></span>;<br /><span data-sort-value=\"Koshiba, Masatoshi\"><span class=\"vcard\"><span class=\"fn\"><a href=\"/wiki/Masatoshi_Koshiba\" title=\"Masatoshi Koshiba\">Masatoshi Koshiba</a></span></span></span>;<br /><span data-sort-value=\"Giacconi, Riccardo\"><span class=\"vcard\"><span class=\"fn\"><a href=\"/wiki/Riccardo_Giacconi\" title=\"Riccardo Giacconi\">Riccardo Giacconi</a></span></span></span>\\n</td>\\n<td><span data-sort-value=\"Fenn, John\"><span class=\"vcard\"><span class=\"fn\"><a href=\"/wiki/John_Fenn_(chemist)\" class=\"mw-redirect\" title=\"John Fenn (chemist)\">John Fenn</a></span></span></span>;<br /><span data-sort-value=\"Tanaka, Koichi\"><span class=\"vcard\"><span class=\"fn\"><a href=\"/wiki/Koichi_Tanaka\" title=\"Koichi Tanaka\">Koichi Tanaka</a></span></span></span>;<br /><span data-sort-value=\"Wüthrich, Kurt\"><span class=\"vcard\"><span class=\"fn\"><a href=\"/wiki/Kurt_W%C3%BCthrich\" title=\"Kurt Wüthrich\">Kurt Wüthrich</a></span></span></span>\\n</td>\\n<td><span data-sort-value=\"Brenner, Sydney\"><span class=\"vcard\"><span class=\"fn\"><a href=\"/wiki/Sydney_Brenner\" title=\"Sydney Brenner\">Sydney Brenner</a></span></span></span>;<br /><span data-sort-value=\"Horvitz, H. Robert\"><span class=\"vcard\"><span class=\"fn\"><a href=\"/wiki/H._Robert_Horvitz\" title=\"H. Robert Horvitz\">H. Robert Horvitz</a></span></span></span>;<br /><span data-sort-value=\"Sulston, John\"><span class=\"vcard\"><span class=\"fn\"><a href=\"/wiki/John_Sulston\" title=\"John Sulston\">John Sulston</a></span></span></span>\\n</td>\\n<td><span data-sort-value=\"Kertész, Imre\"><span class=\"vcard\"><span class=\"fn\"><a href=\"/wiki/Imre_Kert%C3%A9sz\" title=\"Imre Kertész\">Imre Kertész</a></span></span></span>\\n</td>\\n<td><span data-sort-value=\"Carter, Jimmy\"><span class=\"vcard\"><span class=\"fn\"><a href=\"/wiki/Jimmy_Carter\" title=\"Jimmy Carter\">Jimmy Carter</a></span></span></span>\\n</td>\\n<td><span data-sort-value=\"Kahneman, Daniel\"><span class=\"vcard\"><span class=\"fn\"><a href=\"/wiki/Daniel_Kahneman\" title=\"Daniel Kahneman\">Daniel Kahneman</a></span></span></span>;<br /><span data-sort-value=\"Smith, Vernon L.\"><span class=\"vcard\"><span class=\"fn\"><a href=\"/wiki/Vernon_L._Smith\" title=\"Vernon L. Smith\">Vernon L. Smith</a></span></span></span>\\n</td></tr>\\n<tr>\\n<td align=\"center\">2003\\n</td>\\n<td><span data-sort-value=\"Abrikosov, Alexei Alexeyevich\"><span class=\"vcard\"><span class=\"fn\"><a href=\"/wiki/Alexei_Alexeyevich_Abrikosov\" class=\"mw-redirect\" title=\"Alexei Alexeyevich Abrikosov\">Alexei Alexeyevich Abrikosov</a></span></span></span>;<br /><span data-sort-value=\"Ginzburg, Vitaly\"><span class=\"vcard\"><span class=\"fn\"><a href=\"/wiki/Vitaly_Ginzburg\" title=\"Vitaly Ginzburg\">Vitaly Ginzburg</a></span></span></span>;<br /><span data-sort-value=\"Leggett, Anthony James\"><span class=\"vcard\"><span class=\"fn\"><a href=\"/wiki/Anthony_James_Leggett\" title=\"Anthony James Leggett\">Anthony James Leggett</a></span></span></span>\\n</td>\\n<td><span data-sort-value=\"Agre, Peter\"><span class=\"vcard\"><span class=\"fn\"><a href=\"/wiki/Peter_Agre\" title=\"Peter Agre\">Peter Agre</a></span></span></span>;<br /><span data-sort-value=\"MacKinnon, Roderick\"><span class=\"vcard\"><span class=\"fn\"><a href=\"/wiki/Roderick_MacKinnon\" title=\"Roderick MacKinnon\">Roderick MacKinnon</a></span></span></span>\\n</td>\\n<td><span data-sort-value=\"Lauterbur, Paul\"><span class=\"vcard\"><span class=\"fn\"><a href=\"/wiki/Paul_Lauterbur\" title=\"Paul Lauterbur\">Paul Lauterbur</a></span></span></span>;<br /><span data-sort-value=\"Mansfield, Peter\"><span class=\"vcard\"><span class=\"fn\"><a href=\"/wiki/Peter_Mansfield\" title=\"Peter Mansfield\">Peter Mansfield</a></span></span></span>\\n</td>\\n<td><span data-sort-value=\"Coetzee, J. M.\"><span class=\"vcard\"><span class=\"fn\"><a href=\"/wiki/J._M._Coetzee\" title=\"J. M. Coetzee\">J. M. Coetzee</a></span></span></span>\\n</td>\\n<td><span data-sort-value=\"Ebadi, Shirin\"><span class=\"vcard\"><span class=\"fn\"><a href=\"/wiki/Shirin_Ebadi\" title=\"Shirin Ebadi\">Shirin Ebadi</a></span></span></span>\\n</td>\\n<td><span data-sort-value=\"Engle, Robert F.\"><span class=\"vcard\"><span class=\"fn\"><a href=\"/wiki/Robert_F._Engle\" title=\"Robert F. Engle\">Robert F. Engle</a></span></span></span>;<br /><span data-sort-value=\"Granger, Clive\"><span class=\"vcard\"><span class=\"fn\"><a href=\"/wiki/Clive_Granger\" title=\"Clive Granger\">Clive Granger</a></span></span></span>\\n</td></tr>\\n<tr>\\n<td align=\"center\">2004\\n</td>\\n<td><span data-sort-value=\"Gross, David\"><span class=\"vcard\"><span class=\"fn\"><a href=\"/wiki/David_Gross\" title=\"David Gross\">David Gross</a></span></span></span>;<br /><span data-sort-value=\"Politzer, Hugh David\"><span class=\"vcard\"><span class=\"fn\"><a href=\"/wiki/Hugh_David_Politzer\" title=\"Hugh David Politzer\">Hugh David Politzer</a></span></span></span>;<br /><span data-sort-value=\"Wilczek, Frank\"><span class=\"vcard\"><span class=\"fn\"><a href=\"/wiki/Frank_Wilczek\" title=\"Frank Wilczek\">Frank Wilczek</a></span></span></span>\\n</td>\\n<td><span data-sort-value=\"Ciechanover, Aaron\"><span class=\"vcard\"><span class=\"fn\"><a href=\"/wiki/Aaron_Ciechanover\" title=\"Aaron Ciechanover\">Aaron Ciechanover</a></span></span></span>;<br /><span data-sort-value=\"Hershko, Avram\"><span class=\"vcard\"><span class=\"fn\"><a href=\"/wiki/Avram_Hershko\" title=\"Avram Hershko\">Avram Hershko</a></span></span></span>;<br /><span data-sort-value=\"Rose, Irwin\"><span class=\"vcard\"><span class=\"fn\"><a href=\"/wiki/Irwin_Rose\" title=\"Irwin Rose\">Irwin Rose</a></span></span></span>\\n</td>\\n<td><span data-sort-value=\"Axel, Richard\"><span class=\"vcard\"><span class=\"fn\"><a href=\"/wiki/Richard_Axel\" title=\"Richard Axel\">Richard Axel</a></span></span></span>;<br /><span data-sort-value=\"Buck, Linda B.\"><span class=\"vcard\"><span class=\"fn\"><a href=\"/wiki/Linda_B._Buck\" title=\"Linda B. Buck\">Linda B. Buck</a></span></span></span>\\n</td>\\n<td><span data-sort-value=\"Jelinek, Elfriede\"><span class=\"vcard\"><span class=\"fn\"><a href=\"/wiki/Elfriede_Jelinek\" title=\"Elfriede Jelinek\">Elfriede Jelinek</a></span></span></span>\\n</td>\\n<td><span data-sort-value=\"Maathai, Wangari\"><span class=\"vcard\"><span class=\"fn\"><a href=\"/wiki/Wangari_Maathai\" title=\"Wangari Maathai\">Wangari Maathai</a></span></span></span>\\n</td>\\n<td><span data-sort-value=\"Kydland, Finn E.\"><span class=\"vcard\"><span class=\"fn\"><a href=\"/wiki/Finn_E._Kydland\" title=\"Finn E. Kydland\">Finn E. Kydland</a></span></span></span>;<br /><span data-sort-value=\"Prescott, Edward C.\"><span class=\"vcard\"><span class=\"fn\"><a href=\"/wiki/Edward_C._Prescott\" title=\"Edward C. Prescott\">Edward C. Prescott</a></span></span></span>\\n</td></tr>\\n<tr>\\n<td align=\"center\">2005\\n</td>\\n<td><span data-sort-value=\"Glauber, Roy J.\"><span class=\"vcard\"><span class=\"fn\"><a href=\"/wiki/Roy_J._Glauber\" title=\"Roy J. Glauber\">Roy J. Glauber</a></span></span></span>;<br /><span data-sort-value=\"Hall, John L.\"><span class=\"vcard\"><span class=\"fn\"><a href=\"/wiki/John_L._Hall\" title=\"John L. Hall\">John L. Hall</a></span></span></span>;<br /><span data-sort-value=\"Hänsch, Theodor W.\"><span class=\"vcard\"><span class=\"fn\"><a href=\"/wiki/Theodor_W._H%C3%A4nsch\" title=\"Theodor W. Hänsch\">Theodor W. Hänsch</a></span></span></span>\\n</td>\\n<td><span data-sort-value=\"Chauvin, Yves\"><span class=\"vcard\"><span class=\"fn\"><a href=\"/wiki/Yves_Chauvin\" title=\"Yves Chauvin\">Yves Chauvin</a></span></span></span>;<br /><span data-sort-value=\"Grubbs, Robert H.\"><span class=\"vcard\"><span class=\"fn\"><a href=\"/wiki/Robert_H._Grubbs\" title=\"Robert H. Grubbs\">Robert H. Grubbs</a></span></span></span>;<br /><span data-sort-value=\"Schrock, Richard R.\"><span class=\"vcard\"><span class=\"fn\"><a href=\"/wiki/Richard_R._Schrock\" title=\"Richard R. Schrock\">Richard R. Schrock</a></span></span></span>\\n</td>\\n<td><span data-sort-value=\"Marshall, Barry\"><span class=\"vcard\"><span class=\"fn\"><a href=\"/wiki/Barry_Marshall\" title=\"Barry Marshall\">Barry Marshall</a></span></span></span>;<br /><span data-sort-value=\"Warren, Robin\"><span class=\"vcard\"><span class=\"fn\"><a href=\"/wiki/Robin_Warren\" title=\"Robin Warren\">Robin Warren</a></span></span></span>\\n</td>\\n<td><span data-sort-value=\"Pinter, Harold\"><span class=\"vcard\"><span class=\"fn\"><a href=\"/wiki/Harold_Pinter\" title=\"Harold Pinter\">Harold Pinter</a></span></span></span>\\n</td>\\n<td><a href=\"/wiki/International_Atomic_Energy_Agency\" title=\"International Atomic Energy Agency\">International Atomic Energy Agency</a>;<br /><span data-sort-value=\"ElBaradei, Mohamed\"><span class=\"vcard\"><span class=\"fn\"><a href=\"/wiki/Mohamed_ElBaradei\" title=\"Mohamed ElBaradei\">Mohamed ElBaradei</a></span></span></span>\\n</td>\\n<td><span data-sort-value=\"Aumann, Robert\"><span class=\"vcard\"><span class=\"fn\"><a href=\"/wiki/Robert_Aumann\" title=\"Robert Aumann\">Robert Aumann</a></span></span></span>;<br /><span data-sort-value=\"Schelling, Thomas\"><span class=\"vcard\"><span class=\"fn\"><a href=\"/wiki/Thomas_Schelling\" title=\"Thomas Schelling\">Thomas Schelling</a></span></span></span>\\n</td></tr>\\n<tr>\\n<td align=\"center\">2006\\n</td>\\n<td><span data-sort-value=\"Mather, John C.\"><span class=\"vcard\"><span class=\"fn\"><a href=\"/wiki/John_C._Mather\" title=\"John C. Mather\">John C. Mather</a></span></span></span>;<br /><span data-sort-value=\"Smoot, George\"><span class=\"vcard\"><span class=\"fn\"><a href=\"/wiki/George_Smoot\" title=\"George Smoot\">George Smoot</a></span></span></span>\\n</td>\\n<td><span data-sort-value=\"Kornberg, Roger D.\"><span class=\"vcard\"><span class=\"fn\"><a href=\"/wiki/Roger_D._Kornberg\" title=\"Roger D. Kornberg\">Roger D. Kornberg</a></span></span></span>\\n</td>\\n<td><span data-sort-value=\"Fire, Andrew\"><span class=\"vcard\"><span class=\"fn\"><a href=\"/wiki/Andrew_Fire\" title=\"Andrew Fire\">Andrew Fire</a></span></span></span>;<br /><span data-sort-value=\"Mello, Craig\"><span class=\"vcard\"><span class=\"fn\"><a href=\"/wiki/Craig_Mello\" title=\"Craig Mello\">Craig Mello</a></span></span></span>\\n</td>\\n<td><span data-sort-value=\"Pamuk, Orhan\"><span class=\"vcard\"><span class=\"fn\"><a href=\"/wiki/Orhan_Pamuk\" title=\"Orhan Pamuk\">Orhan Pamuk</a></span></span></span>\\n</td>\\n<td><span data-sort-value=\"Yunus, Muhammad\"><span class=\"vcard\"><span class=\"fn\"><a href=\"/wiki/Muhammad_Yunus\" title=\"Muhammad Yunus\">Muhammad Yunus</a></span></span></span>;<br /><a href=\"/wiki/Grameen_Bank\" title=\"Grameen Bank\">Grameen Bank</a>\\n</td>\\n<td><span data-sort-value=\"Phelps, Edmund\"><span class=\"vcard\"><span class=\"fn\"><a href=\"/wiki/Edmund_Phelps\" title=\"Edmund Phelps\">Edmund Phelps</a></span></span></span>\\n</td></tr>\\n<tr>\\n<td align=\"center\">2007\\n</td>\\n<td><span data-sort-value=\"Fert, Albert\"><span class=\"vcard\"><span class=\"fn\"><a href=\"/wiki/Albert_Fert\" title=\"Albert Fert\">Albert Fert</a></span></span></span>;<br /><span data-sort-value=\"Grünberg, Peter\"><span class=\"vcard\"><span class=\"fn\"><a href=\"/wiki/Peter_Gr%C3%BCnberg\" title=\"Peter Grünberg\">Peter Grünberg</a></span></span></span>\\n</td>\\n<td><span data-sort-value=\"Ertl, Gerhard\"><span class=\"vcard\"><span class=\"fn\"><a href=\"/wiki/Gerhard_Ertl\" title=\"Gerhard Ertl\">Gerhard Ertl</a></span></span></span>\\n</td>\\n<td><span data-sort-value=\"Capecchi, Mario\"><span class=\"vcard\"><span class=\"fn\"><a href=\"/wiki/Mario_Capecchi\" title=\"Mario Capecchi\">Mario Capecchi</a></span></span></span>;<br /><span data-sort-value=\"Evans, Martin\"><span class=\"vcard\"><span class=\"fn\"><a href=\"/wiki/Martin_Evans\" title=\"Martin Evans\">Martin Evans</a></span></span></span>;<br /><span data-sort-value=\"Smithies, Oliver\"><span class=\"vcard\"><span class=\"fn\"><a href=\"/wiki/Oliver_Smithies\" title=\"Oliver Smithies\">Oliver Smithies</a></span></span></span>\\n</td>\\n<td><span data-sort-value=\"Lessing, Doris\"><span class=\"vcard\"><span class=\"fn\"><a href=\"/wiki/Doris_Lessing\" title=\"Doris Lessing\">Doris Lessing</a></span></span></span>\\n</td>\\n<td><a href=\"/wiki/Intergovernmental_Panel_on_Climate_Change\" title=\"Intergovernmental Panel on Climate Change\">Intergovernmental Panel on Climate Change</a>;<br /><span data-sort-value=\"Gore, Al\"><span class=\"vcard\"><span class=\"fn\"><a href=\"/wiki/Al_Gore\" title=\"Al Gore\">Al Gore</a></span></span></span>\\n</td>\\n<td><span data-sort-value=\"Hurwicz, Leonid\"><span class=\"vcard\"><span class=\"fn\"><a href=\"/wiki/Leonid_Hurwicz\" title=\"Leonid Hurwicz\">Leonid Hurwicz</a></span></span></span>;<br /><span data-sort-value=\"Maskin, Eric\"><span class=\"vcard\"><span class=\"fn\"><a href=\"/wiki/Eric_Maskin\" title=\"Eric Maskin\">Eric Maskin</a></span></span></span>;<br /><span data-sort-value=\"Myerson, Roger\"><span class=\"vcard\"><span class=\"fn\"><a href=\"/wiki/Roger_Myerson\" title=\"Roger Myerson\">Roger Myerson</a></span></span></span>\\n</td></tr>\\n<tr>\\n<td align=\"center\">2008\\n</td>\\n<td><span data-sort-value=\"Nambu, Yoichiro\"><span class=\"vcard\"><span class=\"fn\"><a href=\"/wiki/Yoichiro_Nambu\" title=\"Yoichiro Nambu\">Yoichiro Nambu</a></span></span></span>;<br /><span data-sort-value=\"Kobayashi, Makoto\"><span class=\"vcard\"><span class=\"fn\"><a href=\"/wiki/Makoto_Kobayashi_(physicist)\" title=\"Makoto Kobayashi (physicist)\">Makoto Kobayashi</a></span></span></span>;<br /><span data-sort-value=\"Maskawa, Toshihide\"><span class=\"vcard\"><span class=\"fn\"><a href=\"/wiki/Toshihide_Maskawa\" title=\"Toshihide Maskawa\">Toshihide Maskawa</a></span></span></span>\\n</td>\\n<td><span data-sort-value=\"Shimomura, Osamu\"><span class=\"vcard\"><span class=\"fn\"><a href=\"/wiki/Osamu_Shimomura\" title=\"Osamu Shimomura\">Osamu Shimomura</a></span></span></span>;<br /><span data-sort-value=\"Chalfie, Martin\"><span class=\"vcard\"><span class=\"fn\"><a href=\"/wiki/Martin_Chalfie\" title=\"Martin Chalfie\">Martin Chalfie</a></span></span></span>;<br /><span data-sort-value=\"Tsien, Roger Y.\"><span class=\"vcard\"><span class=\"fn\"><a href=\"/wiki/Roger_Y._Tsien\" title=\"Roger Y. Tsien\">Roger Y. Tsien</a></span></span></span>\\n</td>\\n<td><span data-sort-value=\"zur Hausen, Harald\"><span class=\"vcard\"><span class=\"fn\"><a href=\"/wiki/Harald_zur_Hausen\" title=\"Harald zur Hausen\">Harald zur Hausen</a></span></span></span>;<br /><span data-sort-value=\"Barré-Sinoussi, Françoise\"><span class=\"vcard\"><span class=\"fn\"><a href=\"/wiki/Fran%C3%A7oise_Barr%C3%A9-Sinoussi\" title=\"Françoise Barré-Sinoussi\">Françoise Barré-Sinoussi</a></span></span></span>;<br /><span data-sort-value=\"Montagnier, Luc\"><span class=\"vcard\"><span class=\"fn\"><a href=\"/wiki/Luc_Montagnier\" title=\"Luc Montagnier\">Luc Montagnier</a></span></span></span>\\n</td>\\n<td><span data-sort-value=\"Le Clézio, J. M. G.\"><span class=\"vcard\"><span class=\"fn\"><a href=\"/wiki/J._M._G._Le_Cl%C3%A9zio\" title=\"J. M. G. Le Clézio\">J. M. G. Le Clézio</a></span></span></span>\\n</td>\\n<td><span data-sort-value=\"Ahtisaari, Martti\"><span class=\"vcard\"><span class=\"fn\"><a href=\"/wiki/Martti_Ahtisaari\" title=\"Martti Ahtisaari\">Martti Ahtisaari</a></span></span></span>\\n</td>\\n<td><span data-sort-value=\"Krugman, Paul\"><span class=\"vcard\"><span class=\"fn\"><a href=\"/wiki/Paul_Krugman\" title=\"Paul Krugman\">Paul Krugman</a></span></span></span>\\n</td></tr>\\n<tr>\\n<td align=\"center\">2009\\n</td>\\n<td><span data-sort-value=\"Kao, Charles K.\"><span class=\"vcard\"><span class=\"fn\"><a href=\"/wiki/Charles_K._Kao\" title=\"Charles K. Kao\">Charles K. Kao</a></span></span></span>;<br /><span data-sort-value=\"Boyle, Willard S.\"><span class=\"vcard\"><span class=\"fn\"><a href=\"/wiki/Willard_Boyle\" title=\"Willard Boyle\">Willard S. Boyle</a></span></span></span>;<br /><span data-sort-value=\"Smith, George E.\"><span class=\"vcard\"><span class=\"fn\"><a href=\"/wiki/George_E._Smith\" title=\"George E. Smith\">George E. Smith</a></span></span></span>\\n</td>\\n<td><span data-sort-value=\"Ramakrishnan, Venkatraman\"><span class=\"vcard\"><span class=\"fn\"><a href=\"/wiki/Venkatraman_Ramakrishnan\" class=\"mw-redirect\" title=\"Venkatraman Ramakrishnan\">Venkatraman Ramakrishnan</a></span></span></span>;<br /><span data-sort-value=\"Steitz, Thomas A.\"><span class=\"vcard\"><span class=\"fn\"><a href=\"/wiki/Thomas_A._Steitz\" title=\"Thomas A. Steitz\">Thomas A. Steitz</a></span></span></span>;<br /><span data-sort-value=\"Yonath, Ada\"><span class=\"vcard\"><span class=\"fn\"><a href=\"/wiki/Ada_Yonath\" title=\"Ada Yonath\">Ada Yonath</a></span></span></span>\\n</td>\\n<td><span data-sort-value=\"Blackburn, Elizabeth\"><span class=\"vcard\"><span class=\"fn\"><a href=\"/wiki/Elizabeth_Blackburn\" title=\"Elizabeth Blackburn\">Elizabeth Blackburn</a></span></span></span>;<br /><span data-sort-value=\"Greider, Carol W.\"><span class=\"vcard\"><span class=\"fn\"><a href=\"/wiki/Carol_W._Greider\" title=\"Carol W. Greider\">Carol W. Greider</a></span></span></span>;<br /><span data-sort-value=\"Szostak, Jack W.\"><span class=\"vcard\"><span class=\"fn\"><a href=\"/wiki/Jack_W._Szostak\" title=\"Jack W. Szostak\">Jack W. Szostak</a></span></span></span>\\n</td>\\n<td><span data-sort-value=\"Müller, Herta\"><span class=\"vcard\"><span class=\"fn\"><a href=\"/wiki/Herta_M%C3%BCller\" title=\"Herta Müller\">Herta Müller</a></span></span></span>\\n</td>\\n<td><span data-sort-value=\"Obama, Barack\"><span class=\"vcard\"><span class=\"fn\"><a href=\"/wiki/Barack_Obama\" title=\"Barack Obama\">Barack  Obama</a></span></span></span>\\n</td>\\n<td><span data-sort-value=\"Ostrom, Elinor\"><span class=\"vcard\"><span class=\"fn\"><a href=\"/wiki/Elinor_Ostrom\" title=\"Elinor Ostrom\">Elinor Ostrom</a></span></span></span>;<br /><span data-sort-value=\"Williamson, Oliver E.\"><span class=\"vcard\"><span class=\"fn\"><a href=\"/wiki/Oliver_E._Williamson\" title=\"Oliver E. Williamson\">Oliver E. Williamson</a></span></span></span>\\n</td></tr>\\n<tr>\\n<td align=\"center\">2010\\n</td>\\n<td><span data-sort-value=\"Geim, Andre\"><span class=\"vcard\"><span class=\"fn\"><a href=\"/wiki/Andre_Geim\" title=\"Andre Geim\">Andre Geim</a></span></span></span>;<br /><span data-sort-value=\"Novoselov, Konstantin\"><span class=\"vcard\"><span class=\"fn\"><a href=\"/wiki/Konstantin_Novoselov\" title=\"Konstantin Novoselov\">Konstantin Novoselov</a></span></span></span>\\n</td>\\n<td><span data-sort-value=\"Heck, Richard F.\"><span class=\"vcard\"><span class=\"fn\"><a href=\"/wiki/Richard_F._Heck\" title=\"Richard F. Heck\">Richard F. Heck</a></span></span></span>;<br /><span data-sort-value=\"Negishi, Ei-ichi\"><span class=\"vcard\"><span class=\"fn\"><a href=\"/wiki/Ei-ichi_Negishi\" title=\"Ei-ichi Negishi\">Ei-ichi Negishi</a></span></span></span>;<br /><span data-sort-value=\"Suzuki, Akira\"><span class=\"vcard\"><span class=\"fn\"><a href=\"/wiki/Akira_Suzuki_(chemist)\" title=\"Akira Suzuki (chemist)\">Akira Suzuki</a></span></span></span>\\n</td>\\n<td><span data-sort-value=\"Edwards, Robert G.\"><span class=\"vcard\"><span class=\"fn\"><a href=\"/wiki/Robert_G._Edwards\" class=\"mw-redirect\" title=\"Robert G. Edwards\">Robert G. Edwards</a></span></span></span>\\n</td>\\n<td><span data-sort-value=\"Vargas Llosa, Mario\"><span class=\"vcard\"><span class=\"fn\"><a href=\"/wiki/Mario_Vargas_Llosa\" title=\"Mario Vargas Llosa\">Mario Vargas Llosa</a></span></span></span>\\n</td>\\n<td><span data-sort-value=\"Xiaobo, Liu\"><span class=\"vcard\"><span class=\"fn\"><a href=\"/wiki/Liu_Xiaobo\" title=\"Liu Xiaobo\">Liu Xiaobo</a></span></span></span> <sup id=\"cite_ref-F_21-0\" class=\"reference\"><a href=\"#cite_note-F-21\">&#91;f&#93;</a></sup>\\n</td>\\n<td><span data-sort-value=\"Diamond, Peter A.\"><span class=\"vcard\"><span class=\"fn\"><a href=\"/wiki/Peter_Diamond\" title=\"Peter Diamond\">Peter A. Diamond</a></span></span></span>;<br /><span data-sort-value=\"Mortensen, Dale T.\"><span class=\"vcard\"><span class=\"fn\"><a href=\"/wiki/Dale_T._Mortensen\" title=\"Dale T. Mortensen\">Dale T.  Mortensen</a></span></span></span>;<br /><span data-sort-value=\"Pissarides, Christopher A.\"><span class=\"vcard\"><span class=\"fn\"><a href=\"/wiki/Christopher_A._Pissarides\" title=\"Christopher A. Pissarides\">Christopher A.  Pissarides</a></span></span></span>\\n</td></tr>\\n<tr>\\n<td align=\"center\">2011\\n</td>\\n<td><span data-sort-value=\"Perlmutter, Saul\"><span class=\"vcard\"><span class=\"fn\"><a href=\"/wiki/Saul_Perlmutter\" title=\"Saul Perlmutter\">Saul Perlmutter</a></span></span></span>;<br /><span data-sort-value=\"Riess, Adam G.\"><span class=\"vcard\"><span class=\"fn\"><a href=\"/wiki/Adam_Riess\" title=\"Adam Riess\">Adam G. Riess</a></span></span></span>;<br /><span data-sort-value=\"Schmidt, Brian\"><span class=\"vcard\"><span class=\"fn\"><a href=\"/wiki/Brian_Schmidt\" title=\"Brian Schmidt\">Brian Schmidt</a></span></span></span>\\n</td>\\n<td><span data-sort-value=\"Shechtman, Dan\"><span class=\"vcard\"><span class=\"fn\"><a href=\"/wiki/Dan_Shechtman\" title=\"Dan Shechtman\">Dan Shechtman</a></span></span></span>\\n</td>\\n<td><span data-sort-value=\"Beutler, Bruce\"><span class=\"vcard\"><span class=\"fn\"><a href=\"/wiki/Bruce_Beutler\" title=\"Bruce Beutler\">Bruce Beutler</a></span></span></span>;<br /><span data-sort-value=\"Hoffmann, Jules A.\"><span class=\"vcard\"><span class=\"fn\"><a href=\"/wiki/Jules_A._Hoffmann\" title=\"Jules A. Hoffmann\">Jules A. Hoffmann</a></span></span></span>;<br /><span data-sort-value=\"Steinman, Ralph M.\"><span class=\"vcard\"><span class=\"fn\"><a href=\"/wiki/Ralph_M._Steinman\" title=\"Ralph M. Steinman\">Ralph M.  Steinman</a></span></span></span>\\n</td>\\n<td><span data-sort-value=\"Tranströmer, Tomas\"><span class=\"vcard\"><span class=\"fn\"><a href=\"/wiki/Tomas_Transtr%C3%B6mer\" title=\"Tomas Tranströmer\">Tomas Tranströmer</a></span></span></span>\\n</td>\\n<td><span data-sort-value=\"Sirleaf, Ellen Johnson\"><span class=\"vcard\"><span class=\"fn\"><a href=\"/wiki/Ellen_Johnson_Sirleaf\" title=\"Ellen Johnson Sirleaf\">Ellen Johnson Sirleaf</a></span></span></span>;<br /><span data-sort-value=\"Gbowee, Leymah\"><span class=\"vcard\"><span class=\"fn\"><a href=\"/wiki/Leymah_Gbowee\" title=\"Leymah Gbowee\">Leymah Gbowee</a></span></span></span>;<br /><span data-sort-value=\"Karman, Tawakel\"><span class=\"vcard\"><span class=\"fn\"><a href=\"/wiki/Tawakel_Karman\" class=\"mw-redirect\" title=\"Tawakel Karman\">Tawakel Karman</a></span></span></span>\\n</td>\\n<td><span data-sort-value=\"Sargent, Thomas J.\"><span class=\"vcard\"><span class=\"fn\"><a href=\"/wiki/Thomas_J._Sargent\" title=\"Thomas J. Sargent\">Thomas J. Sargent</a></span></span></span>;<br /><span data-sort-value=\"Sims, Christopher A.\"><span class=\"vcard\"><span class=\"fn\"><a href=\"/wiki/Christopher_A._Sims\" title=\"Christopher A. Sims\">Christopher A. Sims</a></span></span></span>\\n</td></tr>\\n<tr>\\n<td align=\"center\">2012\\n</td>\\n<td><span data-sort-value=\"Haroche, Serge\"><span class=\"vcard\"><span class=\"fn\"><a href=\"/wiki/Serge_Haroche\" title=\"Serge Haroche\">Serge Haroche</a></span></span></span>;<br /><span data-sort-value=\"J. Wineland, David\"><span class=\"vcard\"><span class=\"fn\"><a href=\"/wiki/David_J._Wineland\" title=\"David J. Wineland\">David  J. Wineland</a></span></span></span>\\n</td>\\n<td><span data-sort-value=\"Kobilka, Brian K.\"><span class=\"vcard\"><span class=\"fn\"><a href=\"/wiki/Brian_Kobilka\" title=\"Brian Kobilka\">Brian K. Kobilka</a></span></span></span>;<br /><span data-sort-value=\"Lefkowitz, Robert J.\"><span class=\"vcard\"><span class=\"fn\"><a href=\"/wiki/Robert_Lefkowitz\" title=\"Robert Lefkowitz\">Robert J. Lefkowitz</a></span></span></span>\\n</td>\\n<td><span data-sort-value=\"Gurdon, John B.\"><span class=\"vcard\"><span class=\"fn\"><a href=\"/wiki/John_Gurdon\" title=\"John Gurdon\">John B. Gurdon</a></span></span></span>;<br /><span data-sort-value=\"Yamanaka, Shinya\"><span class=\"vcard\"><span class=\"fn\"><a href=\"/wiki/Shinya_Yamanaka\" title=\"Shinya Yamanaka\"> Shinya Yamanaka</a></span></span></span>\\n</td>\\n<td><span data-sort-value=\"Yan, Mo\"><span class=\"vcard\"><span class=\"fn\"><a href=\"/wiki/Mo_Yan\" title=\"Mo Yan\">Mo Yan</a></span></span></span>\\n</td>\\n<td><span data-sort-value=\"Union, European\"><span class=\"vcard\"><span class=\"fn\"><a href=\"/wiki/European_Union\" title=\"European Union\">European Union</a></span></span></span>\\n</td>\\n<td><span data-sort-value=\"Roth, Alvin E.\"><span class=\"vcard\"><span class=\"fn\"><a href=\"/wiki/Alvin_E._Roth\" title=\"Alvin E. Roth\">Alvin E. Roth</a></span></span></span>;<br /><span data-sort-value=\"Shapley, Lloyd S.\"><span class=\"vcard\"><span class=\"fn\"><a href=\"/wiki/Lloyd_Shapley\" title=\"Lloyd Shapley\">Lloyd S. Shapley</a></span></span></span>\\n</td></tr>\\n<tr>\\n<td align=\"center\">2013\\n</td>\\n<td><span data-sort-value=\"Englert, François\"><span class=\"vcard\"><span class=\"fn\"><a href=\"/wiki/Fran%C3%A7ois_Englert\" title=\"François Englert\">François Englert</a></span></span></span>;<br /><span data-sort-value=\"Higgs, Peter W.\"><span class=\"vcard\"><span class=\"fn\"><a href=\"/wiki/Peter_Higgs\" title=\"Peter Higgs\">Peter W. Higgs</a></span></span></span>\\n</td>\\n<td><span data-sort-value=\"Karplus, Martin\"><span class=\"vcard\"><span class=\"fn\"><a href=\"/wiki/Martin_Karplus\" title=\"Martin Karplus\">Martin Karplus</a></span></span></span>;<br /><span data-sort-value=\"Levitt, Michael\"><span class=\"vcard\"><span class=\"fn\"><a href=\"/wiki/Michael_Levitt\" title=\"Michael Levitt\">Michael Levitt</a></span></span></span>;<br /><span data-sort-value=\"Warshel, Arieh\"><span class=\"vcard\"><span class=\"fn\"><a href=\"/wiki/Arieh_Warshel\" title=\"Arieh Warshel\">Arieh Warshel</a></span></span></span>\\n</td>\\n<td><span data-sort-value=\"Rothman, James E.\"><span class=\"vcard\"><span class=\"fn\"><a href=\"/wiki/James_Rothman\" title=\"James Rothman\">James E. Rothman</a></span></span></span>;<br /><span data-sort-value=\"Schekman, Randy W.\"><span class=\"vcard\"><span class=\"fn\"><a href=\"/wiki/Randy_W._Schekman\" class=\"mw-redirect\" title=\"Randy W. Schekman\">Randy W. Schekman</a></span></span></span>;<br /><span data-sort-value=\"Südhof, Thomas C.\"><span class=\"vcard\"><span class=\"fn\"><a href=\"/wiki/Thomas_C._S%C3%BCdhof\" title=\"Thomas C. Südhof\">Thomas C. Südhof</a></span></span></span>\\n</td>\\n<td><span data-sort-value=\"Munro, Alice\"><span class=\"vcard\"><span class=\"fn\"><a href=\"/wiki/Alice_Munro\" title=\"Alice Munro\">Alice Munro</a></span></span></span>\\n</td>\\n<td><span data-sort-value=\"for the Prohibition of Chemical Weapons, Organisation\"><span class=\"vcard\"><span class=\"fn\"><a href=\"/wiki/Organisation_for_the_Prohibition_of_Chemical_Weapons\" title=\"Organisation for the Prohibition of Chemical Weapons\">Organisation for the Prohibition of Chemical Weapons</a></span></span></span>\\n</td>\\n<td><span data-sort-value=\"Fama, Eugene F.\"><span class=\"vcard\"><span class=\"fn\"><a href=\"/wiki/Eugene_Fama\" title=\"Eugene Fama\">Eugene F. Fama</a></span></span></span>;<br /><span data-sort-value=\"Hansen, Lars Peter\"><span class=\"vcard\"><span class=\"fn\"><a href=\"/wiki/Lars_Peter_Hansen\" title=\"Lars Peter Hansen\">Lars Peter Hansen</a></span></span></span>;<br /><span data-sort-value=\"Shiller, Robert J.\"><span class=\"vcard\"><span class=\"fn\"><a href=\"/wiki/Robert_Shiller\" class=\"mw-redirect\" title=\"Robert Shiller\">Robert J. Shiller</a></span></span></span>\\n</td></tr>\\n<tr>\\n<td align=\"center\">2014\\n</td>\\n<td><span data-sort-value=\"Akasaki, Isamu\"><span class=\"vcard\"><span class=\"fn\"><a href=\"/wiki/Isamu_Akasaki\" title=\"Isamu Akasaki\">Isamu Akasaki</a></span></span></span>;<br /><span data-sort-value=\"Amano, Hiroshi\"><span class=\"vcard\"><span class=\"fn\"><a href=\"/wiki/Hiroshi_Amano\" title=\"Hiroshi Amano\">Hiroshi Amano</a></span></span></span>;<br /><span data-sort-value=\"Nakamura, Shuji\"><span class=\"vcard\"><span class=\"fn\"><a href=\"/wiki/Shuji_Nakamura\" title=\"Shuji Nakamura\">Shuji Nakamura</a></span></span></span>\\n</td>\\n<td><span data-sort-value=\"Betzig, Eric\"><span class=\"vcard\"><span class=\"fn\"><a href=\"/wiki/Eric_Betzig\" title=\"Eric Betzig\">Eric Betzig</a></span></span></span>;<br /><span data-sort-value=\"Hell, Stefan\"><span class=\"vcard\"><span class=\"fn\"><a href=\"/wiki/Stefan_Hell\" title=\"Stefan Hell\">Stefan Hell</a></span></span></span>;<br /><span data-sort-value=\"Moerner, William\"><span class=\"vcard\"><span class=\"fn\"><a href=\"/wiki/William_Moerner\" class=\"mw-redirect\" title=\"William Moerner\">William Moerner</a></span></span></span>\\n</td>\\n<td><span data-sort-value=\"O&#39;Keefe, John\"><span class=\"vcard\"><span class=\"fn\"><a href=\"/wiki/John_O%27Keefe_(neuroscientist)\" title=\"John O&#39;Keefe (neuroscientist)\">John O\\'Keefe</a></span></span></span>;<br /><span data-sort-value=\"Moser, May-Britt\"><span class=\"vcard\"><span class=\"fn\"><a href=\"/wiki/May-Britt_Moser\" title=\"May-Britt Moser\">May-Britt Moser</a></span></span></span>;<br /><span data-sort-value=\"Moser, Edvard\"><span class=\"vcard\"><span class=\"fn\"><a href=\"/wiki/Edvard_Moser\" title=\"Edvard Moser\">Edvard  Moser</a></span></span></span>\\n</td>\\n<td><span data-sort-value=\"Modiano, Patrick\"><span class=\"vcard\"><span class=\"fn\"><a href=\"/wiki/Patrick_Modiano\" title=\"Patrick Modiano\">Patrick Modiano</a></span></span></span>\\n</td>\\n<td><span data-sort-value=\"Satyarthi, Kailash\"><span class=\"vcard\"><span class=\"fn\"><a href=\"/wiki/Kailash_Satyarthi\" title=\"Kailash Satyarthi\">Kailash Satyarthi</a></span></span></span>;<br /> <span data-sort-value=\"Yousafzai, Malala\"><span class=\"vcard\"><span class=\"fn\"><a href=\"/wiki/Malala_Yousafzai\" title=\"Malala Yousafzai\">Malala Yousafzai</a></span></span></span>\\n</td>\\n<td><span data-sort-value=\"Tirole, Jean\"><span class=\"vcard\"><span class=\"fn\"><a href=\"/wiki/Jean_Tirole\" title=\"Jean Tirole\">Jean Tirole</a></span></span></span>\\n</td></tr>\\n<tr>\\n<td align=\"center\">2015\\n</td>\\n<td><span data-sort-value=\"Kajita, Takaaki\"><span class=\"vcard\"><span class=\"fn\"><a href=\"/wiki/Takaaki_Kajita\" title=\"Takaaki Kajita\">Takaaki Kajita</a></span></span></span>;<br /><span data-sort-value=\"McDonald, Arthur B.\"><span class=\"vcard\"><span class=\"fn\"><a href=\"/wiki/Arthur_B._McDonald\" title=\"Arthur B. McDonald\">Arthur B. McDonald</a></span></span></span>\\n</td>\\n<td><span data-sort-value=\"Lindahl, Tomas\"><span class=\"vcard\"><span class=\"fn\"><a href=\"/wiki/Tomas_Lindahl\" title=\"Tomas Lindahl\">Tomas Lindahl</a></span></span></span>;<br /> <span data-sort-value=\"Modrich, Paul L.\"><span class=\"vcard\"><span class=\"fn\"><a href=\"/wiki/Paul_Modrich\" class=\"mw-redirect\" title=\"Paul Modrich\">Paul L. Modrich</a></span></span></span>;<br /><span data-sort-value=\"Sancar, Aziz\"><span class=\"vcard\"><span class=\"fn\"><a href=\"/wiki/Aziz_Sancar\" title=\"Aziz Sancar\">Aziz Sancar</a></span></span></span>\\n</td>\\n<td><span data-sort-value=\"Campbell, William C.\"><span class=\"vcard\"><span class=\"fn\"><a href=\"/wiki/William_C._Campbell_(scientist)\" title=\"William C. Campbell (scientist)\">William C. Campbell</a></span></span></span>;<br /><span data-sort-value=\"Ōmura, Satoshi\"><span class=\"vcard\"><span class=\"fn\"><a href=\"/wiki/Satoshi_%C5%8Cmura\" title=\"Satoshi Ōmura\">Satoshi Ōmura</a></span></span></span>;<br /><span data-sort-value=\"Youyou, Tu\"><span class=\"vcard\"><span class=\"fn\"><a href=\"/wiki/Tu_Youyou\" title=\"Tu Youyou\">Tu Youyou</a></span></span></span>\\n</td>\\n<td><span data-sort-value=\"Alexievich, Svetlana\"><span class=\"vcard\"><span class=\"fn\"><a href=\"/wiki/Svetlana_Alexievich\" title=\"Svetlana Alexievich\">Svetlana Alexievich</a></span></span></span>\\n</td>\\n<td><span data-sort-value=\"National Dialogue Quartet, Tunisian\"><span class=\"vcard\"><span class=\"fn\"><a href=\"/wiki/Tunisian_National_Dialogue_Quartet\" title=\"Tunisian National Dialogue Quartet\">Tunisian National Dialogue Quartet</a></span></span></span>\\n</td>\\n<td><span data-sort-value=\"Deaton, Angus\"><span class=\"vcard\"><span class=\"fn\"><a href=\"/wiki/Angus_Deaton\" title=\"Angus Deaton\">Angus Deaton</a></span></span></span>\\n</td></tr>\\n<tr>\\n<td align=\"center\">2016\\n</td>\\n<td><span data-sort-value=\"J. Thouless, David\"><span class=\"vcard\"><span class=\"fn\"><a href=\"/wiki/David_J._Thouless\" title=\"David J. Thouless\">David J. Thouless</a></span></span></span>;<br /><span data-sort-value=\"Haldane, Duncan\"><span class=\"vcard\"><span class=\"fn\"><a href=\"/wiki/Duncan_Haldane\" title=\"Duncan Haldane\">Duncan Haldane</a></span></span></span>;<br /><span data-sort-value=\"Kosterlitz, John M.\"><span class=\"vcard\"><span class=\"fn\"><a href=\"/wiki/John_M._Kosterlitz\" class=\"mw-redirect\" title=\"John M. Kosterlitz\">John M. Kosterlitz</a></span></span></span>\\n</td>\\n<td><span data-sort-value=\"Sauvage, Jean-Pierre\"><span class=\"vcard\"><span class=\"fn\"><a href=\"/wiki/Jean-Pierre_Sauvage\" title=\"Jean-Pierre Sauvage\">Jean-Pierre Sauvage</a></span></span></span>;<br /><span data-sort-value=\"Stoddart, Fraser\"><span class=\"vcard\"><span class=\"fn\"><a href=\"/wiki/Fraser_Stoddart\" title=\"Fraser Stoddart\">Fraser Stoddart</a></span></span></span>;<br /><span data-sort-value=\"Feringa, Ben\"><span class=\"vcard\"><span class=\"fn\"><a href=\"/wiki/Ben_Feringa\" title=\"Ben Feringa\">Ben Feringa</a></span></span></span>\\n</td>\\n<td><span data-sort-value=\"Ohsumi, Yoshinori\"><span class=\"vcard\"><span class=\"fn\"><a href=\"/wiki/Yoshinori_Ohsumi\" title=\"Yoshinori Ohsumi\">Yoshinori Ohsumi</a></span></span></span>\\n</td>\\n<td><span data-sort-value=\"Dylan, Bob\"><span class=\"vcard\"><span class=\"fn\"><a href=\"/wiki/Bob_Dylan\" title=\"Bob Dylan\">Bob Dylan</a></span></span></span>\\n</td>\\n<td><span data-sort-value=\"Santos, Juan Manuel\"><span class=\"vcard\"><span class=\"fn\"><a href=\"/wiki/Juan_Manuel_Santos\" title=\"Juan Manuel Santos\">Juan Manuel Santos</a></span></span></span>\\n</td>\\n<td><span data-sort-value=\"Hart, Oliver\"><span class=\"vcard\"><span class=\"fn\"><a href=\"/wiki/Oliver_Hart_(economist)\" title=\"Oliver Hart (economist)\">Oliver Hart</a></span></span></span>;<br /><span data-sort-value=\"Holmström, Bengt R.\"><span class=\"vcard\"><span class=\"fn\"><a href=\"/wiki/Bengt_R._Holmstr%C3%B6m\" class=\"mw-redirect\" title=\"Bengt R. Holmström\">Bengt R. Holmström</a></span></span></span>\\n</td></tr>\\n<tr>\\n<td align=\"center\">2017\\n</td>\\n<td><span data-sort-value=\"Weiss, Rainer\"><span class=\"vcard\"><span class=\"fn\"><a href=\"/wiki/Rainer_Weiss\" title=\"Rainer Weiss\">Rainer Weiss</a></span></span></span>;<br /><span data-sort-value=\"Barish, Barry\"><span class=\"vcard\"><span class=\"fn\"><a href=\"/wiki/Barry_Barish\" title=\"Barry Barish\">Barry Barish</a></span></span></span>;<br /><span data-sort-value=\"Thorne, Kip\"><span class=\"vcard\"><span class=\"fn\"><a href=\"/wiki/Kip_Thorne\" title=\"Kip Thorne\">Kip Thorne</a></span></span></span>\\n</td>\\n<td><span data-sort-value=\"Dubochet, Jacques\"><span class=\"vcard\"><span class=\"fn\"><a href=\"/wiki/Jacques_Dubochet\" title=\"Jacques Dubochet\">Jacques Dubochet</a></span></span></span>;<br /><span data-sort-value=\"Frank, Joachim\"><span class=\"vcard\"><span class=\"fn\"><a href=\"/wiki/Joachim_Frank\" title=\"Joachim Frank\">Joachim Frank</a></span></span></span>;<br /><span data-sort-value=\"Henderson, Richard\"><span class=\"vcard\"><span class=\"fn\"><a href=\"/wiki/Richard_Henderson_(biologist)\" title=\"Richard Henderson (biologist)\">Richard Henderson</a></span></span></span>\\n</td>\\n<td><span data-sort-value=\"Hall, Jeffrey C.\"><span class=\"vcard\"><span class=\"fn\"><a href=\"/wiki/Jeffrey_C._Hall\" title=\"Jeffrey C. Hall\">Jeffrey C. Hall</a></span></span></span>;<br /><span data-sort-value=\"Rosbash, Michael\"><span class=\"vcard\"><span class=\"fn\"><a href=\"/wiki/Michael_Rosbash\" title=\"Michael Rosbash\">Michael Rosbash</a></span></span></span>;<br /><span data-sort-value=\"Young, Michael W.\"><span class=\"vcard\"><span class=\"fn\"><a href=\"/wiki/Michael_W._Young\" title=\"Michael W. Young\">Michael W. Young</a></span></span></span>\\n</td>\\n<td><span data-sort-value=\"Ishiguro, Kazuo\"><span class=\"vcard\"><span class=\"fn\"><a href=\"/wiki/Kazuo_Ishiguro\" title=\"Kazuo Ishiguro\">Kazuo Ishiguro</a></span></span></span>\\n</td>\\n<td><span data-sort-value=\"Campaign to Abolish Nuclear Weapons, International\"><span class=\"vcard\"><span class=\"fn\"><a href=\"/wiki/International_Campaign_to_Abolish_Nuclear_Weapons\" title=\"International Campaign to Abolish Nuclear Weapons\">International Campaign to Abolish Nuclear Weapons</a></span></span></span>\\n</td>\\n<td><span data-sort-value=\"Thaler, Richard\"><span class=\"vcard\"><span class=\"fn\"><a href=\"/wiki/Richard_Thaler\" title=\"Richard Thaler\">Richard Thaler</a></span></span></span>\\n</td></tr>\\n<tr>\\n<td align=\"center\">2018\\n</td>\\n<td><span data-sort-value=\"Ashkin, Arthur\"><span class=\"vcard\"><span class=\"fn\"><a href=\"/wiki/Arthur_Ashkin\" title=\"Arthur Ashkin\">Arthur Ashkin</a></span></span></span>;<br /><span data-sort-value=\"Mourou, Gérard\"><span class=\"vcard\"><span class=\"fn\"><a href=\"/wiki/G%C3%A9rard_Mourou\" title=\"Gérard Mourou\">Gérard Mourou</a></span></span></span>;<br /><span data-sort-value=\"Strickland, Donna\"><span class=\"vcard\"><span class=\"fn\"><a href=\"/wiki/Donna_Strickland\" title=\"Donna Strickland\">Donna Strickland</a></span></span></span>\\n</td>\\n<td><span data-sort-value=\"Arnold, Frances H.\"><span class=\"vcard\"><span class=\"fn\"><a href=\"/wiki/Frances_H._Arnold\" class=\"mw-redirect\" title=\"Frances H. Arnold\">Frances H. Arnold</a></span></span></span>;<br /><span data-sort-value=\"Smith, George P.\"><span class=\"vcard\"><span class=\"fn\"><a href=\"/wiki/George_P._Smith_(chemist)\" class=\"mw-redirect\" title=\"George P. Smith (chemist)\">George P. Smith</a></span></span></span>;<br /><span data-sort-value=\"Winter, Greg\"><span class=\"vcard\"><span class=\"fn\"><a href=\"/wiki/Greg_Winter\" class=\"mw-redirect\" title=\"Greg Winter\">Greg Winter</a></span></span></span>\\n</td>\\n<td><span data-sort-value=\"Allison, James P.\"><span class=\"vcard\"><span class=\"fn\"><a href=\"/wiki/James_P._Allison\" title=\"James P. Allison\">James P. Allison</a></span></span></span>;<br /> <span data-sort-value=\"Honjo, Tasuku\"><span class=\"vcard\"><span class=\"fn\"><a href=\"/wiki/Tasuku_Honjo\" title=\"Tasuku Honjo\">Tasuku Honjo</a></span></span></span>\\n</td>\\n<td><span data-sort-value=\"Tokarczuk, Olga\"><span class=\"vcard\"><span class=\"fn\"><a href=\"/wiki/Olga_Tokarczuk\" title=\"Olga Tokarczuk\">Olga Tokarczuk</a></span></span></span> <sup id=\"cite_ref-G_23-0\" class=\"reference\"><a href=\"#cite_note-G-23\">&#91;g&#93;</a></sup>\\n</td>\\n<td><span data-sort-value=\"Mukwege, Denis\"><span class=\"vcard\"><span class=\"fn\"><a href=\"/wiki/Denis_Mukwege\" title=\"Denis Mukwege\">Denis Mukwege</a></span></span></span>;<br /> <span data-sort-value=\"Murad, Nadia\"><span class=\"vcard\"><span class=\"fn\"><a href=\"/wiki/Nadia_Murad\" title=\"Nadia Murad\">Nadia Murad</a></span></span></span>\\n</td>\\n<td><span data-sort-value=\"Nordhaus, William\"><span class=\"vcard\"><span class=\"fn\"><a href=\"/wiki/William_Nordhaus\" title=\"William Nordhaus\">William Nordhaus</a></span></span></span>;<br /> <span data-sort-value=\"Romer, Paul\"><span class=\"vcard\"><span class=\"fn\"><a href=\"/wiki/Paul_Romer\" title=\"Paul Romer\">Paul Romer</a></span></span></span>\\n</td></tr>\\n<tr>\\n<td align=\"center\">2019\\n</td>\\n<td><span data-sort-value=\"Peebles, James\"><span class=\"vcard\"><span class=\"fn\"><a href=\"/wiki/Jim_Peebles\" title=\"Jim Peebles\">James Peebles</a></span></span></span>;<br /> <span data-sort-value=\"Mayor, Michel\"><span class=\"vcard\"><span class=\"fn\"><a href=\"/wiki/Michel_Mayor\" title=\"Michel Mayor\">Michel Mayor</a></span></span></span>;<br /> <span data-sort-value=\"Queloz, Didier\"><span class=\"vcard\"><span class=\"fn\"><a href=\"/wiki/Didier_Queloz\" title=\"Didier Queloz\">Didier Queloz</a></span></span></span>\\n</td>\\n<td><span data-sort-value=\"Goodenough, John B.\"><span class=\"vcard\"><span class=\"fn\"><a href=\"/wiki/John_B._Goodenough\" title=\"John B. Goodenough\">John B. Goodenough</a></span></span></span>;<br /><span data-sort-value=\"Whittingham, M. Stanley\"><span class=\"vcard\"><span class=\"fn\"><a href=\"/wiki/M._Stanley_Whittingham\" title=\"M. Stanley Whittingham\">M. Stanley Whittingham</a></span></span></span>;<br /><span data-sort-value=\"Yoshino, Akira\"><span class=\"vcard\"><span class=\"fn\"><a href=\"/wiki/Akira_Yoshino\" title=\"Akira Yoshino\">Akira Yoshino</a></span></span></span>\\n</td>\\n<td><span data-sort-value=\"Kaelin Jr., William\"><span class=\"vcard\"><span class=\"fn\"><a href=\"/wiki/William_Kaelin_Jr.\" title=\"William Kaelin Jr.\">William Kaelin Jr.</a></span></span></span>;<br /><span data-sort-value=\"Ratcliffe, Peter J.\"><span class=\"vcard\"><span class=\"fn\"><a href=\"/wiki/Peter_J._Ratcliffe\" title=\"Peter J. Ratcliffe\">Peter J. Ratcliffe</a></span></span></span>;<br /><span data-sort-value=\"Semenza, Gregg L.\"><span class=\"vcard\"><span class=\"fn\"><a href=\"/wiki/Gregg_L._Semenza\" title=\"Gregg L. Semenza\">Gregg L. Semenza</a></span></span></span>\\n</td>\\n<td><a href=\"/wiki/Peter_Handke\" title=\"Peter Handke\">Peter Handke</a>\\n</td>\\n<td><a href=\"/wiki/Abiy_Ahmed\" title=\"Abiy Ahmed\">Abiy Ahmed</a>\\n</td>\\n<td><span data-sort-value=\"Banerjee, Abhijit\"><span class=\"vcard\"><span class=\"fn\"><a href=\"/wiki/Abhijit_Banerjee\" title=\"Abhijit Banerjee\">Abhijit Banerjee</a></span></span></span>;<br /><span data-sort-value=\"Duflo, Esther\"><span class=\"vcard\"><span class=\"fn\"><a href=\"/wiki/Esther_Duflo\" title=\"Esther Duflo\">Esther Duflo</a></span></span></span>;<br /><span data-sort-value=\"Kremer, Michael\"><span class=\"vcard\"><span class=\"fn\"><a href=\"/wiki/Michael_Kremer\" title=\"Michael Kremer\">Michael Kremer</a></span></span></span>\\n</td></tr>\\n<tr>\\n<td align=\"center\">2020\\n</td>\\n<td><span data-sort-value=\"Penrose, Roger\"><span class=\"vcard\"><span class=\"fn\"><a href=\"/wiki/Roger_Penrose\" title=\"Roger Penrose\">Roger Penrose</a></span></span></span>;<br /> <span data-sort-value=\"Genzel, Reinhard\"><span class=\"vcard\"><span class=\"fn\"><a href=\"/wiki/Reinhard_Genzel\" title=\"Reinhard Genzel\">Reinhard Genzel</a></span></span></span>;<br /> <span data-sort-value=\"Ghez, Andrea M.\"><span class=\"vcard\"><span class=\"fn\"><a href=\"/wiki/Andrea_M._Ghez\" title=\"Andrea M. Ghez\">Andrea M. Ghez</a></span></span></span>\\n</td>\\n<td><span data-sort-value=\"Charpentier, Emmanuelle\"><span class=\"vcard\"><span class=\"fn\"><a href=\"/wiki/Emmanuelle_Charpentier\" title=\"Emmanuelle Charpentier\">Emmanuelle Charpentier</a></span></span></span>;<br /><span data-sort-value=\"Doudna, Jennifer\"><span class=\"vcard\"><span class=\"fn\"><a href=\"/wiki/Jennifer_Doudna\" title=\"Jennifer Doudna\">Jennifer Doudna</a></span></span></span>\\n</td>\\n<td><span data-sort-value=\"Alter, Harvey J.\"><span class=\"vcard\"><span class=\"fn\"><a href=\"/wiki/Harvey_J._Alter\" title=\"Harvey J. Alter\">Harvey J. Alter</a></span></span></span>;<br /> <span data-sort-value=\"Houghton, Michael\"><span class=\"vcard\"><span class=\"fn\"><a href=\"/wiki/Michael_Houghton_(virologist)\" title=\"Michael Houghton (virologist)\">Michael Houghton</a></span></span></span>;<br /> <span data-sort-value=\"Rice, Charles M.\"><span class=\"vcard\"><span class=\"fn\"><a href=\"/wiki/Charles_M._Rice\" title=\"Charles M. Rice\">Charles M. Rice</a></span></span></span>\\n</td>\\n<td><span data-sort-value=\"Glück, Louise\"><span class=\"vcard\"><span class=\"fn\"><a href=\"/wiki/Louise_Gl%C3%BCck\" title=\"Louise Glück\">Louise Glück</a></span></span></span>\\n</td>\\n<td><span data-sort-value=\"Food Programme, World\"><span class=\"vcard\"><span class=\"fn\"><a href=\"/wiki/World_Food_Programme\" title=\"World Food Programme\">World Food Programme</a></span></span></span>\\n</td>\\n<td><span data-sort-value=\"Milgrom, Paul R.\"><span class=\"vcard\"><span class=\"fn\"><a href=\"/wiki/Paul_Milgrom\" title=\"Paul Milgrom\">Paul R. Milgrom</a></span></span></span>;<br /><span data-sort-value=\"Wilson, Robert B.\"><span class=\"vcard\"><span class=\"fn\"><a href=\"/wiki/Robert_B._Wilson\" title=\"Robert B. Wilson\">Robert B. Wilson</a></span></span></span>\\n</td></tr>\\n<tr>\\n<th>Year\\n</th>\\n<th width=\"16%\"><a href=\"/wiki/List_of_Nobel_laureates_in_Physics\" title=\"List of Nobel laureates in Physics\">Physics</a>\\n</th>\\n<th width=\"16%\"><a href=\"/wiki/List_of_Nobel_laureates_in_Chemistry\" title=\"List of Nobel laureates in Chemistry\">Chemistry</a>\\n</th>\\n<th width=\"16%\"><a href=\"/wiki/List_of_Nobel_laureates_in_Physiology_or_Medicine\" title=\"List of Nobel laureates in Physiology or Medicine\">Physiology<br />or Medicine</a>\\n</th>\\n<th width=\"16%\"><a href=\"/wiki/List_of_Nobel_laureates_in_Literature\" title=\"List of Nobel laureates in Literature\">Literature</a>\\n</th>\\n<th width=\"16%\"><a href=\"/wiki/List_of_Nobel_Peace_Prize_laureates\" title=\"List of Nobel Peace Prize laureates\">Peace</a>\\n</th>\\n<th width=\"15%\"><a href=\"/wiki/List_of_Nobel_laureates_in_Economics\" class=\"mw-redirect\" title=\"List of Nobel laureates in Economics\">Economics</a>\\n</th></tr></tbody></table>\\n<h2><span class=\"mw-headline\" id=\"See_also\">See also</span></h2>\\n<ul><li><a href=\"/wiki/List_of_Nobel_laureates_by_country\" title=\"List of Nobel laureates by country\">List of Nobel laureates by country</a></li>\\n<li><a href=\"/wiki/List_of_Nobel_laureates_by_university_affiliation\" title=\"List of Nobel laureates by university affiliation\">List of Nobel laureates by university affiliation</a></li>\\n<li><a href=\"/wiki/Nobel_Prize_laureates_by_secondary_school_affiliation\" class=\"mw-redirect\" title=\"Nobel Prize laureates by secondary school affiliation\">Nobel Prize laureates by secondary school affiliation</a></li>\\n<li><a href=\"/wiki/List_of_female_Nobel_laureates\" title=\"List of female Nobel laureates\">List of female Nobel laureates</a></li>\\n<li><a href=\"/wiki/List_of_nominees_for_the_Nobel_Prize_in_Literature\" title=\"List of nominees for the Nobel Prize in Literature\">List of nominees for the Nobel Prize in Literature</a></li>\\n<li><a href=\"/wiki/List_of_nominees_for_the_Nobel_Prize_in_Chemistry\" title=\"List of nominees for the Nobel Prize in Chemistry\">List of nominees for the Nobel Prize in Chemistry</a></li>\\n<li><a href=\"/wiki/List_of_female_nominees_for_the_Nobel_Prize\" title=\"List of female nominees for the Nobel Prize\">List of female nominees for the Nobel Prize</a></li>\\n<li><a href=\"/wiki/List_of_organizations_nominated_for_the_Nobel_Peace_Prize\" title=\"List of organizations nominated for the Nobel Peace Prize\">List of organizations nominated for the Nobel Peace Prize</a></li></ul>\\n<h2><span class=\"mw-headline\" id=\"Notes\">Notes</span></h2>\\n<style data-mw-deduplicate=\"TemplateStyles:r1011085734\">.mw-parser-output .reflist{font-size:90%;margin-bottom:0.5em;list-style-type:decimal}.mw-parser-output .reflist .references{font-size:100%;margin-bottom:0;list-style-type:inherit}.mw-parser-output .reflist-columns-2{column-width:30em}.mw-parser-output .reflist-columns-3{column-width:25em}.mw-parser-output .reflist-columns{margin-top:0.3em}.mw-parser-output .reflist-columns ol{margin-top:0}.mw-parser-output .reflist-columns li{page-break-inside:avoid;break-inside:avoid-column}.mw-parser-output .reflist-upper-alpha{list-style-type:upper-alpha}.mw-parser-output .reflist-upper-roman{list-style-type:upper-roman}.mw-parser-output .reflist-lower-alpha{list-style-type:lower-alpha}.mw-parser-output .reflist-lower-greek{list-style-type:lower-greek}.mw-parser-output .reflist-lower-roman{list-style-type:lower-roman}</style><div class=\"reflist reflist-lower-alpha\">\\n<div class=\"mw-references-wrap\"><ol class=\"references\">\\n<li id=\"cite_note-A-14\"><span class=\"mw-cite-backlink\">^ <a href=\"#cite_ref-A_14-0\"><sup><i><b>a</b></i></sup></a> <a href=\"#cite_ref-A_14-1\"><sup><i><b>b</b></i></sup></a> <a href=\"#cite_ref-A_14-2\"><sup><i><b>c</b></i></sup></a></span> <span class=\"reference-text\"> In 1938 and 1939, the government of Germany did not allow three German Nobel nominees to accept their Nobel Prizes. The three were <a href=\"/wiki/Richard_Kuhn\" title=\"Richard Kuhn\">Richard Kuhn</a>, Nobel laureate in Chemistry in 1938; <a href=\"/wiki/Adolf_Butenandt\" title=\"Adolf Butenandt\">Adolf Butenandt</a>, Nobel laureate in Chemistry in 1939; and <a href=\"/wiki/Gerhard_Domagk\" title=\"Gerhard Domagk\">Gerhard Domagk</a>, Nobel laureate in Physiology or Medicine in 1939. They were later awarded the Nobel Prize diploma and medal, but not the money.<sup id=\"cite_ref-NobelFacts_11-2\" class=\"reference\"><a href=\"#cite_note-NobelFacts-11\">&#91;11&#93;</a></sup></span>\\n</li>\\n<li id=\"cite_note-B-16\"><span class=\"mw-cite-backlink\"><b><a href=\"#cite_ref-B_16-0\">^</a></b></span> <span class=\"reference-text\">\\nIn 1948, the Nobel Prize in Peace was not awarded.  The Nobel Foundation\\'s website suggests that it would have been awarded to <a href=\"/wiki/Mohandas_Karamchand_Gandhi\" class=\"mw-redirect\" title=\"Mohandas Karamchand Gandhi\">Mohandas Karamchand Gandhi</a>, however, due to his assassination earlier that year, it was left unassigned in his honor.<sup id=\"cite_ref-15\" class=\"reference\"><a href=\"#cite_note-15\">&#91;14&#93;</a></sup></span>\\n</li>\\n<li id=\"cite_note-C-17\"><span class=\"mw-cite-backlink\"><b><a href=\"#cite_ref-C_17-0\">^</a></b></span> <span class=\"reference-text\">In 1958, Russian-born <a href=\"/wiki/Boris_Pasternak\" title=\"Boris Pasternak\">Boris Pasternak</a>, under pressure from the government of the <a href=\"/wiki/Soviet_Union\" title=\"Soviet Union\">Soviet Union</a>, was forced to decline the Nobel Prize in Literature.<sup id=\"cite_ref-NobelFacts_11-3\" class=\"reference\"><a href=\"#cite_note-NobelFacts-11\">&#91;11&#93;</a></sup></span>\\n</li>\\n<li id=\"cite_note-D-18\"><span class=\"mw-cite-backlink\"><b><a href=\"#cite_ref-D_18-0\">^</a></b></span> <span class=\"reference-text\">In 1964, <a href=\"/wiki/Jean-Paul_Sartre\" title=\"Jean-Paul Sartre\">Jean-Paul Sartre</a> refused to accept the Nobel Prize in Literature, as he had consistently refused all official honors in the past.<sup id=\"cite_ref-NobelFacts_11-4\" class=\"reference\"><a href=\"#cite_note-NobelFacts-11\">&#91;11&#93;</a></sup></span>\\n</li>\\n<li id=\"cite_note-E-19\"><span class=\"mw-cite-backlink\"><b><a href=\"#cite_ref-E_19-0\">^</a></b></span> <span class=\"reference-text\">In 1973, <a href=\"/wiki/Le_Duc_Tho\" class=\"mw-redirect\" title=\"Le Duc Tho\">Lê Ðức Thọ</a> declined the Nobel Peace Prize. His reason was that he felt he did not deserve it because although he helped negotiate the <a href=\"/wiki/Paris_Peace_Accords\" title=\"Paris Peace Accords\">Paris Peace Accords</a> (a cease-fire in the <a href=\"/wiki/Vietnam_War\" title=\"Vietnam War\">Vietnam War</a>), there had been no actual peace agreement.<sup id=\"cite_ref-PeacePrizeArticle_7-1\" class=\"reference\"><a href=\"#cite_note-PeacePrizeArticle-7\">&#91;7&#93;</a></sup><sup id=\"cite_ref-NobelFacts_11-5\" class=\"reference\"><a href=\"#cite_note-NobelFacts-11\">&#91;11&#93;</a></sup></span>\\n</li>\\n<li id=\"cite_note-F-21\"><span class=\"mw-cite-backlink\"><b><a href=\"#cite_ref-F_21-0\">^</a></b></span> <span class=\"reference-text\">In 2010, <a href=\"/wiki/Liu_Xiaobo\" title=\"Liu Xiaobo\">Liu Xiaobo</a> was unable to receive the Nobel Peace Prize as he was sentenced to 11 years of imprisonment by the Chinese authorities.<sup id=\"cite_ref-20\" class=\"reference\"><a href=\"#cite_note-20\">&#91;15&#93;</a></sup></span>\\n</li>\\n<li id=\"cite_note-G-23\"><span class=\"mw-cite-backlink\"><b><a href=\"#cite_ref-G_23-0\">^</a></b></span> <span class=\"reference-text\">The 2018 Nobel Prize in Literature was awarded in 2019, as scandals within the <a href=\"/wiki/Swedish_Academy\" title=\"Swedish Academy\">Swedish Academy</a> forced it to postpone the ceremony.<sup id=\"cite_ref-22\" class=\"reference\"><a href=\"#cite_note-22\">&#91;16&#93;</a></sup></span>\\n</li>\\n</ol></div></div>\\n<h2><span class=\"mw-headline\" id=\"References\">References</span></h2>\\n<dl><dt>General</dt></dl>\\n<style data-mw-deduplicate=\"TemplateStyles:r1011217839\">.mw-parser-output .refbegin{font-size:90%;margin-bottom:0.5em}.mw-parser-output .refbegin-hanging-indents>ul{margin-left:0}.mw-parser-output .refbegin-hanging-indents>ul>li{margin-left:0;padding-left:3.2em;text-indent:-3.2em}.mw-parser-output .refbegin-hanging-indents ul,.mw-parser-output .refbegin-hanging-indents ul li{list-style:none}@media(max-width:720px){.mw-parser-output .refbegin-hanging-indents>ul>li{padding-left:1.6em;text-indent:-1.6em}}.mw-parser-output .refbegin-100{font-size:100%}.mw-parser-output .refbegin-columns{margin-top:0.3em}.mw-parser-output .refbegin-columns ul{margin-top:0}.mw-parser-output .refbegin-columns li{page-break-inside:avoid;break-inside:avoid-column}</style><div class=\"refbegin\" style=\"\">\\n<ul><li><style data-mw-deduplicate=\"TemplateStyles:r999302996\">.mw-parser-output cite.citation{font-style:inherit}.mw-parser-output .citation q{quotes:\"\\\\\"\"\"\\\\\"\"\"\\'\"\"\\'\"}.mw-parser-output .id-lock-free a,.mw-parser-output .citation .cs1-lock-free a{background:linear-gradient(transparent,transparent),url(\"//upload.wikimedia.org/wikipedia/commons/6/65/Lock-green.svg\")right 0.1em center/9px no-repeat}.mw-parser-output .id-lock-limited a,.mw-parser-output .id-lock-registration a,.mw-parser-output .citation .cs1-lock-limited a,.mw-parser-output .citation .cs1-lock-registration a{background:linear-gradient(transparent,transparent),url(\"//upload.wikimedia.org/wikipedia/commons/d/d6/Lock-gray-alt-2.svg\")right 0.1em center/9px no-repeat}.mw-parser-output .id-lock-subscription a,.mw-parser-output .citation .cs1-lock-subscription a{background:linear-gradient(transparent,transparent),url(\"//upload.wikimedia.org/wikipedia/commons/a/aa/Lock-red-alt-2.svg\")right 0.1em center/9px no-repeat}.mw-parser-output .cs1-subscription,.mw-parser-output .cs1-registration{color:#555}.mw-parser-output .cs1-subscription span,.mw-parser-output .cs1-registration span{border-bottom:1px dotted;cursor:help}.mw-parser-output .cs1-ws-icon a{background:linear-gradient(transparent,transparent),url(\"//upload.wikimedia.org/wikipedia/commons/4/4c/Wikisource-logo.svg\")right 0.1em center/12px no-repeat}.mw-parser-output code.cs1-code{color:inherit;background:inherit;border:none;padding:inherit}.mw-parser-output .cs1-hidden-error{display:none;font-size:100%}.mw-parser-output .cs1-visible-error{font-size:100%}.mw-parser-output .cs1-maint{display:none;color:#33aa33;margin-left:0.3em}.mw-parser-output .cs1-format{font-size:95%}.mw-parser-output .cs1-kern-left,.mw-parser-output .cs1-kern-wl-left{padding-left:0.2em}.mw-parser-output .cs1-kern-right,.mw-parser-output .cs1-kern-wl-right{padding-right:0.2em}.mw-parser-output .citation .mw-selflink{font-weight:inherit}</style><cite class=\"citation web cs1\"><a rel=\"nofollow\" class=\"external text\" href=\"http://nobelprize.org/nobel_prizes/physics/laureates/\">\"All Nobel Laureates in Physics\"</a>. <a href=\"/wiki/Nobel_Foundation\" title=\"Nobel Foundation\">Nobel Foundation</a><span class=\"reference-accessdate\">. Retrieved <span class=\"nowrap\">2008-11-25</span></span>.</cite><span title=\"ctx_ver=Z39.88-2004&amp;rft_val_fmt=info%3Aofi%2Ffmt%3Akev%3Amtx%3Abook&amp;rft.genre=unknown&amp;rft.btitle=All+Nobel+Laureates+in+Physics&amp;rft.pub=Nobel+Foundation&amp;rft_id=http%3A%2F%2Fnobelprize.org%2Fnobel_prizes%2Fphysics%2Flaureates%2F&amp;rfr_id=info%3Asid%2Fen.wikipedia.org%3AList+of+Nobel+laureates\" class=\"Z3988\"></span></li>\\n<li><link rel=\"mw-deduplicated-inline-style\" href=\"mw-data:TemplateStyles:r999302996\"/><cite class=\"citation web cs1\"><a rel=\"nofollow\" class=\"external text\" href=\"http://nobelprize.org/nobel_prizes/chemistry/laureates/\">\"All Nobel Laureates in Chemistry\"</a>. Nobel Foundation<span class=\"reference-accessdate\">. Retrieved <span class=\"nowrap\">2008-11-25</span></span>.</cite><span title=\"ctx_ver=Z39.88-2004&amp;rft_val_fmt=info%3Aofi%2Ffmt%3Akev%3Amtx%3Abook&amp;rft.genre=unknown&amp;rft.btitle=All+Nobel+Laureates+in+Chemistry&amp;rft.pub=Nobel+Foundation&amp;rft_id=http%3A%2F%2Fnobelprize.org%2Fnobel_prizes%2Fchemistry%2Flaureates%2F&amp;rfr_id=info%3Asid%2Fen.wikipedia.org%3AList+of+Nobel+laureates\" class=\"Z3988\"></span></li>\\n<li><link rel=\"mw-deduplicated-inline-style\" href=\"mw-data:TemplateStyles:r999302996\"/><cite class=\"citation web cs1\"><a rel=\"nofollow\" class=\"external text\" href=\"http://nobelprize.org/nobel_prizes/medicine/laureates/\">\"All Nobel Laureates in Medicine\"</a>. Nobel Foundation<span class=\"reference-accessdate\">. Retrieved <span class=\"nowrap\">2008-11-25</span></span>.</cite><span title=\"ctx_ver=Z39.88-2004&amp;rft_val_fmt=info%3Aofi%2Ffmt%3Akev%3Amtx%3Abook&amp;rft.genre=unknown&amp;rft.btitle=All+Nobel+Laureates+in+Medicine&amp;rft.pub=Nobel+Foundation&amp;rft_id=http%3A%2F%2Fnobelprize.org%2Fnobel_prizes%2Fmedicine%2Flaureates%2F&amp;rfr_id=info%3Asid%2Fen.wikipedia.org%3AList+of+Nobel+laureates\" class=\"Z3988\"></span></li>\\n<li><link rel=\"mw-deduplicated-inline-style\" href=\"mw-data:TemplateStyles:r999302996\"/><cite class=\"citation web cs1\"><a rel=\"nofollow\" class=\"external text\" href=\"http://nobelprize.org/nobel_prizes/literature/laureates/\">\"All Nobel Laureates in Literature\"</a>. Nobel Foundation<span class=\"reference-accessdate\">. Retrieved <span class=\"nowrap\">2008-11-25</span></span>.</cite><span title=\"ctx_ver=Z39.88-2004&amp;rft_val_fmt=info%3Aofi%2Ffmt%3Akev%3Amtx%3Abook&amp;rft.genre=unknown&amp;rft.btitle=All+Nobel+Laureates+in+Literature&amp;rft.pub=Nobel+Foundation&amp;rft_id=http%3A%2F%2Fnobelprize.org%2Fnobel_prizes%2Fliterature%2Flaureates%2F&amp;rfr_id=info%3Asid%2Fen.wikipedia.org%3AList+of+Nobel+laureates\" class=\"Z3988\"></span></li>\\n<li><link rel=\"mw-deduplicated-inline-style\" href=\"mw-data:TemplateStyles:r999302996\"/><cite class=\"citation web cs1\"><a rel=\"nofollow\" class=\"external text\" href=\"http://nobelprize.org/nobel_prizes/peace/laureates/\">\"All Nobel Peace Prize Laureates\"</a>. Nobel Foundation<span class=\"reference-accessdate\">. Retrieved <span class=\"nowrap\">2008-11-25</span></span>.</cite><span title=\"ctx_ver=Z39.88-2004&amp;rft_val_fmt=info%3Aofi%2Ffmt%3Akev%3Amtx%3Abook&amp;rft.genre=unknown&amp;rft.btitle=All+Nobel+Peace+Prize+Laureates&amp;rft.pub=Nobel+Foundation&amp;rft_id=http%3A%2F%2Fnobelprize.org%2Fnobel_prizes%2Fpeace%2Flaureates%2F&amp;rfr_id=info%3Asid%2Fen.wikipedia.org%3AList+of+Nobel+laureates\" class=\"Z3988\"></span></li>\\n<li><link rel=\"mw-deduplicated-inline-style\" href=\"mw-data:TemplateStyles:r999302996\"/><cite class=\"citation web cs1\"><a rel=\"nofollow\" class=\"external text\" href=\"http://nobelprize.org/nobel_prizes/economics/laureates/\">\"All Laureates in Economics\"</a>. Nobel Foundation<span class=\"reference-accessdate\">. Retrieved <span class=\"nowrap\">2008-11-25</span></span>.</cite><span title=\"ctx_ver=Z39.88-2004&amp;rft_val_fmt=info%3Aofi%2Ffmt%3Akev%3Amtx%3Abook&amp;rft.genre=unknown&amp;rft.btitle=All+Laureates+in+Economics&amp;rft.pub=Nobel+Foundation&amp;rft_id=http%3A%2F%2Fnobelprize.org%2Fnobel_prizes%2Feconomics%2Flaureates%2F&amp;rfr_id=info%3Asid%2Fen.wikipedia.org%3AList+of+Nobel+laureates\" class=\"Z3988\"></span></li></ul>\\n</div>\\n<dl><dt>Specific</dt></dl>\\n<link rel=\"mw-deduplicated-inline-style\" href=\"mw-data:TemplateStyles:r1011085734\"/><div class=\"reflist\">\\n<div class=\"mw-references-wrap mw-references-columns\"><ol class=\"references\">\\n<li id=\"cite_note-1\"><span class=\"mw-cite-backlink\"><b><a href=\"#cite_ref-1\">^</a></b></span> <span class=\"reference-text\"><link rel=\"mw-deduplicated-inline-style\" href=\"mw-data:TemplateStyles:r999302996\"/><cite class=\"citation web cs1\"><a rel=\"nofollow\" class=\"external text\" href=\"http://nobelprize.org/alfred_nobel/\">\"Alfred Nobel – The Man Behind the Nobel Prize\"</a>. <a href=\"/wiki/Nobel_Foundation\" title=\"Nobel Foundation\">Nobel Foundation</a>. <a rel=\"nofollow\" class=\"external text\" href=\"https://web.archive.org/web/20071025001741/http://nobelprize.org/alfred_nobel/\">Archived</a> from the original on 2007-10-25<span class=\"reference-accessdate\">. Retrieved <span class=\"nowrap\">2008-11-27</span></span>.</cite><span title=\"ctx_ver=Z39.88-2004&amp;rft_val_fmt=info%3Aofi%2Ffmt%3Akev%3Amtx%3Abook&amp;rft.genre=unknown&amp;rft.btitle=Alfred+Nobel+%E2%80%93+The+Man+Behind+the+Nobel+Prize&amp;rft.pub=Nobel+Foundation&amp;rft_id=http%3A%2F%2Fnobelprize.org%2Falfred_nobel%2F&amp;rfr_id=info%3Asid%2Fen.wikipedia.org%3AList+of+Nobel+laureates\" class=\"Z3988\"></span></span>\\n</li>\\n<li id=\"cite_note-NobelPrizeDescription-2\"><span class=\"mw-cite-backlink\">^ <a href=\"#cite_ref-NobelPrizeDescription_2-0\"><sup><i><b>a</b></i></sup></a> <a href=\"#cite_ref-NobelPrizeDescription_2-1\"><sup><i><b>b</b></i></sup></a></span> <span class=\"reference-text\"><link rel=\"mw-deduplicated-inline-style\" href=\"mw-data:TemplateStyles:r999302996\"/><cite class=\"citation web cs1\"><a rel=\"nofollow\" class=\"external text\" href=\"http://nobelprize.org/nobel_prizes/\">\"The Nobel Prize\"</a>. Nobel Foundation. <a rel=\"nofollow\" class=\"external text\" href=\"https://web.archive.org/web/20081015012957/http://nobelprize.org/nobel_prizes/\">Archived</a> from the original on 2008-10-15<span class=\"reference-accessdate\">. Retrieved <span class=\"nowrap\">2008-11-27</span></span>.</cite><span title=\"ctx_ver=Z39.88-2004&amp;rft_val_fmt=info%3Aofi%2Ffmt%3Akev%3Amtx%3Abook&amp;rft.genre=unknown&amp;rft.btitle=The+Nobel+Prize&amp;rft.pub=Nobel+Foundation&amp;rft_id=http%3A%2F%2Fnobelprize.org%2Fnobel_prizes%2F&amp;rfr_id=info%3Asid%2Fen.wikipedia.org%3AList+of+Nobel+laureates\" class=\"Z3988\"></span></span>\\n</li>\\n<li id=\"cite_note-3\"><span class=\"mw-cite-backlink\"><b><a href=\"#cite_ref-3\">^</a></b></span> <span class=\"reference-text\"><link rel=\"mw-deduplicated-inline-style\" href=\"mw-data:TemplateStyles:r999302996\"/><cite class=\"citation web cs1\"><a rel=\"nofollow\" class=\"external text\" href=\"https://web.archive.org/web/20081015013145/http://nobelprize.org/prize_awarders/\">\"The Nobel Prize Awarders\"</a>. Nobel Foundation. Archived from <a rel=\"nofollow\" class=\"external text\" href=\"http://nobelprize.org/prize_awarders/\">the original</a> on 2008-10-15<span class=\"reference-accessdate\">. Retrieved <span class=\"nowrap\">2008-11-27</span></span>.</cite><span title=\"ctx_ver=Z39.88-2004&amp;rft_val_fmt=info%3Aofi%2Ffmt%3Akev%3Amtx%3Abook&amp;rft.genre=unknown&amp;rft.btitle=The+Nobel+Prize+Awarders&amp;rft.pub=Nobel+Foundation&amp;rft_id=http%3A%2F%2Fnobelprize.org%2Fprize_awarders%2F&amp;rfr_id=info%3Asid%2Fen.wikipedia.org%3AList+of+Nobel+laureates\" class=\"Z3988\"></span></span>\\n</li>\\n<li id=\"cite_note-4\"><span class=\"mw-cite-backlink\"><b><a href=\"#cite_ref-4\">^</a></b></span> <span class=\"reference-text\"><link rel=\"mw-deduplicated-inline-style\" href=\"mw-data:TemplateStyles:r999302996\"/><cite class=\"citation web cs1\"><a rel=\"nofollow\" class=\"external text\" href=\"https://web.archive.org/web/20180615112534/https://www.nobelprize.org/nobel_prizes/about/amounts/prize_amounts_18.pdf\">\"The Nobel Prize Amounts\"</a> <span class=\"cs1-format\">(PDF)</span>. Nobel Foundation. Archived from <a rel=\"nofollow\" class=\"external text\" href=\"https://www.nobelprize.org/nobel_prizes/about/amounts/prize_amounts_18.pdf\">the original</a> <span class=\"cs1-format\">(PDF)</span> on 2018-06-15<span class=\"reference-accessdate\">. Retrieved <span class=\"nowrap\">2018-06-23</span></span>.</cite><span title=\"ctx_ver=Z39.88-2004&amp;rft_val_fmt=info%3Aofi%2Ffmt%3Akev%3Amtx%3Abook&amp;rft.genre=unknown&amp;rft.btitle=The+Nobel+Prize+Amounts&amp;rft.pub=Nobel+Foundation&amp;rft_id=https%3A%2F%2Fwww.nobelprize.org%2Fnobel_prizes%2Fabout%2Famounts%2Fprize_amounts_18.pdf&amp;rfr_id=info%3Asid%2Fen.wikipedia.org%3AList+of+Nobel+laureates\" class=\"Z3988\"></span></span>\\n</li>\\n<li id=\"cite_note-5\"><span class=\"mw-cite-backlink\"><b><a href=\"#cite_ref-5\">^</a></b></span> <span class=\"reference-text\"><link rel=\"mw-deduplicated-inline-style\" href=\"mw-data:TemplateStyles:r999302996\"/><cite class=\"citation web cs1\"><a rel=\"nofollow\" class=\"external text\" href=\"https://web.archive.org/web/20080822184717/http://nobelprize.org/award_ceremonies/\">\"The Nobel Prize Award Ceremonies\"</a>. Nobel Foundation. Archived from <a rel=\"nofollow\" class=\"external text\" href=\"http://nobelprize.org/award_ceremonies/\">the original</a> on 2008-08-22<span class=\"reference-accessdate\">. Retrieved <span class=\"nowrap\">2008-11-27</span></span>.</cite><span title=\"ctx_ver=Z39.88-2004&amp;rft_val_fmt=info%3Aofi%2Ffmt%3Akev%3Amtx%3Abook&amp;rft.genre=unknown&amp;rft.btitle=The+Nobel+Prize+Award+Ceremonies&amp;rft.pub=Nobel+Foundation&amp;rft_id=http%3A%2F%2Fnobelprize.org%2Faward_ceremonies%2F&amp;rfr_id=info%3Asid%2Fen.wikipedia.org%3AList+of+Nobel+laureates\" class=\"Z3988\"></span></span>\\n</li>\\n<li id=\"cite_note-Winners1942-6\"><span class=\"mw-cite-backlink\"><b><a href=\"#cite_ref-Winners1942_6-0\">^</a></b></span> <span class=\"reference-text\"><link rel=\"mw-deduplicated-inline-style\" href=\"mw-data:TemplateStyles:r999302996\"/><cite class=\"citation web cs1\"><a rel=\"nofollow\" class=\"external text\" href=\"https://web.archive.org/web/20081208204301/http://nobelprize.org/nobel_prizes/lists/1942.html\">\"List of All Nobel Laureates 1942\"</a>. Nobel Foundation. Archived from <a rel=\"nofollow\" class=\"external text\" href=\"http://nobelprize.org/nobel_prizes/lists/1942.html\">the original</a> on 2008-12-08<span class=\"reference-accessdate\">. Retrieved <span class=\"nowrap\">2008-11-30</span></span>.</cite><span title=\"ctx_ver=Z39.88-2004&amp;rft_val_fmt=info%3Aofi%2Ffmt%3Akev%3Amtx%3Abook&amp;rft.genre=unknown&amp;rft.btitle=List+of+All+Nobel+Laureates+1942&amp;rft.pub=Nobel+Foundation&amp;rft_id=http%3A%2F%2Fnobelprize.org%2Fnobel_prizes%2Flists%2F1942.html&amp;rfr_id=info%3Asid%2Fen.wikipedia.org%3AList+of+Nobel+laureates\" class=\"Z3988\"></span></span>\\n</li>\\n<li id=\"cite_note-PeacePrizeArticle-7\"><span class=\"mw-cite-backlink\">^ <a href=\"#cite_ref-PeacePrizeArticle_7-0\"><sup><i><b>a</b></i></sup></a> <a href=\"#cite_ref-PeacePrizeArticle_7-1\"><sup><i><b>b</b></i></sup></a></span> <span class=\"reference-text\"><link rel=\"mw-deduplicated-inline-style\" href=\"mw-data:TemplateStyles:r999302996\"/><cite id=\"CITEREFLundestad,_Geir2001\" class=\"citation web cs1\">Lundestad, Geir (2001-03-15). <a rel=\"nofollow\" class=\"external text\" href=\"http://nobelprize.org/nobel_prizes/peace/articles/lundestad-review/index.html\">\"The Nobel Peace Prize 1901-2000\"</a>. Nobel Foundation. <a rel=\"nofollow\" class=\"external text\" href=\"https://web.archive.org/web/20081219224814/http://nobelprize.org/nobel_prizes/peace/articles/lundestad-review/index.html\">Archived</a> from the original on 2008-12-19<span class=\"reference-accessdate\">. Retrieved <span class=\"nowrap\">2008-11-30</span></span>.</cite><span title=\"ctx_ver=Z39.88-2004&amp;rft_val_fmt=info%3Aofi%2Ffmt%3Akev%3Amtx%3Abook&amp;rft.genre=unknown&amp;rft.btitle=The+Nobel+Peace+Prize+1901-2000&amp;rft.pub=Nobel+Foundation&amp;rft.date=2001-03-15&amp;rft.au=Lundestad%2C+Geir&amp;rft_id=http%3A%2F%2Fnobelprize.org%2Fnobel_prizes%2Fpeace%2Farticles%2Flundestad-review%2Findex.html&amp;rfr_id=info%3Asid%2Fen.wikipedia.org%3AList+of+Nobel+laureates\" class=\"Z3988\"></span></span>\\n</li>\\n<li id=\"cite_note-8\"><span class=\"mw-cite-backlink\"><b><a href=\"#cite_ref-8\">^</a></b></span> <span class=\"reference-text\"><link rel=\"mw-deduplicated-inline-style\" href=\"mw-data:TemplateStyles:r999302996\"/><cite class=\"citation web cs1\"><a rel=\"nofollow\" class=\"external text\" href=\"https://www.nobelprize.org/nobel_prizes/lists/all/index.html\">\"All Nobel Prizes\"</a>. <i>www.nobelprize.org</i>. <a rel=\"nofollow\" class=\"external text\" href=\"https://web.archive.org/web/20180406045423/https://www.nobelprize.org/nobel_prizes/lists/all/index.html\">Archived</a> from the original on 6 April 2018<span class=\"reference-accessdate\">. Retrieved <span class=\"nowrap\">14 March</span> 2018</span>.</cite><span title=\"ctx_ver=Z39.88-2004&amp;rft_val_fmt=info%3Aofi%2Ffmt%3Akev%3Amtx%3Ajournal&amp;rft.genre=unknown&amp;rft.jtitle=www.nobelprize.org&amp;rft.atitle=All+Nobel+Prizes&amp;rft_id=https%3A%2F%2Fwww.nobelprize.org%2Fnobel_prizes%2Flists%2Fall%2Findex.html&amp;rfr_id=info%3Asid%2Fen.wikipedia.org%3AList+of+Nobel+laureates\" class=\"Z3988\"></span></span>\\n</li>\\n<li id=\"cite_note-9\"><span class=\"mw-cite-backlink\"><b><a href=\"#cite_ref-9\">^</a></b></span> <span class=\"reference-text\"><link rel=\"mw-deduplicated-inline-style\" href=\"mw-data:TemplateStyles:r999302996\"/><cite class=\"citation web cs1\"><a rel=\"nofollow\" class=\"external text\" href=\"https://www.nobelpeaceprize.org/Press/Press-Releases2/Norwegian-Nobel-Committee-mourns-Liu-Xiaobo-statement-by-Chair-Berit-Reiss-Andersen\">\"Norwegian Nobel Committee mourns Liu Xiaobo, statement by Chair Berit Reiss-Andersen\"</a>. <i>The Nobel Peace Prize</i><span class=\"reference-accessdate\">. Retrieved <span class=\"nowrap\">2020-10-08</span></span>.</cite><span title=\"ctx_ver=Z39.88-2004&amp;rft_val_fmt=info%3Aofi%2Ffmt%3Akev%3Amtx%3Ajournal&amp;rft.genre=unknown&amp;rft.jtitle=The+Nobel+Peace+Prize&amp;rft.atitle=Norwegian+Nobel+Committee+mourns+Liu+Xiaobo%2C+statement+by+Chair+Berit+Reiss-Andersen&amp;rft_id=https%3A%2F%2Fwww.nobelpeaceprize.org%2FPress%2FPress-Releases2%2FNorwegian-Nobel-Committee-mourns-Liu-Xiaobo-statement-by-Chair-Berit-Reiss-Andersen&amp;rfr_id=info%3Asid%2Fen.wikipedia.org%3AList+of+Nobel+laureates\" class=\"Z3988\"></span></span>\\n</li>\\n<li id=\"cite_note-10\"><span class=\"mw-cite-backlink\"><b><a href=\"#cite_ref-10\">^</a></b></span> <span class=\"reference-text\"><link rel=\"mw-deduplicated-inline-style\" href=\"mw-data:TemplateStyles:r999302996\"/><cite class=\"citation web cs1\"><a rel=\"nofollow\" class=\"external text\" href=\"https://web.archive.org/web/20101221234853/http://www.aolnews.com/2010/11/18/liu-xiaobo-isnt-the-first-nobel-laureate-barred-from-accepting/\">\"Liu Xiaobo Isn\\'t the First Nobel Laureate Barred From Accepting His Prize\"</a>. 2010-12-21. Archived from <a rel=\"nofollow\" class=\"external text\" href=\"http://www.aolnews.com/2010/11/18/liu-xiaobo-isnt-the-first-nobel-laureate-barred-from-accepting/\">the original</a> on 2010-12-21<span class=\"reference-accessdate\">. Retrieved <span class=\"nowrap\">2020-10-08</span></span>.</cite><span title=\"ctx_ver=Z39.88-2004&amp;rft_val_fmt=info%3Aofi%2Ffmt%3Akev%3Amtx%3Abook&amp;rft.genre=unknown&amp;rft.btitle=Liu+Xiaobo+Isn%27t+the+First+Nobel+Laureate+Barred+From+Accepting+His+Prize&amp;rft.date=2010-12-21&amp;rft_id=http%3A%2F%2Fwww.aolnews.com%2F2010%2F11%2F18%2Fliu-xiaobo-isnt-the-first-nobel-laureate-barred-from-accepting%2F&amp;rfr_id=info%3Asid%2Fen.wikipedia.org%3AList+of+Nobel+laureates\" class=\"Z3988\"></span></span>\\n</li>\\n<li id=\"cite_note-NobelFacts-11\"><span class=\"mw-cite-backlink\">^ <a href=\"#cite_ref-NobelFacts_11-0\"><sup><i><b>a</b></i></sup></a> <a href=\"#cite_ref-NobelFacts_11-1\"><sup><i><b>b</b></i></sup></a> <a href=\"#cite_ref-NobelFacts_11-2\"><sup><i><b>c</b></i></sup></a> <a href=\"#cite_ref-NobelFacts_11-3\"><sup><i><b>d</b></i></sup></a> <a href=\"#cite_ref-NobelFacts_11-4\"><sup><i><b>e</b></i></sup></a> <a href=\"#cite_ref-NobelFacts_11-5\"><sup><i><b>f</b></i></sup></a></span> <span class=\"reference-text\"><link rel=\"mw-deduplicated-inline-style\" href=\"mw-data:TemplateStyles:r999302996\"/><cite class=\"citation web cs1\"><a rel=\"nofollow\" class=\"external text\" href=\"https://www.nobelprize.org/nobel_prizes/facts/\">\"Nobel Prize Facts\"</a>. Nobel Foundation. <a rel=\"nofollow\" class=\"external text\" href=\"https://web.archive.org/web/20170708135926/https://www.nobelprize.org/nobel_prizes/facts/\">Archived</a> from the original on 2017-07-08<span class=\"reference-accessdate\">. Retrieved <span class=\"nowrap\">2015-10-11</span></span>.</cite><span title=\"ctx_ver=Z39.88-2004&amp;rft_val_fmt=info%3Aofi%2Ffmt%3Akev%3Amtx%3Abook&amp;rft.genre=unknown&amp;rft.btitle=Nobel+Prize+Facts&amp;rft.pub=Nobel+Foundation&amp;rft_id=https%3A%2F%2Fwww.nobelprize.org%2Fnobel_prizes%2Ffacts%2F&amp;rfr_id=info%3Asid%2Fen.wikipedia.org%3AList+of+Nobel+laureates\" class=\"Z3988\"></span></span>\\n</li>\\n<li id=\"cite_note-WomenLaureates-12\"><span class=\"mw-cite-backlink\"><b><a href=\"#cite_ref-WomenLaureates_12-0\">^</a></b></span> <span class=\"reference-text\"><link rel=\"mw-deduplicated-inline-style\" href=\"mw-data:TemplateStyles:r999302996\"/><cite class=\"citation web cs1\"><a rel=\"nofollow\" class=\"external text\" href=\"http://nobelprize.org/nobel_prizes/lists/women.html\">\"Women Nobel Laureates\"</a>. Nobel Foundation. <a rel=\"nofollow\" class=\"external text\" href=\"https://web.archive.org/web/20080928215436/http://nobelprize.org/nobel_prizes/lists/women.html\">Archived</a> from the original on 2008-09-28<span class=\"reference-accessdate\">. Retrieved <span class=\"nowrap\">2011-10-11</span></span>.</cite><span title=\"ctx_ver=Z39.88-2004&amp;rft_val_fmt=info%3Aofi%2Ffmt%3Akev%3Amtx%3Abook&amp;rft.genre=unknown&amp;rft.btitle=Women+Nobel+Laureates&amp;rft.pub=Nobel+Foundation&amp;rft_id=http%3A%2F%2Fnobelprize.org%2Fnobel_prizes%2Flists%2Fwomen.html&amp;rfr_id=info%3Asid%2Fen.wikipedia.org%3AList+of+Nobel+laureates\" class=\"Z3988\"></span></span>\\n</li>\\n<li id=\"cite_note-13\"><span class=\"mw-cite-backlink\"><b><a href=\"#cite_ref-13\">^</a></b></span> <span class=\"reference-text\"><link rel=\"mw-deduplicated-inline-style\" href=\"mw-data:TemplateStyles:r999302996\"/><cite class=\"citation web cs1\"><a rel=\"nofollow\" class=\"external text\" href=\"https://www.nobelprize.org/nomination/economic-sciences/\">\"Nomination and selection of Laureates in Economic Sciences\"</a>. Nobel Foundation<span class=\"reference-accessdate\">. Retrieved <span class=\"nowrap\">13 May</span> 2020</span>.</cite><span title=\"ctx_ver=Z39.88-2004&amp;rft_val_fmt=info%3Aofi%2Ffmt%3Akev%3Amtx%3Abook&amp;rft.genre=unknown&amp;rft.btitle=Nomination+and+selection+of+Laureates+in+Economic+Sciences&amp;rft.pub=Nobel+Foundation&amp;rft_id=https%3A%2F%2Fwww.nobelprize.org%2Fnomination%2Feconomic-sciences%2F&amp;rfr_id=info%3Asid%2Fen.wikipedia.org%3AList+of+Nobel+laureates\" class=\"Z3988\"></span></span>\\n</li>\\n<li id=\"cite_note-15\"><span class=\"mw-cite-backlink\"><b><a href=\"#cite_ref-15\">^</a></b></span> <span class=\"reference-text\"><link rel=\"mw-deduplicated-inline-style\" href=\"mw-data:TemplateStyles:r999302996\"/><cite id=\"CITEREFTønnesson1999\" class=\"citation web cs1\">Tønnesson, Øyvind (December 1, 1999). <a rel=\"nofollow\" class=\"external text\" href=\"http://nobelprize.org/nobel_prizes/peace/articles/gandhi/index.html\">\"Mahatma Gandhi, the Missing Laureates\"</a>. Nobel Foundation. <a rel=\"nofollow\" class=\"external text\" href=\"https://web.archive.org/web/20100109111533/http://nobelprize.org/nobel_prizes/peace/articles/gandhi/index.html\">Archived</a> from the original on January 9, 2010<span class=\"reference-accessdate\">. Retrieved <span class=\"nowrap\">January 3,</span> 2010</span>. <q>Later, there have been speculations that the committee members could have had another deceased peace worker than Gandhi in mind when they declared that there was \"no suitable living candidate\", namely the Swedish UN envoy to Palestine, Count Bernadotte, who was murdered in September 1948. Today, this can be ruled out; Bernadotte had not been nominated in 1948. Thus it seems reasonable to assume that Gandhi would have been invited to Oslo to receive the Nobel Peace Prize had he been alive one more year.</q></cite><span title=\"ctx_ver=Z39.88-2004&amp;rft_val_fmt=info%3Aofi%2Ffmt%3Akev%3Amtx%3Abook&amp;rft.genre=unknown&amp;rft.btitle=Mahatma+Gandhi%2C+the+Missing+Laureates&amp;rft.pub=Nobel+Foundation&amp;rft.date=1999-12-01&amp;rft.aulast=T%C3%B8nnesson&amp;rft.aufirst=%C3%98yvind&amp;rft_id=http%3A%2F%2Fnobelprize.org%2Fnobel_prizes%2Fpeace%2Farticles%2Fgandhi%2Findex.html&amp;rfr_id=info%3Asid%2Fen.wikipedia.org%3AList+of+Nobel+laureates\" class=\"Z3988\"></span></span>\\n</li>\\n<li id=\"cite_note-20\"><span class=\"mw-cite-backlink\"><b><a href=\"#cite_ref-20\">^</a></b></span> <span class=\"reference-text\"><link rel=\"mw-deduplicated-inline-style\" href=\"mw-data:TemplateStyles:r999302996\"/><cite class=\"citation web cs1\"><a rel=\"nofollow\" class=\"external text\" href=\"http://nobelprize.org/nobel_prizes/peace/laureates/2010/presentation-speech.html\">\"The Nobel Peace Prize 2010 - Presentation Speech\"</a>. Nobel Foundation. <a rel=\"nofollow\" class=\"external text\" href=\"https://web.archive.org/web/20111105135039/http://www.nobelprize.org/nobel_prizes/peace/laureates/2010/presentation-speech.html\">Archived</a> from the original on November 5, 2011<span class=\"reference-accessdate\">. Retrieved <span class=\"nowrap\">October 10,</span> 2011</span>.</cite><span title=\"ctx_ver=Z39.88-2004&amp;rft_val_fmt=info%3Aofi%2Ffmt%3Akev%3Amtx%3Abook&amp;rft.genre=unknown&amp;rft.btitle=The+Nobel+Peace+Prize+2010+-+Presentation+Speech&amp;rft.pub=Nobel+Foundation&amp;rft_id=http%3A%2F%2Fnobelprize.org%2Fnobel_prizes%2Fpeace%2Flaureates%2F2010%2Fpresentation-speech.html&amp;rfr_id=info%3Asid%2Fen.wikipedia.org%3AList+of+Nobel+laureates\" class=\"Z3988\"></span></span>\\n</li>\\n<li id=\"cite_note-22\"><span class=\"mw-cite-backlink\"><b><a href=\"#cite_ref-22\">^</a></b></span> <span class=\"reference-text\"><link rel=\"mw-deduplicated-inline-style\" href=\"mw-data:TemplateStyles:r999302996\"/><cite id=\"CITEREFHenley2019\" class=\"citation news cs1\">Henley, Jon (10 October 2019). <a rel=\"nofollow\" class=\"external text\" href=\"https://www.theguardian.com/books/2019/oct/10/nobel-prize-for-literature-to-be-awarded-twice-after-sexual-assault-scandal\">\"Two Nobel literature prizes to be awarded after sexual assault scandal\"</a>. <i>The Guardian</i><span class=\"reference-accessdate\">. Retrieved <span class=\"nowrap\">10 October</span> 2019</span>.</cite><span title=\"ctx_ver=Z39.88-2004&amp;rft_val_fmt=info%3Aofi%2Ffmt%3Akev%3Amtx%3Ajournal&amp;rft.genre=article&amp;rft.jtitle=The+Guardian&amp;rft.atitle=Two+Nobel+literature+prizes+to+be+awarded+after+sexual+assault+scandal&amp;rft.date=2019-10-10&amp;rft.aulast=Henley&amp;rft.aufirst=Jon&amp;rft_id=https%3A%2F%2Fwww.theguardian.com%2Fbooks%2F2019%2Foct%2F10%2Fnobel-prize-for-literature-to-be-awarded-twice-after-sexual-assault-scandal&amp;rfr_id=info%3Asid%2Fen.wikipedia.org%3AList+of+Nobel+laureates\" class=\"Z3988\"></span></span>\\n</li>\\n</ol></div></div>\\n<h2><span class=\"mw-headline\" id=\"External_links\">External links</span></h2>\\n<table role=\"presentation\" class=\"mbox-small plainlinks sistersitebox\" style=\"background-color:#f9f9f9;border:1px solid #aaa;color:#000\">\\n<tbody><tr>\\n<td class=\"mbox-image\"><img alt=\"\" src=\"//upload.wikimedia.org/wikipedia/en/thumb/4/4a/Commons-logo.svg/30px-Commons-logo.svg.png\" decoding=\"async\" width=\"30\" height=\"40\" class=\"noviewer\" srcset=\"//upload.wikimedia.org/wikipedia/en/thumb/4/4a/Commons-logo.svg/45px-Commons-logo.svg.png 1.5x, //upload.wikimedia.org/wikipedia/en/thumb/4/4a/Commons-logo.svg/59px-Commons-logo.svg.png 2x\" data-file-width=\"1024\" data-file-height=\"1376\" /></td>\\n<td class=\"mbox-text plainlist\">Wikimedia Commons has media related to <span style=\"font-weight: bold; font-style: italic;\"><a href=\"https://commons.wikimedia.org/wiki/Category:Nobel_laureates\" class=\"extiw\" title=\"commons:Category:Nobel laureates\">Nobel laureates</a></span>.</td></tr>\\n</tbody></table>\\n<ul><li><a rel=\"nofollow\" class=\"external text\" href=\"http://www.kva.se/en/\">Official website of the Royal Swedish Academy of Sciences</a></li>\\n<li><a rel=\"nofollow\" class=\"external text\" href=\"http://nobelprize.org/\">Official website of the Nobel Foundation</a></li>\\n<li><a rel=\"nofollow\" class=\"external text\" href=\"http://www.aggdata.com/awards/nobel_prize_winners\">Downloadable Database of Nobel Laureates</a></li></ul>\\n<div role=\"navigation\" class=\"navbox\" aria-labelledby=\"Nobel_Prizes\" style=\"padding:3px\"><table class=\"nowraplinks hlist mw-collapsible mw-collapsed navbox-inner\" style=\"border-spacing:0;background:transparent;color:inherit\"><tbody><tr><th scope=\"col\" class=\"navbox-title\" colspan=\"3\"><style data-mw-deduplicate=\"TemplateStyles:r992953826\">.mw-parser-output .navbar{display:inline;font-size:88%;font-weight:normal}.mw-parser-output .navbar-collapse{float:left;text-align:left}.mw-parser-output .navbar-boxtext{word-spacing:0}.mw-parser-output .navbar ul{display:inline-block;white-space:nowrap;line-height:inherit}.mw-parser-output .navbar-brackets::before{margin-right:-0.125em;content:\"[ \"}.mw-parser-output .navbar-brackets::after{margin-left:-0.125em;content:\" ]\"}.mw-parser-output .navbar li{word-spacing:-0.125em}.mw-parser-output .navbar-mini abbr{font-variant:small-caps;border-bottom:none;text-decoration:none;cursor:inherit}.mw-parser-output .navbar-ct-full{font-size:114%;margin:0 7em}.mw-parser-output .navbar-ct-mini{font-size:114%;margin:0 4em}.mw-parser-output .infobox .navbar{font-size:100%}.mw-parser-output .navbox .navbar{display:block;font-size:100%}.mw-parser-output .navbox-title .navbar{float:left;text-align:left;margin-right:0.5em}</style><div class=\"navbar plainlinks hlist navbar-mini\"><ul><li class=\"nv-view\"><a href=\"/wiki/Template:Nobel_Prizes\" title=\"Template:Nobel Prizes\"><abbr title=\"View this template\" style=\";;background:none transparent;border:none;box-shadow:none;padding:0;\">v</abbr></a></li><li class=\"nv-talk\"><a href=\"/wiki/Template_talk:Nobel_Prizes\" title=\"Template talk:Nobel Prizes\"><abbr title=\"Discuss this template\" style=\";;background:none transparent;border:none;box-shadow:none;padding:0;\">t</abbr></a></li><li class=\"nv-edit\"><a class=\"external text\" href=\"https://en.wikipedia.org/w/index.php?title=Template:Nobel_Prizes&amp;action=edit\"><abbr title=\"Edit this template\" style=\";;background:none transparent;border:none;box-shadow:none;padding:0;\">e</abbr></a></li></ul></div><div id=\"Nobel_Prizes\" style=\"font-size:114%;margin:0 4em\"><a href=\"/wiki/Nobel_Prize\" title=\"Nobel Prize\">Nobel Prizes</a></div></th></tr><tr><td class=\"navbox-abovebelow\" colspan=\"3\" style=\"hlist\"><div id=\"*_Lists_of_Nobel_laureates\">\\n<ul><li><a href=\"/wiki/Lists_of_Nobel_laureates\" title=\"Lists of Nobel laureates\">Lists of Nobel laureates</a></li></ul>\\n</div></td></tr><tr><th scope=\"row\" class=\"navbox-group\" style=\"width:1%;line-height:1.2em\">Prizes</th><td class=\"navbox-list navbox-odd\" style=\"text-align:left;border-left-width:2px;border-left-style:solid;width:100%;padding:0px\"><div style=\"padding:0em 0.25em\">\\n<ul><li><a href=\"/wiki/Nobel_Prize_in_Chemistry\" title=\"Nobel Prize in Chemistry\">Chemistry</a></li>\\n<li><a href=\"/wiki/Nobel_Prize_in_Literature\" title=\"Nobel Prize in Literature\">Literature</a></li>\\n<li><a href=\"/wiki/Nobel_Peace_Prize\" title=\"Nobel Peace Prize\">Peace</a></li>\\n<li><a href=\"/wiki/Nobel_Prize_in_Physics\" title=\"Nobel Prize in Physics\">Physics</a></li>\\n<li><a href=\"/wiki/Nobel_Prize_in_Physiology_or_Medicine\" title=\"Nobel Prize in Physiology or Medicine\">Physiology or Medicine</a></li></ul>\\n</div></td><td class=\"noviewer navbox-image\" rowspan=\"6\" style=\"width:1px;padding:0px 0px 0px 2px\"><div><a href=\"/wiki/File:Nobel_Prize.png\" class=\"image\"><img alt=\"Nobel Prize.png\" src=\"//upload.wikimedia.org/wikipedia/en/thumb/e/ed/Nobel_Prize.png/100px-Nobel_Prize.png\" decoding=\"async\" width=\"100\" height=\"98\" srcset=\"//upload.wikimedia.org/wikipedia/en/thumb/e/ed/Nobel_Prize.png/150px-Nobel_Prize.png 1.5x, //upload.wikimedia.org/wikipedia/en/thumb/e/ed/Nobel_Prize.png/200px-Nobel_Prize.png 2x\" data-file-width=\"500\" data-file-height=\"492\" /></a></div></td></tr><tr><th scope=\"row\" class=\"navbox-group\" style=\"width:1%;line-height:1.2em\">Memorial Prize</th><td class=\"navbox-list navbox-even\" style=\"text-align:left;border-left-width:2px;border-left-style:solid;width:100%;padding:0px\"><div style=\"padding:0em 0.25em\">\\n<ul><li><a href=\"/wiki/Nobel_Memorial_Prize_in_Economic_Sciences\" title=\"Nobel Memorial Prize in Economic Sciences\">Economics</a><sup><small>1</small></sup></li></ul>\\n</div></td></tr><tr><th scope=\"row\" class=\"navbox-group\" style=\"width:1%;line-height:1.2em\"><a class=\"mw-selflink selflink\">Laureates</a></th><td class=\"navbox-list navbox-odd\" style=\"text-align:left;border-left-width:2px;border-left-style:solid;width:100%;padding:0px\"><div style=\"padding:0em 0.25em\"></div><table class=\"nowraplinks navbox-subgroup\" style=\"border-spacing:0\"><tbody><tr><th scope=\"row\" class=\"navbox-group\" style=\"width:1%;font-weight:normal;\">by subject</th><td class=\"navbox-list navbox-odd\" style=\"text-align:left;border-left-width:2px;border-left-style:solid;width:100%;padding:0px\"><div style=\"padding:0em 0.25em\">\\n<ul><li><a href=\"/wiki/List_of_Nobel_laureates_in_Chemistry\" title=\"List of Nobel laureates in Chemistry\">Chemistry</a></li>\\n<li><a href=\"/wiki/List_of_Nobel_Memorial_Prize_laureates_in_Economics\" title=\"List of Nobel Memorial Prize laureates in Economics\">Economics</a></li>\\n<li><a href=\"/wiki/List_of_Nobel_laureates_in_Literature\" title=\"List of Nobel laureates in Literature\">Literature</a></li>\\n<li><a href=\"/wiki/List_of_Nobel_Peace_Prize_laureates\" title=\"List of Nobel Peace Prize laureates\">Peace</a></li>\\n<li><a href=\"/wiki/List_of_Nobel_laureates_in_Physics\" title=\"List of Nobel laureates in Physics\">Physics</a></li>\\n<li><a href=\"/wiki/List_of_Nobel_laureates_in_Physiology_or_Medicine\" title=\"List of Nobel laureates in Physiology or Medicine\">Physiology or Medicine</a></li></ul>\\n</div></td></tr><tr><th scope=\"row\" class=\"navbox-group\" style=\"width:1%;font-weight:normal;\">by criterion</th><td class=\"navbox-list navbox-even\" style=\"text-align:left;border-left-width:2px;border-left-style:solid;width:100%;padding:0px\"><div style=\"padding:0em 0.25em\">\\n<ul><li><a href=\"/wiki/List_of_African_Nobel_laureates\" title=\"List of African Nobel laureates\">African</a></li>\\n<li><a href=\"/wiki/List_of_Arab_Nobel_laureates\" title=\"List of Arab Nobel laureates\">Arab</a></li>\\n<li><a href=\"/wiki/List_of_Asian_Nobel_laureates\" title=\"List of Asian Nobel laureates\">Asian</a></li>\\n<li><a href=\"/wiki/List_of_Bengali_Nobel_laureates\" title=\"List of Bengali Nobel laureates\">Bengali</a></li>\\n<li><a href=\"/wiki/List_of_black_Nobel_laureates\" title=\"List of black Nobel laureates\">Black</a></li>\\n<li><a href=\"/wiki/List_of_Christian_Nobel_laureates\" title=\"List of Christian Nobel laureates\">Christian</a></li>\\n<li><a href=\"/wiki/List_of_female_Nobel_laureates\" title=\"List of female Nobel laureates\">Female</a></li>\\n<li><a href=\"/wiki/List_of_Jewish_Nobel_laureates\" title=\"List of Jewish Nobel laureates\">Jewish</a></li>\\n<li><a href=\"/wiki/List_of_Latin_American_Nobel_laureates\" title=\"List of Latin American Nobel laureates\">Latin American</a></li>\\n<li><a href=\"/wiki/List_of_Muslim_Nobel_laureates\" title=\"List of Muslim Nobel laureates\">Muslim</a></li>\\n<li><a href=\"/wiki/List_of_nonreligious_Nobel_laureates\" title=\"List of nonreligious Nobel laureates\">Non-religious</a></li></ul>\\n</div></td></tr><tr><th scope=\"row\" class=\"navbox-group\" style=\"width:1%;font-weight:normal;\"><a href=\"/wiki/List_of_Nobel_laureates_by_country\" title=\"List of Nobel laureates by country\">by country</a></th><td class=\"navbox-list navbox-odd\" style=\"text-align:left;border-left-width:2px;border-left-style:solid;width:100%;padding:0px\"><div style=\"padding:0em 0.25em\">\\n<ul><li><a href=\"/wiki/List_of_Argentine_Nobel_laureates\" title=\"List of Argentine Nobel laureates\">Argentine</a></li>\\n<li><a href=\"/wiki/List_of_Australian_Nobel_laureates\" title=\"List of Australian Nobel laureates\">Australian</a></li>\\n<li><a href=\"/wiki/List_of_Belgian_Nobel_laureates\" title=\"List of Belgian Nobel laureates\">Belgian</a></li>\\n<li><a href=\"/wiki/List_of_Chinese_Nobel_laureates\" title=\"List of Chinese Nobel laureates\">Chinese</a></li>\\n<li><a href=\"/wiki/List_of_Danish_Nobel_laureates\" title=\"List of Danish Nobel laureates\">Danish</a></li>\\n<li><a href=\"/wiki/List_of_Hungarian_Nobel_laureates\" title=\"List of Hungarian Nobel laureates\">Hungarian</a></li>\\n<li><a href=\"/wiki/List_of_Indian_Nobel_laureates\" title=\"List of Indian Nobel laureates\">Indian</a></li>\\n<li><a href=\"/wiki/List_of_Israeli_Nobel_laureates\" title=\"List of Israeli Nobel laureates\">Israeli</a></li>\\n<li><a href=\"/wiki/List_of_Italian_Nobel_laureates\" title=\"List of Italian Nobel laureates\">Italian</a></li>\\n<li><a href=\"/wiki/List_of_Japanese_Nobel_laureates\" title=\"List of Japanese Nobel laureates\">Japanese</a></li>\\n<li><a href=\"/wiki/List_of_Korean_Nobel_laureates\" title=\"List of Korean Nobel laureates\">Korean</a></li>\\n<li><a href=\"/wiki/List_of_Pakistani_Nobel_laureates\" title=\"List of Pakistani Nobel laureates\">Pakistani</a></li>\\n<li><a href=\"/wiki/List_of_Polish_Nobel_laureates\" title=\"List of Polish Nobel laureates\">Polish</a></li>\\n<li><a href=\"/wiki/List_of_Russian_Nobel_laureates\" title=\"List of Russian Nobel laureates\">Russian</a></li>\\n<li><a href=\"/wiki/List_of_Spanish_Nobel_laureates\" title=\"List of Spanish Nobel laureates\">Spanish</a></li>\\n<li><a href=\"/wiki/List_of_Nobel_laureates_from_Sweden\" title=\"List of Nobel laureates from Sweden\">Swedish</a></li>\\n<li><a href=\"/wiki/List_of_Welsh_Nobel_laureates\" title=\"List of Welsh Nobel laureates\">Welsh</a></li></ul>\\n</div></td></tr><tr><th scope=\"row\" class=\"navbox-group\" style=\"width:1%;font-weight:normal;\">by year</th><td class=\"navbox-list navbox-even\" style=\"text-align:left;border-left-width:2px;border-left-style:solid;width:100%;padding:0px\"><div style=\"padding:0em 0.25em\">\\n<ul><li><a class=\"mw-selflink selflink\">List of Nobel laureates by year</a></li></ul>\\n</div></td></tr><tr><th scope=\"row\" class=\"navbox-group\" style=\"width:1%;font-weight:normal;\"><a href=\"/wiki/List_of_Nobel_laureates_by_university_affiliation\" title=\"List of Nobel laureates by university affiliation\">by university <br />affiliation</a></th><td class=\"navbox-list navbox-odd\" style=\"text-align:left;border-left-width:2px;border-left-style:solid;width:100%;padding:0px\"><div style=\"padding:0em 0.25em\">\\n<ul><li><a href=\"/wiki/List_of_Nobel_laureates_affiliated_with_the_University_of_California,_Berkeley\" title=\"List of Nobel laureates affiliated with the University of California, Berkeley\">University of California, Berkeley</a></li>\\n<li><a href=\"/wiki/List_of_Nobel_laureates_affiliated_with_the_University_of_Cambridge\" title=\"List of Nobel laureates affiliated with the University of Cambridge\">University of Cambridge</a></li>\\n<li><a href=\"/wiki/List_of_Nobel_laureates_affiliated_with_California_Institute_of_Technology\" title=\"List of Nobel laureates affiliated with California Institute of Technology\">California Institute of Technology</a></li>\\n<li><a href=\"/wiki/List_of_Nobel_laureates_affiliated_with_the_City_University_of_New_York\" title=\"List of Nobel laureates affiliated with the City University of New York\">City University of New York</a></li>\\n<li><a href=\"/wiki/List_of_Nobel_laureates_affiliated_with_University_College_London\" title=\"List of Nobel laureates affiliated with University College London\">University College London</a></li>\\n<li><a href=\"/wiki/List_of_Nobel_laureates_affiliated_with_Columbia_University\" title=\"List of Nobel laureates affiliated with Columbia University\">Columbia University</a></li>\\n<li><a href=\"/wiki/List_of_Nobel_laureates_affiliated_with_Cornell_University\" title=\"List of Nobel laureates affiliated with Cornell University\">Cornell University</a></li>\\n<li><a href=\"/wiki/List_of_Nobel_laureates_affiliated_with_the_University_of_Chicago\" title=\"List of Nobel laureates affiliated with the University of Chicago\">University of Chicago</a></li>\\n<li><a href=\"/wiki/List_of_Nobel_laureates_affiliated_with_the_University_of_Copenhagen\" title=\"List of Nobel laureates affiliated with the University of Copenhagen\">University of Copenhagen</a></li>\\n<li><a href=\"/wiki/List_of_Nobel_laureates_affiliated_with_the_University_of_Edinburgh\" title=\"List of Nobel laureates affiliated with the University of Edinburgh\">University of Edinburgh</a></li>\\n<li><a href=\"/wiki/List_of_Nobel_laureates_affiliated_with_Harvard_University\" title=\"List of Nobel laureates affiliated with Harvard University\">Harvard University</a></li>\\n<li><a href=\"/wiki/List_of_Nobel_laureates_affiliated_with_Humboldt_University_of_Berlin\" title=\"List of Nobel laureates affiliated with Humboldt University of Berlin\">Humboldt University of Berlin</a></li>\\n<li><a href=\"/wiki/List_of_Nobel_laureates_affiliated_with_Imperial_College_London\" title=\"List of Nobel laureates affiliated with Imperial College London\">Imperial College London</a></li>\\n<li><a href=\"/wiki/List_of_Nobel_laureates_affiliated_with_Johns_Hopkins_University\" title=\"List of Nobel laureates affiliated with Johns Hopkins University\">Johns Hopkins University</a></li>\\n<li><a href=\"/wiki/List_of_Nobel_laureates_affiliated_with_King%27s_College_London\" title=\"List of Nobel laureates affiliated with King&#39;s College London\">King\\'s College London</a></li>\\n<li><a href=\"/wiki/List_of_Nobel_laureates_affiliated_with_Kyoto_University\" title=\"List of Nobel laureates affiliated with Kyoto University\">Kyoto University</a></li>\\n<li><a href=\"/wiki/List_of_Nobel_laureates_affiliated_with_the_London_School_of_Economics\" title=\"List of Nobel laureates affiliated with the London School of Economics\">London School of Economics</a></li>\\n<li><a href=\"/wiki/List_of_Nobel_laureates_affiliated_with_Massachusetts_Institute_of_Technology\" title=\"List of Nobel laureates affiliated with Massachusetts Institute of Technology\">Massachusetts Institute of Technology</a></li>\\n<li><a href=\"/wiki/List_of_Nobel_laureates_affiliated_with_the_University_of_Oxford\" title=\"List of Nobel laureates affiliated with the University of Oxford\">University of Oxford</a></li>\\n<li><a href=\"/wiki/List_of_Nobel_laureates_affiliated_with_the_University_of_Pennsylvania\" title=\"List of Nobel laureates affiliated with the University of Pennsylvania\">University of Pennsylvania</a></li>\\n<li><a href=\"/wiki/List_of_Nobel_laureates_affiliated_with_Princeton_University\" title=\"List of Nobel laureates affiliated with Princeton University\">Princeton University</a></li>\\n<li><a href=\"/wiki/List_of_Nobel_Laureates_affiliated_with_the_University_of_Rochester\" title=\"List of Nobel Laureates affiliated with the University of Rochester\">University of Rochester</a></li>\\n<li><a href=\"/wiki/List_of_Nobel_laureates_affiliated_with_Stanford_University\" title=\"List of Nobel laureates affiliated with Stanford University\">Stanford University</a></li>\\n<li><a href=\"/wiki/List_of_Nobel_laureates_affiliated_with_the_University_of_Tokyo\" title=\"List of Nobel laureates affiliated with the University of Tokyo\">University of Tokyo</a></li>\\n<li><a href=\"/wiki/List_of_Nobel_laureates_affiliated_with_Washington_University_in_St._Louis\" title=\"List of Nobel laureates affiliated with Washington University in St. Louis\">Washington University of St. Louis</a></li>\\n<li><a href=\"/wiki/List_of_Nobel_laureates_affiliated_with_Yale_University\" title=\"List of Nobel laureates affiliated with Yale University\">Yale University</a></li></ul>\\n</div></td></tr><tr><th scope=\"row\" class=\"navbox-group\" style=\"width:1%;font-weight:normal;\">by occupation</th><td class=\"navbox-list navbox-even\" style=\"text-align:left;border-left-width:2px;border-left-style:solid;width:100%;padding:0px\"><div style=\"padding:0em 0.25em\">\\n<ul><li><a href=\"/wiki/List_of_heads_of_state_and_government_Nobel_laureates\" title=\"List of heads of state and government Nobel laureates\">Heads of state and government</a></li></ul>\\n</div></td></tr></tbody></table><div></div></td></tr><tr><th scope=\"row\" class=\"navbox-group\" style=\"width:1%;line-height:1.2em\">Nominees</th><td class=\"navbox-list navbox-odd\" style=\"text-align:left;border-left-width:2px;border-left-style:solid;width:100%;padding:0px\"><div style=\"padding:0em 0.25em\"></div><table class=\"nowraplinks navbox-subgroup\" style=\"border-spacing:0\"><tbody><tr><th scope=\"row\" class=\"navbox-group\" style=\"width:1%;font-weight:normal;\">by subject</th><td class=\"navbox-list navbox-odd\" style=\"text-align:left;border-left-width:2px;border-left-style:solid;width:100%;padding:0px\"><div style=\"padding:0em 0.25em\">\\n<ul><li><a href=\"/wiki/List_of_nominees_for_the_Nobel_Prize_in_Chemistry\" title=\"List of nominees for the Nobel Prize in Chemistry\">Chemistry</a></li>\\n<li><a href=\"/wiki/List_of_nominees_for_the_Nobel_Prize_in_Literature\" title=\"List of nominees for the Nobel Prize in Literature\">Literature</a></li></ul>\\n</div></td></tr><tr><th scope=\"row\" class=\"navbox-group\" style=\"width:1%;font-weight:normal;\">by criterion</th><td class=\"navbox-list navbox-even\" style=\"text-align:left;border-left-width:2px;border-left-style:solid;width:100%;padding:0px\"><div style=\"padding:0em 0.25em\">\\n<ul><li><a href=\"/wiki/List_of_female_nominees_for_the_Nobel_Prize\" title=\"List of female nominees for the Nobel Prize\">Female</a></li>\\n<li><a href=\"/wiki/List_of_organizations_nominated_for_the_Nobel_Peace_Prize\" title=\"List of organizations nominated for the Nobel Peace Prize\">Organizations</a></li></ul>\\n</div></td></tr></tbody></table><div></div></td></tr><tr><th scope=\"row\" class=\"navbox-group\" style=\"width:1%;line-height:1.2em\">Committees and<br />organisations</th><td class=\"navbox-list navbox-odd\" style=\"text-align:left;border-left-width:2px;border-left-style:solid;width:100%;padding:0px\"><div style=\"padding:0em 0.25em\">\\n<ul><li><a href=\"/wiki/Nobel_Foundation\" title=\"Nobel Foundation\">Nobel Foundation</a></li>\\n<li><a href=\"/wiki/Nobel_Committee\" title=\"Nobel Committee\">Nobel Committees</a>\\n<ul><li><a href=\"/wiki/Nobel_Committee_for_Chemistry\" title=\"Nobel Committee for Chemistry\">Chemistry</a></li>\\n<li><a href=\"/wiki/Committee_for_the_Sveriges_Riksbank_Prize_in_Economic_Sciences_in_Memory_of_Alfred_Nobel\" title=\"Committee for the Sveriges Riksbank Prize in Economic Sciences in Memory of Alfred Nobel\">Economics</a></li>\\n<li><a href=\"/wiki/Nobel_Committee_for_Physics\" title=\"Nobel Committee for Physics\">Physics</a></li>\\n<li><a href=\"/wiki/Nobel_Committee_for_Physiology_or_Medicine\" title=\"Nobel Committee for Physiology or Medicine\">Physiology or Medicine</a></li>\\n<li><a href=\"/wiki/Norwegian_Nobel_Committee\" title=\"Norwegian Nobel Committee\">Norwegian Nobel Committee</a></li></ul></li>\\n<li><a href=\"/wiki/Nobel_Assembly_at_the_Karolinska_Institute\" title=\"Nobel Assembly at the Karolinska Institute\">Nobel Assembly at the Karolinska Institute</a></li></ul>\\n</div></td></tr><tr><th scope=\"row\" class=\"navbox-group\" style=\"width:1%;line-height:1.2em\">Related</th><td class=\"navbox-list navbox-even\" style=\"text-align:left;border-left-width:2px;border-left-style:solid;width:100%;padding:0px\"><div style=\"padding:0em 0.25em\">\\n<ul><li><a href=\"/wiki/Nobel_Prize_controversies\" title=\"Nobel Prize controversies\">Controversies</a></li>\\n<li><a href=\"/wiki/Alfred_Nobel\" title=\"Alfred Nobel\">Alfred Nobel</a></li>\\n<li><a href=\"/wiki/Lindau_Nobel_Laureate_Meetings\" title=\"Lindau Nobel Laureate Meetings\">Lindau Nobel Laureate Meetings</a></li>\\n<li><a href=\"/wiki/World_Summit_of_Nobel_Peace_Laureates\" title=\"World Summit of Nobel Peace Laureates\">World Summit of Nobel Peace Laureates</a></li>\\n<li><a href=\"/wiki/List_of_prizes_known_as_the_Nobel_of_a_field_or_the_highest_honors_of_a_field\" title=\"List of prizes known as the Nobel of a field or the highest honors of a field\">Prizes known as the \"Nobel\" of their fields</a></li></ul>\\n</div></td></tr><tr><td class=\"navbox-abovebelow\" colspan=\"3\" style=\"hlist\"><div><sup><small>1</small></sup> Nobel Memorial Prize (not one of the original Nobel Prizes).<br /></div></td></tr></tbody></table></div>\\n<div role=\"navigation\" class=\"navbox\" aria-labelledby=\"Nobel_Peace_Prize\" style=\"padding:3px\"><table class=\"nowraplinks mw-collapsible autocollapse navbox-inner\" style=\"border-spacing:0;background:transparent;color:inherit\"><tbody><tr><th scope=\"col\" class=\"navbox-title\" colspan=\"2\"><link rel=\"mw-deduplicated-inline-style\" href=\"mw-data:TemplateStyles:r992953826\"/><div class=\"navbar plainlinks hlist navbar-mini\"><ul><li class=\"nv-view\"><a href=\"/wiki/Template:Nobel_Peace_Prize_navbox\" title=\"Template:Nobel Peace Prize navbox\"><abbr title=\"View this template\" style=\";;background:none transparent;border:none;box-shadow:none;padding:0;\">v</abbr></a></li><li class=\"nv-talk\"><a href=\"/wiki/Template_talk:Nobel_Peace_Prize_navbox\" title=\"Template talk:Nobel Peace Prize navbox\"><abbr title=\"Discuss this template\" style=\";;background:none transparent;border:none;box-shadow:none;padding:0;\">t</abbr></a></li><li class=\"nv-edit\"><a class=\"external text\" href=\"https://en.wikipedia.org/w/index.php?title=Template:Nobel_Peace_Prize_navbox&amp;action=edit\"><abbr title=\"Edit this template\" style=\";;background:none transparent;border:none;box-shadow:none;padding:0;\">e</abbr></a></li></ul></div><div id=\"Nobel_Peace_Prize\" style=\"font-size:114%;margin:0 4em\"><a href=\"/wiki/Nobel_Peace_Prize\" title=\"Nobel Peace Prize\">Nobel Peace Prize</a></div></th></tr><tr><th scope=\"row\" class=\"navbox-group\" style=\"width:1%\">General topics</th><td class=\"navbox-list navbox-odd hlist\" style=\"text-align:left;border-left-width:2px;border-left-style:solid;width:100%;padding:0px\"><div style=\"padding:0em 0.25em\">\\n<ul><li><a href=\"/wiki/List_of_Nobel_Peace_Prize_laureates\" title=\"List of Nobel Peace Prize laureates\">Laureates</a></li>\\n<li><a href=\"/wiki/Norwegian_Nobel_Committee\" title=\"Norwegian Nobel Committee\">Committee</a> (<a href=\"/wiki/List_of_members_of_the_Norwegian_Nobel_Committee\" title=\"List of members of the Norwegian Nobel Committee\">members</a>)</li>\\n<li><a href=\"/wiki/Norwegian_Nobel_Institute\" title=\"Norwegian Nobel Institute\">Institute</a></li>\\n<li><a href=\"/wiki/Nobel_Peace_Center\" title=\"Nobel Peace Center\">Center</a></li>\\n<li><a href=\"/wiki/Nobel_Peace_Prize_Concert\" title=\"Nobel Peace Prize Concert\">Concert</a>\\n<ul><li><a href=\"/wiki/Oslo_Spektrum\" title=\"Oslo Spektrum\">Oslo Spektrum</a></li></ul></li>\\n<li><a href=\"/wiki/Oslo_City_Hall\" title=\"Oslo City Hall\">Oslo City Hall</a></li>\\n<li><a href=\"/wiki/World_Summit_of_Nobel_Peace_Laureates\" title=\"World Summit of Nobel Peace Laureates\">World Summit</a></li></ul>\\n</div></td></tr><tr><th scope=\"row\" class=\"navbox-group\" style=\"width:1%\"><a class=\"mw-selflink selflink\">By year</a></th><td class=\"navbox-list navbox-even hlist\" style=\"text-align:left;border-left-width:2px;border-left-style:solid;width:100%;padding:0px\"><div style=\"padding:0em 0.25em\">\\n<ul><li><a href=\"/wiki/2001_Nobel_Peace_Prize\" class=\"mw-redirect\" title=\"2001 Nobel Peace Prize\">2001</a></li>\\n<li><a href=\"/wiki/2002_Nobel_Peace_Prize\" class=\"mw-redirect\" title=\"2002 Nobel Peace Prize\">2002</a></li>\\n<li><a href=\"/wiki/2003_Nobel_Peace_Prize\" class=\"mw-redirect\" title=\"2003 Nobel Peace Prize\">2003</a></li>\\n<li><a href=\"/wiki/2004_Nobel_Peace_Prize\" class=\"mw-redirect\" title=\"2004 Nobel Peace Prize\">2004</a></li>\\n<li><a href=\"/wiki/2005_Nobel_Peace_Prize\" title=\"2005 Nobel Peace Prize\">2005</a></li>\\n<li><a href=\"/wiki/2006_Nobel_Peace_Prize\" class=\"mw-redirect\" title=\"2006 Nobel Peace Prize\">2006</a></li>\\n<li><a href=\"/wiki/2007_Nobel_Peace_Prize\" title=\"2007 Nobel Peace Prize\">2007</a></li>\\n<li><a href=\"/wiki/2008_Nobel_Peace_Prize\" title=\"2008 Nobel Peace Prize\">2008</a></li>\\n<li><a href=\"/wiki/2009_Nobel_Peace_Prize\" title=\"2009 Nobel Peace Prize\">2009</a></li>\\n<li><a href=\"/wiki/2010_Nobel_Peace_Prize\" title=\"2010 Nobel Peace Prize\">2010</a></li>\\n<li><a href=\"/wiki/2011_Nobel_Peace_Prize\" title=\"2011 Nobel Peace Prize\">2011</a></li>\\n<li><a href=\"/wiki/2012_Nobel_Peace_Prize\" title=\"2012 Nobel Peace Prize\">2012</a></li>\\n<li><a href=\"/wiki/2013_Nobel_Peace_Prize\" title=\"2013 Nobel Peace Prize\">2013</a></li>\\n<li><a href=\"/wiki/2014_Nobel_Peace_Prize\" title=\"2014 Nobel Peace Prize\">2014</a></li>\\n<li><a href=\"/wiki/2015_Nobel_Peace_Prize\" title=\"2015 Nobel Peace Prize\">2015</a></li>\\n<li><a href=\"/wiki/2016_Nobel_Peace_Prize\" title=\"2016 Nobel Peace Prize\">2016</a></li>\\n<li><a href=\"/wiki/2017_Nobel_Peace_Prize\" title=\"2017 Nobel Peace Prize\">2017</a></li>\\n<li><a href=\"/wiki/2018_Nobel_Peace_Prize\" title=\"2018 Nobel Peace Prize\">2018</a></li>\\n<li><a href=\"/wiki/2019_Nobel_Peace_Prize\" title=\"2019 Nobel Peace Prize\">2019</a></li>\\n<li><a href=\"/wiki/2020_Nobel_Peace_Prize\" title=\"2020 Nobel Peace Prize\">2020</a></li>\\n<li><a href=\"/wiki/2021_Nobel_Peace_Prize\" title=\"2021 Nobel Peace Prize\">2021</a></li></ul>\\n</div></td></tr></tbody></table></div>\\n<p class=\"mw-empty-elt\">\\n</p>\\n<!-- \\nNewPP limit report\\nParsed by mw1275\\nCached time: 20210607124530\\nCache expiry: 1814400\\nReduced expiry: false\\nComplications: [vary‐revision‐sha1]\\nCPU time usage: 3.355 seconds\\nReal time usage: 3.575 seconds\\nPreprocessor visited node count: 40109/1000000\\nPost‐expand include size: 414935/2097152 bytes\\nTemplate argument size: 60073/2097152 bytes\\nHighest expansion depth: 13/40\\nExpensive parser function count: 3/500\\nUnstrip recursion depth: 1/20\\nUnstrip post‐expand size: 72603/5000000 bytes\\nLua time usage: 1.382/10.000 seconds\\nLua memory usage: 15287094/52428800 bytes\\nLua Profile:\\n    recursiveClone <mwInit.lua:41>                                   400 ms       27.4%\\n    ?                                                                240 ms       16.4%\\n    type                                                             140 ms        9.6%\\n    (for generator)                                                  120 ms        8.2%\\n    Scribunto_LuaSandboxCallback::getExpandedArgument                120 ms        8.2%\\n    Scribunto_LuaSandboxCallback::gsub                                80 ms        5.5%\\n    Scribunto_LuaSandboxCallback::callParserFunction                  80 ms        5.5%\\n    <Module:Citation/CS1:829>                                         40 ms        2.7%\\n    getmetatable <mw.lua:64>                                          40 ms        2.7%\\n    key_to_lower <Module:Lang/data:24>                                40 ms        2.7%\\n    [others]                                                         160 ms       11.0%\\nNumber of Wikibase entities loaded: 1/400\\n-->\\n<!--\\nTransclusion expansion time report (%,ms,calls,template)\\n100.00% 2684.041      1 -total\\n 61.82% 1659.243    937 Template:Sortname\\n  9.05%  242.913     21 Template:Cite_web\\n  7.14%  191.637      1 Template:Lang-sv\\n  5.91%  158.500      2 Template:Reflist\\n  3.45%   92.481      1 Template:Short_description\\n  2.77%   74.470      1 Template:Pp-semi-indef\\n  2.54%   68.293      4 Template:Navbox\\n  2.37%   63.486      1 Template:Commons_category\\n  2.23%   59.870      1 Template:Sister_project\\n-->\\n\\n<!-- Saved in parser cache with key enwiki:pcache:idhash:1175987-0!canonical and timestamp 20210607124527 and revision id 1026136130. Serialized with JSON.\\n -->\\n</div><noscript><img src=\"//en.wikipedia.org/wiki/Special:CentralAutoLogin/start?type=1x1\" alt=\"\" title=\"\" width=\"1\" height=\"1\" style=\"border: none; position: absolute;\" /></noscript>\\n<div class=\"printfooter\">Retrieved from \"<a dir=\"ltr\" href=\"https://en.wikipedia.org/w/index.php?title=List_of_Nobel_laureates&amp;oldid=1026136130\">https://en.wikipedia.org/w/index.php?title=List_of_Nobel_laureates&amp;oldid=1026136130</a>\"</div></div>\\n\\t\\t<div id=\"catlinks\" class=\"catlinks\" data-mw=\"interface\"><div id=\"mw-normal-catlinks\" class=\"mw-normal-catlinks\"><a href=\"/wiki/Help:Category\" title=\"Help:Category\">Categories</a>: <ul><li><a href=\"/wiki/Category:Nobel_laureates\" title=\"Category:Nobel laureates\">Nobel laureates</a></li><li><a href=\"/wiki/Category:Lists_of_Nobel_laureates\" title=\"Category:Lists of Nobel laureates\">Lists of Nobel laureates</a></li></ul></div><div id=\"mw-hidden-catlinks\" class=\"mw-hidden-catlinks mw-hidden-cats-hidden\">Hidden categories: <ul><li><a href=\"/wiki/Category:Articles_with_short_description\" title=\"Category:Articles with short description\">Articles with short description</a></li><li><a href=\"/wiki/Category:Short_description_is_different_from_Wikidata\" title=\"Category:Short description is different from Wikidata\">Short description is different from Wikidata</a></li><li><a href=\"/wiki/Category:Wikipedia_indefinitely_semi-protected_pages\" title=\"Category:Wikipedia indefinitely semi-protected pages\">Wikipedia indefinitely semi-protected pages</a></li><li><a href=\"/wiki/Category:Articles_containing_Swedish-language_text\" title=\"Category:Articles containing Swedish-language text\">Articles containing Swedish-language text</a></li><li><a href=\"/wiki/Category:Articles_containing_Norwegian-language_text\" title=\"Category:Articles containing Norwegian-language text\">Articles containing Norwegian-language text</a></li><li><a href=\"/wiki/Category:Articles_with_hCards\" title=\"Category:Articles with hCards\">Articles with hCards</a></li><li><a href=\"/wiki/Category:Commons_category_link_is_on_Wikidata\" title=\"Category:Commons category link is on Wikidata\">Commons category link is on Wikidata</a></li><li><a href=\"/wiki/Category:Featured_lists\" title=\"Category:Featured lists\">Featured lists</a></li></ul></div></div>\\n\\t</div>\\n</div>\\n<div id=\\'mw-data-after-content\\'>\\n\\t<div class=\"read-more-container\"></div>\\n</div>\\n\\n<div id=\"mw-navigation\">\\n\\t<h2>Navigation menu</h2>\\n\\t<div id=\"mw-head\">\\n\\t\\t<nav id=\"p-personal\" class=\"mw-portlet mw-portlet-personal vector-user-menu-legacy vector-menu\" aria-labelledby=\"p-personal-label\" role=\"navigation\" \\n\\t >\\n\\t<h3 id=\"p-personal-label\" class=\"vector-menu-heading\">\\n\\t\\t<span>Personal tools</span>\\n\\t</h3>\\n\\t<div class=\"vector-menu-content\">\\n\\t\\t<ul class=\"vector-menu-content-list\"><li id=\"pt-anonuserpage\">Not logged in</li><li id=\"pt-anontalk\"><a href=\"/wiki/Special:MyTalk\" title=\"Discussion about edits from this IP address [n]\" accesskey=\"n\">Talk</a></li><li id=\"pt-anoncontribs\"><a href=\"/wiki/Special:MyContributions\" title=\"A list of edits made from this IP address [y]\" accesskey=\"y\">Contributions</a></li><li id=\"pt-createaccount\"><a href=\"/w/index.php?title=Special:CreateAccount&amp;returnto=List+of+Nobel+laureates\" title=\"You are encouraged to create an account and log in; however, it is not mandatory\">Create account</a></li><li id=\"pt-login\"><a href=\"/w/index.php?title=Special:UserLogin&amp;returnto=List+of+Nobel+laureates\" title=\"You&#039;re encouraged to log in; however, it&#039;s not mandatory. [o]\" accesskey=\"o\">Log in</a></li></ul>\\n\\t\\t\\n\\t</div>\\n</nav>\\n\\n\\t\\t<div id=\"left-navigation\">\\n\\t\\t\\t<nav id=\"p-namespaces\" class=\"mw-portlet mw-portlet-namespaces vector-menu vector-menu-tabs\" aria-labelledby=\"p-namespaces-label\" role=\"navigation\" \\n\\t >\\n\\t<h3 id=\"p-namespaces-label\" class=\"vector-menu-heading\">\\n\\t\\t<span>Namespaces</span>\\n\\t</h3>\\n\\t<div class=\"vector-menu-content\">\\n\\t\\t<ul class=\"vector-menu-content-list\"><li id=\"ca-nstab-main\" class=\"selected\"><a href=\"/wiki/List_of_Nobel_laureates\" title=\"View the content page [c]\" accesskey=\"c\">Article</a></li><li id=\"ca-talk\"><a href=\"/wiki/Talk:List_of_Nobel_laureates\" rel=\"discussion\" title=\"Discuss improvements to the content page [t]\" accesskey=\"t\">Talk</a></li></ul>\\n\\t\\t\\n\\t</div>\\n</nav>\\n\\n\\t\\t\\t<nav id=\"p-variants\" class=\"mw-portlet mw-portlet-variants emptyPortlet vector-menu vector-menu-dropdown\" aria-labelledby=\"p-variants-label\" role=\"navigation\" \\n\\t >\\n\\t<input type=\"checkbox\" class=\"vector-menu-checkbox\" aria-labelledby=\"p-variants-label\" />\\n\\t<h3 id=\"p-variants-label\" class=\"vector-menu-heading\">\\n\\t\\t<span>Variants</span>\\n\\t</h3>\\n\\t<div class=\"vector-menu-content\">\\n\\t\\t<ul class=\"vector-menu-content-list\"></ul>\\n\\t\\t\\n\\t</div>\\n</nav>\\n\\n\\t\\t</div>\\n\\t\\t<div id=\"right-navigation\">\\n\\t\\t\\t<nav id=\"p-views\" class=\"mw-portlet mw-portlet-views vector-menu vector-menu-tabs\" aria-labelledby=\"p-views-label\" role=\"navigation\" \\n\\t >\\n\\t<h3 id=\"p-views-label\" class=\"vector-menu-heading\">\\n\\t\\t<span>Views</span>\\n\\t</h3>\\n\\t<div class=\"vector-menu-content\">\\n\\t\\t<ul class=\"vector-menu-content-list\"><li id=\"ca-view\" class=\"selected\"><a href=\"/wiki/List_of_Nobel_laureates\">Read</a></li><li id=\"ca-viewsource\"><a href=\"/w/index.php?title=List_of_Nobel_laureates&amp;action=edit\" title=\"This page is protected.&#10;You can view its source [e]\" accesskey=\"e\">View source</a></li><li id=\"ca-history\"><a href=\"/w/index.php?title=List_of_Nobel_laureates&amp;action=history\" title=\"Past revisions of this page [h]\" accesskey=\"h\">View history</a></li></ul>\\n\\t\\t\\n\\t</div>\\n</nav>\\n\\n\\t\\t\\t<nav id=\"p-cactions\" class=\"mw-portlet mw-portlet-cactions emptyPortlet vector-menu vector-menu-dropdown\" aria-labelledby=\"p-cactions-label\" role=\"navigation\" \\n\\t >\\n\\t<input type=\"checkbox\" class=\"vector-menu-checkbox\" aria-labelledby=\"p-cactions-label\" />\\n\\t<h3 id=\"p-cactions-label\" class=\"vector-menu-heading\">\\n\\t\\t<span>More</span>\\n\\t</h3>\\n\\t<div class=\"vector-menu-content\">\\n\\t\\t<ul class=\"vector-menu-content-list\"></ul>\\n\\t\\t\\n\\t</div>\\n</nav>\\n\\n\\t\\t\\t<div id=\"p-search\" role=\"search\" >\\n\\t<h3 >\\n\\t\\t<label for=\"searchInput\">Search</label>\\n\\t</h3>\\n\\t<form action=\"/w/index.php\" id=\"searchform\">\\n\\t\\t<div id=\"simpleSearch\" data-search-loc=\"header-navigation\">\\n\\t\\t\\t<input type=\"search\" name=\"search\" placeholder=\"Search Wikipedia\" autocapitalize=\"sentences\" title=\"Search Wikipedia [f]\" accesskey=\"f\" id=\"searchInput\"/>\\n\\t\\t\\t<input type=\"hidden\" name=\"title\" value=\"Special:Search\"/>\\n\\t\\t\\t<input type=\"submit\" name=\"fulltext\" value=\"Search\" title=\"Search Wikipedia for this text\" id=\"mw-searchButton\" class=\"searchButton mw-fallbackSearchButton\"/>\\n\\t\\t\\t<input type=\"submit\" name=\"go\" value=\"Go\" title=\"Go to a page with this exact name if it exists\" id=\"searchButton\" class=\"searchButton\"/>\\n\\t\\t</div>\\n\\t</form>\\n</div>\\n\\n\\t\\t</div>\\n\\t</div>\\n\\t\\n<div id=\"mw-panel\">\\n\\t<div id=\"p-logo\" role=\"banner\">\\n\\t\\t<a class=\"mw-wiki-logo\" href=\"/wiki/Main_Page\"\\n\\t\\t\\ttitle=\"Visit the main page\"></a>\\n\\t</div>\\n\\t<nav id=\"p-navigation\" class=\"mw-portlet mw-portlet-navigation vector-menu vector-menu-portal portal\" aria-labelledby=\"p-navigation-label\" role=\"navigation\" \\n\\t >\\n\\t<h3 id=\"p-navigation-label\" class=\"vector-menu-heading\">\\n\\t\\t<span>Navigation</span>\\n\\t</h3>\\n\\t<div class=\"vector-menu-content\">\\n\\t\\t<ul class=\"vector-menu-content-list\"><li id=\"n-mainpage-description\"><a href=\"/wiki/Main_Page\" title=\"Visit the main page [z]\" accesskey=\"z\">Main page</a></li><li id=\"n-contents\"><a href=\"/wiki/Wikipedia:Contents\" title=\"Guides to browsing Wikipedia\">Contents</a></li><li id=\"n-currentevents\"><a href=\"/wiki/Portal:Current_events\" title=\"Articles related to current events\">Current events</a></li><li id=\"n-randompage\"><a href=\"/wiki/Special:Random\" title=\"Visit a randomly selected article [x]\" accesskey=\"x\">Random article</a></li><li id=\"n-aboutsite\"><a href=\"/wiki/Wikipedia:About\" title=\"Learn about Wikipedia and how it works\">About Wikipedia</a></li><li id=\"n-contactpage\"><a href=\"//en.wikipedia.org/wiki/Wikipedia:Contact_us\" title=\"How to contact Wikipedia\">Contact us</a></li><li id=\"n-sitesupport\"><a href=\"https://donate.wikimedia.org/wiki/Special:FundraiserRedirector?utm_source=donate&amp;utm_medium=sidebar&amp;utm_campaign=C13_en.wikipedia.org&amp;uselang=en\" title=\"Support us by donating to the Wikimedia Foundation\">Donate</a></li></ul>\\n\\t\\t\\n\\t</div>\\n</nav>\\n\\n\\t<nav id=\"p-interaction\" class=\"mw-portlet mw-portlet-interaction vector-menu vector-menu-portal portal\" aria-labelledby=\"p-interaction-label\" role=\"navigation\" \\n\\t >\\n\\t<h3 id=\"p-interaction-label\" class=\"vector-menu-heading\">\\n\\t\\t<span>Contribute</span>\\n\\t</h3>\\n\\t<div class=\"vector-menu-content\">\\n\\t\\t<ul class=\"vector-menu-content-list\"><li id=\"n-help\"><a href=\"/wiki/Help:Contents\" title=\"Guidance on how to use and edit Wikipedia\">Help</a></li><li id=\"n-introduction\"><a href=\"/wiki/Help:Introduction\" title=\"Learn how to edit Wikipedia\">Learn to edit</a></li><li id=\"n-portal\"><a href=\"/wiki/Wikipedia:Community_portal\" title=\"The hub for editors\">Community portal</a></li><li id=\"n-recentchanges\"><a href=\"/wiki/Special:RecentChanges\" title=\"A list of recent changes to Wikipedia [r]\" accesskey=\"r\">Recent changes</a></li><li id=\"n-upload\"><a href=\"/wiki/Wikipedia:File_Upload_Wizard\" title=\"Add images or other media for use on Wikipedia\">Upload file</a></li></ul>\\n\\t\\t\\n\\t</div>\\n</nav>\\n<nav id=\"p-tb\" class=\"mw-portlet mw-portlet-tb vector-menu vector-menu-portal portal\" aria-labelledby=\"p-tb-label\" role=\"navigation\" \\n\\t >\\n\\t<h3 id=\"p-tb-label\" class=\"vector-menu-heading\">\\n\\t\\t<span>Tools</span>\\n\\t</h3>\\n\\t<div class=\"vector-menu-content\">\\n\\t\\t<ul class=\"vector-menu-content-list\"><li id=\"t-whatlinkshere\"><a href=\"/wiki/Special:WhatLinksHere/List_of_Nobel_laureates\" title=\"List of all English Wikipedia pages containing links to this page [j]\" accesskey=\"j\">What links here</a></li><li id=\"t-recentchangeslinked\"><a href=\"/wiki/Special:RecentChangesLinked/List_of_Nobel_laureates\" rel=\"nofollow\" title=\"Recent changes in pages linked from this page [k]\" accesskey=\"k\">Related changes</a></li><li id=\"t-upload\"><a href=\"/wiki/Wikipedia:File_Upload_Wizard\" title=\"Upload files [u]\" accesskey=\"u\">Upload file</a></li><li id=\"t-specialpages\"><a href=\"/wiki/Special:SpecialPages\" title=\"A list of all special pages [q]\" accesskey=\"q\">Special pages</a></li><li id=\"t-permalink\"><a href=\"/w/index.php?title=List_of_Nobel_laureates&amp;oldid=1026136130\" title=\"Permanent link to this revision of this page\">Permanent link</a></li><li id=\"t-info\"><a href=\"/w/index.php?title=List_of_Nobel_laureates&amp;action=info\" title=\"More information about this page\">Page information</a></li><li id=\"t-cite\"><a href=\"/w/index.php?title=Special:CiteThisPage&amp;page=List_of_Nobel_laureates&amp;id=1026136130&amp;wpFormIdentifier=titleform\" title=\"Information on how to cite this page\">Cite this page</a></li><li id=\"t-wikibase\"><a href=\"https://www.wikidata.org/wiki/Special:EntityPage/Q339619\" title=\"Structured data on this page hosted by Wikidata [g]\" accesskey=\"g\">Wikidata item</a></li></ul>\\n\\t\\t\\n\\t</div>\\n</nav>\\n<nav id=\"p-coll-print_export\" class=\"mw-portlet mw-portlet-coll-print_export vector-menu vector-menu-portal portal\" aria-labelledby=\"p-coll-print_export-label\" role=\"navigation\" \\n\\t >\\n\\t<h3 id=\"p-coll-print_export-label\" class=\"vector-menu-heading\">\\n\\t\\t<span>Print/export</span>\\n\\t</h3>\\n\\t<div class=\"vector-menu-content\">\\n\\t\\t<ul class=\"vector-menu-content-list\"><li id=\"coll-download-as-rl\"><a href=\"/w/index.php?title=Special:DownloadAsPdf&amp;page=List_of_Nobel_laureates&amp;action=show-download-screen\" title=\"Download this page as a PDF file\">Download as PDF</a></li><li id=\"t-print\"><a href=\"/w/index.php?title=List_of_Nobel_laureates&amp;printable=yes\" title=\"Printable version of this page [p]\" accesskey=\"p\">Printable version</a></li></ul>\\n\\t\\t\\n\\t</div>\\n</nav>\\n<nav id=\"p-wikibase-otherprojects\" class=\"mw-portlet mw-portlet-wikibase-otherprojects vector-menu vector-menu-portal portal\" aria-labelledby=\"p-wikibase-otherprojects-label\" role=\"navigation\" \\n\\t >\\n\\t<h3 id=\"p-wikibase-otherprojects-label\" class=\"vector-menu-heading\">\\n\\t\\t<span>In other projects</span>\\n\\t</h3>\\n\\t<div class=\"vector-menu-content\">\\n\\t\\t<ul class=\"vector-menu-content-list\"><li class=\"wb-otherproject-link wb-otherproject-commons\"><a href=\"https://commons.wikimedia.org/wiki/Category:Nobel_laureates\" hreflang=\"en\">Wikimedia Commons</a></li></ul>\\n\\t\\t\\n\\t</div>\\n</nav>\\n\\n\\t<nav id=\"p-lang\" class=\"mw-portlet mw-portlet-lang vector-menu vector-menu-portal portal\" aria-labelledby=\"p-lang-label\" role=\"navigation\" \\n\\t >\\n\\t<h3 id=\"p-lang-label\" class=\"vector-menu-heading\">\\n\\t\\t<span>Languages</span>\\n\\t</h3>\\n\\t<div class=\"vector-menu-content\">\\n\\t\\t<ul class=\"vector-menu-content-list\"><li class=\"interlanguage-link interwiki-ar\"><a href=\"https://ar.wikipedia.org/wiki/%D9%82%D8%A7%D8%A6%D9%85%D8%A9_%D8%A7%D9%84%D8%AD%D8%A7%D8%B5%D9%84%D9%8A%D9%86_%D8%B9%D9%84%D9%89_%D8%AC%D8%A7%D8%A6%D8%B2%D8%A9_%D9%86%D9%88%D8%A8%D9%84\" title=\"قائمة الحاصلين على جائزة نوبل – Arabic\" lang=\"ar\" hreflang=\"ar\" class=\"interlanguage-link-target\">العربية</a></li><li class=\"interlanguage-link interwiki-ast\"><a href=\"https://ast.wikipedia.org/wiki/Llista_de_ganadores_del_Premiu_Nobel\" title=\"Llista de ganadores del Premiu Nobel – Asturian\" lang=\"ast\" hreflang=\"ast\" class=\"interlanguage-link-target\">Asturianu</a></li><li class=\"interlanguage-link interwiki-az badge-Q17506997 badge-featuredlist\" title=\"featured list badge\"><a href=\"https://az.wikipedia.org/wiki/Nobel_m%C3%BCkafat%C4%B1_laureatlar%C4%B1n%C4%B1n_siyah%C4%B1s%C4%B1\" title=\"Nobel mükafatı laureatlarının siyahısı – Azerbaijani\" lang=\"az\" hreflang=\"az\" class=\"interlanguage-link-target\">Azərbaycanca</a></li><li class=\"interlanguage-link interwiki-bn\"><a href=\"https://bn.wikipedia.org/wiki/%E0%A6%A8%E0%A7%8B%E0%A6%AC%E0%A7%87%E0%A6%B2_%E0%A6%AA%E0%A7%81%E0%A6%B0%E0%A6%B8%E0%A7%8D%E0%A6%95%E0%A6%BE%E0%A6%B0%E0%A6%AA%E0%A7%8D%E0%A6%B0%E0%A6%BE%E0%A6%AA%E0%A7%8D%E0%A6%A4%E0%A6%A6%E0%A7%87%E0%A6%B0_%E0%A6%A4%E0%A6%BE%E0%A6%B2%E0%A6%BF%E0%A6%95%E0%A6%BE\" title=\"নোবেল পুরস্কারপ্রাপ্তদের তালিকা – Bangla\" lang=\"bn\" hreflang=\"bn\" class=\"interlanguage-link-target\">বাংলা</a></li><li class=\"interlanguage-link interwiki-ca badge-Q17437796 badge-featuredarticle\" title=\"featured article badge\"><a href=\"https://ca.wikipedia.org/wiki/Llista_de_guardonats_amb_el_Premi_Nobel\" title=\"Llista de guardonats amb el Premi Nobel – Catalan\" lang=\"ca\" hreflang=\"ca\" class=\"interlanguage-link-target\">Català</a></li><li class=\"interlanguage-link interwiki-da\"><a href=\"https://da.wikipedia.org/wiki/Modtagere_af_Nobelprisen\" title=\"Modtagere af Nobelprisen – Danish\" lang=\"da\" hreflang=\"da\" class=\"interlanguage-link-target\">Dansk</a></li><li class=\"interlanguage-link interwiki-de\"><a href=\"https://de.wikipedia.org/wiki/Liste_der_Nobelpreistr%C3%A4ger\" title=\"Liste der Nobelpreisträger – German\" lang=\"de\" hreflang=\"de\" class=\"interlanguage-link-target\">Deutsch</a></li><li class=\"interlanguage-link interwiki-dty\"><a href=\"https://dty.wikipedia.org/wiki/%E0%A4%A8%E0%A5%8B%E0%A4%AC%E0%A5%87%E0%A4%B2_%E0%A4%AA%E0%A5%81%E0%A4%B0%E0%A4%B8%E0%A5%8D%E0%A4%95%E0%A4%BE%E0%A4%B0_%E0%A4%B5%E0%A4%BF%E0%A4%9C%E0%A5%87%E0%A4%A4%E0%A4%BE%E0%A4%B9%E0%A4%B0%E0%A5%82%E0%A4%95%E0%A5%8B_%E0%A4%B8%E0%A5%82%E0%A4%9A%E0%A5%80\" title=\"नोबेल पुरस्कार विजेताहरूको सूची – Doteli\" lang=\"dty\" hreflang=\"dty\" class=\"interlanguage-link-target\">डोटेली</a></li><li class=\"interlanguage-link interwiki-es\"><a href=\"https://es.wikipedia.org/wiki/Anexo:Ganadores_del_Premio_Nobel\" title=\"Anexo:Ganadores del Premio Nobel – Spanish\" lang=\"es\" hreflang=\"es\" class=\"interlanguage-link-target\">Español</a></li><li class=\"interlanguage-link interwiki-fa badge-Q17506997 badge-featuredlist\" title=\"featured list badge\"><a href=\"https://fa.wikipedia.org/wiki/%D9%81%D9%87%D8%B1%D8%B3%D8%AA_%D8%A8%D8%B1%D9%86%D8%AF%DA%AF%D8%A7%D9%86_%D8%AC%D8%A7%DB%8C%D8%B2%D9%87_%D9%86%D9%88%D8%A8%D9%84\" title=\"فهرست برندگان جایزه نوبل – Persian\" lang=\"fa\" hreflang=\"fa\" class=\"interlanguage-link-target\">فارسی</a></li><li class=\"interlanguage-link interwiki-fr\"><a href=\"https://fr.wikipedia.org/wiki/Liste_des_r%C3%A9cipiendaires_du_prix_Nobel\" title=\"Liste des récipiendaires du prix Nobel – French\" lang=\"fr\" hreflang=\"fr\" class=\"interlanguage-link-target\">Français</a></li><li class=\"interlanguage-link interwiki-gl\"><a href=\"https://gl.wikipedia.org/wiki/Lista_de_ga%C3%B1adores_dos_Premios_Nobel\" title=\"Lista de gañadores dos Premios Nobel – Galician\" lang=\"gl\" hreflang=\"gl\" class=\"interlanguage-link-target\">Galego</a></li><li class=\"interlanguage-link interwiki-gu\"><a href=\"https://gu.wikipedia.org/wiki/%E0%AA%A8%E0%AB%8B%E0%AA%AC%E0%AB%87%E0%AA%B2_%E0%AA%AA%E0%AA%BE%E0%AA%B0%E0%AA%BF%E0%AA%A4%E0%AB%8B%E0%AA%B7%E0%AA%BF%E0%AA%95_%E0%AA%B5%E0%AA%A1%E0%AB%87_%E0%AA%B8%E0%AA%A8%E0%AB%8D%E0%AA%AE%E0%AA%BE%E0%AA%A8%E0%AB%80%E0%AA%A4_%E0%AA%AE%E0%AA%B9%E0%AA%BE%E0%AA%A8%E0%AB%81%E0%AA%AD%E0%AA%BE%E0%AA%B5%E0%AB%8B\" title=\"નોબેલ પારિતોષિક વડે સન્માનીત મહાનુભાવો – Gujarati\" lang=\"gu\" hreflang=\"gu\" class=\"interlanguage-link-target\">ગુજરાતી</a></li><li class=\"interlanguage-link interwiki-ko\"><a href=\"https://ko.wikipedia.org/wiki/%EB%85%B8%EB%B2%A8%EC%83%81_%EC%88%98%EC%83%81%EC%9E%90_%EB%AA%A9%EB%A1%9D\" title=\"노벨상 수상자 목록 – Korean\" lang=\"ko\" hreflang=\"ko\" class=\"interlanguage-link-target\">한국어</a></li><li class=\"interlanguage-link interwiki-hi\"><a href=\"https://hi.wikipedia.org/wiki/%E0%A4%A8%E0%A5%8B%E0%A4%AC%E0%A5%87%E0%A4%B2_%E0%A4%AA%E0%A5%81%E0%A4%B0%E0%A4%B8%E0%A5%8D%E0%A4%95%E0%A4%BE%E0%A4%B0_%E0%A4%B5%E0%A4%BF%E0%A4%9C%E0%A5%87%E0%A4%A4%E0%A4%BE%E0%A4%93%E0%A4%82_%E0%A4%95%E0%A5%80_%E0%A4%B8%E0%A5%82%E0%A4%9A%E0%A5%80\" title=\"नोबेल पुरस्कार विजेताओं की सूची – Hindi\" lang=\"hi\" hreflang=\"hi\" class=\"interlanguage-link-target\">हिन्दी</a></li><li class=\"interlanguage-link interwiki-id badge-Q17506997 badge-featuredlist\" title=\"featured list badge\"><a href=\"https://id.wikipedia.org/wiki/Daftar_penerima_Nobel\" title=\"Daftar penerima Nobel – Indonesian\" lang=\"id\" hreflang=\"id\" class=\"interlanguage-link-target\">Bahasa Indonesia</a></li><li class=\"interlanguage-link interwiki-it\"><a href=\"https://it.wikipedia.org/wiki/Vincitori_del_premio_Nobel\" title=\"Vincitori del premio Nobel – Italian\" lang=\"it\" hreflang=\"it\" class=\"interlanguage-link-target\">Italiano</a></li><li class=\"interlanguage-link interwiki-jv\"><a href=\"https://jv.wikipedia.org/wiki/Dhaptar_pamenang_bebungah_Nobel_miturut_bidang\" title=\"Dhaptar pamenang bebungah Nobel miturut bidang – Javanese\" lang=\"jv\" hreflang=\"jv\" class=\"interlanguage-link-target\">Jawa</a></li><li class=\"interlanguage-link interwiki-ka\"><a href=\"https://ka.wikipedia.org/wiki/%E1%83%9C%E1%83%9D%E1%83%91%E1%83%94%E1%83%9A%E1%83%98%E1%83%A1_%E1%83%9E%E1%83%A0%E1%83%94%E1%83%9B%E1%83%98%E1%83%98%E1%83%A1_%E1%83%9A%E1%83%90%E1%83%A3%E1%83%A0%E1%83%94%E1%83%90%E1%83%A2%E1%83%94%E1%83%91%E1%83%98\" title=\"ნობელის პრემიის ლაურეატები – Georgian\" lang=\"ka\" hreflang=\"ka\" class=\"interlanguage-link-target\">ქართული</a></li><li class=\"interlanguage-link interwiki-ku\"><a href=\"https://ku.wikipedia.org/wiki/L%C3%AEsteya_xelatgir%C3%AAn_Nobel%C3%AA\" title=\"Lîsteya xelatgirên Nobelê – Kurdish\" lang=\"ku\" hreflang=\"ku\" class=\"interlanguage-link-target\">Kurdî</a></li><li class=\"interlanguage-link interwiki-lv\"><a href=\"https://lv.wikipedia.org/wiki/Nobela_pr%C4%93miju_laure%C4%81ti\" title=\"Nobela prēmiju laureāti – Latvian\" lang=\"lv\" hreflang=\"lv\" class=\"interlanguage-link-target\">Latviešu</a></li><li class=\"interlanguage-link interwiki-lfn\"><a href=\"https://lfn.wikipedia.org/wiki/Lista_de_ganiores_de_la_Premio_Nobel\" title=\"Lista de ganiores de la Premio Nobel – Lingua Franca Nova\" lang=\"lfn\" hreflang=\"lfn\" class=\"interlanguage-link-target\">Lingua Franca Nova</a></li><li class=\"interlanguage-link interwiki-hu\"><a href=\"https://hu.wikipedia.org/wiki/Nobel-d%C3%ADjasok_list%C3%A1ja\" title=\"Nobel-díjasok listája – Hungarian\" lang=\"hu\" hreflang=\"hu\" class=\"interlanguage-link-target\">Magyar</a></li><li class=\"interlanguage-link interwiki-ml\"><a href=\"https://ml.wikipedia.org/wiki/%E0%B4%A8%E0%B5%8B%E0%B4%AC%E0%B5%BD_%E0%B4%B8%E0%B4%AE%E0%B5%8D%E0%B4%AE%E0%B4%BE%E0%B4%A8_%E0%B4%9C%E0%B5%87%E0%B4%A4%E0%B4%BE%E0%B4%95%E0%B5%8D%E0%B4%95%E0%B4%B3%E0%B5%81%E0%B4%9F%E0%B5%86_%E0%B4%AA%E0%B4%9F%E0%B5%8D%E0%B4%9F%E0%B4%BF%E0%B4%95\" title=\"നോബൽ സമ്മാന ജേതാക്കളുടെ പട്ടിക – Malayalam\" lang=\"ml\" hreflang=\"ml\" class=\"interlanguage-link-target\">മലയാളം</a></li><li class=\"interlanguage-link interwiki-ms\"><a href=\"https://ms.wikipedia.org/wiki/Senarai_pemenang_Hadiah_Nobel\" title=\"Senarai pemenang Hadiah Nobel – Malay\" lang=\"ms\" hreflang=\"ms\" class=\"interlanguage-link-target\">Bahasa Melayu</a></li><li class=\"interlanguage-link interwiki-mn\"><a href=\"https://mn.wikipedia.org/wiki/%D0%9D%D0%BE%D0%B1%D0%B5%D0%BB%D0%B8%D0%B9%D0%BD_%D1%88%D0%B0%D0%B3%D0%BD%D0%B0%D0%BB%D1%82%D0%BD%D1%83%D1%83%D0%B4%D1%8B%D0%BD_%D0%BD%D1%8D%D1%80%D1%81\" title=\"Нобелийн шагналтнуудын нэрс – Mongolian\" lang=\"mn\" hreflang=\"mn\" class=\"interlanguage-link-target\">Монгол</a></li><li class=\"interlanguage-link interwiki-ne\"><a href=\"https://ne.wikipedia.org/wiki/%E0%A4%A8%E0%A5%8B%E0%A4%AC%E0%A5%87%E0%A4%B2_%E0%A4%AA%E0%A5%81%E0%A4%B0%E0%A4%B8%E0%A5%8D%E0%A4%95%E0%A4%BE%E0%A4%B0_%E0%A4%B5%E0%A4%BF%E0%A4%9C%E0%A5%87%E0%A4%A4%E0%A4%BE%E0%A4%B9%E0%A4%B0%E0%A5%82%E0%A4%95%E0%A5%8B_%E0%A4%B8%E0%A5%82%E0%A4%9A%E0%A5%80\" title=\"नोबेल पुरस्कार विजेताहरूको सूची – Nepali\" lang=\"ne\" hreflang=\"ne\" class=\"interlanguage-link-target\">नेपाली</a></li><li class=\"interlanguage-link interwiki-ja\"><a href=\"https://ja.wikipedia.org/wiki/%E3%83%8E%E3%83%BC%E3%83%99%E3%83%AB%E8%B3%9E%E5%8F%97%E8%B3%9E%E8%80%85%E3%81%AE%E4%B8%80%E8%A6%A7\" title=\"ノーベル賞受賞者の一覧 – Japanese\" lang=\"ja\" hreflang=\"ja\" class=\"interlanguage-link-target\">日本語</a></li><li class=\"interlanguage-link interwiki-no badge-Q17506997 badge-featuredlist\" title=\"featured list badge\"><a href=\"https://no.wikipedia.org/wiki/Liste_over_nobelprisvinnere\" title=\"Liste over nobelprisvinnere – Norwegian Bokmål\" lang=\"nb\" hreflang=\"nb\" class=\"interlanguage-link-target\">Norsk bokmål</a></li><li class=\"interlanguage-link interwiki-uz\"><a href=\"https://uz.wikipedia.org/wiki/Nobel_mukofoti_sohiblari_ro%CA%BByxati\" title=\"Nobel mukofoti sohiblari roʻyxati – Uzbek\" lang=\"uz\" hreflang=\"uz\" class=\"interlanguage-link-target\">Oʻzbekcha/ўзбекча</a></li><li class=\"interlanguage-link interwiki-pa\"><a href=\"https://pa.wikipedia.org/wiki/%E0%A8%A8%E0%A9%8B%E0%A8%AC%E0%A8%B2_%E0%A8%87%E0%A8%A8%E0%A8%BE%E0%A8%AE_%E0%A8%9C%E0%A9%87%E0%A8%A4%E0%A9%82%E0%A8%86%E0%A8%82_%E0%A8%A6%E0%A9%80_%E0%A8%B8%E0%A9%82%E0%A8%9A%E0%A9%80\" title=\"ਨੋਬਲ ਇਨਾਮ ਜੇਤੂਆਂ ਦੀ ਸੂਚੀ – Punjabi\" lang=\"pa\" hreflang=\"pa\" class=\"interlanguage-link-target\">ਪੰਜਾਬੀ</a></li><li class=\"interlanguage-link interwiki-pnb\"><a href=\"https://pnb.wikipedia.org/wiki/%D9%86%D9%88%D8%A8%D9%84_%D8%A7%D9%86%D8%B9%D8%A7%D9%85_%D8%AC%D8%AA%D9%86_%D9%88%D8%A7%D9%84%DB%8C%D8%A7%DA%BA_%D8%AF%DB%8C_%D9%84%D8%B3%D9%B9\" title=\"نوبل انعام جتن والیاں دی لسٹ – Western Punjabi\" lang=\"pnb\" hreflang=\"pnb\" class=\"interlanguage-link-target\">پنجابی</a></li><li class=\"interlanguage-link interwiki-pl badge-Q17506997 badge-featuredlist\" title=\"featured list badge\"><a href=\"https://pl.wikipedia.org/wiki/Lista_laureat%C3%B3w_Nagrody_Nobla\" title=\"Lista laureatów Nagrody Nobla – Polish\" lang=\"pl\" hreflang=\"pl\" class=\"interlanguage-link-target\">Polski</a></li><li class=\"interlanguage-link interwiki-pt badge-Q17506997 badge-featuredlist\" title=\"featured list badge\"><a href=\"https://pt.wikipedia.org/wiki/Laureados_com_o_Nobel\" title=\"Laureados com o Nobel – Portuguese\" lang=\"pt\" hreflang=\"pt\" class=\"interlanguage-link-target\">Português</a></li><li class=\"interlanguage-link interwiki-ro\"><a href=\"https://ro.wikipedia.org/wiki/Lista_laurea%C8%9Bilor_Premiului_Nobel\" title=\"Lista laureaților Premiului Nobel – Romanian\" lang=\"ro\" hreflang=\"ro\" class=\"interlanguage-link-target\">Română</a></li><li class=\"interlanguage-link interwiki-ru\"><a href=\"https://ru.wikipedia.org/wiki/%D0%9D%D0%BE%D0%B1%D0%B5%D0%BB%D0%B5%D0%B2%D1%81%D0%BA%D0%B8%D0%B5_%D0%BF%D1%80%D0%B5%D0%BC%D0%B8%D0%B8_%D0%BF%D0%BE_%D0%B3%D0%BE%D0%B4%D1%83_%D0%B2%D1%80%D1%83%D1%87%D0%B5%D0%BD%D0%B8%D1%8F\" title=\"Нобелевские премии по году вручения – Russian\" lang=\"ru\" hreflang=\"ru\" class=\"interlanguage-link-target\">Русский</a></li><li class=\"interlanguage-link interwiki-sa\"><a href=\"https://sa.wikipedia.org/wiki/%E0%A4%A8%E0%A5%8B%E0%A4%AC%E0%A4%B2_%E0%A4%AA%E0%A5%81%E0%A4%B0%E0%A4%B8%E0%A5%8D%E0%A4%95%E0%A4%BE%E0%A4%B0-%E0%A4%B5%E0%A4%BF%E0%A4%9C%E0%A5%87%E0%A4%A4%E0%A4%BE%E0%A4%A8%E0%A4%BE%E0%A4%82_%E0%A4%B8%E0%A5%82%E0%A4%9A%E0%A5%80\" title=\"नोबल पुरस्कार-विजेतानां सूची – Sanskrit\" lang=\"sa\" hreflang=\"sa\" class=\"interlanguage-link-target\">संस्कृतम्</a></li><li class=\"interlanguage-link interwiki-sq\"><a href=\"https://sq.wikipedia.org/wiki/Lista_e_fituesve_t%C3%AB_%C3%87mimit_Nobel\" title=\"Lista e fituesve të Çmimit Nobel – Albanian\" lang=\"sq\" hreflang=\"sq\" class=\"interlanguage-link-target\">Shqip</a></li><li class=\"interlanguage-link interwiki-sl\"><a href=\"https://sl.wikipedia.org/wiki/Seznam_Nobelovih_nagrajencev\" title=\"Seznam Nobelovih nagrajencev – Slovenian\" lang=\"sl\" hreflang=\"sl\" class=\"interlanguage-link-target\">Slovenščina</a></li><li class=\"interlanguage-link interwiki-ckb\"><a href=\"https://ckb.wikipedia.org/wiki/%D9%BE%DB%8E%D8%B1%D8%B3%D8%AA%DB%8C_%D9%88%DB%95%D8%B1%DA%AF%D8%B1%D8%A7%D9%86%DB%8C_%D8%AE%DB%95%DA%B5%D8%A7%D8%AA%DB%8C_%D9%86%DB%86%D8%A8%DB%8E%D9%84\" title=\"پێرستی وەرگرانی خەڵاتی نۆبێل – Central Kurdish\" lang=\"ckb\" hreflang=\"ckb\" class=\"interlanguage-link-target\">کوردی</a></li><li class=\"interlanguage-link interwiki-sr\"><a href=\"https://sr.wikipedia.org/wiki/%D0%A1%D0%BF%D0%B8%D1%81%D0%B0%D0%BA_%D0%B4%D0%BE%D0%B1%D0%B8%D1%82%D0%BD%D0%B8%D0%BA%D0%B0_%D0%9D%D0%BE%D0%B1%D0%B5%D0%BB%D0%BE%D0%B2%D0%B5_%D0%BD%D0%B0%D0%B3%D1%80%D0%B0%D0%B4%D0%B5\" title=\"Списак добитника Нобелове награде – Serbian\" lang=\"sr\" hreflang=\"sr\" class=\"interlanguage-link-target\">Српски / srpski</a></li><li class=\"interlanguage-link interwiki-fi\"><a href=\"https://fi.wikipedia.org/wiki/Luettelo_Nobel-palkinnon_saajista\" title=\"Luettelo Nobel-palkinnon saajista – Finnish\" lang=\"fi\" hreflang=\"fi\" class=\"interlanguage-link-target\">Suomi</a></li><li class=\"interlanguage-link interwiki-sv badge-Q17506997 badge-featuredlist\" title=\"featured list badge\"><a href=\"https://sv.wikipedia.org/wiki/Lista_%C3%B6ver_Nobelpristagare\" title=\"Lista över Nobelpristagare – Swedish\" lang=\"sv\" hreflang=\"sv\" class=\"interlanguage-link-target\">Svenska</a></li><li class=\"interlanguage-link interwiki-ta\"><a href=\"https://ta.wikipedia.org/wiki/%E0%AE%A8%E0%AF%8B%E0%AE%AA%E0%AE%B2%E0%AF%8D_%E0%AE%AA%E0%AE%B0%E0%AE%BF%E0%AE%9A%E0%AF%81_%E0%AE%AA%E0%AF%86%E0%AE%B1%E0%AF%8D%E0%AE%B1%E0%AE%B5%E0%AE%B0%E0%AF%8D%E0%AE%95%E0%AE%B3%E0%AF%8D_%E0%AE%AA%E0%AE%9F%E0%AF%8D%E0%AE%9F%E0%AE%BF%E0%AE%AF%E0%AE%B2%E0%AF%8D\" title=\"நோபல் பரிசு பெற்றவர்கள் பட்டியல் – Tamil\" lang=\"ta\" hreflang=\"ta\" class=\"interlanguage-link-target\">தமிழ்</a></li><li class=\"interlanguage-link interwiki-te\"><a href=\"https://te.wikipedia.org/wiki/%E0%B0%A8%E0%B1%8B%E0%B0%AC%E0%B1%86%E0%B0%B2%E0%B1%8D_%E0%B0%AC%E0%B0%B9%E0%B1%81%E0%B0%AE%E0%B0%A4%E0%B0%BF_%E0%B0%97%E0%B1%8D%E0%B0%B0%E0%B0%B9%E0%B1%80%E0%B0%A4%E0%B0%B2%E0%B1%81\" title=\"నోబెల్ బహుమతి గ్రహీతలు – Telugu\" lang=\"te\" hreflang=\"te\" class=\"interlanguage-link-target\">తెలుగు</a></li><li class=\"interlanguage-link interwiki-tr badge-Q17506997 badge-featuredlist\" title=\"featured list badge\"><a href=\"https://tr.wikipedia.org/wiki/Nobel_%C3%96d%C3%BCl%C3%BC_sahipleri_listesi\" title=\"Nobel Ödülü sahipleri listesi – Turkish\" lang=\"tr\" hreflang=\"tr\" class=\"interlanguage-link-target\">Türkçe</a></li><li class=\"interlanguage-link interwiki-uk\"><a href=\"https://uk.wikipedia.org/wiki/%D0%A1%D0%BF%D0%B8%D1%81%D0%BE%D0%BA_%D0%9D%D0%BE%D0%B1%D0%B5%D0%BB%D1%96%D0%B2%D1%81%D1%8C%D0%BA%D0%B8%D1%85_%D0%BB%D0%B0%D1%83%D1%80%D0%B5%D0%B0%D1%82%D1%96%D0%B2\" title=\"Список Нобелівських лауреатів – Ukrainian\" lang=\"uk\" hreflang=\"uk\" class=\"interlanguage-link-target\">Українська</a></li><li class=\"interlanguage-link interwiki-ur badge-Q17506997 badge-featuredlist\" title=\"featured list badge\"><a href=\"https://ur.wikipedia.org/wiki/%D9%86%D9%88%D8%A8%D9%84_%D8%A7%D9%86%D8%B9%D8%A7%D9%85_%D9%88%D8%B5%D9%88%D9%84_%DA%A9%D9%86%D9%86%D8%AF%DA%AF%D8%A7%D9%86_%DA%A9%DB%8C_%D9%81%DB%81%D8%B1%D8%B3%D8%AA\" title=\"نوبل انعام وصول کنندگان کی فہرست – Urdu\" lang=\"ur\" hreflang=\"ur\" class=\"interlanguage-link-target\">اردو</a></li><li class=\"interlanguage-link interwiki-vi\"><a href=\"https://vi.wikipedia.org/wiki/Danh_s%C3%A1ch_ng%C6%B0%E1%BB%9Di_%C4%91o%E1%BA%A1t_gi%E1%BA%A3i_Nobel\" title=\"Danh sách người đoạt giải Nobel – Vietnamese\" lang=\"vi\" hreflang=\"vi\" class=\"interlanguage-link-target\">Tiếng Việt</a></li><li class=\"interlanguage-link interwiki-yo\"><a href=\"https://yo.wikipedia.org/wiki/%C3%80t%C3%B2j%E1%BB%8D_%C3%A0w%E1%BB%8Dn_%E1%BA%B9l%E1%BA%B9%CC%81b%C3%B9n_Nobel\" title=\"Àtòjọ àwọn ẹlẹ́bùn Nobel – Yoruba\" lang=\"yo\" hreflang=\"yo\" class=\"interlanguage-link-target\">Yorùbá</a></li><li class=\"interlanguage-link interwiki-zh badge-Q17506997 badge-featuredlist\" title=\"featured list badge\"><a href=\"https://zh.wikipedia.org/wiki/%E8%AB%BE%E8%B2%9D%E7%88%BE%E7%8D%8E%E5%BE%97%E4%B8%BB%E5%88%97%E8%A1%A8\" title=\"諾貝爾獎得主列表 – Chinese\" lang=\"zh\" hreflang=\"zh\" class=\"interlanguage-link-target\">中文</a></li></ul>\\n\\t\\t<div class=\"after-portlet after-portlet-lang\"><span class=\"wb-langlinks-edit wb-langlinks-link\"><a href=\"https://www.wikidata.org/wiki/Special:EntityPage/Q339619#sitelinks-wikipedia\" title=\"Edit interlanguage links\" class=\"wbc-editpage\">Edit links</a></span></div>\\n\\t</div>\\n</nav>\\n\\n</div>\\n\\n</div>\\n<footer id=\"footer\" class=\"mw-footer\" role=\"contentinfo\" >\\n\\t<ul id=\"footer-info\" >\\n\\t<li id=\"footer-info-lastmod\"> This page was last edited on 31 May 2021, at 16:06<span class=\"anonymous-show\">&#160;(UTC)</span>.</li>\\n\\t<li id=\"footer-info-copyright\">Text is available under the <a rel=\"license\" href=\"//en.wikipedia.org/wiki/Wikipedia:Text_of_Creative_Commons_Attribution-ShareAlike_3.0_Unported_License\">Creative Commons Attribution-ShareAlike License</a><a rel=\"license\" href=\"//creativecommons.org/licenses/by-sa/3.0/\" style=\"display:none;\"></a>;\\nadditional terms may apply.  By using this site, you agree to the <a href=\"//foundation.wikimedia.org/wiki/Terms_of_Use\">Terms of Use</a> and <a href=\"//foundation.wikimedia.org/wiki/Privacy_policy\">Privacy Policy</a>. Wikipedia® is a registered trademark of the <a href=\"//www.wikimediafoundation.org/\">Wikimedia Foundation, Inc.</a>, a non-profit organization.</li>\\n</ul>\\n\\n\\t<ul id=\"footer-places\" >\\n\\t<li id=\"footer-places-privacy\"><a href=\"https://foundation.wikimedia.org/wiki/Privacy_policy\" class=\"extiw\" title=\"wmf:Privacy policy\">Privacy policy</a></li>\\n\\t<li id=\"footer-places-about\"><a href=\"/wiki/Wikipedia:About\" title=\"Wikipedia:About\">About Wikipedia</a></li>\\n\\t<li id=\"footer-places-disclaimer\"><a href=\"/wiki/Wikipedia:General_disclaimer\" title=\"Wikipedia:General disclaimer\">Disclaimers</a></li>\\n\\t<li id=\"footer-places-contact\"><a href=\"//en.wikipedia.org/wiki/Wikipedia:Contact_us\">Contact Wikipedia</a></li>\\n\\t<li id=\"footer-places-mobileview\"><a href=\"//en.m.wikipedia.org/w/index.php?title=List_of_Nobel_laureates&amp;mobileaction=toggle_view_mobile\" class=\"noprint stopMobileRedirectToggle\">Mobile view</a></li>\\n\\t<li id=\"footer-places-developers\"><a href=\"https://www.mediawiki.org/wiki/Special:MyLanguage/How_to_contribute\">Developers</a></li>\\n\\t<li id=\"footer-places-statslink\"><a href=\"https://stats.wikimedia.org/#/en.wikipedia.org\">Statistics</a></li>\\n\\t<li id=\"footer-places-cookiestatement\"><a href=\"https://foundation.wikimedia.org/wiki/Cookie_statement\">Cookie statement</a></li>\\n</ul>\\n\\n\\t<ul id=\"footer-icons\" class=\"noprint\">\\n\\t<li id=\"footer-copyrightico\"><a href=\"https://wikimediafoundation.org/\"><img src=\"/static/images/footer/wikimedia-button.png\" srcset=\"/static/images/footer/wikimedia-button-1.5x.png 1.5x, /static/images/footer/wikimedia-button-2x.png 2x\" width=\"88\" height=\"31\" alt=\"Wikimedia Foundation\" loading=\"lazy\" /></a></li>\\n\\t<li id=\"footer-poweredbyico\"><a href=\"https://www.mediawiki.org/\"><img src=\"/static/images/footer/poweredby_mediawiki_88x31.png\" alt=\"Powered by MediaWiki\" srcset=\"/static/images/footer/poweredby_mediawiki_132x47.png 1.5x, /static/images/footer/poweredby_mediawiki_176x62.png 2x\" width=\"88\" height=\"31\" loading=\"lazy\"/></a></li>\\n</ul>\\n\\n</footer>\\n\\n\\n<script>(RLQ=window.RLQ||[]).push(function(){mw.config.set({\"wgPageParseReport\":{\"limitreport\":{\"cputime\":\"3.355\",\"walltime\":\"3.575\",\"ppvisitednodes\":{\"value\":40109,\"limit\":1000000},\"postexpandincludesize\":{\"value\":414935,\"limit\":2097152},\"templateargumentsize\":{\"value\":60073,\"limit\":2097152},\"expansiondepth\":{\"value\":13,\"limit\":40},\"expensivefunctioncount\":{\"value\":3,\"limit\":500},\"unstrip-depth\":{\"value\":1,\"limit\":20},\"unstrip-size\":{\"value\":72603,\"limit\":5000000},\"entityaccesscount\":{\"value\":1,\"limit\":400},\"timingprofile\":[\"100.00% 2684.041      1 -total\",\" 61.82% 1659.243    937 Template:Sortname\",\"  9.05%  242.913     21 Template:Cite_web\",\"  7.14%  191.637      1 Template:Lang-sv\",\"  5.91%  158.500      2 Template:Reflist\",\"  3.45%   92.481      1 Template:Short_description\",\"  2.77%   74.470      1 Template:Pp-semi-indef\",\"  2.54%   68.293      4 Template:Navbox\",\"  2.37%   63.486      1 Template:Commons_category\",\"  2.23%   59.870      1 Template:Sister_project\"]},\"scribunto\":{\"limitreport-timeusage\":{\"value\":\"1.382\",\"limit\":\"10.000\"},\"limitreport-memusage\":{\"value\":15287094,\"limit\":52428800},\"limitreport-profile\":[[\"recursiveClone \\\\u003CmwInit.lua:41\\\\u003E\",\"400\",\"27.4\"],[\"?\",\"240\",\"16.4\"],[\"type\",\"140\",\"9.6\"],[\"(for generator)\",\"120\",\"8.2\"],[\"Scribunto_LuaSandboxCallback::getExpandedArgument\",\"120\",\"8.2\"],[\"Scribunto_LuaSandboxCallback::gsub\",\"80\",\"5.5\"],[\"Scribunto_LuaSandboxCallback::callParserFunction\",\"80\",\"5.5\"],[\"\\\\u003CModule:Citation/CS1:829\\\\u003E\",\"40\",\"2.7\"],[\"getmetatable \\\\u003Cmw.lua:64\\\\u003E\",\"40\",\"2.7\"],[\"key_to_lower \\\\u003CModule:Lang/data:24\\\\u003E\",\"40\",\"2.7\"],[\"[others]\",\"160\",\"11.0\"]]},\"cachereport\":{\"origin\":\"mw1275\",\"timestamp\":\"20210607124530\",\"ttl\":1814400,\"transientcontent\":false}}});});</script>\\n<script type=\"application/ld+json\">{\"@context\":\"https:\\\\/\\\\/schema.org\",\"@type\":\"Article\",\"name\":\"List of Nobel laureates\",\"url\":\"https:\\\\/\\\\/en.wikipedia.org\\\\/wiki\\\\/List_of_Nobel_laureates\",\"sameAs\":\"http:\\\\/\\\\/www.wikidata.org\\\\/entity\\\\/Q339619\",\"mainEntity\":\"http:\\\\/\\\\/www.wikidata.org\\\\/entity\\\\/Q339619\",\"author\":{\"@type\":\"Organization\",\"name\":\"Contributors to Wikimedia projects\"},\"publisher\":{\"@type\":\"Organization\",\"name\":\"Wikimedia Foundation, Inc.\",\"logo\":{\"@type\":\"ImageObject\",\"url\":\"https:\\\\/\\\\/www.wikimedia.org\\\\/static\\\\/images\\\\/wmf-hor-googpub.png\"}},\"datePublished\":\"2004-11-16T15:45:35Z\",\"dateModified\":\"2021-05-31T16:06:20Z\",\"image\":\"https:\\\\/\\\\/upload.wikimedia.org\\\\/wikipedia\\\\/en\\\\/e\\\\/ed\\\\/Nobel_Prize.png\",\"headline\":\"Wikimedia list article\"}</script>\\n<script>(RLQ=window.RLQ||[]).push(function(){mw.config.set({\"wgBackendResponseTime\":3837,\"wgHostname\":\"mw1275\"});});</script>\\n</body></html>'"
      ]
     },
     "execution_count": 4,
     "metadata": {},
     "output_type": "execute_result"
    }
   ],
   "source": [
    "r.text"
   ]
  },
  {
   "cell_type": "code",
   "execution_count": 5,
   "id": "fb27516c",
   "metadata": {},
   "outputs": [],
   "source": [
    "from bs4 import BeautifulSoup"
   ]
  },
  {
   "cell_type": "code",
   "execution_count": 6,
   "id": "c0f1e5ef",
   "metadata": {},
   "outputs": [],
   "source": [
    "soup = BeautifulSoup(r.text,'html.parser')"
   ]
  },
  {
   "cell_type": "code",
   "execution_count": null,
   "id": "2abe484b",
   "metadata": {},
   "outputs": [],
   "source": [
    "# now find the content of interest"
   ]
  },
  {
   "cell_type": "code",
   "execution_count": 7,
   "id": "efbe1b3b",
   "metadata": {},
   "outputs": [],
   "source": [
    "results = soup.find_all(\"tr\")"
   ]
  },
  {
   "cell_type": "code",
   "execution_count": 10,
   "id": "2fb32f54",
   "metadata": {
    "scrolled": false
   },
   "outputs": [
    {
     "data": {
      "text/plain": [
       "<tr>\n",
       "<th>Year\n",
       "</th>\n",
       "<th width=\"18%\"><a href=\"/wiki/List_of_Nobel_laureates_in_Physics\" title=\"List of Nobel laureates in Physics\">Physics</a>\n",
       "</th>\n",
       "<th width=\"16%\"><a href=\"/wiki/List_of_Nobel_laureates_in_Chemistry\" title=\"List of Nobel laureates in Chemistry\">Chemistry</a>\n",
       "</th>\n",
       "<th width=\"18%\"><a href=\"/wiki/List_of_Nobel_laureates_in_Physiology_or_Medicine\" title=\"List of Nobel laureates in Physiology or Medicine\">Physiology<br/>or Medicine</a>\n",
       "</th>\n",
       "<th width=\"16%\"><a href=\"/wiki/List_of_Nobel_laureates_in_Literature\" title=\"List of Nobel laureates in Literature\">Literature</a>\n",
       "</th>\n",
       "<th width=\"16%\"><a href=\"/wiki/List_of_Nobel_Peace_Prize_laureates\" title=\"List of Nobel Peace Prize laureates\">Peace</a>\n",
       "</th>\n",
       "<th width=\"15%\"><a class=\"mw-redirect\" href=\"/wiki/List_of_Nobel_laureates_in_Economics\" title=\"List of Nobel laureates in Economics\">Economics</a><br/>(The Sveriges Riksbank Prize)<sup class=\"reference\" id=\"cite_ref-13\"><a href=\"#cite_note-13\">[13]</a></sup>\n",
       "</th></tr>"
      ]
     },
     "execution_count": 10,
     "metadata": {},
     "output_type": "execute_result"
    }
   ],
   "source": [
    "results[0]"
   ]
  },
  {
   "cell_type": "markdown",
   "id": "5b543142",
   "metadata": {},
   "source": [
    "# Data collection"
   ]
  },
  {
   "cell_type": "code",
   "execution_count": null,
   "id": "a8124879",
   "metadata": {},
   "outputs": [],
   "source": [
    "# from above data extract the data of interest that is collection of data."
   ]
  },
  {
   "cell_type": "code",
   "execution_count": 10,
   "id": "57ac0852",
   "metadata": {},
   "outputs": [],
   "source": [
    "# first collect the column title so we need to do following operations."
   ]
  },
  {
   "cell_type": "code",
   "execution_count": 9,
   "id": "5898f1f3",
   "metadata": {},
   "outputs": [],
   "source": [
    "firstresult = results[0]"
   ]
  },
  {
   "cell_type": "code",
   "execution_count": 10,
   "id": "516fe57a",
   "metadata": {},
   "outputs": [
    {
     "data": {
      "text/plain": [
       "'Year'"
      ]
     },
     "execution_count": 10,
     "metadata": {},
     "output_type": "execute_result"
    }
   ],
   "source": [
    "firstresult.find_all('th')[0].text.strip()"
   ]
  },
  {
   "cell_type": "code",
   "execution_count": 11,
   "id": "7b6add0f",
   "metadata": {},
   "outputs": [
    {
     "data": {
      "text/plain": [
       "'Physics'"
      ]
     },
     "execution_count": 11,
     "metadata": {},
     "output_type": "execute_result"
    }
   ],
   "source": [
    "firstresult.find_all('th')[1].text.strip()"
   ]
  },
  {
   "cell_type": "code",
   "execution_count": 12,
   "id": "d96484e8",
   "metadata": {},
   "outputs": [
    {
     "data": {
      "text/plain": [
       "'Chemistry'"
      ]
     },
     "execution_count": 12,
     "metadata": {},
     "output_type": "execute_result"
    }
   ],
   "source": [
    "firstresult.find_all('th')[2].text.strip()"
   ]
  },
  {
   "cell_type": "code",
   "execution_count": 15,
   "id": "81106c4c",
   "metadata": {},
   "outputs": [
    {
     "data": {
      "text/plain": [
       "'Physiologyor Medicine'"
      ]
     },
     "execution_count": 15,
     "metadata": {},
     "output_type": "execute_result"
    }
   ],
   "source": [
    "firstresult.find_all('th')[3].text.strip()"
   ]
  },
  {
   "cell_type": "code",
   "execution_count": 16,
   "id": "19c230b7",
   "metadata": {},
   "outputs": [
    {
     "data": {
      "text/plain": [
       "'Literature'"
      ]
     },
     "execution_count": 16,
     "metadata": {},
     "output_type": "execute_result"
    }
   ],
   "source": [
    "firstresult.find_all('th')[4].text.strip()"
   ]
  },
  {
   "cell_type": "code",
   "execution_count": 17,
   "id": "417fb782",
   "metadata": {},
   "outputs": [
    {
     "data": {
      "text/plain": [
       "'Peace'"
      ]
     },
     "execution_count": 17,
     "metadata": {},
     "output_type": "execute_result"
    }
   ],
   "source": [
    "firstresult.find_all('th')[5].text.strip()"
   ]
  },
  {
   "cell_type": "code",
   "execution_count": 18,
   "id": "409524fb",
   "metadata": {},
   "outputs": [
    {
     "data": {
      "text/plain": [
       "'Economics(The Sveriges Riksbank Prize)[13]'"
      ]
     },
     "execution_count": 18,
     "metadata": {},
     "output_type": "execute_result"
    }
   ],
   "source": [
    "firstresult.find_all('th')[6].text.strip()"
   ]
  },
  {
   "cell_type": "code",
   "execution_count": 20,
   "id": "90f757d5",
   "metadata": {},
   "outputs": [],
   "source": [
    "# now some opearations to extract the content in columns."
   ]
  },
  {
   "cell_type": "code",
   "execution_count": 19,
   "id": "c79b17cb",
   "metadata": {},
   "outputs": [
    {
     "data": {
      "text/plain": [
       "<tr>\n",
       "<td align=\"center\">1901\n",
       "</td>\n",
       "<td><span data-sort-value=\"Röntgen, Wilhelm\"><span class=\"vcard\"><span class=\"fn\"><a href=\"/wiki/Wilhelm_R%C3%B6ntgen\" title=\"Wilhelm Röntgen\">Wilhelm Röntgen</a></span></span></span>\n",
       "</td>\n",
       "<td><span data-sort-value=\"Hoff, Jacobus Henricus van 't\"><span class=\"vcard\"><span class=\"fn\"><a href=\"/wiki/Jacobus_Henricus_van_%27t_Hoff\" title=\"Jacobus Henricus van 't Hoff\">Jacobus Henricus van 't Hoff</a></span></span></span>\n",
       "</td>\n",
       "<td><span data-sort-value=\"von Behring, Emil Adolf\"><span class=\"vcard\"><span class=\"fn\"><a class=\"mw-redirect\" href=\"/wiki/Emil_Adolf_von_Behring\" title=\"Emil Adolf von Behring\">Emil Adolf von Behring</a></span></span></span>\n",
       "</td>\n",
       "<td><span data-sort-value=\"Prudhomme, Sully\"><span class=\"vcard\"><span class=\"fn\"><a href=\"/wiki/Sully_Prudhomme\" title=\"Sully Prudhomme\">Sully Prudhomme</a></span></span></span>\n",
       "</td>\n",
       "<td><span data-sort-value=\"Dunant, Henry\"><span class=\"vcard\"><span class=\"fn\"><a href=\"/wiki/Henry_Dunant\" title=\"Henry Dunant\">Henry Dunant</a></span></span></span>;<br/><span data-sort-value=\"Passy, Frédéric\"><span class=\"vcard\"><span class=\"fn\"><a href=\"/wiki/Fr%C3%A9d%C3%A9ric_Passy\" title=\"Frédéric Passy\">Frédéric Passy</a></span></span></span>\n",
       "</td>\n",
       "<td align=\"center\">(prize not established)\n",
       "</td></tr>"
      ]
     },
     "execution_count": 19,
     "metadata": {},
     "output_type": "execute_result"
    }
   ],
   "source": [
    "results[1]"
   ]
  },
  {
   "cell_type": "code",
   "execution_count": 20,
   "id": "bef32f51",
   "metadata": {},
   "outputs": [
    {
     "data": {
      "text/plain": [
       "'1901'"
      ]
     },
     "execution_count": 20,
     "metadata": {},
     "output_type": "execute_result"
    }
   ],
   "source": [
    "results[1].find_all('td')[0].text.strip()"
   ]
  },
  {
   "cell_type": "code",
   "execution_count": 21,
   "id": "69ce9363",
   "metadata": {},
   "outputs": [
    {
     "data": {
      "text/plain": [
       "'Wilhelm Röntgen'"
      ]
     },
     "execution_count": 21,
     "metadata": {},
     "output_type": "execute_result"
    }
   ],
   "source": [
    "results[1].find_all('td')[1].text.strip()"
   ]
  },
  {
   "cell_type": "code",
   "execution_count": 22,
   "id": "2c7bb697",
   "metadata": {},
   "outputs": [
    {
     "data": {
      "text/plain": [
       "\"Jacobus Henricus van 't Hoff\""
      ]
     },
     "execution_count": 22,
     "metadata": {},
     "output_type": "execute_result"
    }
   ],
   "source": [
    "results[1].find_all('td')[2].text.strip()"
   ]
  },
  {
   "cell_type": "code",
   "execution_count": 23,
   "id": "3b461e20",
   "metadata": {},
   "outputs": [
    {
     "data": {
      "text/plain": [
       "'Emil Adolf von Behring'"
      ]
     },
     "execution_count": 23,
     "metadata": {},
     "output_type": "execute_result"
    }
   ],
   "source": [
    "results[1].find_all('td')[3].text.strip()"
   ]
  },
  {
   "cell_type": "code",
   "execution_count": 24,
   "id": "b5687e19",
   "metadata": {},
   "outputs": [
    {
     "data": {
      "text/plain": [
       "'Sully Prudhomme'"
      ]
     },
     "execution_count": 24,
     "metadata": {},
     "output_type": "execute_result"
    }
   ],
   "source": [
    "results[1].find_all('td')[4].text.strip()"
   ]
  },
  {
   "cell_type": "code",
   "execution_count": 25,
   "id": "80a30311",
   "metadata": {},
   "outputs": [
    {
     "data": {
      "text/plain": [
       "'Henry Dunant;Frédéric Passy'"
      ]
     },
     "execution_count": 25,
     "metadata": {},
     "output_type": "execute_result"
    }
   ],
   "source": [
    "results[1].find_all('td')[5].text.strip()"
   ]
  },
  {
   "cell_type": "code",
   "execution_count": 26,
   "id": "eb61d575",
   "metadata": {},
   "outputs": [
    {
     "data": {
      "text/plain": [
       "'(prize not established)'"
      ]
     },
     "execution_count": 26,
     "metadata": {},
     "output_type": "execute_result"
    }
   ],
   "source": [
    "results[1].find_all('td')[6].text.strip()"
   ]
  },
  {
   "cell_type": "code",
   "execution_count": 29,
   "id": "13cf89c2",
   "metadata": {},
   "outputs": [],
   "source": [
    "# after getting the data apply it to whole result with the help of loop and append it in a variable(table1)."
   ]
  },
  {
   "cell_type": "code",
   "execution_count": 27,
   "id": "97de8182",
   "metadata": {},
   "outputs": [],
   "source": [
    "table1 =[]\n",
    "\n",
    "\n",
    "\n",
    "for j in range(len(results)-1):\n",
    "    for i in results[j].find_all('td'):\n",
    "        year = i.text.strip()\n",
    "        \n",
    "        table1.append(year)\n",
    "    \n",
    "\n",
    "\n"
   ]
  },
  {
   "cell_type": "code",
   "execution_count": 28,
   "id": "0db9ccf0",
   "metadata": {},
   "outputs": [
    {
     "data": {
      "text/plain": [
       "['1901',\n",
       " 'Wilhelm Röntgen',\n",
       " \"Jacobus Henricus van 't Hoff\",\n",
       " 'Emil Adolf von Behring',\n",
       " 'Sully Prudhomme',\n",
       " 'Henry Dunant;Frédéric Passy',\n",
       " '(prize not established)',\n",
       " '1902',\n",
       " 'Hendrik Lorentz;Pieter Zeeman',\n",
       " 'Hermann Emil Fischer',\n",
       " 'Ronald Ross',\n",
       " 'Theodor Mommsen',\n",
       " 'Élie Ducommun;Charles Albert Gobat',\n",
       " '—',\n",
       " '1903',\n",
       " 'Henri Becquerel;Pierre Curie;Marie Curie',\n",
       " 'Svante Arrhenius',\n",
       " 'Niels Ryberg Finsen',\n",
       " 'Bjørnstjerne Bjørnson',\n",
       " 'Randal Cremer',\n",
       " '—',\n",
       " '1904',\n",
       " 'Lord Rayleigh',\n",
       " 'William Ramsay',\n",
       " 'Ivan Pavlov',\n",
       " 'Frédéric Mistral;José Echegaray',\n",
       " 'Institut de Droit International',\n",
       " '—',\n",
       " '1905',\n",
       " 'Philipp Lenard',\n",
       " 'Adolf von Baeyer',\n",
       " 'Robert Koch',\n",
       " 'Henryk Sienkiewicz',\n",
       " 'Bertha von Suttner',\n",
       " '—',\n",
       " '1906',\n",
       " 'J. J. Thomson',\n",
       " 'Henri Moissan',\n",
       " 'Camillo Golgi;Santiago Ramón y Cajal',\n",
       " 'Giosuè Carducci',\n",
       " 'Theodore Roosevelt',\n",
       " '—',\n",
       " '1907',\n",
       " 'Albert Abraham Michelson',\n",
       " 'Eduard Buchner',\n",
       " 'Charles Louis Alphonse Laveran',\n",
       " 'Rudyard Kipling',\n",
       " 'Ernesto Teodoro Moneta;Louis Renault',\n",
       " '—',\n",
       " '1908',\n",
       " 'Gabriel Lippmann',\n",
       " 'Ernest Rutherford',\n",
       " 'Élie Metchnikoff;Paul Ehrlich',\n",
       " 'Rudolf Christoph Eucken',\n",
       " 'Klas Pontus Arnoldson;Fredrik Bajer',\n",
       " '—',\n",
       " '1909',\n",
       " 'Karl Ferdinand Braun;Guglielmo Marconi',\n",
       " 'Wilhelm Ostwald',\n",
       " 'Emil Theodor Kocher',\n",
       " 'Selma Lagerlöf',\n",
       " \"Auguste Marie François Beernaert;Paul-Henri-Benjamin d'Estournelles de Constant\",\n",
       " '—',\n",
       " '1910',\n",
       " 'Johannes Diderik van der Waals',\n",
       " 'Otto Wallach',\n",
       " 'Albrecht Kossel',\n",
       " 'Paul Heyse',\n",
       " 'International Peace Bureau',\n",
       " '—',\n",
       " '1911',\n",
       " 'Wilhelm Wien',\n",
       " 'Marie Skłodowska-Curie',\n",
       " 'Allvar Gullstrand',\n",
       " 'Maurice Maeterlinck',\n",
       " 'Tobias Asser;Alfred Hermann Fried',\n",
       " '—',\n",
       " '1912',\n",
       " 'Gustaf Dalén',\n",
       " 'Victor Grignard;Paul Sabatier',\n",
       " 'Alexis Carrel',\n",
       " 'Gerhart Hauptmann',\n",
       " 'Elihu Root',\n",
       " '—',\n",
       " '1913',\n",
       " 'Heike Kamerlingh Onnes',\n",
       " 'Alfred Werner',\n",
       " 'Charles Richet',\n",
       " 'Rabindranath Tagore',\n",
       " 'Henri La Fontaine',\n",
       " '—',\n",
       " '1914',\n",
       " 'Max von Laue',\n",
       " 'Theodore William Richards',\n",
       " 'Robert Bárány',\n",
       " 'None',\n",
       " 'None',\n",
       " '—',\n",
       " '1915',\n",
       " 'William Henry Bragg;William Lawrence Bragg',\n",
       " 'Richard Willstätter',\n",
       " 'None',\n",
       " 'Romain Rolland',\n",
       " 'None',\n",
       " '—',\n",
       " '1916',\n",
       " 'None',\n",
       " 'None',\n",
       " 'None',\n",
       " 'Verner von Heidenstam',\n",
       " 'None',\n",
       " '—',\n",
       " '1917',\n",
       " 'Charles Glover Barkla',\n",
       " 'None',\n",
       " 'None',\n",
       " 'Karl Adolph Gjellerup;Henrik Pontoppidan',\n",
       " 'International Committee of the Red Cross',\n",
       " '—',\n",
       " '1918',\n",
       " 'Max Planck',\n",
       " 'Fritz Haber',\n",
       " 'None',\n",
       " 'None',\n",
       " 'None',\n",
       " '—',\n",
       " '1919',\n",
       " 'Johannes Stark',\n",
       " 'None',\n",
       " 'Jules Bordet',\n",
       " 'Carl Spitteler',\n",
       " 'Woodrow Wilson',\n",
       " '—',\n",
       " '1920',\n",
       " 'Charles Édouard Guillaume',\n",
       " 'Walther Nernst',\n",
       " 'August Krogh',\n",
       " 'Knut Hamsun',\n",
       " 'Léon Bourgeois',\n",
       " '—',\n",
       " '1921',\n",
       " 'Albert Einstein',\n",
       " 'Frederick Soddy',\n",
       " 'None',\n",
       " 'Anatole France',\n",
       " 'Hjalmar Branting;Christian Lous Lange',\n",
       " '—',\n",
       " '1922',\n",
       " 'Niels Bohr',\n",
       " 'Francis William Aston',\n",
       " 'Archibald Hill;Otto Fritz Meyerhof',\n",
       " 'Jacinto Benavente',\n",
       " 'Fridtjof Nansen',\n",
       " '—',\n",
       " '1923',\n",
       " 'Robert Andrews Millikan',\n",
       " 'Fritz Pregl',\n",
       " 'Frederick Banting;John James Rickard Macleod',\n",
       " 'W. B. Yeats',\n",
       " 'None',\n",
       " '—',\n",
       " '1924',\n",
       " 'Manne Siegbahn',\n",
       " 'None',\n",
       " 'Willem Einthoven',\n",
       " 'Władysław Reymont',\n",
       " 'None',\n",
       " '—',\n",
       " '1925',\n",
       " 'James Franck;Gustav Ludwig Hertz',\n",
       " 'Richard Adolf Zsigmondy',\n",
       " 'None',\n",
       " 'George Bernard Shaw',\n",
       " 'Austen Chamberlain;Charles G. Dawes',\n",
       " '—',\n",
       " '1926',\n",
       " 'Jean Baptiste Perrin',\n",
       " 'Theodor Svedberg',\n",
       " 'Johannes Fibiger',\n",
       " 'Grazia Deledda',\n",
       " 'Aristide Briand;Gustav Stresemann',\n",
       " '—',\n",
       " '1927',\n",
       " 'Arthur Compton;Charles Thomson Rees Wilson',\n",
       " 'Heinrich Otto Wieland',\n",
       " 'Julius Wagner-Jauregg',\n",
       " 'Henri Bergson',\n",
       " 'Ferdinand Buisson;Ludwig Quidde',\n",
       " '—',\n",
       " '1928',\n",
       " 'Owen Willans Richardson',\n",
       " 'Adolf Otto Reinhold Windaus',\n",
       " 'Charles Nicolle',\n",
       " 'Sigrid Undset',\n",
       " 'None',\n",
       " '—',\n",
       " '1929',\n",
       " 'Louis de Broglie',\n",
       " 'Arthur Harden;Hans von Euler-Chelpin',\n",
       " 'Christiaan Eijkman;Frederick Gowland Hopkins',\n",
       " 'Thomas Mann',\n",
       " 'Frank B. Kellogg',\n",
       " '—',\n",
       " '1930',\n",
       " 'C. V. Raman',\n",
       " 'Hans Fischer',\n",
       " 'Karl Landsteiner',\n",
       " 'Sinclair Lewis',\n",
       " 'Nathan Söderblom',\n",
       " '—',\n",
       " '1931',\n",
       " 'None',\n",
       " 'Carl Bosch;Friedrich Bergius',\n",
       " 'Otto Heinrich Warburg',\n",
       " 'Erik Axel Karlfeldt',\n",
       " 'Jane Addams;Nicholas Murray Butler',\n",
       " '—',\n",
       " '1932',\n",
       " 'Werner Heisenberg',\n",
       " 'Irving Langmuir',\n",
       " 'Charles Scott Sherrington;Edgar Adrian',\n",
       " 'John Galsworthy',\n",
       " 'None',\n",
       " '—',\n",
       " '1933',\n",
       " 'Erwin Schrödinger;Paul Dirac',\n",
       " 'None',\n",
       " 'Thomas Hunt Morgan',\n",
       " 'Ivan Bunin',\n",
       " 'Norman Angell',\n",
       " '—',\n",
       " '1934',\n",
       " 'None',\n",
       " 'Harold Urey',\n",
       " 'George Whipple;George Minot;William P. Murphy',\n",
       " 'Luigi Pirandello',\n",
       " 'Arthur Henderson',\n",
       " '—',\n",
       " '1935',\n",
       " 'James Chadwick',\n",
       " 'Frédéric Joliot-Curie;Irène Joliot-Curie',\n",
       " 'Hans Spemann',\n",
       " 'None',\n",
       " 'Carl von Ossietzky',\n",
       " '—',\n",
       " '1936',\n",
       " 'Victor Francis Hess;Carl David Anderson',\n",
       " 'Peter Debye',\n",
       " 'Henry Hallett Dale;Otto Loewi',\n",
       " \"Eugene O'Neill\",\n",
       " 'Carlos Saavedra Lamas',\n",
       " '—',\n",
       " '1937',\n",
       " 'Clinton Davisson;George Paget Thomson',\n",
       " 'Norman Haworth;Paul Karrer',\n",
       " 'Albert Szent-Györgyi',\n",
       " 'Roger Martin du Gard',\n",
       " 'The Viscount Cecil of Chelwood',\n",
       " '—',\n",
       " '1938',\n",
       " 'Enrico Fermi',\n",
       " 'Richard Kuhn [a]',\n",
       " 'Corneille Heymans',\n",
       " 'Pearl S. Buck',\n",
       " 'Nansen International Office For Refugees',\n",
       " '—',\n",
       " '1939',\n",
       " 'Ernest Lawrence',\n",
       " 'Adolf Butenandt;[a]Leopold Ružička',\n",
       " 'Gerhard Domagk [a]',\n",
       " 'Frans Eemil Sillanpää',\n",
       " 'None',\n",
       " '—',\n",
       " '1940',\n",
       " 'Cancelled due to World War II',\n",
       " '—',\n",
       " '1941',\n",
       " '—',\n",
       " '1942',\n",
       " '—',\n",
       " '1943',\n",
       " 'Otto Stern',\n",
       " 'George de Hevesy',\n",
       " 'Henrik Dam;Edward Adelbert Doisy',\n",
       " 'None',\n",
       " 'None',\n",
       " '—',\n",
       " '1944',\n",
       " 'Isidor Isaac Rabi',\n",
       " 'Otto Hahn',\n",
       " 'Joseph Erlanger;Herbert Spencer Gasser',\n",
       " 'Johannes Vilhelm Jensen',\n",
       " 'International Committee of the Red Cross',\n",
       " '—',\n",
       " '1945',\n",
       " 'Wolfgang Pauli',\n",
       " 'Artturi Ilmari Virtanen',\n",
       " 'Alexander Fleming;Ernst Boris Chain;Howard Florey',\n",
       " 'Gabriela Mistral',\n",
       " 'Cordell Hull',\n",
       " '—',\n",
       " '1946',\n",
       " 'Percy Williams Bridgman',\n",
       " 'James B. Sumner;John Howard Northrop;Wendell Meredith Stanley',\n",
       " 'Hermann Joseph Muller',\n",
       " 'Hermann Hesse',\n",
       " 'Emily Greene Balch;John Mott',\n",
       " '—',\n",
       " '1947',\n",
       " 'Edward Victor Appleton',\n",
       " 'Robert Robinson',\n",
       " 'Carl Ferdinand Cori;Gerty Cori;Bernardo Houssay',\n",
       " 'André Gide',\n",
       " 'Friends Service Council;American Friends Service Committee',\n",
       " '—',\n",
       " '1948',\n",
       " 'Patrick Blackett',\n",
       " 'Arne Tiselius',\n",
       " 'Paul Hermann Müller',\n",
       " 'T. S. Eliot',\n",
       " 'None [b]',\n",
       " '—',\n",
       " '1949',\n",
       " 'Hideki Yukawa',\n",
       " 'William Giauque',\n",
       " 'Walter Rudolf Hess;António Egas Moniz',\n",
       " 'William Faulkner',\n",
       " 'John Boyd Orr',\n",
       " '—',\n",
       " '1950',\n",
       " 'C. F. Powell',\n",
       " 'Otto Diels;Kurt Alder',\n",
       " 'Philip Showalter Hench;Edward Calvin Kendall;Tadeus Reichstein',\n",
       " 'Bertrand Russell',\n",
       " 'Ralph Bunche',\n",
       " '—',\n",
       " '1951',\n",
       " 'John Cockcroft;Ernest Walton',\n",
       " 'Edwin McMillan;Glenn T. Seaborg',\n",
       " 'Max Theiler',\n",
       " 'Pär Lagerkvist',\n",
       " 'Léon Jouhaux',\n",
       " '—',\n",
       " '1952',\n",
       " 'Felix Bloch;Edward Mills Purcell',\n",
       " 'Archer John Porter Martin;Richard Laurence Millington Synge',\n",
       " 'Selman Waksman',\n",
       " 'François Mauriac',\n",
       " 'Albert Schweitzer',\n",
       " '—',\n",
       " '1953',\n",
       " 'Frits Zernike',\n",
       " 'Hermann Staudinger',\n",
       " 'Hans Adolf Krebs;Fritz Albert Lipmann',\n",
       " 'Winston Churchill',\n",
       " 'George Marshall',\n",
       " '—',\n",
       " '1954',\n",
       " 'Max Born;Walther Bothe',\n",
       " 'Linus Pauling',\n",
       " 'John Franklin Enders;Frederick Chapman Robbins;Thomas Huckle Weller',\n",
       " 'Ernest Hemingway',\n",
       " 'United Nations High Commissioner for Refugees',\n",
       " '—',\n",
       " '1955',\n",
       " 'Willis Lamb;Polykarp Kusch',\n",
       " 'Vincent du Vigneaud',\n",
       " 'Hugo Theorell',\n",
       " 'Halldór Laxness',\n",
       " 'None',\n",
       " '—',\n",
       " '1956',\n",
       " 'John Bardeen;Walter Houser Brattain;William Shockley',\n",
       " 'Cyril Norman Hinshelwood;Nikolay Semyonov',\n",
       " 'André Frédéric Cournand;Werner Forssmann;Dickinson W. Richards',\n",
       " 'Juan Ramón Jiménez',\n",
       " 'None',\n",
       " '—',\n",
       " '1957',\n",
       " 'Chen Ning Yang;Tsung-Dao Lee',\n",
       " 'The Lord Todd',\n",
       " 'Daniel Bovet',\n",
       " 'Albert Camus',\n",
       " 'Lester B. Pearson',\n",
       " '—',\n",
       " '1958',\n",
       " 'Pavel Cherenkov;Ilya Frank;Igor Tamm',\n",
       " 'Frederick Sanger',\n",
       " 'George Wells Beadle;Edward Lawrie Tatum;Joshua Lederberg',\n",
       " 'Boris Pasternak [c]',\n",
       " 'Dominique Pire',\n",
       " '—',\n",
       " '1959',\n",
       " 'Emilio G. Segrè;Owen Chamberlain',\n",
       " 'Jaroslav Heyrovský',\n",
       " 'Arthur Kornberg;Severo Ochoa',\n",
       " 'Salvatore Quasimodo',\n",
       " 'Philip Noel-Baker',\n",
       " '—',\n",
       " '1960',\n",
       " 'Donald A. Glaser',\n",
       " 'Willard Libby',\n",
       " 'Frank Macfarlane Burnet;Peter Medawar',\n",
       " 'Saint-John Perse',\n",
       " 'Albert Lutuli',\n",
       " '—',\n",
       " '1961',\n",
       " 'Robert Hofstadter;Rudolf Mössbauer',\n",
       " 'Melvin Calvin',\n",
       " 'Georg von Békésy',\n",
       " 'Ivo Andrić',\n",
       " 'Dag Hammarskjöld',\n",
       " '—',\n",
       " '1962',\n",
       " 'Lev Landau',\n",
       " 'Max Perutz;John Kendrew',\n",
       " 'Francis Crick;James D. Watson;Maurice Wilkins',\n",
       " 'John Steinbeck',\n",
       " 'Linus Pauling',\n",
       " '—',\n",
       " '1963',\n",
       " 'Eugene Wigner;Maria Goeppert-Mayer;J. Hans D. Jensen',\n",
       " 'Karl Ziegler;Giulio Natta',\n",
       " 'John Eccles;Alan Lloyd Hodgkin;Andrew Huxley',\n",
       " 'Giorgos Seferis',\n",
       " 'International Committee of the Red Cross;League of Red Cross societies',\n",
       " '—',\n",
       " '1964',\n",
       " 'Charles Hard Townes;Nikolay Basov;Alexander Prokhorov',\n",
       " 'Dorothy Hodgkin',\n",
       " 'Konrad Emil Bloch;Feodor Felix Konrad Lynen',\n",
       " 'Jean-Paul Sartre [d]',\n",
       " 'Martin Luther King, Jr.',\n",
       " '—',\n",
       " '1965',\n",
       " 'Sin-Itiro Tomonaga;Julian Schwinger;Richard Feynman',\n",
       " 'Robert Burns Woodward',\n",
       " 'François Jacob;André Michel Lwoff;Jacques Monod',\n",
       " 'Mikhail Sholokhov',\n",
       " \"United Nations International Children's Emergency Fund (UNICEF)\",\n",
       " '—',\n",
       " '1966',\n",
       " 'Alfred Kastler',\n",
       " 'Robert S. Mulliken',\n",
       " 'Francis Peyton Rous;Charles Brenton Huggins',\n",
       " 'Shmuel Yosef Agnon;Nelly Sachs',\n",
       " 'None',\n",
       " '—',\n",
       " '1967',\n",
       " 'Hans Bethe',\n",
       " 'Manfred Eigen;Ronald George Wreyford Norrish;George Porter',\n",
       " 'Ragnar Granit;Haldan Keffer Hartline;George Wald',\n",
       " 'Miguel Ángel Asturias',\n",
       " 'None',\n",
       " '—',\n",
       " '1968',\n",
       " 'Luis Walter Alvarez',\n",
       " 'Lars Onsager',\n",
       " 'Robert W. Holley;Har Gobind Khorana;Marshall Warren Nirenberg',\n",
       " 'Yasunari Kawabata',\n",
       " 'René Cassin',\n",
       " '—',\n",
       " '1969',\n",
       " 'Murray Gell-Mann',\n",
       " 'Derek Barton;Odd Hassel',\n",
       " 'Max Delbrück;Alfred Hershey;Salvador Luria',\n",
       " 'Samuel Beckett',\n",
       " 'International Labour Organization',\n",
       " 'Ragnar Frisch;Jan Tinbergen',\n",
       " '1970',\n",
       " 'Hannes Alfvén;Louis Néel',\n",
       " 'Luis Federico Leloir',\n",
       " 'Julius Axelrod;Ulf von Euler;Bernard Katz',\n",
       " 'Aleksandr Solzhenitsyn',\n",
       " 'Norman Borlaug',\n",
       " 'Paul Samuelson',\n",
       " '1971',\n",
       " 'Dennis Gabor',\n",
       " 'Gerhard Herzberg',\n",
       " 'Earl Wilbur Sutherland, Jr.',\n",
       " 'Pablo Neruda',\n",
       " 'Willy Brandt',\n",
       " 'Simon Kuznets',\n",
       " '1972',\n",
       " 'John Bardeen;Leon Cooper;John Robert Schrieffer',\n",
       " 'Christian B. Anfinsen;Stanford Moore;William Howard Stein',\n",
       " 'Gerald Edelman;Rodney Robert Porter',\n",
       " 'Heinrich Böll',\n",
       " 'None',\n",
       " 'John Hicks;Kenneth Arrow',\n",
       " '1973',\n",
       " 'Leo Esaki;Ivar Giaever;Brian David Josephson',\n",
       " 'Ernst Otto Fischer;Geoffrey Wilkinson',\n",
       " 'Karl von Frisch;Konrad Lorenz;Nikolaas Tinbergen',\n",
       " 'Patrick White',\n",
       " 'Henry Kissinger;Le Duc Tho [e]',\n",
       " 'Wassily Leontief',\n",
       " '1974',\n",
       " 'Martin Ryle;Antony Hewish',\n",
       " 'Paul Flory',\n",
       " 'Albert Claude;Christian de Duve;George Emil Palade',\n",
       " 'Eyvind Johnson;Harry Martinson',\n",
       " 'Seán MacBride;Eisaku Satō',\n",
       " 'Gunnar Myrdal;Friedrich Hayek',\n",
       " '1975',\n",
       " 'Aage Bohr;Ben Roy Mottelson;James Rainwater',\n",
       " 'John Cornforth;Vladimir Prelog',\n",
       " 'David Baltimore;Renato Dulbecco;Howard Martin Temin',\n",
       " 'Eugenio Montale',\n",
       " 'Andrei Sakharov',\n",
       " 'Leonid Kantorovich;Tjalling Koopmans',\n",
       " '1976',\n",
       " 'Burton Richter;Samuel C. C. Ting',\n",
       " 'William Lipscomb',\n",
       " 'Baruch Samuel Blumberg;Daniel Carleton Gajdusek',\n",
       " 'Saul Bellow',\n",
       " 'Betty Williams;Mairead Maguire',\n",
       " 'Milton Friedman',\n",
       " '1977',\n",
       " 'Philip Warren Anderson;Nevill Francis Mott;John Hasbrouck Van Vleck',\n",
       " 'Ilya Prigogine',\n",
       " 'Roger Guillemin;Andrew Schally;Rosalyn Sussman Yalow',\n",
       " 'Vicente Aleixandre',\n",
       " 'Amnesty International',\n",
       " 'Bertil Ohlin;James Meade',\n",
       " '1978',\n",
       " 'Pyotr Kapitsa;Arno Allan Penzias;Robert Woodrow Wilson',\n",
       " 'Peter D. Mitchell',\n",
       " 'Werner Arber;Daniel Nathans;Hamilton O. Smith',\n",
       " 'Isaac Bashevis Singer',\n",
       " 'Anwar Sadat;Menachem Begin',\n",
       " 'Herbert A. Simon',\n",
       " '1979',\n",
       " 'Sheldon Lee Glashow;Abdus Salam;Steven Weinberg',\n",
       " 'Herbert C. Brown;Georg Wittig',\n",
       " 'Allan McLeod Cormack;Godfrey Hounsfield',\n",
       " 'Odysseas Elytis',\n",
       " 'Mother Teresa',\n",
       " 'Theodore Schultz;Arthur Lewis',\n",
       " '1980',\n",
       " 'James Cronin;Val Logsdon Fitch',\n",
       " 'Paul Berg;Walter Gilbert;Frederick Sanger',\n",
       " 'Baruj Benacerraf;Jean Dausset;George Davis Snell',\n",
       " 'Czesław Miłosz',\n",
       " 'Adolfo Pérez Esquivel',\n",
       " 'Lawrence Klein',\n",
       " '1981',\n",
       " 'Nicolaas Bloembergen;Arthur Leonard Schawlow;Kai Siegbahn',\n",
       " 'Kenichi Fukui;Roald Hoffmann',\n",
       " 'Roger Wolcott Sperry;David H. Hubel;Torsten Wiesel',\n",
       " 'Elias Canetti',\n",
       " 'United Nations High Commissioner for Refugees',\n",
       " 'James Tobin',\n",
       " '1982',\n",
       " 'Kenneth G. Wilson',\n",
       " 'Aaron Klug',\n",
       " 'Sune Bergström;Bengt I. Samuelsson;John Vane',\n",
       " 'Gabriel García Márquez',\n",
       " 'Alva Myrdal;Alfonso García Robles',\n",
       " 'George Stigler',\n",
       " '1983',\n",
       " 'Subrahmanyan Chandrasekhar;William Alfred Fowler',\n",
       " 'Henry Taube',\n",
       " 'Barbara McClintock',\n",
       " 'William Golding',\n",
       " 'Lech Wałęsa',\n",
       " 'Gérard Debreu',\n",
       " '1984',\n",
       " 'Carlo Rubbia;Simon van der Meer',\n",
       " 'Robert Bruce Merrifield',\n",
       " 'Niels Kaj Jerne;Georges J. F. Köhler;César Milstein',\n",
       " 'Jaroslav Seifert',\n",
       " 'Desmond Tutu',\n",
       " 'Richard Stone',\n",
       " '1985',\n",
       " 'Klaus von Klitzing',\n",
       " 'Herbert A. Hauptman;Jerome Karle',\n",
       " 'Michael Stuart Brown;Joseph L. Goldstein',\n",
       " 'Claude Simon',\n",
       " 'International Physicians for the Prevention of Nuclear War',\n",
       " 'Franco Modigliani',\n",
       " '1986',\n",
       " 'Ernst Ruska;Gerd Binnig;Heinrich Rohrer',\n",
       " 'Dudley R. Herschbach;Yuan T. Lee;John Polanyi',\n",
       " 'Stanley Cohen;Rita Levi-Montalcini',\n",
       " 'Wole Soyinka',\n",
       " 'Elie Wiesel',\n",
       " 'James M. Buchanan',\n",
       " '1987',\n",
       " 'Johannes Georg Bednorz;Karl Alexander Müller',\n",
       " 'Donald J. Cram;Jean-Marie Lehn;Charles J. Pedersen',\n",
       " 'Susumu Tonegawa',\n",
       " 'Joseph Brodsky',\n",
       " 'Óscar Arias',\n",
       " 'Robert Solow',\n",
       " '1988',\n",
       " 'Leon M. Lederman;Melvin Schwartz;Jack Steinberger',\n",
       " 'Johann Deisenhofer;Robert Huber;Hartmut Michel',\n",
       " 'James W. Black;Gertrude B. Elion;George H. Hitchings',\n",
       " 'Naguib Mahfouz',\n",
       " 'United Nations Peace-Keeping Forces',\n",
       " 'Maurice Allais',\n",
       " '1989',\n",
       " 'Norman Foster Ramsey, Jr.;Hans Georg Dehmelt;Wolfgang Paul',\n",
       " 'Sidney Altman;Thomas Cech',\n",
       " 'J. Michael Bishop;Harold E. Varmus',\n",
       " 'Camilo José Cela',\n",
       " 'Tenzin Gyatso (The 14th Dalai Lama)',\n",
       " 'Trygve Haavelmo',\n",
       " '1990',\n",
       " 'Jerome Isaac Friedman;Henry Way Kendall;Richard E. Taylor',\n",
       " 'Elias James Corey',\n",
       " 'Joseph Murray;E. Donnall Thomas',\n",
       " 'Octavio Paz',\n",
       " 'Mikhail Gorbachev',\n",
       " 'Harry Markowitz;Merton Miller;William F. Sharpe',\n",
       " '1991',\n",
       " 'Pierre-Gilles de Gennes',\n",
       " 'Richard R. Ernst',\n",
       " 'Erwin Neher;Bert Sakmann',\n",
       " 'Nadine Gordimer',\n",
       " 'Aung San Suu Kyi',\n",
       " 'Ronald Coase',\n",
       " '1992',\n",
       " 'Georges Charpak',\n",
       " 'Rudolph A. Marcus',\n",
       " 'Edmond H. Fischer;Edwin G. Krebs',\n",
       " 'Derek Walcott',\n",
       " 'Rigoberta Menchú',\n",
       " 'Gary Becker',\n",
       " '1993',\n",
       " 'Russell Alan Hulse;Joseph Hooton Taylor, Jr.',\n",
       " 'Kary Mullis;Michael Smith',\n",
       " 'Richard J. Roberts;Phillip Allen Sharp',\n",
       " 'Toni Morrison',\n",
       " 'Nelson Mandela;F. W. de Klerk',\n",
       " 'Robert Fogel;Douglass North',\n",
       " '1994',\n",
       " 'Bertram Brockhouse;Clifford Shull',\n",
       " 'George Andrew Olah',\n",
       " 'Alfred G. Gilman;Martin Rodbell',\n",
       " 'Kenzaburō Ōe',\n",
       " 'Yasser Arafat;Shimon Peres;Yitzhak Rabin',\n",
       " 'John Harsanyi;John Forbes Nash, Jr.;Reinhard Selten',\n",
       " '1995',\n",
       " 'Martin Lewis Perl;Frederick Reines',\n",
       " 'Paul J. Crutzen;Mario J. Molina;Frank Sherwood Rowland',\n",
       " 'Edward B. Lewis;Christiane Nüsslein-Volhard;Eric F. Wieschaus',\n",
       " 'Seamus Heaney',\n",
       " 'Joseph Rotblat;Pugwash Conferences on Science and World Affairs',\n",
       " 'Robert Lucas, Jr.',\n",
       " '1996',\n",
       " 'David Lee;Douglas Osheroff;Robert Coleman Richardson',\n",
       " 'Robert F. Curl Jr.;Harry Kroto;Richard Smalley',\n",
       " 'Peter C. Doherty;Rolf M. Zinkernagel',\n",
       " 'Wisława Szymborska',\n",
       " 'Carlos Filipe Ximenes Belo;José Ramos-Horta',\n",
       " 'James Mirrlees;William Vickrey',\n",
       " '1997',\n",
       " 'Steven Chu;Claude Cohen-Tannoudji;William Daniel Phillips',\n",
       " 'Paul D. Boyer;John E. Walker;Jens Christian Skou',\n",
       " 'Stanley B. Prusiner',\n",
       " 'Dario Fo',\n",
       " 'International Campaign to Ban Landmines;Jody Williams',\n",
       " 'Robert C. Merton;Myron Scholes',\n",
       " '1998',\n",
       " 'Robert B. Laughlin;Horst Ludwig Störmer;Daniel C. Tsui',\n",
       " 'Walter Kohn;John Pople',\n",
       " 'Robert F. Furchgott;Louis Ignarro;Ferid Murad',\n",
       " 'José Saramago',\n",
       " 'John Hume;David Trimble',\n",
       " 'Amartya Sen',\n",
       " '1999',\n",
       " \"Gerard 't Hooft;Martinus J. G. Veltman\",\n",
       " 'Ahmed Zewail',\n",
       " 'Günter Blobel',\n",
       " 'Günter Grass',\n",
       " 'Médecins Sans Frontières',\n",
       " 'Robert Mundell',\n",
       " '2000',\n",
       " 'Zhores Alferov;Herbert Kroemer;Jack Kilby',\n",
       " 'Alan J. Heeger;Alan MacDiarmid;Hideki Shirakawa',\n",
       " 'Arvid Carlsson;Paul Greengard;Eric Kandel',\n",
       " 'Gao Xingjian',\n",
       " 'Kim Dae-jung',\n",
       " 'James Heckman;Daniel McFadden',\n",
       " '2001',\n",
       " 'Eric Allin Cornell;Wolfgang Ketterle;Carl Wieman',\n",
       " 'William Standish Knowles;Ryōji Noyori;Karl Barry Sharpless',\n",
       " 'Leland H. Hartwell;Tim Hunt;Paul Nurse',\n",
       " 'V. S. Naipaul',\n",
       " 'United Nations;Kofi Annan',\n",
       " 'George Akerlof;Michael Spence;Joseph Stiglitz',\n",
       " '2002',\n",
       " 'Raymond Davis, Jr.;Masatoshi Koshiba;Riccardo Giacconi',\n",
       " 'John Fenn;Koichi Tanaka;Kurt Wüthrich',\n",
       " 'Sydney Brenner;H. Robert Horvitz;John Sulston',\n",
       " 'Imre Kertész',\n",
       " 'Jimmy Carter',\n",
       " 'Daniel Kahneman;Vernon L. Smith',\n",
       " '2003',\n",
       " 'Alexei Alexeyevich Abrikosov;Vitaly Ginzburg;Anthony James Leggett',\n",
       " 'Peter Agre;Roderick MacKinnon',\n",
       " 'Paul Lauterbur;Peter Mansfield',\n",
       " 'J. M. Coetzee',\n",
       " 'Shirin Ebadi',\n",
       " 'Robert F. Engle;Clive Granger',\n",
       " '2004',\n",
       " 'David Gross;Hugh David Politzer;Frank Wilczek',\n",
       " 'Aaron Ciechanover;Avram Hershko;Irwin Rose',\n",
       " 'Richard Axel;Linda B. Buck',\n",
       " 'Elfriede Jelinek',\n",
       " 'Wangari Maathai',\n",
       " 'Finn E. Kydland;Edward C. Prescott',\n",
       " '2005',\n",
       " 'Roy J. Glauber;John L. Hall;Theodor W. Hänsch',\n",
       " 'Yves Chauvin;Robert H. Grubbs;Richard R. Schrock',\n",
       " 'Barry Marshall;Robin Warren',\n",
       " 'Harold Pinter',\n",
       " 'International Atomic Energy Agency;Mohamed ElBaradei',\n",
       " 'Robert Aumann;Thomas Schelling',\n",
       " '2006',\n",
       " 'John C. Mather;George Smoot',\n",
       " 'Roger D. Kornberg',\n",
       " 'Andrew Fire;Craig Mello',\n",
       " 'Orhan Pamuk',\n",
       " 'Muhammad Yunus;Grameen Bank',\n",
       " 'Edmund Phelps',\n",
       " '2007',\n",
       " 'Albert Fert;Peter Grünberg',\n",
       " 'Gerhard Ertl',\n",
       " 'Mario Capecchi;Martin Evans;Oliver Smithies',\n",
       " 'Doris Lessing',\n",
       " 'Intergovernmental Panel on Climate Change;Al Gore',\n",
       " 'Leonid Hurwicz;Eric Maskin;Roger Myerson',\n",
       " '2008',\n",
       " 'Yoichiro Nambu;Makoto Kobayashi;Toshihide Maskawa',\n",
       " 'Osamu Shimomura;Martin Chalfie;Roger Y. Tsien',\n",
       " 'Harald zur Hausen;Françoise Barré-Sinoussi;Luc Montagnier',\n",
       " 'J. M. G. Le Clézio',\n",
       " 'Martti Ahtisaari',\n",
       " 'Paul Krugman',\n",
       " '2009',\n",
       " 'Charles K. Kao;Willard S. Boyle;George E. Smith',\n",
       " 'Venkatraman Ramakrishnan;Thomas A. Steitz;Ada Yonath',\n",
       " 'Elizabeth Blackburn;Carol W. Greider;Jack W. Szostak',\n",
       " 'Herta Müller',\n",
       " 'Barack  Obama',\n",
       " 'Elinor Ostrom;Oliver E. Williamson',\n",
       " '2010',\n",
       " 'Andre Geim;Konstantin Novoselov',\n",
       " 'Richard F. Heck;Ei-ichi Negishi;Akira Suzuki',\n",
       " 'Robert G. Edwards',\n",
       " 'Mario Vargas Llosa',\n",
       " 'Liu Xiaobo [f]',\n",
       " 'Peter A. Diamond;Dale T.  Mortensen;Christopher A.  Pissarides',\n",
       " '2011',\n",
       " 'Saul Perlmutter;Adam G. Riess;Brian Schmidt',\n",
       " 'Dan Shechtman',\n",
       " 'Bruce Beutler;Jules A. Hoffmann;Ralph M.  Steinman',\n",
       " 'Tomas Tranströmer',\n",
       " 'Ellen Johnson Sirleaf;Leymah Gbowee;Tawakel Karman',\n",
       " 'Thomas J. Sargent;Christopher A. Sims',\n",
       " '2012',\n",
       " 'Serge Haroche;David  J. Wineland',\n",
       " 'Brian K. Kobilka;Robert J. Lefkowitz',\n",
       " 'John B. Gurdon; Shinya Yamanaka',\n",
       " 'Mo Yan',\n",
       " 'European Union',\n",
       " 'Alvin E. Roth;Lloyd S. Shapley',\n",
       " '2013',\n",
       " 'François Englert;Peter W. Higgs',\n",
       " 'Martin Karplus;Michael Levitt;Arieh Warshel',\n",
       " 'James E. Rothman;Randy W. Schekman;Thomas C. Südhof',\n",
       " 'Alice Munro',\n",
       " 'Organisation for the Prohibition of Chemical Weapons',\n",
       " 'Eugene F. Fama;Lars Peter Hansen;Robert J. Shiller',\n",
       " '2014',\n",
       " 'Isamu Akasaki;Hiroshi Amano;Shuji Nakamura',\n",
       " 'Eric Betzig;Stefan Hell;William Moerner',\n",
       " \"John O'Keefe;May-Britt Moser;Edvard  Moser\",\n",
       " 'Patrick Modiano',\n",
       " 'Kailash Satyarthi; Malala Yousafzai',\n",
       " 'Jean Tirole',\n",
       " '2015',\n",
       " 'Takaaki Kajita;Arthur B. McDonald',\n",
       " 'Tomas Lindahl; Paul L. Modrich;Aziz Sancar',\n",
       " 'William C. Campbell;Satoshi Ōmura;Tu Youyou',\n",
       " 'Svetlana Alexievich',\n",
       " 'Tunisian National Dialogue Quartet',\n",
       " 'Angus Deaton',\n",
       " '2016',\n",
       " 'David J. Thouless;Duncan Haldane;John M. Kosterlitz',\n",
       " 'Jean-Pierre Sauvage;Fraser Stoddart;Ben Feringa',\n",
       " 'Yoshinori Ohsumi',\n",
       " 'Bob Dylan',\n",
       " 'Juan Manuel Santos',\n",
       " 'Oliver Hart;Bengt R. Holmström',\n",
       " '2017',\n",
       " 'Rainer Weiss;Barry Barish;Kip Thorne',\n",
       " 'Jacques Dubochet;Joachim Frank;Richard Henderson',\n",
       " 'Jeffrey C. Hall;Michael Rosbash;Michael W. Young',\n",
       " 'Kazuo Ishiguro',\n",
       " 'International Campaign to Abolish Nuclear Weapons',\n",
       " 'Richard Thaler',\n",
       " '2018',\n",
       " 'Arthur Ashkin;Gérard Mourou;Donna Strickland',\n",
       " 'Frances H. Arnold;George P. Smith;Greg Winter',\n",
       " 'James P. Allison; Tasuku Honjo',\n",
       " 'Olga Tokarczuk [g]',\n",
       " 'Denis Mukwege; Nadia Murad',\n",
       " 'William Nordhaus; Paul Romer',\n",
       " '2019',\n",
       " 'James Peebles; Michel Mayor; Didier Queloz',\n",
       " 'John B. Goodenough;M. Stanley Whittingham;Akira Yoshino',\n",
       " 'William Kaelin Jr.;Peter J. Ratcliffe;Gregg L. Semenza',\n",
       " 'Peter Handke',\n",
       " 'Abiy Ahmed',\n",
       " 'Abhijit Banerjee;Esther Duflo;Michael Kremer',\n",
       " '2020',\n",
       " 'Roger Penrose; Reinhard Genzel; Andrea M. Ghez',\n",
       " 'Emmanuelle Charpentier;Jennifer Doudna',\n",
       " 'Harvey J. Alter; Michael Houghton; Charles M. Rice',\n",
       " 'Louise Glück',\n",
       " 'World Food Programme',\n",
       " 'Paul R. Milgrom;Robert B. Wilson',\n",
       " '',\n",
       " 'Wikimedia Commons has media related to Nobel laureates.',\n",
       " 'Lists of Nobel laureates',\n",
       " 'Chemistry\\nLiterature\\nPeace\\nPhysics\\nPhysiology or Medicine',\n",
       " '',\n",
       " 'Economics1',\n",
       " \"by subject\\nChemistry\\nEconomics\\nLiterature\\nPeace\\nPhysics\\nPhysiology or Medicine\\nby criterion\\nAfrican\\nArab\\nAsian\\nBengali\\nBlack\\nChristian\\nFemale\\nJewish\\nLatin American\\nMuslim\\nNon-religious\\nby country\\nArgentine\\nAustralian\\nBelgian\\nChinese\\nDanish\\nHungarian\\nIndian\\nIsraeli\\nItalian\\nJapanese\\nKorean\\nPakistani\\nPolish\\nRussian\\nSpanish\\nSwedish\\nWelsh\\nby year\\nList of Nobel laureates by year\\nby university affiliation\\nUniversity of California, Berkeley\\nUniversity of Cambridge\\nCalifornia Institute of Technology\\nCity University of New York\\nUniversity College London\\nColumbia University\\nCornell University\\nUniversity of Chicago\\nUniversity of Copenhagen\\nUniversity of Edinburgh\\nHarvard University\\nHumboldt University of Berlin\\nImperial College London\\nJohns Hopkins University\\nKing's College London\\nKyoto University\\nLondon School of Economics\\nMassachusetts Institute of Technology\\nUniversity of Oxford\\nUniversity of Pennsylvania\\nPrinceton University\\nUniversity of Rochester\\nStanford University\\nUniversity of Tokyo\\nWashington University of St. Louis\\nYale University\\nby occupation\\nHeads of state and government\",\n",
       " 'Chemistry\\nEconomics\\nLiterature\\nPeace\\nPhysics\\nPhysiology or Medicine',\n",
       " 'African\\nArab\\nAsian\\nBengali\\nBlack\\nChristian\\nFemale\\nJewish\\nLatin American\\nMuslim\\nNon-religious',\n",
       " 'Argentine\\nAustralian\\nBelgian\\nChinese\\nDanish\\nHungarian\\nIndian\\nIsraeli\\nItalian\\nJapanese\\nKorean\\nPakistani\\nPolish\\nRussian\\nSpanish\\nSwedish\\nWelsh',\n",
       " 'List of Nobel laureates by year',\n",
       " \"University of California, Berkeley\\nUniversity of Cambridge\\nCalifornia Institute of Technology\\nCity University of New York\\nUniversity College London\\nColumbia University\\nCornell University\\nUniversity of Chicago\\nUniversity of Copenhagen\\nUniversity of Edinburgh\\nHarvard University\\nHumboldt University of Berlin\\nImperial College London\\nJohns Hopkins University\\nKing's College London\\nKyoto University\\nLondon School of Economics\\nMassachusetts Institute of Technology\\nUniversity of Oxford\\nUniversity of Pennsylvania\\nPrinceton University\\nUniversity of Rochester\\nStanford University\\nUniversity of Tokyo\\nWashington University of St. Louis\\nYale University\",\n",
       " 'Heads of state and government',\n",
       " 'Chemistry\\nEconomics\\nLiterature\\nPeace\\nPhysics\\nPhysiology or Medicine',\n",
       " 'African\\nArab\\nAsian\\nBengali\\nBlack\\nChristian\\nFemale\\nJewish\\nLatin American\\nMuslim\\nNon-religious',\n",
       " 'Argentine\\nAustralian\\nBelgian\\nChinese\\nDanish\\nHungarian\\nIndian\\nIsraeli\\nItalian\\nJapanese\\nKorean\\nPakistani\\nPolish\\nRussian\\nSpanish\\nSwedish\\nWelsh',\n",
       " 'List of Nobel laureates by year',\n",
       " \"University of California, Berkeley\\nUniversity of Cambridge\\nCalifornia Institute of Technology\\nCity University of New York\\nUniversity College London\\nColumbia University\\nCornell University\\nUniversity of Chicago\\nUniversity of Copenhagen\\nUniversity of Edinburgh\\nHarvard University\\nHumboldt University of Berlin\\nImperial College London\\nJohns Hopkins University\\nKing's College London\\nKyoto University\\nLondon School of Economics\\nMassachusetts Institute of Technology\\nUniversity of Oxford\\nUniversity of Pennsylvania\\nPrinceton University\\nUniversity of Rochester\\nStanford University\\nUniversity of Tokyo\\nWashington University of St. Louis\\nYale University\",\n",
       " 'Heads of state and government',\n",
       " 'by subject\\nChemistry\\nLiterature\\nby criterion\\nFemale\\nOrganizations',\n",
       " 'Chemistry\\nLiterature',\n",
       " 'Female\\nOrganizations',\n",
       " 'Chemistry\\nLiterature',\n",
       " 'Female\\nOrganizations',\n",
       " 'Nobel Foundation\\nNobel Committees\\nChemistry\\nEconomics\\nPhysics\\nPhysiology or Medicine\\nNorwegian Nobel Committee\\nNobel Assembly at the Karolinska Institute',\n",
       " 'Controversies\\nAlfred Nobel\\nLindau Nobel Laureate Meetings\\nWorld Summit of Nobel Peace Laureates\\nPrizes known as the \"Nobel\" of their fields',\n",
       " '1 Nobel Memorial Prize (not one of the original Nobel Prizes).',\n",
       " 'Laureates\\nCommittee (members)\\nInstitute\\nCenter\\nConcert\\nOslo Spektrum\\nOslo City Hall\\nWorld Summit']"
      ]
     },
     "execution_count": 28,
     "metadata": {},
     "output_type": "execute_result"
    }
   ],
   "source": [
    "table1\n",
    "\n",
    "\n"
   ]
  },
  {
   "cell_type": "code",
   "execution_count": 32,
   "id": "66c51bee",
   "metadata": {},
   "outputs": [],
   "source": [
    "# to get the column names from data use loop and append it in variable (col)"
   ]
  },
  {
   "cell_type": "code",
   "execution_count": 29,
   "id": "7a1310d7",
   "metadata": {},
   "outputs": [],
   "source": [
    "col =[]\n",
    "for i in results[0].find_all('th'):\n",
    "    col.append(i.text.strip())\n",
    "    "
   ]
  },
  {
   "cell_type": "code",
   "execution_count": 30,
   "id": "a5811594",
   "metadata": {},
   "outputs": [
    {
     "data": {
      "text/plain": [
       "['Year',\n",
       " 'Physics',\n",
       " 'Chemistry',\n",
       " 'Physiologyor Medicine',\n",
       " 'Literature',\n",
       " 'Peace',\n",
       " 'Economics(The Sveriges Riksbank Prize)[13]']"
      ]
     },
     "execution_count": 30,
     "metadata": {},
     "output_type": "execute_result"
    }
   ],
   "source": [
    "col"
   ]
  },
  {
   "cell_type": "code",
   "execution_count": 35,
   "id": "11bc62f6",
   "metadata": {},
   "outputs": [],
   "source": [
    "# The data which got in table1 is in the form of list.\n",
    "#If we add this data in dataframe it will go in 1 column so to avoid this slice the data as given in below cell."
   ]
  },
  {
   "cell_type": "code",
   "execution_count": 31,
   "id": "75e96e9a",
   "metadata": {},
   "outputs": [
    {
     "data": {
      "text/plain": [
       "['1901',\n",
       " 'Wilhelm Röntgen',\n",
       " \"Jacobus Henricus van 't Hoff\",\n",
       " 'Emil Adolf von Behring',\n",
       " 'Sully Prudhomme',\n",
       " 'Henry Dunant;Frédéric Passy',\n",
       " '(prize not established)']"
      ]
     },
     "execution_count": 31,
     "metadata": {},
     "output_type": "execute_result"
    }
   ],
   "source": [
    "table1[0:7]\n"
   ]
  },
  {
   "cell_type": "code",
   "execution_count": 32,
   "id": "92b8e2e1",
   "metadata": {},
   "outputs": [
    {
     "data": {
      "text/plain": [
       "['1902',\n",
       " 'Hendrik Lorentz;Pieter Zeeman',\n",
       " 'Hermann Emil Fischer',\n",
       " 'Ronald Ross',\n",
       " 'Theodor Mommsen',\n",
       " 'Élie Ducommun;Charles Albert Gobat',\n",
       " '—']"
      ]
     },
     "execution_count": 32,
     "metadata": {},
     "output_type": "execute_result"
    }
   ],
   "source": [
    "table1[7:14]"
   ]
  },
  {
   "cell_type": "code",
   "execution_count": 38,
   "id": "e5f2dbb6",
   "metadata": {},
   "outputs": [],
   "source": [
    "# to slice whole data we cant do it manually so apply a function to iterate the table1 to slice them into chunk of 7 elements."
   ]
  },
  {
   "cell_type": "code",
   "execution_count": 33,
   "id": "9703154a",
   "metadata": {},
   "outputs": [],
   "source": [
    "Tabledata =list(zip(*(iter(table1),) * 7))\n",
    "    "
   ]
  },
  {
   "cell_type": "code",
   "execution_count": 34,
   "id": "1898de84",
   "metadata": {},
   "outputs": [
    {
     "data": {
      "text/plain": [
       "[('1901',\n",
       "  'Wilhelm Röntgen',\n",
       "  \"Jacobus Henricus van 't Hoff\",\n",
       "  'Emil Adolf von Behring',\n",
       "  'Sully Prudhomme',\n",
       "  'Henry Dunant;Frédéric Passy',\n",
       "  '(prize not established)'),\n",
       " ('1902',\n",
       "  'Hendrik Lorentz;Pieter Zeeman',\n",
       "  'Hermann Emil Fischer',\n",
       "  'Ronald Ross',\n",
       "  'Theodor Mommsen',\n",
       "  'Élie Ducommun;Charles Albert Gobat',\n",
       "  '—'),\n",
       " ('1903',\n",
       "  'Henri Becquerel;Pierre Curie;Marie Curie',\n",
       "  'Svante Arrhenius',\n",
       "  'Niels Ryberg Finsen',\n",
       "  'Bjørnstjerne Bjørnson',\n",
       "  'Randal Cremer',\n",
       "  '—'),\n",
       " ('1904',\n",
       "  'Lord Rayleigh',\n",
       "  'William Ramsay',\n",
       "  'Ivan Pavlov',\n",
       "  'Frédéric Mistral;José Echegaray',\n",
       "  'Institut de Droit International',\n",
       "  '—'),\n",
       " ('1905',\n",
       "  'Philipp Lenard',\n",
       "  'Adolf von Baeyer',\n",
       "  'Robert Koch',\n",
       "  'Henryk Sienkiewicz',\n",
       "  'Bertha von Suttner',\n",
       "  '—'),\n",
       " ('1906',\n",
       "  'J. J. Thomson',\n",
       "  'Henri Moissan',\n",
       "  'Camillo Golgi;Santiago Ramón y Cajal',\n",
       "  'Giosuè Carducci',\n",
       "  'Theodore Roosevelt',\n",
       "  '—'),\n",
       " ('1907',\n",
       "  'Albert Abraham Michelson',\n",
       "  'Eduard Buchner',\n",
       "  'Charles Louis Alphonse Laveran',\n",
       "  'Rudyard Kipling',\n",
       "  'Ernesto Teodoro Moneta;Louis Renault',\n",
       "  '—'),\n",
       " ('1908',\n",
       "  'Gabriel Lippmann',\n",
       "  'Ernest Rutherford',\n",
       "  'Élie Metchnikoff;Paul Ehrlich',\n",
       "  'Rudolf Christoph Eucken',\n",
       "  'Klas Pontus Arnoldson;Fredrik Bajer',\n",
       "  '—'),\n",
       " ('1909',\n",
       "  'Karl Ferdinand Braun;Guglielmo Marconi',\n",
       "  'Wilhelm Ostwald',\n",
       "  'Emil Theodor Kocher',\n",
       "  'Selma Lagerlöf',\n",
       "  \"Auguste Marie François Beernaert;Paul-Henri-Benjamin d'Estournelles de Constant\",\n",
       "  '—'),\n",
       " ('1910',\n",
       "  'Johannes Diderik van der Waals',\n",
       "  'Otto Wallach',\n",
       "  'Albrecht Kossel',\n",
       "  'Paul Heyse',\n",
       "  'International Peace Bureau',\n",
       "  '—'),\n",
       " ('1911',\n",
       "  'Wilhelm Wien',\n",
       "  'Marie Skłodowska-Curie',\n",
       "  'Allvar Gullstrand',\n",
       "  'Maurice Maeterlinck',\n",
       "  'Tobias Asser;Alfred Hermann Fried',\n",
       "  '—'),\n",
       " ('1912',\n",
       "  'Gustaf Dalén',\n",
       "  'Victor Grignard;Paul Sabatier',\n",
       "  'Alexis Carrel',\n",
       "  'Gerhart Hauptmann',\n",
       "  'Elihu Root',\n",
       "  '—'),\n",
       " ('1913',\n",
       "  'Heike Kamerlingh Onnes',\n",
       "  'Alfred Werner',\n",
       "  'Charles Richet',\n",
       "  'Rabindranath Tagore',\n",
       "  'Henri La Fontaine',\n",
       "  '—'),\n",
       " ('1914',\n",
       "  'Max von Laue',\n",
       "  'Theodore William Richards',\n",
       "  'Robert Bárány',\n",
       "  'None',\n",
       "  'None',\n",
       "  '—'),\n",
       " ('1915',\n",
       "  'William Henry Bragg;William Lawrence Bragg',\n",
       "  'Richard Willstätter',\n",
       "  'None',\n",
       "  'Romain Rolland',\n",
       "  'None',\n",
       "  '—'),\n",
       " ('1916', 'None', 'None', 'None', 'Verner von Heidenstam', 'None', '—'),\n",
       " ('1917',\n",
       "  'Charles Glover Barkla',\n",
       "  'None',\n",
       "  'None',\n",
       "  'Karl Adolph Gjellerup;Henrik Pontoppidan',\n",
       "  'International Committee of the Red Cross',\n",
       "  '—'),\n",
       " ('1918', 'Max Planck', 'Fritz Haber', 'None', 'None', 'None', '—'),\n",
       " ('1919',\n",
       "  'Johannes Stark',\n",
       "  'None',\n",
       "  'Jules Bordet',\n",
       "  'Carl Spitteler',\n",
       "  'Woodrow Wilson',\n",
       "  '—'),\n",
       " ('1920',\n",
       "  'Charles Édouard Guillaume',\n",
       "  'Walther Nernst',\n",
       "  'August Krogh',\n",
       "  'Knut Hamsun',\n",
       "  'Léon Bourgeois',\n",
       "  '—'),\n",
       " ('1921',\n",
       "  'Albert Einstein',\n",
       "  'Frederick Soddy',\n",
       "  'None',\n",
       "  'Anatole France',\n",
       "  'Hjalmar Branting;Christian Lous Lange',\n",
       "  '—'),\n",
       " ('1922',\n",
       "  'Niels Bohr',\n",
       "  'Francis William Aston',\n",
       "  'Archibald Hill;Otto Fritz Meyerhof',\n",
       "  'Jacinto Benavente',\n",
       "  'Fridtjof Nansen',\n",
       "  '—'),\n",
       " ('1923',\n",
       "  'Robert Andrews Millikan',\n",
       "  'Fritz Pregl',\n",
       "  'Frederick Banting;John James Rickard Macleod',\n",
       "  'W. B. Yeats',\n",
       "  'None',\n",
       "  '—'),\n",
       " ('1924',\n",
       "  'Manne Siegbahn',\n",
       "  'None',\n",
       "  'Willem Einthoven',\n",
       "  'Władysław Reymont',\n",
       "  'None',\n",
       "  '—'),\n",
       " ('1925',\n",
       "  'James Franck;Gustav Ludwig Hertz',\n",
       "  'Richard Adolf Zsigmondy',\n",
       "  'None',\n",
       "  'George Bernard Shaw',\n",
       "  'Austen Chamberlain;Charles G. Dawes',\n",
       "  '—'),\n",
       " ('1926',\n",
       "  'Jean Baptiste Perrin',\n",
       "  'Theodor Svedberg',\n",
       "  'Johannes Fibiger',\n",
       "  'Grazia Deledda',\n",
       "  'Aristide Briand;Gustav Stresemann',\n",
       "  '—'),\n",
       " ('1927',\n",
       "  'Arthur Compton;Charles Thomson Rees Wilson',\n",
       "  'Heinrich Otto Wieland',\n",
       "  'Julius Wagner-Jauregg',\n",
       "  'Henri Bergson',\n",
       "  'Ferdinand Buisson;Ludwig Quidde',\n",
       "  '—'),\n",
       " ('1928',\n",
       "  'Owen Willans Richardson',\n",
       "  'Adolf Otto Reinhold Windaus',\n",
       "  'Charles Nicolle',\n",
       "  'Sigrid Undset',\n",
       "  'None',\n",
       "  '—'),\n",
       " ('1929',\n",
       "  'Louis de Broglie',\n",
       "  'Arthur Harden;Hans von Euler-Chelpin',\n",
       "  'Christiaan Eijkman;Frederick Gowland Hopkins',\n",
       "  'Thomas Mann',\n",
       "  'Frank B. Kellogg',\n",
       "  '—'),\n",
       " ('1930',\n",
       "  'C. V. Raman',\n",
       "  'Hans Fischer',\n",
       "  'Karl Landsteiner',\n",
       "  'Sinclair Lewis',\n",
       "  'Nathan Söderblom',\n",
       "  '—'),\n",
       " ('1931',\n",
       "  'None',\n",
       "  'Carl Bosch;Friedrich Bergius',\n",
       "  'Otto Heinrich Warburg',\n",
       "  'Erik Axel Karlfeldt',\n",
       "  'Jane Addams;Nicholas Murray Butler',\n",
       "  '—'),\n",
       " ('1932',\n",
       "  'Werner Heisenberg',\n",
       "  'Irving Langmuir',\n",
       "  'Charles Scott Sherrington;Edgar Adrian',\n",
       "  'John Galsworthy',\n",
       "  'None',\n",
       "  '—'),\n",
       " ('1933',\n",
       "  'Erwin Schrödinger;Paul Dirac',\n",
       "  'None',\n",
       "  'Thomas Hunt Morgan',\n",
       "  'Ivan Bunin',\n",
       "  'Norman Angell',\n",
       "  '—'),\n",
       " ('1934',\n",
       "  'None',\n",
       "  'Harold Urey',\n",
       "  'George Whipple;George Minot;William P. Murphy',\n",
       "  'Luigi Pirandello',\n",
       "  'Arthur Henderson',\n",
       "  '—'),\n",
       " ('1935',\n",
       "  'James Chadwick',\n",
       "  'Frédéric Joliot-Curie;Irène Joliot-Curie',\n",
       "  'Hans Spemann',\n",
       "  'None',\n",
       "  'Carl von Ossietzky',\n",
       "  '—'),\n",
       " ('1936',\n",
       "  'Victor Francis Hess;Carl David Anderson',\n",
       "  'Peter Debye',\n",
       "  'Henry Hallett Dale;Otto Loewi',\n",
       "  \"Eugene O'Neill\",\n",
       "  'Carlos Saavedra Lamas',\n",
       "  '—'),\n",
       " ('1937',\n",
       "  'Clinton Davisson;George Paget Thomson',\n",
       "  'Norman Haworth;Paul Karrer',\n",
       "  'Albert Szent-Györgyi',\n",
       "  'Roger Martin du Gard',\n",
       "  'The Viscount Cecil of Chelwood',\n",
       "  '—'),\n",
       " ('1938',\n",
       "  'Enrico Fermi',\n",
       "  'Richard Kuhn [a]',\n",
       "  'Corneille Heymans',\n",
       "  'Pearl S. Buck',\n",
       "  'Nansen International Office For Refugees',\n",
       "  '—'),\n",
       " ('1939',\n",
       "  'Ernest Lawrence',\n",
       "  'Adolf Butenandt;[a]Leopold Ružička',\n",
       "  'Gerhard Domagk [a]',\n",
       "  'Frans Eemil Sillanpää',\n",
       "  'None',\n",
       "  '—'),\n",
       " ('1940', 'Cancelled due to World War II', '—', '1941', '—', '1942', '—'),\n",
       " ('1943',\n",
       "  'Otto Stern',\n",
       "  'George de Hevesy',\n",
       "  'Henrik Dam;Edward Adelbert Doisy',\n",
       "  'None',\n",
       "  'None',\n",
       "  '—'),\n",
       " ('1944',\n",
       "  'Isidor Isaac Rabi',\n",
       "  'Otto Hahn',\n",
       "  'Joseph Erlanger;Herbert Spencer Gasser',\n",
       "  'Johannes Vilhelm Jensen',\n",
       "  'International Committee of the Red Cross',\n",
       "  '—'),\n",
       " ('1945',\n",
       "  'Wolfgang Pauli',\n",
       "  'Artturi Ilmari Virtanen',\n",
       "  'Alexander Fleming;Ernst Boris Chain;Howard Florey',\n",
       "  'Gabriela Mistral',\n",
       "  'Cordell Hull',\n",
       "  '—'),\n",
       " ('1946',\n",
       "  'Percy Williams Bridgman',\n",
       "  'James B. Sumner;John Howard Northrop;Wendell Meredith Stanley',\n",
       "  'Hermann Joseph Muller',\n",
       "  'Hermann Hesse',\n",
       "  'Emily Greene Balch;John Mott',\n",
       "  '—'),\n",
       " ('1947',\n",
       "  'Edward Victor Appleton',\n",
       "  'Robert Robinson',\n",
       "  'Carl Ferdinand Cori;Gerty Cori;Bernardo Houssay',\n",
       "  'André Gide',\n",
       "  'Friends Service Council;American Friends Service Committee',\n",
       "  '—'),\n",
       " ('1948',\n",
       "  'Patrick Blackett',\n",
       "  'Arne Tiselius',\n",
       "  'Paul Hermann Müller',\n",
       "  'T. S. Eliot',\n",
       "  'None [b]',\n",
       "  '—'),\n",
       " ('1949',\n",
       "  'Hideki Yukawa',\n",
       "  'William Giauque',\n",
       "  'Walter Rudolf Hess;António Egas Moniz',\n",
       "  'William Faulkner',\n",
       "  'John Boyd Orr',\n",
       "  '—'),\n",
       " ('1950',\n",
       "  'C. F. Powell',\n",
       "  'Otto Diels;Kurt Alder',\n",
       "  'Philip Showalter Hench;Edward Calvin Kendall;Tadeus Reichstein',\n",
       "  'Bertrand Russell',\n",
       "  'Ralph Bunche',\n",
       "  '—'),\n",
       " ('1951',\n",
       "  'John Cockcroft;Ernest Walton',\n",
       "  'Edwin McMillan;Glenn T. Seaborg',\n",
       "  'Max Theiler',\n",
       "  'Pär Lagerkvist',\n",
       "  'Léon Jouhaux',\n",
       "  '—'),\n",
       " ('1952',\n",
       "  'Felix Bloch;Edward Mills Purcell',\n",
       "  'Archer John Porter Martin;Richard Laurence Millington Synge',\n",
       "  'Selman Waksman',\n",
       "  'François Mauriac',\n",
       "  'Albert Schweitzer',\n",
       "  '—'),\n",
       " ('1953',\n",
       "  'Frits Zernike',\n",
       "  'Hermann Staudinger',\n",
       "  'Hans Adolf Krebs;Fritz Albert Lipmann',\n",
       "  'Winston Churchill',\n",
       "  'George Marshall',\n",
       "  '—'),\n",
       " ('1954',\n",
       "  'Max Born;Walther Bothe',\n",
       "  'Linus Pauling',\n",
       "  'John Franklin Enders;Frederick Chapman Robbins;Thomas Huckle Weller',\n",
       "  'Ernest Hemingway',\n",
       "  'United Nations High Commissioner for Refugees',\n",
       "  '—'),\n",
       " ('1955',\n",
       "  'Willis Lamb;Polykarp Kusch',\n",
       "  'Vincent du Vigneaud',\n",
       "  'Hugo Theorell',\n",
       "  'Halldór Laxness',\n",
       "  'None',\n",
       "  '—'),\n",
       " ('1956',\n",
       "  'John Bardeen;Walter Houser Brattain;William Shockley',\n",
       "  'Cyril Norman Hinshelwood;Nikolay Semyonov',\n",
       "  'André Frédéric Cournand;Werner Forssmann;Dickinson W. Richards',\n",
       "  'Juan Ramón Jiménez',\n",
       "  'None',\n",
       "  '—'),\n",
       " ('1957',\n",
       "  'Chen Ning Yang;Tsung-Dao Lee',\n",
       "  'The Lord Todd',\n",
       "  'Daniel Bovet',\n",
       "  'Albert Camus',\n",
       "  'Lester B. Pearson',\n",
       "  '—'),\n",
       " ('1958',\n",
       "  'Pavel Cherenkov;Ilya Frank;Igor Tamm',\n",
       "  'Frederick Sanger',\n",
       "  'George Wells Beadle;Edward Lawrie Tatum;Joshua Lederberg',\n",
       "  'Boris Pasternak [c]',\n",
       "  'Dominique Pire',\n",
       "  '—'),\n",
       " ('1959',\n",
       "  'Emilio G. Segrè;Owen Chamberlain',\n",
       "  'Jaroslav Heyrovský',\n",
       "  'Arthur Kornberg;Severo Ochoa',\n",
       "  'Salvatore Quasimodo',\n",
       "  'Philip Noel-Baker',\n",
       "  '—'),\n",
       " ('1960',\n",
       "  'Donald A. Glaser',\n",
       "  'Willard Libby',\n",
       "  'Frank Macfarlane Burnet;Peter Medawar',\n",
       "  'Saint-John Perse',\n",
       "  'Albert Lutuli',\n",
       "  '—'),\n",
       " ('1961',\n",
       "  'Robert Hofstadter;Rudolf Mössbauer',\n",
       "  'Melvin Calvin',\n",
       "  'Georg von Békésy',\n",
       "  'Ivo Andrić',\n",
       "  'Dag Hammarskjöld',\n",
       "  '—'),\n",
       " ('1962',\n",
       "  'Lev Landau',\n",
       "  'Max Perutz;John Kendrew',\n",
       "  'Francis Crick;James D. Watson;Maurice Wilkins',\n",
       "  'John Steinbeck',\n",
       "  'Linus Pauling',\n",
       "  '—'),\n",
       " ('1963',\n",
       "  'Eugene Wigner;Maria Goeppert-Mayer;J. Hans D. Jensen',\n",
       "  'Karl Ziegler;Giulio Natta',\n",
       "  'John Eccles;Alan Lloyd Hodgkin;Andrew Huxley',\n",
       "  'Giorgos Seferis',\n",
       "  'International Committee of the Red Cross;League of Red Cross societies',\n",
       "  '—'),\n",
       " ('1964',\n",
       "  'Charles Hard Townes;Nikolay Basov;Alexander Prokhorov',\n",
       "  'Dorothy Hodgkin',\n",
       "  'Konrad Emil Bloch;Feodor Felix Konrad Lynen',\n",
       "  'Jean-Paul Sartre [d]',\n",
       "  'Martin Luther King, Jr.',\n",
       "  '—'),\n",
       " ('1965',\n",
       "  'Sin-Itiro Tomonaga;Julian Schwinger;Richard Feynman',\n",
       "  'Robert Burns Woodward',\n",
       "  'François Jacob;André Michel Lwoff;Jacques Monod',\n",
       "  'Mikhail Sholokhov',\n",
       "  \"United Nations International Children's Emergency Fund (UNICEF)\",\n",
       "  '—'),\n",
       " ('1966',\n",
       "  'Alfred Kastler',\n",
       "  'Robert S. Mulliken',\n",
       "  'Francis Peyton Rous;Charles Brenton Huggins',\n",
       "  'Shmuel Yosef Agnon;Nelly Sachs',\n",
       "  'None',\n",
       "  '—'),\n",
       " ('1967',\n",
       "  'Hans Bethe',\n",
       "  'Manfred Eigen;Ronald George Wreyford Norrish;George Porter',\n",
       "  'Ragnar Granit;Haldan Keffer Hartline;George Wald',\n",
       "  'Miguel Ángel Asturias',\n",
       "  'None',\n",
       "  '—'),\n",
       " ('1968',\n",
       "  'Luis Walter Alvarez',\n",
       "  'Lars Onsager',\n",
       "  'Robert W. Holley;Har Gobind Khorana;Marshall Warren Nirenberg',\n",
       "  'Yasunari Kawabata',\n",
       "  'René Cassin',\n",
       "  '—'),\n",
       " ('1969',\n",
       "  'Murray Gell-Mann',\n",
       "  'Derek Barton;Odd Hassel',\n",
       "  'Max Delbrück;Alfred Hershey;Salvador Luria',\n",
       "  'Samuel Beckett',\n",
       "  'International Labour Organization',\n",
       "  'Ragnar Frisch;Jan Tinbergen'),\n",
       " ('1970',\n",
       "  'Hannes Alfvén;Louis Néel',\n",
       "  'Luis Federico Leloir',\n",
       "  'Julius Axelrod;Ulf von Euler;Bernard Katz',\n",
       "  'Aleksandr Solzhenitsyn',\n",
       "  'Norman Borlaug',\n",
       "  'Paul Samuelson'),\n",
       " ('1971',\n",
       "  'Dennis Gabor',\n",
       "  'Gerhard Herzberg',\n",
       "  'Earl Wilbur Sutherland, Jr.',\n",
       "  'Pablo Neruda',\n",
       "  'Willy Brandt',\n",
       "  'Simon Kuznets'),\n",
       " ('1972',\n",
       "  'John Bardeen;Leon Cooper;John Robert Schrieffer',\n",
       "  'Christian B. Anfinsen;Stanford Moore;William Howard Stein',\n",
       "  'Gerald Edelman;Rodney Robert Porter',\n",
       "  'Heinrich Böll',\n",
       "  'None',\n",
       "  'John Hicks;Kenneth Arrow'),\n",
       " ('1973',\n",
       "  'Leo Esaki;Ivar Giaever;Brian David Josephson',\n",
       "  'Ernst Otto Fischer;Geoffrey Wilkinson',\n",
       "  'Karl von Frisch;Konrad Lorenz;Nikolaas Tinbergen',\n",
       "  'Patrick White',\n",
       "  'Henry Kissinger;Le Duc Tho [e]',\n",
       "  'Wassily Leontief'),\n",
       " ('1974',\n",
       "  'Martin Ryle;Antony Hewish',\n",
       "  'Paul Flory',\n",
       "  'Albert Claude;Christian de Duve;George Emil Palade',\n",
       "  'Eyvind Johnson;Harry Martinson',\n",
       "  'Seán MacBride;Eisaku Satō',\n",
       "  'Gunnar Myrdal;Friedrich Hayek'),\n",
       " ('1975',\n",
       "  'Aage Bohr;Ben Roy Mottelson;James Rainwater',\n",
       "  'John Cornforth;Vladimir Prelog',\n",
       "  'David Baltimore;Renato Dulbecco;Howard Martin Temin',\n",
       "  'Eugenio Montale',\n",
       "  'Andrei Sakharov',\n",
       "  'Leonid Kantorovich;Tjalling Koopmans'),\n",
       " ('1976',\n",
       "  'Burton Richter;Samuel C. C. Ting',\n",
       "  'William Lipscomb',\n",
       "  'Baruch Samuel Blumberg;Daniel Carleton Gajdusek',\n",
       "  'Saul Bellow',\n",
       "  'Betty Williams;Mairead Maguire',\n",
       "  'Milton Friedman'),\n",
       " ('1977',\n",
       "  'Philip Warren Anderson;Nevill Francis Mott;John Hasbrouck Van Vleck',\n",
       "  'Ilya Prigogine',\n",
       "  'Roger Guillemin;Andrew Schally;Rosalyn Sussman Yalow',\n",
       "  'Vicente Aleixandre',\n",
       "  'Amnesty International',\n",
       "  'Bertil Ohlin;James Meade'),\n",
       " ('1978',\n",
       "  'Pyotr Kapitsa;Arno Allan Penzias;Robert Woodrow Wilson',\n",
       "  'Peter D. Mitchell',\n",
       "  'Werner Arber;Daniel Nathans;Hamilton O. Smith',\n",
       "  'Isaac Bashevis Singer',\n",
       "  'Anwar Sadat;Menachem Begin',\n",
       "  'Herbert A. Simon'),\n",
       " ('1979',\n",
       "  'Sheldon Lee Glashow;Abdus Salam;Steven Weinberg',\n",
       "  'Herbert C. Brown;Georg Wittig',\n",
       "  'Allan McLeod Cormack;Godfrey Hounsfield',\n",
       "  'Odysseas Elytis',\n",
       "  'Mother Teresa',\n",
       "  'Theodore Schultz;Arthur Lewis'),\n",
       " ('1980',\n",
       "  'James Cronin;Val Logsdon Fitch',\n",
       "  'Paul Berg;Walter Gilbert;Frederick Sanger',\n",
       "  'Baruj Benacerraf;Jean Dausset;George Davis Snell',\n",
       "  'Czesław Miłosz',\n",
       "  'Adolfo Pérez Esquivel',\n",
       "  'Lawrence Klein'),\n",
       " ('1981',\n",
       "  'Nicolaas Bloembergen;Arthur Leonard Schawlow;Kai Siegbahn',\n",
       "  'Kenichi Fukui;Roald Hoffmann',\n",
       "  'Roger Wolcott Sperry;David H. Hubel;Torsten Wiesel',\n",
       "  'Elias Canetti',\n",
       "  'United Nations High Commissioner for Refugees',\n",
       "  'James Tobin'),\n",
       " ('1982',\n",
       "  'Kenneth G. Wilson',\n",
       "  'Aaron Klug',\n",
       "  'Sune Bergström;Bengt I. Samuelsson;John Vane',\n",
       "  'Gabriel García Márquez',\n",
       "  'Alva Myrdal;Alfonso García Robles',\n",
       "  'George Stigler'),\n",
       " ('1983',\n",
       "  'Subrahmanyan Chandrasekhar;William Alfred Fowler',\n",
       "  'Henry Taube',\n",
       "  'Barbara McClintock',\n",
       "  'William Golding',\n",
       "  'Lech Wałęsa',\n",
       "  'Gérard Debreu'),\n",
       " ('1984',\n",
       "  'Carlo Rubbia;Simon van der Meer',\n",
       "  'Robert Bruce Merrifield',\n",
       "  'Niels Kaj Jerne;Georges J. F. Köhler;César Milstein',\n",
       "  'Jaroslav Seifert',\n",
       "  'Desmond Tutu',\n",
       "  'Richard Stone'),\n",
       " ('1985',\n",
       "  'Klaus von Klitzing',\n",
       "  'Herbert A. Hauptman;Jerome Karle',\n",
       "  'Michael Stuart Brown;Joseph L. Goldstein',\n",
       "  'Claude Simon',\n",
       "  'International Physicians for the Prevention of Nuclear War',\n",
       "  'Franco Modigliani'),\n",
       " ('1986',\n",
       "  'Ernst Ruska;Gerd Binnig;Heinrich Rohrer',\n",
       "  'Dudley R. Herschbach;Yuan T. Lee;John Polanyi',\n",
       "  'Stanley Cohen;Rita Levi-Montalcini',\n",
       "  'Wole Soyinka',\n",
       "  'Elie Wiesel',\n",
       "  'James M. Buchanan'),\n",
       " ('1987',\n",
       "  'Johannes Georg Bednorz;Karl Alexander Müller',\n",
       "  'Donald J. Cram;Jean-Marie Lehn;Charles J. Pedersen',\n",
       "  'Susumu Tonegawa',\n",
       "  'Joseph Brodsky',\n",
       "  'Óscar Arias',\n",
       "  'Robert Solow'),\n",
       " ('1988',\n",
       "  'Leon M. Lederman;Melvin Schwartz;Jack Steinberger',\n",
       "  'Johann Deisenhofer;Robert Huber;Hartmut Michel',\n",
       "  'James W. Black;Gertrude B. Elion;George H. Hitchings',\n",
       "  'Naguib Mahfouz',\n",
       "  'United Nations Peace-Keeping Forces',\n",
       "  'Maurice Allais'),\n",
       " ('1989',\n",
       "  'Norman Foster Ramsey, Jr.;Hans Georg Dehmelt;Wolfgang Paul',\n",
       "  'Sidney Altman;Thomas Cech',\n",
       "  'J. Michael Bishop;Harold E. Varmus',\n",
       "  'Camilo José Cela',\n",
       "  'Tenzin Gyatso (The 14th Dalai Lama)',\n",
       "  'Trygve Haavelmo'),\n",
       " ('1990',\n",
       "  'Jerome Isaac Friedman;Henry Way Kendall;Richard E. Taylor',\n",
       "  'Elias James Corey',\n",
       "  'Joseph Murray;E. Donnall Thomas',\n",
       "  'Octavio Paz',\n",
       "  'Mikhail Gorbachev',\n",
       "  'Harry Markowitz;Merton Miller;William F. Sharpe'),\n",
       " ('1991',\n",
       "  'Pierre-Gilles de Gennes',\n",
       "  'Richard R. Ernst',\n",
       "  'Erwin Neher;Bert Sakmann',\n",
       "  'Nadine Gordimer',\n",
       "  'Aung San Suu Kyi',\n",
       "  'Ronald Coase'),\n",
       " ('1992',\n",
       "  'Georges Charpak',\n",
       "  'Rudolph A. Marcus',\n",
       "  'Edmond H. Fischer;Edwin G. Krebs',\n",
       "  'Derek Walcott',\n",
       "  'Rigoberta Menchú',\n",
       "  'Gary Becker'),\n",
       " ('1993',\n",
       "  'Russell Alan Hulse;Joseph Hooton Taylor, Jr.',\n",
       "  'Kary Mullis;Michael Smith',\n",
       "  'Richard J. Roberts;Phillip Allen Sharp',\n",
       "  'Toni Morrison',\n",
       "  'Nelson Mandela;F. W. de Klerk',\n",
       "  'Robert Fogel;Douglass North'),\n",
       " ('1994',\n",
       "  'Bertram Brockhouse;Clifford Shull',\n",
       "  'George Andrew Olah',\n",
       "  'Alfred G. Gilman;Martin Rodbell',\n",
       "  'Kenzaburō Ōe',\n",
       "  'Yasser Arafat;Shimon Peres;Yitzhak Rabin',\n",
       "  'John Harsanyi;John Forbes Nash, Jr.;Reinhard Selten'),\n",
       " ('1995',\n",
       "  'Martin Lewis Perl;Frederick Reines',\n",
       "  'Paul J. Crutzen;Mario J. Molina;Frank Sherwood Rowland',\n",
       "  'Edward B. Lewis;Christiane Nüsslein-Volhard;Eric F. Wieschaus',\n",
       "  'Seamus Heaney',\n",
       "  'Joseph Rotblat;Pugwash Conferences on Science and World Affairs',\n",
       "  'Robert Lucas, Jr.'),\n",
       " ('1996',\n",
       "  'David Lee;Douglas Osheroff;Robert Coleman Richardson',\n",
       "  'Robert F. Curl Jr.;Harry Kroto;Richard Smalley',\n",
       "  'Peter C. Doherty;Rolf M. Zinkernagel',\n",
       "  'Wisława Szymborska',\n",
       "  'Carlos Filipe Ximenes Belo;José Ramos-Horta',\n",
       "  'James Mirrlees;William Vickrey'),\n",
       " ('1997',\n",
       "  'Steven Chu;Claude Cohen-Tannoudji;William Daniel Phillips',\n",
       "  'Paul D. Boyer;John E. Walker;Jens Christian Skou',\n",
       "  'Stanley B. Prusiner',\n",
       "  'Dario Fo',\n",
       "  'International Campaign to Ban Landmines;Jody Williams',\n",
       "  'Robert C. Merton;Myron Scholes'),\n",
       " ('1998',\n",
       "  'Robert B. Laughlin;Horst Ludwig Störmer;Daniel C. Tsui',\n",
       "  'Walter Kohn;John Pople',\n",
       "  'Robert F. Furchgott;Louis Ignarro;Ferid Murad',\n",
       "  'José Saramago',\n",
       "  'John Hume;David Trimble',\n",
       "  'Amartya Sen'),\n",
       " ('1999',\n",
       "  \"Gerard 't Hooft;Martinus J. G. Veltman\",\n",
       "  'Ahmed Zewail',\n",
       "  'Günter Blobel',\n",
       "  'Günter Grass',\n",
       "  'Médecins Sans Frontières',\n",
       "  'Robert Mundell'),\n",
       " ('2000',\n",
       "  'Zhores Alferov;Herbert Kroemer;Jack Kilby',\n",
       "  'Alan J. Heeger;Alan MacDiarmid;Hideki Shirakawa',\n",
       "  'Arvid Carlsson;Paul Greengard;Eric Kandel',\n",
       "  'Gao Xingjian',\n",
       "  'Kim Dae-jung',\n",
       "  'James Heckman;Daniel McFadden'),\n",
       " ('2001',\n",
       "  'Eric Allin Cornell;Wolfgang Ketterle;Carl Wieman',\n",
       "  'William Standish Knowles;Ryōji Noyori;Karl Barry Sharpless',\n",
       "  'Leland H. Hartwell;Tim Hunt;Paul Nurse',\n",
       "  'V. S. Naipaul',\n",
       "  'United Nations;Kofi Annan',\n",
       "  'George Akerlof;Michael Spence;Joseph Stiglitz'),\n",
       " ('2002',\n",
       "  'Raymond Davis, Jr.;Masatoshi Koshiba;Riccardo Giacconi',\n",
       "  'John Fenn;Koichi Tanaka;Kurt Wüthrich',\n",
       "  'Sydney Brenner;H. Robert Horvitz;John Sulston',\n",
       "  'Imre Kertész',\n",
       "  'Jimmy Carter',\n",
       "  'Daniel Kahneman;Vernon L. Smith'),\n",
       " ('2003',\n",
       "  'Alexei Alexeyevich Abrikosov;Vitaly Ginzburg;Anthony James Leggett',\n",
       "  'Peter Agre;Roderick MacKinnon',\n",
       "  'Paul Lauterbur;Peter Mansfield',\n",
       "  'J. M. Coetzee',\n",
       "  'Shirin Ebadi',\n",
       "  'Robert F. Engle;Clive Granger'),\n",
       " ('2004',\n",
       "  'David Gross;Hugh David Politzer;Frank Wilczek',\n",
       "  'Aaron Ciechanover;Avram Hershko;Irwin Rose',\n",
       "  'Richard Axel;Linda B. Buck',\n",
       "  'Elfriede Jelinek',\n",
       "  'Wangari Maathai',\n",
       "  'Finn E. Kydland;Edward C. Prescott'),\n",
       " ('2005',\n",
       "  'Roy J. Glauber;John L. Hall;Theodor W. Hänsch',\n",
       "  'Yves Chauvin;Robert H. Grubbs;Richard R. Schrock',\n",
       "  'Barry Marshall;Robin Warren',\n",
       "  'Harold Pinter',\n",
       "  'International Atomic Energy Agency;Mohamed ElBaradei',\n",
       "  'Robert Aumann;Thomas Schelling'),\n",
       " ('2006',\n",
       "  'John C. Mather;George Smoot',\n",
       "  'Roger D. Kornberg',\n",
       "  'Andrew Fire;Craig Mello',\n",
       "  'Orhan Pamuk',\n",
       "  'Muhammad Yunus;Grameen Bank',\n",
       "  'Edmund Phelps'),\n",
       " ('2007',\n",
       "  'Albert Fert;Peter Grünberg',\n",
       "  'Gerhard Ertl',\n",
       "  'Mario Capecchi;Martin Evans;Oliver Smithies',\n",
       "  'Doris Lessing',\n",
       "  'Intergovernmental Panel on Climate Change;Al Gore',\n",
       "  'Leonid Hurwicz;Eric Maskin;Roger Myerson'),\n",
       " ('2008',\n",
       "  'Yoichiro Nambu;Makoto Kobayashi;Toshihide Maskawa',\n",
       "  'Osamu Shimomura;Martin Chalfie;Roger Y. Tsien',\n",
       "  'Harald zur Hausen;Françoise Barré-Sinoussi;Luc Montagnier',\n",
       "  'J. M. G. Le Clézio',\n",
       "  'Martti Ahtisaari',\n",
       "  'Paul Krugman'),\n",
       " ('2009',\n",
       "  'Charles K. Kao;Willard S. Boyle;George E. Smith',\n",
       "  'Venkatraman Ramakrishnan;Thomas A. Steitz;Ada Yonath',\n",
       "  'Elizabeth Blackburn;Carol W. Greider;Jack W. Szostak',\n",
       "  'Herta Müller',\n",
       "  'Barack  Obama',\n",
       "  'Elinor Ostrom;Oliver E. Williamson'),\n",
       " ('2010',\n",
       "  'Andre Geim;Konstantin Novoselov',\n",
       "  'Richard F. Heck;Ei-ichi Negishi;Akira Suzuki',\n",
       "  'Robert G. Edwards',\n",
       "  'Mario Vargas Llosa',\n",
       "  'Liu Xiaobo [f]',\n",
       "  'Peter A. Diamond;Dale T.  Mortensen;Christopher A.  Pissarides'),\n",
       " ('2011',\n",
       "  'Saul Perlmutter;Adam G. Riess;Brian Schmidt',\n",
       "  'Dan Shechtman',\n",
       "  'Bruce Beutler;Jules A. Hoffmann;Ralph M.  Steinman',\n",
       "  'Tomas Tranströmer',\n",
       "  'Ellen Johnson Sirleaf;Leymah Gbowee;Tawakel Karman',\n",
       "  'Thomas J. Sargent;Christopher A. Sims'),\n",
       " ('2012',\n",
       "  'Serge Haroche;David  J. Wineland',\n",
       "  'Brian K. Kobilka;Robert J. Lefkowitz',\n",
       "  'John B. Gurdon; Shinya Yamanaka',\n",
       "  'Mo Yan',\n",
       "  'European Union',\n",
       "  'Alvin E. Roth;Lloyd S. Shapley'),\n",
       " ('2013',\n",
       "  'François Englert;Peter W. Higgs',\n",
       "  'Martin Karplus;Michael Levitt;Arieh Warshel',\n",
       "  'James E. Rothman;Randy W. Schekman;Thomas C. Südhof',\n",
       "  'Alice Munro',\n",
       "  'Organisation for the Prohibition of Chemical Weapons',\n",
       "  'Eugene F. Fama;Lars Peter Hansen;Robert J. Shiller'),\n",
       " ('2014',\n",
       "  'Isamu Akasaki;Hiroshi Amano;Shuji Nakamura',\n",
       "  'Eric Betzig;Stefan Hell;William Moerner',\n",
       "  \"John O'Keefe;May-Britt Moser;Edvard  Moser\",\n",
       "  'Patrick Modiano',\n",
       "  'Kailash Satyarthi; Malala Yousafzai',\n",
       "  'Jean Tirole'),\n",
       " ('2015',\n",
       "  'Takaaki Kajita;Arthur B. McDonald',\n",
       "  'Tomas Lindahl; Paul L. Modrich;Aziz Sancar',\n",
       "  'William C. Campbell;Satoshi Ōmura;Tu Youyou',\n",
       "  'Svetlana Alexievich',\n",
       "  'Tunisian National Dialogue Quartet',\n",
       "  'Angus Deaton'),\n",
       " ('2016',\n",
       "  'David J. Thouless;Duncan Haldane;John M. Kosterlitz',\n",
       "  'Jean-Pierre Sauvage;Fraser Stoddart;Ben Feringa',\n",
       "  'Yoshinori Ohsumi',\n",
       "  'Bob Dylan',\n",
       "  'Juan Manuel Santos',\n",
       "  'Oliver Hart;Bengt R. Holmström'),\n",
       " ('2017',\n",
       "  'Rainer Weiss;Barry Barish;Kip Thorne',\n",
       "  'Jacques Dubochet;Joachim Frank;Richard Henderson',\n",
       "  'Jeffrey C. Hall;Michael Rosbash;Michael W. Young',\n",
       "  'Kazuo Ishiguro',\n",
       "  'International Campaign to Abolish Nuclear Weapons',\n",
       "  'Richard Thaler'),\n",
       " ('2018',\n",
       "  'Arthur Ashkin;Gérard Mourou;Donna Strickland',\n",
       "  'Frances H. Arnold;George P. Smith;Greg Winter',\n",
       "  'James P. Allison; Tasuku Honjo',\n",
       "  'Olga Tokarczuk [g]',\n",
       "  'Denis Mukwege; Nadia Murad',\n",
       "  'William Nordhaus; Paul Romer'),\n",
       " ('2019',\n",
       "  'James Peebles; Michel Mayor; Didier Queloz',\n",
       "  'John B. Goodenough;M. Stanley Whittingham;Akira Yoshino',\n",
       "  'William Kaelin Jr.;Peter J. Ratcliffe;Gregg L. Semenza',\n",
       "  'Peter Handke',\n",
       "  'Abiy Ahmed',\n",
       "  'Abhijit Banerjee;Esther Duflo;Michael Kremer'),\n",
       " ('2020',\n",
       "  'Roger Penrose; Reinhard Genzel; Andrea M. Ghez',\n",
       "  'Emmanuelle Charpentier;Jennifer Doudna',\n",
       "  'Harvey J. Alter; Michael Houghton; Charles M. Rice',\n",
       "  'Louise Glück',\n",
       "  'World Food Programme',\n",
       "  'Paul R. Milgrom;Robert B. Wilson'),\n",
       " ('',\n",
       "  'Wikimedia Commons has media related to Nobel laureates.',\n",
       "  'Lists of Nobel laureates',\n",
       "  'Chemistry\\nLiterature\\nPeace\\nPhysics\\nPhysiology or Medicine',\n",
       "  '',\n",
       "  'Economics1',\n",
       "  \"by subject\\nChemistry\\nEconomics\\nLiterature\\nPeace\\nPhysics\\nPhysiology or Medicine\\nby criterion\\nAfrican\\nArab\\nAsian\\nBengali\\nBlack\\nChristian\\nFemale\\nJewish\\nLatin American\\nMuslim\\nNon-religious\\nby country\\nArgentine\\nAustralian\\nBelgian\\nChinese\\nDanish\\nHungarian\\nIndian\\nIsraeli\\nItalian\\nJapanese\\nKorean\\nPakistani\\nPolish\\nRussian\\nSpanish\\nSwedish\\nWelsh\\nby year\\nList of Nobel laureates by year\\nby university affiliation\\nUniversity of California, Berkeley\\nUniversity of Cambridge\\nCalifornia Institute of Technology\\nCity University of New York\\nUniversity College London\\nColumbia University\\nCornell University\\nUniversity of Chicago\\nUniversity of Copenhagen\\nUniversity of Edinburgh\\nHarvard University\\nHumboldt University of Berlin\\nImperial College London\\nJohns Hopkins University\\nKing's College London\\nKyoto University\\nLondon School of Economics\\nMassachusetts Institute of Technology\\nUniversity of Oxford\\nUniversity of Pennsylvania\\nPrinceton University\\nUniversity of Rochester\\nStanford University\\nUniversity of Tokyo\\nWashington University of St. Louis\\nYale University\\nby occupation\\nHeads of state and government\"),\n",
       " ('Chemistry\\nEconomics\\nLiterature\\nPeace\\nPhysics\\nPhysiology or Medicine',\n",
       "  'African\\nArab\\nAsian\\nBengali\\nBlack\\nChristian\\nFemale\\nJewish\\nLatin American\\nMuslim\\nNon-religious',\n",
       "  'Argentine\\nAustralian\\nBelgian\\nChinese\\nDanish\\nHungarian\\nIndian\\nIsraeli\\nItalian\\nJapanese\\nKorean\\nPakistani\\nPolish\\nRussian\\nSpanish\\nSwedish\\nWelsh',\n",
       "  'List of Nobel laureates by year',\n",
       "  \"University of California, Berkeley\\nUniversity of Cambridge\\nCalifornia Institute of Technology\\nCity University of New York\\nUniversity College London\\nColumbia University\\nCornell University\\nUniversity of Chicago\\nUniversity of Copenhagen\\nUniversity of Edinburgh\\nHarvard University\\nHumboldt University of Berlin\\nImperial College London\\nJohns Hopkins University\\nKing's College London\\nKyoto University\\nLondon School of Economics\\nMassachusetts Institute of Technology\\nUniversity of Oxford\\nUniversity of Pennsylvania\\nPrinceton University\\nUniversity of Rochester\\nStanford University\\nUniversity of Tokyo\\nWashington University of St. Louis\\nYale University\",\n",
       "  'Heads of state and government',\n",
       "  'Chemistry\\nEconomics\\nLiterature\\nPeace\\nPhysics\\nPhysiology or Medicine'),\n",
       " ('African\\nArab\\nAsian\\nBengali\\nBlack\\nChristian\\nFemale\\nJewish\\nLatin American\\nMuslim\\nNon-religious',\n",
       "  'Argentine\\nAustralian\\nBelgian\\nChinese\\nDanish\\nHungarian\\nIndian\\nIsraeli\\nItalian\\nJapanese\\nKorean\\nPakistani\\nPolish\\nRussian\\nSpanish\\nSwedish\\nWelsh',\n",
       "  'List of Nobel laureates by year',\n",
       "  \"University of California, Berkeley\\nUniversity of Cambridge\\nCalifornia Institute of Technology\\nCity University of New York\\nUniversity College London\\nColumbia University\\nCornell University\\nUniversity of Chicago\\nUniversity of Copenhagen\\nUniversity of Edinburgh\\nHarvard University\\nHumboldt University of Berlin\\nImperial College London\\nJohns Hopkins University\\nKing's College London\\nKyoto University\\nLondon School of Economics\\nMassachusetts Institute of Technology\\nUniversity of Oxford\\nUniversity of Pennsylvania\\nPrinceton University\\nUniversity of Rochester\\nStanford University\\nUniversity of Tokyo\\nWashington University of St. Louis\\nYale University\",\n",
       "  'Heads of state and government',\n",
       "  'by subject\\nChemistry\\nLiterature\\nby criterion\\nFemale\\nOrganizations',\n",
       "  'Chemistry\\nLiterature'),\n",
       " ('Female\\nOrganizations',\n",
       "  'Chemistry\\nLiterature',\n",
       "  'Female\\nOrganizations',\n",
       "  'Nobel Foundation\\nNobel Committees\\nChemistry\\nEconomics\\nPhysics\\nPhysiology or Medicine\\nNorwegian Nobel Committee\\nNobel Assembly at the Karolinska Institute',\n",
       "  'Controversies\\nAlfred Nobel\\nLindau Nobel Laureate Meetings\\nWorld Summit of Nobel Peace Laureates\\nPrizes known as the \"Nobel\" of their fields',\n",
       "  '1 Nobel Memorial Prize (not one of the original Nobel Prizes).',\n",
       "  'Laureates\\nCommittee (members)\\nInstitute\\nCenter\\nConcert\\nOslo Spektrum\\nOslo City Hall\\nWorld Summit')]"
      ]
     },
     "execution_count": 34,
     "metadata": {},
     "output_type": "execute_result"
    }
   ],
   "source": [
    "Tabledata"
   ]
  },
  {
   "cell_type": "code",
   "execution_count": 162,
   "id": "7a49e1ce",
   "metadata": {},
   "outputs": [
    {
     "data": {
      "text/plain": [
       "('1901',\n",
       " 'Wilhelm Röntgen',\n",
       " \"Jacobus Henricus van 't Hoff\",\n",
       " 'Emil Adolf von Behring',\n",
       " 'Sully Prudhomme',\n",
       " 'Henry Dunant;Frédéric Passy',\n",
       " '(prize not established)')"
      ]
     },
     "execution_count": 162,
     "metadata": {},
     "output_type": "execute_result"
    }
   ],
   "source": [
    "Tabledata[0]"
   ]
  },
  {
   "cell_type": "markdown",
   "id": "8413580c",
   "metadata": {},
   "source": [
    "# Data Analysis"
   ]
  },
  {
   "cell_type": "code",
   "execution_count": null,
   "id": "eca66f2f",
   "metadata": {},
   "outputs": [],
   "source": [
    "# Now we have sliced data in the form of list which is then apply to make dataframe."
   ]
  },
  {
   "cell_type": "code",
   "execution_count": null,
   "id": "9211805a",
   "metadata": {},
   "outputs": [],
   "source": [
    "# To make dataframe first install pandas"
   ]
  },
  {
   "cell_type": "code",
   "execution_count": 35,
   "id": "8270cbf6",
   "metadata": {},
   "outputs": [],
   "source": [
    "import pandas as pd"
   ]
  },
  {
   "cell_type": "code",
   "execution_count": 36,
   "id": "8be05663",
   "metadata": {},
   "outputs": [
    {
     "data": {
      "text/html": [
       "<div>\n",
       "<style scoped>\n",
       "    .dataframe tbody tr th:only-of-type {\n",
       "        vertical-align: middle;\n",
       "    }\n",
       "\n",
       "    .dataframe tbody tr th {\n",
       "        vertical-align: top;\n",
       "    }\n",
       "\n",
       "    .dataframe thead th {\n",
       "        text-align: right;\n",
       "    }\n",
       "</style>\n",
       "<table border=\"1\" class=\"dataframe\">\n",
       "  <thead>\n",
       "    <tr style=\"text-align: right;\">\n",
       "      <th></th>\n",
       "      <th>Year</th>\n",
       "      <th>Physics</th>\n",
       "      <th>Chemistry</th>\n",
       "      <th>Physiologyor Medicine</th>\n",
       "      <th>Literature</th>\n",
       "      <th>Peace</th>\n",
       "      <th>Economics(The Sveriges Riksbank Prize)[13]</th>\n",
       "    </tr>\n",
       "  </thead>\n",
       "  <tbody>\n",
       "    <tr>\n",
       "      <th>0</th>\n",
       "      <td>1901</td>\n",
       "      <td>Wilhelm Röntgen</td>\n",
       "      <td>Jacobus Henricus van 't Hoff</td>\n",
       "      <td>Emil Adolf von Behring</td>\n",
       "      <td>Sully Prudhomme</td>\n",
       "      <td>Henry Dunant;Frédéric Passy</td>\n",
       "      <td>(prize not established)</td>\n",
       "    </tr>\n",
       "    <tr>\n",
       "      <th>1</th>\n",
       "      <td>1902</td>\n",
       "      <td>Hendrik Lorentz;Pieter Zeeman</td>\n",
       "      <td>Hermann Emil Fischer</td>\n",
       "      <td>Ronald Ross</td>\n",
       "      <td>Theodor Mommsen</td>\n",
       "      <td>Élie Ducommun;Charles Albert Gobat</td>\n",
       "      <td>—</td>\n",
       "    </tr>\n",
       "    <tr>\n",
       "      <th>2</th>\n",
       "      <td>1903</td>\n",
       "      <td>Henri Becquerel;Pierre Curie;Marie Curie</td>\n",
       "      <td>Svante Arrhenius</td>\n",
       "      <td>Niels Ryberg Finsen</td>\n",
       "      <td>Bjørnstjerne Bjørnson</td>\n",
       "      <td>Randal Cremer</td>\n",
       "      <td>—</td>\n",
       "    </tr>\n",
       "    <tr>\n",
       "      <th>3</th>\n",
       "      <td>1904</td>\n",
       "      <td>Lord Rayleigh</td>\n",
       "      <td>William Ramsay</td>\n",
       "      <td>Ivan Pavlov</td>\n",
       "      <td>Frédéric Mistral;José Echegaray</td>\n",
       "      <td>Institut de Droit International</td>\n",
       "      <td>—</td>\n",
       "    </tr>\n",
       "    <tr>\n",
       "      <th>4</th>\n",
       "      <td>1905</td>\n",
       "      <td>Philipp Lenard</td>\n",
       "      <td>Adolf von Baeyer</td>\n",
       "      <td>Robert Koch</td>\n",
       "      <td>Henryk Sienkiewicz</td>\n",
       "      <td>Bertha von Suttner</td>\n",
       "      <td>—</td>\n",
       "    </tr>\n",
       "  </tbody>\n",
       "</table>\n",
       "</div>"
      ],
      "text/plain": [
       "   Year                                   Physics  \\\n",
       "0  1901                           Wilhelm Röntgen   \n",
       "1  1902             Hendrik Lorentz;Pieter Zeeman   \n",
       "2  1903  Henri Becquerel;Pierre Curie;Marie Curie   \n",
       "3  1904                             Lord Rayleigh   \n",
       "4  1905                            Philipp Lenard   \n",
       "\n",
       "                      Chemistry   Physiologyor Medicine  \\\n",
       "0  Jacobus Henricus van 't Hoff  Emil Adolf von Behring   \n",
       "1          Hermann Emil Fischer             Ronald Ross   \n",
       "2              Svante Arrhenius     Niels Ryberg Finsen   \n",
       "3                William Ramsay             Ivan Pavlov   \n",
       "4              Adolf von Baeyer             Robert Koch   \n",
       "\n",
       "                        Literature                               Peace  \\\n",
       "0                  Sully Prudhomme         Henry Dunant;Frédéric Passy   \n",
       "1                  Theodor Mommsen  Élie Ducommun;Charles Albert Gobat   \n",
       "2            Bjørnstjerne Bjørnson                       Randal Cremer   \n",
       "3  Frédéric Mistral;José Echegaray     Institut de Droit International   \n",
       "4               Henryk Sienkiewicz                  Bertha von Suttner   \n",
       "\n",
       "  Economics(The Sveriges Riksbank Prize)[13]  \n",
       "0                    (prize not established)  \n",
       "1                                          —  \n",
       "2                                          —  \n",
       "3                                          —  \n",
       "4                                          —  "
      ]
     },
     "execution_count": 36,
     "metadata": {},
     "output_type": "execute_result"
    }
   ],
   "source": [
    "df = pd.DataFrame(Tabledata,columns=col)\n",
    "df.head()\n"
   ]
  },
  {
   "cell_type": "markdown",
   "id": "c0d2c08a",
   "metadata": {},
   "source": [
    " df.head() will gives the first five values from dataframe."
   ]
  },
  {
   "cell_type": "code",
   "execution_count": 37,
   "id": "3ad82b88",
   "metadata": {},
   "outputs": [
    {
     "name": "stdout",
     "output_type": "stream",
     "text": [
      "<class 'pandas.core.frame.DataFrame'>\n",
      "RangeIndex: 122 entries, 0 to 121\n",
      "Data columns (total 7 columns):\n",
      " #   Column                                      Non-Null Count  Dtype \n",
      "---  ------                                      --------------  ----- \n",
      " 0   Year                                        122 non-null    object\n",
      " 1   Physics                                     122 non-null    object\n",
      " 2   Chemistry                                   122 non-null    object\n",
      " 3   Physiologyor Medicine                       122 non-null    object\n",
      " 4   Literature                                  122 non-null    object\n",
      " 5   Peace                                       122 non-null    object\n",
      " 6   Economics(The Sveriges Riksbank Prize)[13]  122 non-null    object\n",
      "dtypes: object(7)\n",
      "memory usage: 6.8+ KB\n"
     ]
    }
   ],
   "source": [
    "df.info()"
   ]
  },
  {
   "cell_type": "code",
   "execution_count": 38,
   "id": "2ddaf151",
   "metadata": {},
   "outputs": [
    {
     "data": {
      "text/html": [
       "<div>\n",
       "<style scoped>\n",
       "    .dataframe tbody tr th:only-of-type {\n",
       "        vertical-align: middle;\n",
       "    }\n",
       "\n",
       "    .dataframe tbody tr th {\n",
       "        vertical-align: top;\n",
       "    }\n",
       "\n",
       "    .dataframe thead th {\n",
       "        text-align: right;\n",
       "    }\n",
       "</style>\n",
       "<table border=\"1\" class=\"dataframe\">\n",
       "  <thead>\n",
       "    <tr style=\"text-align: right;\">\n",
       "      <th></th>\n",
       "      <th>Year</th>\n",
       "      <th>Physics</th>\n",
       "      <th>Chemistry</th>\n",
       "      <th>Physiologyor Medicine</th>\n",
       "      <th>Literature</th>\n",
       "      <th>Peace</th>\n",
       "      <th>Economics(The Sveriges Riksbank Prize)[13]</th>\n",
       "    </tr>\n",
       "  </thead>\n",
       "  <tbody>\n",
       "    <tr>\n",
       "      <th>count</th>\n",
       "      <td>122</td>\n",
       "      <td>122</td>\n",
       "      <td>122</td>\n",
       "      <td>122</td>\n",
       "      <td>122</td>\n",
       "      <td>122</td>\n",
       "      <td>122</td>\n",
       "    </tr>\n",
       "    <tr>\n",
       "      <th>unique</th>\n",
       "      <td>122</td>\n",
       "      <td>120</td>\n",
       "      <td>118</td>\n",
       "      <td>117</td>\n",
       "      <td>119</td>\n",
       "      <td>106</td>\n",
       "      <td>58</td>\n",
       "    </tr>\n",
       "    <tr>\n",
       "      <th>top</th>\n",
       "      <td>1935</td>\n",
       "      <td>None</td>\n",
       "      <td>None</td>\n",
       "      <td>None</td>\n",
       "      <td>None</td>\n",
       "      <td>None</td>\n",
       "      <td>—</td>\n",
       "    </tr>\n",
       "    <tr>\n",
       "      <th>freq</th>\n",
       "      <td>1</td>\n",
       "      <td>3</td>\n",
       "      <td>5</td>\n",
       "      <td>6</td>\n",
       "      <td>4</td>\n",
       "      <td>15</td>\n",
       "      <td>65</td>\n",
       "    </tr>\n",
       "  </tbody>\n",
       "</table>\n",
       "</div>"
      ],
      "text/plain": [
       "        Year Physics Chemistry Physiologyor Medicine Literature Peace  \\\n",
       "count    122     122       122                   122        122   122   \n",
       "unique   122     120       118                   117        119   106   \n",
       "top     1935    None      None                  None       None  None   \n",
       "freq       1       3         5                     6          4    15   \n",
       "\n",
       "       Economics(The Sveriges Riksbank Prize)[13]  \n",
       "count                                         122  \n",
       "unique                                         58  \n",
       "top                                             —  \n",
       "freq                                           65  "
      ]
     },
     "execution_count": 38,
     "metadata": {},
     "output_type": "execute_result"
    }
   ],
   "source": [
    "df.describe(include=['object'])"
   ]
  },
  {
   "cell_type": "markdown",
   "id": "a3807660",
   "metadata": {},
   "source": [
    "df.info will gives the information about how many columns what is datatype of columns."
   ]
  },
  {
   "cell_type": "code",
   "execution_count": 39,
   "id": "035a57d6",
   "metadata": {},
   "outputs": [
    {
     "data": {
      "text/plain": [
       "Year                                          0\n",
       "Physics                                       0\n",
       "Chemistry                                     0\n",
       "Physiologyor Medicine                         0\n",
       "Literature                                    0\n",
       "Peace                                         0\n",
       "Economics(The Sveriges Riksbank Prize)[13]    0\n",
       "dtype: int64"
      ]
     },
     "execution_count": 39,
     "metadata": {},
     "output_type": "execute_result"
    }
   ],
   "source": [
    "df.isna().sum()"
   ]
  },
  {
   "cell_type": "markdown",
   "id": "ca8858c7",
   "metadata": {},
   "source": [
    "df.isna() will gives the Nan values which will affect the dataset during data analysis.\n",
    "so to handle these valus we have to know how many values are present in each columns."
   ]
  },
  {
   "cell_type": "code",
   "execution_count": 40,
   "id": "3223423d",
   "metadata": {},
   "outputs": [
    {
     "data": {
      "text/plain": [
       "(122, 7)"
      ]
     },
     "execution_count": 40,
     "metadata": {},
     "output_type": "execute_result"
    }
   ],
   "source": [
    "df.shape"
   ]
  },
  {
   "cell_type": "markdown",
   "id": "24d6c5cf",
   "metadata": {},
   "source": [
    "df.shape gives the information about the number of rows and columns."
   ]
  },
  {
   "cell_type": "code",
   "execution_count": 42,
   "id": "4e1f230f",
   "metadata": {},
   "outputs": [
    {
     "data": {
      "text/html": [
       "<div>\n",
       "<style scoped>\n",
       "    .dataframe tbody tr th:only-of-type {\n",
       "        vertical-align: middle;\n",
       "    }\n",
       "\n",
       "    .dataframe tbody tr th {\n",
       "        vertical-align: top;\n",
       "    }\n",
       "\n",
       "    .dataframe thead th {\n",
       "        text-align: right;\n",
       "    }\n",
       "</style>\n",
       "<table border=\"1\" class=\"dataframe\">\n",
       "  <thead>\n",
       "    <tr style=\"text-align: right;\">\n",
       "      <th></th>\n",
       "      <th>Year</th>\n",
       "      <th>Physics</th>\n",
       "      <th>Chemistry</th>\n",
       "      <th>Physiologyor Medicine</th>\n",
       "      <th>Literature</th>\n",
       "      <th>Peace</th>\n",
       "      <th>Economics(The Sveriges Riksbank Prize)[13]</th>\n",
       "    </tr>\n",
       "  </thead>\n",
       "  <tbody>\n",
       "    <tr>\n",
       "      <th>112</th>\n",
       "      <td>2015</td>\n",
       "      <td>Takaaki Kajita;Arthur B. McDonald</td>\n",
       "      <td>Tomas Lindahl; Paul L. Modrich;Aziz Sancar</td>\n",
       "      <td>William C. Campbell;Satoshi Ōmura;Tu Youyou</td>\n",
       "      <td>Svetlana Alexievich</td>\n",
       "      <td>Tunisian National Dialogue Quartet</td>\n",
       "      <td>Angus Deaton</td>\n",
       "    </tr>\n",
       "    <tr>\n",
       "      <th>113</th>\n",
       "      <td>2016</td>\n",
       "      <td>David J. Thouless;Duncan Haldane;John M. Koste...</td>\n",
       "      <td>Jean-Pierre Sauvage;Fraser Stoddart;Ben Feringa</td>\n",
       "      <td>Yoshinori Ohsumi</td>\n",
       "      <td>Bob Dylan</td>\n",
       "      <td>Juan Manuel Santos</td>\n",
       "      <td>Oliver Hart;Bengt R. Holmström</td>\n",
       "    </tr>\n",
       "    <tr>\n",
       "      <th>114</th>\n",
       "      <td>2017</td>\n",
       "      <td>Rainer Weiss;Barry Barish;Kip Thorne</td>\n",
       "      <td>Jacques Dubochet;Joachim Frank;Richard Henderson</td>\n",
       "      <td>Jeffrey C. Hall;Michael Rosbash;Michael W. Young</td>\n",
       "      <td>Kazuo Ishiguro</td>\n",
       "      <td>International Campaign to Abolish Nuclear Weapons</td>\n",
       "      <td>Richard Thaler</td>\n",
       "    </tr>\n",
       "    <tr>\n",
       "      <th>115</th>\n",
       "      <td>2018</td>\n",
       "      <td>Arthur Ashkin;Gérard Mourou;Donna Strickland</td>\n",
       "      <td>Frances H. Arnold;George P. Smith;Greg Winter</td>\n",
       "      <td>James P. Allison; Tasuku Honjo</td>\n",
       "      <td>Olga Tokarczuk [g]</td>\n",
       "      <td>Denis Mukwege; Nadia Murad</td>\n",
       "      <td>William Nordhaus; Paul Romer</td>\n",
       "    </tr>\n",
       "    <tr>\n",
       "      <th>116</th>\n",
       "      <td>2019</td>\n",
       "      <td>James Peebles; Michel Mayor; Didier Queloz</td>\n",
       "      <td>John B. Goodenough;M. Stanley Whittingham;Akir...</td>\n",
       "      <td>William Kaelin Jr.;Peter J. Ratcliffe;Gregg L....</td>\n",
       "      <td>Peter Handke</td>\n",
       "      <td>Abiy Ahmed</td>\n",
       "      <td>Abhijit Banerjee;Esther Duflo;Michael Kremer</td>\n",
       "    </tr>\n",
       "    <tr>\n",
       "      <th>117</th>\n",
       "      <td>2020</td>\n",
       "      <td>Roger Penrose; Reinhard Genzel; Andrea M. Ghez</td>\n",
       "      <td>Emmanuelle Charpentier;Jennifer Doudna</td>\n",
       "      <td>Harvey J. Alter; Michael Houghton; Charles M. ...</td>\n",
       "      <td>Louise Glück</td>\n",
       "      <td>World Food Programme</td>\n",
       "      <td>Paul R. Milgrom;Robert B. Wilson</td>\n",
       "    </tr>\n",
       "    <tr>\n",
       "      <th>118</th>\n",
       "      <td></td>\n",
       "      <td>Wikimedia Commons has media related to Nobel l...</td>\n",
       "      <td>Lists of Nobel laureates</td>\n",
       "      <td>Chemistry\\nLiterature\\nPeace\\nPhysics\\nPhysiol...</td>\n",
       "      <td></td>\n",
       "      <td>Economics1</td>\n",
       "      <td>by subject\\nChemistry\\nEconomics\\nLiterature\\n...</td>\n",
       "    </tr>\n",
       "    <tr>\n",
       "      <th>119</th>\n",
       "      <td>Chemistry\\nEconomics\\nLiterature\\nPeace\\nPhysi...</td>\n",
       "      <td>African\\nArab\\nAsian\\nBengali\\nBlack\\nChristia...</td>\n",
       "      <td>Argentine\\nAustralian\\nBelgian\\nChinese\\nDanis...</td>\n",
       "      <td>List of Nobel laureates by year</td>\n",
       "      <td>University of California, Berkeley\\nUniversity...</td>\n",
       "      <td>Heads of state and government</td>\n",
       "      <td>Chemistry\\nEconomics\\nLiterature\\nPeace\\nPhysi...</td>\n",
       "    </tr>\n",
       "    <tr>\n",
       "      <th>120</th>\n",
       "      <td>African\\nArab\\nAsian\\nBengali\\nBlack\\nChristia...</td>\n",
       "      <td>Argentine\\nAustralian\\nBelgian\\nChinese\\nDanis...</td>\n",
       "      <td>List of Nobel laureates by year</td>\n",
       "      <td>University of California, Berkeley\\nUniversity...</td>\n",
       "      <td>Heads of state and government</td>\n",
       "      <td>by subject\\nChemistry\\nLiterature\\nby criterio...</td>\n",
       "      <td>Chemistry\\nLiterature</td>\n",
       "    </tr>\n",
       "    <tr>\n",
       "      <th>121</th>\n",
       "      <td>Female\\nOrganizations</td>\n",
       "      <td>Chemistry\\nLiterature</td>\n",
       "      <td>Female\\nOrganizations</td>\n",
       "      <td>Nobel Foundation\\nNobel Committees\\nChemistry\\...</td>\n",
       "      <td>Controversies\\nAlfred Nobel\\nLindau Nobel Laur...</td>\n",
       "      <td>1 Nobel Memorial Prize (not one of the origina...</td>\n",
       "      <td>Laureates\\nCommittee (members)\\nInstitute\\nCen...</td>\n",
       "    </tr>\n",
       "  </tbody>\n",
       "</table>\n",
       "</div>"
      ],
      "text/plain": [
       "                                                  Year  \\\n",
       "112                                               2015   \n",
       "113                                               2016   \n",
       "114                                               2017   \n",
       "115                                               2018   \n",
       "116                                               2019   \n",
       "117                                               2020   \n",
       "118                                                      \n",
       "119  Chemistry\\nEconomics\\nLiterature\\nPeace\\nPhysi...   \n",
       "120  African\\nArab\\nAsian\\nBengali\\nBlack\\nChristia...   \n",
       "121                              Female\\nOrganizations   \n",
       "\n",
       "                                               Physics  \\\n",
       "112                  Takaaki Kajita;Arthur B. McDonald   \n",
       "113  David J. Thouless;Duncan Haldane;John M. Koste...   \n",
       "114               Rainer Weiss;Barry Barish;Kip Thorne   \n",
       "115       Arthur Ashkin;Gérard Mourou;Donna Strickland   \n",
       "116         James Peebles; Michel Mayor; Didier Queloz   \n",
       "117     Roger Penrose; Reinhard Genzel; Andrea M. Ghez   \n",
       "118  Wikimedia Commons has media related to Nobel l...   \n",
       "119  African\\nArab\\nAsian\\nBengali\\nBlack\\nChristia...   \n",
       "120  Argentine\\nAustralian\\nBelgian\\nChinese\\nDanis...   \n",
       "121                              Chemistry\\nLiterature   \n",
       "\n",
       "                                             Chemistry  \\\n",
       "112         Tomas Lindahl; Paul L. Modrich;Aziz Sancar   \n",
       "113    Jean-Pierre Sauvage;Fraser Stoddart;Ben Feringa   \n",
       "114   Jacques Dubochet;Joachim Frank;Richard Henderson   \n",
       "115      Frances H. Arnold;George P. Smith;Greg Winter   \n",
       "116  John B. Goodenough;M. Stanley Whittingham;Akir...   \n",
       "117             Emmanuelle Charpentier;Jennifer Doudna   \n",
       "118                           Lists of Nobel laureates   \n",
       "119  Argentine\\nAustralian\\nBelgian\\nChinese\\nDanis...   \n",
       "120                    List of Nobel laureates by year   \n",
       "121                              Female\\nOrganizations   \n",
       "\n",
       "                                 Physiologyor Medicine  \\\n",
       "112        William C. Campbell;Satoshi Ōmura;Tu Youyou   \n",
       "113                                   Yoshinori Ohsumi   \n",
       "114   Jeffrey C. Hall;Michael Rosbash;Michael W. Young   \n",
       "115                     James P. Allison; Tasuku Honjo   \n",
       "116  William Kaelin Jr.;Peter J. Ratcliffe;Gregg L....   \n",
       "117  Harvey J. Alter; Michael Houghton; Charles M. ...   \n",
       "118  Chemistry\\nLiterature\\nPeace\\nPhysics\\nPhysiol...   \n",
       "119                    List of Nobel laureates by year   \n",
       "120  University of California, Berkeley\\nUniversity...   \n",
       "121  Nobel Foundation\\nNobel Committees\\nChemistry\\...   \n",
       "\n",
       "                                            Literature  \\\n",
       "112                                Svetlana Alexievich   \n",
       "113                                          Bob Dylan   \n",
       "114                                     Kazuo Ishiguro   \n",
       "115                                 Olga Tokarczuk [g]   \n",
       "116                                       Peter Handke   \n",
       "117                                       Louise Glück   \n",
       "118                                                      \n",
       "119  University of California, Berkeley\\nUniversity...   \n",
       "120                      Heads of state and government   \n",
       "121  Controversies\\nAlfred Nobel\\nLindau Nobel Laur...   \n",
       "\n",
       "                                                 Peace  \\\n",
       "112                 Tunisian National Dialogue Quartet   \n",
       "113                                 Juan Manuel Santos   \n",
       "114  International Campaign to Abolish Nuclear Weapons   \n",
       "115                         Denis Mukwege; Nadia Murad   \n",
       "116                                         Abiy Ahmed   \n",
       "117                               World Food Programme   \n",
       "118                                         Economics1   \n",
       "119                      Heads of state and government   \n",
       "120  by subject\\nChemistry\\nLiterature\\nby criterio...   \n",
       "121  1 Nobel Memorial Prize (not one of the origina...   \n",
       "\n",
       "            Economics(The Sveriges Riksbank Prize)[13]  \n",
       "112                                       Angus Deaton  \n",
       "113                     Oliver Hart;Bengt R. Holmström  \n",
       "114                                     Richard Thaler  \n",
       "115                       William Nordhaus; Paul Romer  \n",
       "116       Abhijit Banerjee;Esther Duflo;Michael Kremer  \n",
       "117                   Paul R. Milgrom;Robert B. Wilson  \n",
       "118  by subject\\nChemistry\\nEconomics\\nLiterature\\n...  \n",
       "119  Chemistry\\nEconomics\\nLiterature\\nPeace\\nPhysi...  \n",
       "120                              Chemistry\\nLiterature  \n",
       "121  Laureates\\nCommittee (members)\\nInstitute\\nCen...  "
      ]
     },
     "execution_count": 42,
     "metadata": {},
     "output_type": "execute_result"
    }
   ],
   "source": [
    "df.tail(10)"
   ]
  },
  {
   "cell_type": "markdown",
   "id": "9e4c1aea",
   "metadata": {},
   "source": [
    "df.tail will give infomation last values in dataset."
   ]
  },
  {
   "cell_type": "code",
   "execution_count": null,
   "id": "a903a8cd",
   "metadata": {},
   "outputs": [],
   "source": [
    "# by observing the tail we came to know that there are certain row which are not useful for data analysis.\n",
    "# so to remove that rows we have used df.drop"
   ]
  },
  {
   "cell_type": "code",
   "execution_count": 43,
   "id": "3e9d3b62",
   "metadata": {},
   "outputs": [],
   "source": [
    "df.drop([118,119,120,121],axis = 'index',inplace= True)"
   ]
  },
  {
   "cell_type": "code",
   "execution_count": 44,
   "id": "04b96e77",
   "metadata": {},
   "outputs": [
    {
     "data": {
      "text/html": [
       "<div>\n",
       "<style scoped>\n",
       "    .dataframe tbody tr th:only-of-type {\n",
       "        vertical-align: middle;\n",
       "    }\n",
       "\n",
       "    .dataframe tbody tr th {\n",
       "        vertical-align: top;\n",
       "    }\n",
       "\n",
       "    .dataframe thead th {\n",
       "        text-align: right;\n",
       "    }\n",
       "</style>\n",
       "<table border=\"1\" class=\"dataframe\">\n",
       "  <thead>\n",
       "    <tr style=\"text-align: right;\">\n",
       "      <th></th>\n",
       "      <th>Year</th>\n",
       "      <th>Physics</th>\n",
       "      <th>Chemistry</th>\n",
       "      <th>Physiologyor Medicine</th>\n",
       "      <th>Literature</th>\n",
       "      <th>Peace</th>\n",
       "      <th>Economics(The Sveriges Riksbank Prize)[13]</th>\n",
       "    </tr>\n",
       "  </thead>\n",
       "  <tbody>\n",
       "    <tr>\n",
       "      <th>113</th>\n",
       "      <td>2016</td>\n",
       "      <td>David J. Thouless;Duncan Haldane;John M. Koste...</td>\n",
       "      <td>Jean-Pierre Sauvage;Fraser Stoddart;Ben Feringa</td>\n",
       "      <td>Yoshinori Ohsumi</td>\n",
       "      <td>Bob Dylan</td>\n",
       "      <td>Juan Manuel Santos</td>\n",
       "      <td>Oliver Hart;Bengt R. Holmström</td>\n",
       "    </tr>\n",
       "    <tr>\n",
       "      <th>114</th>\n",
       "      <td>2017</td>\n",
       "      <td>Rainer Weiss;Barry Barish;Kip Thorne</td>\n",
       "      <td>Jacques Dubochet;Joachim Frank;Richard Henderson</td>\n",
       "      <td>Jeffrey C. Hall;Michael Rosbash;Michael W. Young</td>\n",
       "      <td>Kazuo Ishiguro</td>\n",
       "      <td>International Campaign to Abolish Nuclear Weapons</td>\n",
       "      <td>Richard Thaler</td>\n",
       "    </tr>\n",
       "    <tr>\n",
       "      <th>115</th>\n",
       "      <td>2018</td>\n",
       "      <td>Arthur Ashkin;Gérard Mourou;Donna Strickland</td>\n",
       "      <td>Frances H. Arnold;George P. Smith;Greg Winter</td>\n",
       "      <td>James P. Allison; Tasuku Honjo</td>\n",
       "      <td>Olga Tokarczuk [g]</td>\n",
       "      <td>Denis Mukwege; Nadia Murad</td>\n",
       "      <td>William Nordhaus; Paul Romer</td>\n",
       "    </tr>\n",
       "    <tr>\n",
       "      <th>116</th>\n",
       "      <td>2019</td>\n",
       "      <td>James Peebles; Michel Mayor; Didier Queloz</td>\n",
       "      <td>John B. Goodenough;M. Stanley Whittingham;Akir...</td>\n",
       "      <td>William Kaelin Jr.;Peter J. Ratcliffe;Gregg L....</td>\n",
       "      <td>Peter Handke</td>\n",
       "      <td>Abiy Ahmed</td>\n",
       "      <td>Abhijit Banerjee;Esther Duflo;Michael Kremer</td>\n",
       "    </tr>\n",
       "    <tr>\n",
       "      <th>117</th>\n",
       "      <td>2020</td>\n",
       "      <td>Roger Penrose; Reinhard Genzel; Andrea M. Ghez</td>\n",
       "      <td>Emmanuelle Charpentier;Jennifer Doudna</td>\n",
       "      <td>Harvey J. Alter; Michael Houghton; Charles M. ...</td>\n",
       "      <td>Louise Glück</td>\n",
       "      <td>World Food Programme</td>\n",
       "      <td>Paul R. Milgrom;Robert B. Wilson</td>\n",
       "    </tr>\n",
       "  </tbody>\n",
       "</table>\n",
       "</div>"
      ],
      "text/plain": [
       "     Year                                            Physics  \\\n",
       "113  2016  David J. Thouless;Duncan Haldane;John M. Koste...   \n",
       "114  2017               Rainer Weiss;Barry Barish;Kip Thorne   \n",
       "115  2018       Arthur Ashkin;Gérard Mourou;Donna Strickland   \n",
       "116  2019         James Peebles; Michel Mayor; Didier Queloz   \n",
       "117  2020     Roger Penrose; Reinhard Genzel; Andrea M. Ghez   \n",
       "\n",
       "                                             Chemistry  \\\n",
       "113    Jean-Pierre Sauvage;Fraser Stoddart;Ben Feringa   \n",
       "114   Jacques Dubochet;Joachim Frank;Richard Henderson   \n",
       "115      Frances H. Arnold;George P. Smith;Greg Winter   \n",
       "116  John B. Goodenough;M. Stanley Whittingham;Akir...   \n",
       "117             Emmanuelle Charpentier;Jennifer Doudna   \n",
       "\n",
       "                                 Physiologyor Medicine          Literature  \\\n",
       "113                                   Yoshinori Ohsumi           Bob Dylan   \n",
       "114   Jeffrey C. Hall;Michael Rosbash;Michael W. Young      Kazuo Ishiguro   \n",
       "115                     James P. Allison; Tasuku Honjo  Olga Tokarczuk [g]   \n",
       "116  William Kaelin Jr.;Peter J. Ratcliffe;Gregg L....        Peter Handke   \n",
       "117  Harvey J. Alter; Michael Houghton; Charles M. ...        Louise Glück   \n",
       "\n",
       "                                                 Peace  \\\n",
       "113                                 Juan Manuel Santos   \n",
       "114  International Campaign to Abolish Nuclear Weapons   \n",
       "115                         Denis Mukwege; Nadia Murad   \n",
       "116                                         Abiy Ahmed   \n",
       "117                               World Food Programme   \n",
       "\n",
       "       Economics(The Sveriges Riksbank Prize)[13]  \n",
       "113                Oliver Hart;Bengt R. Holmström  \n",
       "114                                Richard Thaler  \n",
       "115                  William Nordhaus; Paul Romer  \n",
       "116  Abhijit Banerjee;Esther Duflo;Michael Kremer  \n",
       "117              Paul R. Milgrom;Robert B. Wilson  "
      ]
     },
     "execution_count": 44,
     "metadata": {},
     "output_type": "execute_result"
    }
   ],
   "source": [
    "df.tail(5)"
   ]
  },
  {
   "cell_type": "code",
   "execution_count": null,
   "id": "2c474ace",
   "metadata": {},
   "outputs": [],
   "source": [
    "# column name are already present in dataset but if want to change then use rename.\n",
    "# this is temporary change to make it perment use inplace = True."
   ]
  },
  {
   "cell_type": "code",
   "execution_count": 45,
   "id": "8815e27c",
   "metadata": {},
   "outputs": [
    {
     "data": {
      "text/html": [
       "<div>\n",
       "<style scoped>\n",
       "    .dataframe tbody tr th:only-of-type {\n",
       "        vertical-align: middle;\n",
       "    }\n",
       "\n",
       "    .dataframe tbody tr th {\n",
       "        vertical-align: top;\n",
       "    }\n",
       "\n",
       "    .dataframe thead th {\n",
       "        text-align: right;\n",
       "    }\n",
       "</style>\n",
       "<table border=\"1\" class=\"dataframe\">\n",
       "  <thead>\n",
       "    <tr style=\"text-align: right;\">\n",
       "      <th></th>\n",
       "      <th>YEAR</th>\n",
       "      <th>PHYSICS</th>\n",
       "      <th>CHEMISTRY</th>\n",
       "      <th>Physiologyor Medicine</th>\n",
       "      <th>LITERATURE</th>\n",
       "      <th>PEACE</th>\n",
       "      <th>ECONOMICS</th>\n",
       "    </tr>\n",
       "  </thead>\n",
       "  <tbody>\n",
       "    <tr>\n",
       "      <th>0</th>\n",
       "      <td>1901</td>\n",
       "      <td>Wilhelm Röntgen</td>\n",
       "      <td>Jacobus Henricus van 't Hoff</td>\n",
       "      <td>Emil Adolf von Behring</td>\n",
       "      <td>Sully Prudhomme</td>\n",
       "      <td>Henry Dunant;Frédéric Passy</td>\n",
       "      <td>(prize not established)</td>\n",
       "    </tr>\n",
       "    <tr>\n",
       "      <th>1</th>\n",
       "      <td>1902</td>\n",
       "      <td>Hendrik Lorentz;Pieter Zeeman</td>\n",
       "      <td>Hermann Emil Fischer</td>\n",
       "      <td>Ronald Ross</td>\n",
       "      <td>Theodor Mommsen</td>\n",
       "      <td>Élie Ducommun;Charles Albert Gobat</td>\n",
       "      <td>—</td>\n",
       "    </tr>\n",
       "    <tr>\n",
       "      <th>2</th>\n",
       "      <td>1903</td>\n",
       "      <td>Henri Becquerel;Pierre Curie;Marie Curie</td>\n",
       "      <td>Svante Arrhenius</td>\n",
       "      <td>Niels Ryberg Finsen</td>\n",
       "      <td>Bjørnstjerne Bjørnson</td>\n",
       "      <td>Randal Cremer</td>\n",
       "      <td>—</td>\n",
       "    </tr>\n",
       "    <tr>\n",
       "      <th>3</th>\n",
       "      <td>1904</td>\n",
       "      <td>Lord Rayleigh</td>\n",
       "      <td>William Ramsay</td>\n",
       "      <td>Ivan Pavlov</td>\n",
       "      <td>Frédéric Mistral;José Echegaray</td>\n",
       "      <td>Institut de Droit International</td>\n",
       "      <td>—</td>\n",
       "    </tr>\n",
       "    <tr>\n",
       "      <th>4</th>\n",
       "      <td>1905</td>\n",
       "      <td>Philipp Lenard</td>\n",
       "      <td>Adolf von Baeyer</td>\n",
       "      <td>Robert Koch</td>\n",
       "      <td>Henryk Sienkiewicz</td>\n",
       "      <td>Bertha von Suttner</td>\n",
       "      <td>—</td>\n",
       "    </tr>\n",
       "    <tr>\n",
       "      <th>...</th>\n",
       "      <td>...</td>\n",
       "      <td>...</td>\n",
       "      <td>...</td>\n",
       "      <td>...</td>\n",
       "      <td>...</td>\n",
       "      <td>...</td>\n",
       "      <td>...</td>\n",
       "    </tr>\n",
       "    <tr>\n",
       "      <th>113</th>\n",
       "      <td>2016</td>\n",
       "      <td>David J. Thouless;Duncan Haldane;John M. Koste...</td>\n",
       "      <td>Jean-Pierre Sauvage;Fraser Stoddart;Ben Feringa</td>\n",
       "      <td>Yoshinori Ohsumi</td>\n",
       "      <td>Bob Dylan</td>\n",
       "      <td>Juan Manuel Santos</td>\n",
       "      <td>Oliver Hart;Bengt R. Holmström</td>\n",
       "    </tr>\n",
       "    <tr>\n",
       "      <th>114</th>\n",
       "      <td>2017</td>\n",
       "      <td>Rainer Weiss;Barry Barish;Kip Thorne</td>\n",
       "      <td>Jacques Dubochet;Joachim Frank;Richard Henderson</td>\n",
       "      <td>Jeffrey C. Hall;Michael Rosbash;Michael W. Young</td>\n",
       "      <td>Kazuo Ishiguro</td>\n",
       "      <td>International Campaign to Abolish Nuclear Weapons</td>\n",
       "      <td>Richard Thaler</td>\n",
       "    </tr>\n",
       "    <tr>\n",
       "      <th>115</th>\n",
       "      <td>2018</td>\n",
       "      <td>Arthur Ashkin;Gérard Mourou;Donna Strickland</td>\n",
       "      <td>Frances H. Arnold;George P. Smith;Greg Winter</td>\n",
       "      <td>James P. Allison; Tasuku Honjo</td>\n",
       "      <td>Olga Tokarczuk [g]</td>\n",
       "      <td>Denis Mukwege; Nadia Murad</td>\n",
       "      <td>William Nordhaus; Paul Romer</td>\n",
       "    </tr>\n",
       "    <tr>\n",
       "      <th>116</th>\n",
       "      <td>2019</td>\n",
       "      <td>James Peebles; Michel Mayor; Didier Queloz</td>\n",
       "      <td>John B. Goodenough;M. Stanley Whittingham;Akir...</td>\n",
       "      <td>William Kaelin Jr.;Peter J. Ratcliffe;Gregg L....</td>\n",
       "      <td>Peter Handke</td>\n",
       "      <td>Abiy Ahmed</td>\n",
       "      <td>Abhijit Banerjee;Esther Duflo;Michael Kremer</td>\n",
       "    </tr>\n",
       "    <tr>\n",
       "      <th>117</th>\n",
       "      <td>2020</td>\n",
       "      <td>Roger Penrose; Reinhard Genzel; Andrea M. Ghez</td>\n",
       "      <td>Emmanuelle Charpentier;Jennifer Doudna</td>\n",
       "      <td>Harvey J. Alter; Michael Houghton; Charles M. ...</td>\n",
       "      <td>Louise Glück</td>\n",
       "      <td>World Food Programme</td>\n",
       "      <td>Paul R. Milgrom;Robert B. Wilson</td>\n",
       "    </tr>\n",
       "  </tbody>\n",
       "</table>\n",
       "<p>118 rows × 7 columns</p>\n",
       "</div>"
      ],
      "text/plain": [
       "     YEAR                                            PHYSICS  \\\n",
       "0    1901                                    Wilhelm Röntgen   \n",
       "1    1902                      Hendrik Lorentz;Pieter Zeeman   \n",
       "2    1903           Henri Becquerel;Pierre Curie;Marie Curie   \n",
       "3    1904                                      Lord Rayleigh   \n",
       "4    1905                                     Philipp Lenard   \n",
       "..    ...                                                ...   \n",
       "113  2016  David J. Thouless;Duncan Haldane;John M. Koste...   \n",
       "114  2017               Rainer Weiss;Barry Barish;Kip Thorne   \n",
       "115  2018       Arthur Ashkin;Gérard Mourou;Donna Strickland   \n",
       "116  2019         James Peebles; Michel Mayor; Didier Queloz   \n",
       "117  2020     Roger Penrose; Reinhard Genzel; Andrea M. Ghez   \n",
       "\n",
       "                                             CHEMISTRY  \\\n",
       "0                         Jacobus Henricus van 't Hoff   \n",
       "1                                 Hermann Emil Fischer   \n",
       "2                                     Svante Arrhenius   \n",
       "3                                       William Ramsay   \n",
       "4                                     Adolf von Baeyer   \n",
       "..                                                 ...   \n",
       "113    Jean-Pierre Sauvage;Fraser Stoddart;Ben Feringa   \n",
       "114   Jacques Dubochet;Joachim Frank;Richard Henderson   \n",
       "115      Frances H. Arnold;George P. Smith;Greg Winter   \n",
       "116  John B. Goodenough;M. Stanley Whittingham;Akir...   \n",
       "117             Emmanuelle Charpentier;Jennifer Doudna   \n",
       "\n",
       "                                 Physiologyor Medicine  \\\n",
       "0                               Emil Adolf von Behring   \n",
       "1                                          Ronald Ross   \n",
       "2                                  Niels Ryberg Finsen   \n",
       "3                                          Ivan Pavlov   \n",
       "4                                          Robert Koch   \n",
       "..                                                 ...   \n",
       "113                                   Yoshinori Ohsumi   \n",
       "114   Jeffrey C. Hall;Michael Rosbash;Michael W. Young   \n",
       "115                     James P. Allison; Tasuku Honjo   \n",
       "116  William Kaelin Jr.;Peter J. Ratcliffe;Gregg L....   \n",
       "117  Harvey J. Alter; Michael Houghton; Charles M. ...   \n",
       "\n",
       "                          LITERATURE  \\\n",
       "0                    Sully Prudhomme   \n",
       "1                    Theodor Mommsen   \n",
       "2              Bjørnstjerne Bjørnson   \n",
       "3    Frédéric Mistral;José Echegaray   \n",
       "4                 Henryk Sienkiewicz   \n",
       "..                               ...   \n",
       "113                        Bob Dylan   \n",
       "114                   Kazuo Ishiguro   \n",
       "115               Olga Tokarczuk [g]   \n",
       "116                     Peter Handke   \n",
       "117                     Louise Glück   \n",
       "\n",
       "                                                 PEACE  \\\n",
       "0                          Henry Dunant;Frédéric Passy   \n",
       "1                   Élie Ducommun;Charles Albert Gobat   \n",
       "2                                        Randal Cremer   \n",
       "3                      Institut de Droit International   \n",
       "4                                   Bertha von Suttner   \n",
       "..                                                 ...   \n",
       "113                                 Juan Manuel Santos   \n",
       "114  International Campaign to Abolish Nuclear Weapons   \n",
       "115                         Denis Mukwege; Nadia Murad   \n",
       "116                                         Abiy Ahmed   \n",
       "117                               World Food Programme   \n",
       "\n",
       "                                        ECONOMICS  \n",
       "0                         (prize not established)  \n",
       "1                                               —  \n",
       "2                                               —  \n",
       "3                                               —  \n",
       "4                                               —  \n",
       "..                                            ...  \n",
       "113                Oliver Hart;Bengt R. Holmström  \n",
       "114                                Richard Thaler  \n",
       "115                  William Nordhaus; Paul Romer  \n",
       "116  Abhijit Banerjee;Esther Duflo;Michael Kremer  \n",
       "117              Paul R. Milgrom;Robert B. Wilson  \n",
       "\n",
       "[118 rows x 7 columns]"
      ]
     },
     "execution_count": 45,
     "metadata": {},
     "output_type": "execute_result"
    }
   ],
   "source": [
    "df.rename(columns={'Year':'YEAR','Physics':'PHYSICS','Chemistry':'CHEMISTRY','PhsiologyorMedicine':'PHSIO_MEDICINE','Literature':'LITERATURE','Peace':'PEACE','Economics(The Sveriges Riksbank Prize)[13]':'ECONOMICS'})"
   ]
  },
  {
   "cell_type": "code",
   "execution_count": 46,
   "id": "71aec1ca",
   "metadata": {},
   "outputs": [
    {
     "data": {
      "text/html": [
       "<div>\n",
       "<style scoped>\n",
       "    .dataframe tbody tr th:only-of-type {\n",
       "        vertical-align: middle;\n",
       "    }\n",
       "\n",
       "    .dataframe tbody tr th {\n",
       "        vertical-align: top;\n",
       "    }\n",
       "\n",
       "    .dataframe thead th {\n",
       "        text-align: right;\n",
       "    }\n",
       "</style>\n",
       "<table border=\"1\" class=\"dataframe\">\n",
       "  <thead>\n",
       "    <tr style=\"text-align: right;\">\n",
       "      <th></th>\n",
       "      <th>Year</th>\n",
       "      <th>Physics</th>\n",
       "      <th>Chemistry</th>\n",
       "      <th>Physiologyor Medicine</th>\n",
       "      <th>Literature</th>\n",
       "      <th>Peace</th>\n",
       "      <th>Economics(The Sveriges Riksbank Prize)[13]</th>\n",
       "    </tr>\n",
       "  </thead>\n",
       "  <tbody>\n",
       "    <tr>\n",
       "      <th>0</th>\n",
       "      <td>1901</td>\n",
       "      <td>Wilhelm Röntgen</td>\n",
       "      <td>Jacobus Henricus van 't Hoff</td>\n",
       "      <td>Emil Adolf von Behring</td>\n",
       "      <td>Sully Prudhomme</td>\n",
       "      <td>Henry Dunant;Frédéric Passy</td>\n",
       "      <td>(prize not established)</td>\n",
       "    </tr>\n",
       "    <tr>\n",
       "      <th>1</th>\n",
       "      <td>1902</td>\n",
       "      <td>Hendrik Lorentz;Pieter Zeeman</td>\n",
       "      <td>Hermann Emil Fischer</td>\n",
       "      <td>Ronald Ross</td>\n",
       "      <td>Theodor Mommsen</td>\n",
       "      <td>Élie Ducommun;Charles Albert Gobat</td>\n",
       "      <td>—</td>\n",
       "    </tr>\n",
       "    <tr>\n",
       "      <th>2</th>\n",
       "      <td>1903</td>\n",
       "      <td>Henri Becquerel;Pierre Curie;Marie Curie</td>\n",
       "      <td>Svante Arrhenius</td>\n",
       "      <td>Niels Ryberg Finsen</td>\n",
       "      <td>Bjørnstjerne Bjørnson</td>\n",
       "      <td>Randal Cremer</td>\n",
       "      <td>—</td>\n",
       "    </tr>\n",
       "    <tr>\n",
       "      <th>3</th>\n",
       "      <td>1904</td>\n",
       "      <td>Lord Rayleigh</td>\n",
       "      <td>William Ramsay</td>\n",
       "      <td>Ivan Pavlov</td>\n",
       "      <td>Frédéric Mistral;José Echegaray</td>\n",
       "      <td>Institut de Droit International</td>\n",
       "      <td>—</td>\n",
       "    </tr>\n",
       "    <tr>\n",
       "      <th>4</th>\n",
       "      <td>1905</td>\n",
       "      <td>Philipp Lenard</td>\n",
       "      <td>Adolf von Baeyer</td>\n",
       "      <td>Robert Koch</td>\n",
       "      <td>Henryk Sienkiewicz</td>\n",
       "      <td>Bertha von Suttner</td>\n",
       "      <td>—</td>\n",
       "    </tr>\n",
       "  </tbody>\n",
       "</table>\n",
       "</div>"
      ],
      "text/plain": [
       "   Year                                   Physics  \\\n",
       "0  1901                           Wilhelm Röntgen   \n",
       "1  1902             Hendrik Lorentz;Pieter Zeeman   \n",
       "2  1903  Henri Becquerel;Pierre Curie;Marie Curie   \n",
       "3  1904                             Lord Rayleigh   \n",
       "4  1905                            Philipp Lenard   \n",
       "\n",
       "                      Chemistry   Physiologyor Medicine  \\\n",
       "0  Jacobus Henricus van 't Hoff  Emil Adolf von Behring   \n",
       "1          Hermann Emil Fischer             Ronald Ross   \n",
       "2              Svante Arrhenius     Niels Ryberg Finsen   \n",
       "3                William Ramsay             Ivan Pavlov   \n",
       "4              Adolf von Baeyer             Robert Koch   \n",
       "\n",
       "                        Literature                               Peace  \\\n",
       "0                  Sully Prudhomme         Henry Dunant;Frédéric Passy   \n",
       "1                  Theodor Mommsen  Élie Ducommun;Charles Albert Gobat   \n",
       "2            Bjørnstjerne Bjørnson                       Randal Cremer   \n",
       "3  Frédéric Mistral;José Echegaray     Institut de Droit International   \n",
       "4               Henryk Sienkiewicz                  Bertha von Suttner   \n",
       "\n",
       "  Economics(The Sveriges Riksbank Prize)[13]  \n",
       "0                    (prize not established)  \n",
       "1                                          —  \n",
       "2                                          —  \n",
       "3                                          —  \n",
       "4                                          —  "
      ]
     },
     "execution_count": 46,
     "metadata": {},
     "output_type": "execute_result"
    }
   ],
   "source": [
    "df.head()"
   ]
  },
  {
   "cell_type": "code",
   "execution_count": null,
   "id": "e5ddad3f",
   "metadata": {},
   "outputs": [],
   "source": [
    "# If want to extact any spefific value from dataset then use loc.\n",
    "# loc contains two item row name and column name."
   ]
  },
  {
   "cell_type": "code",
   "execution_count": 47,
   "id": "923ab9d5",
   "metadata": {},
   "outputs": [
    {
     "data": {
      "text/plain": [
       "'Svante Arrhenius'"
      ]
     },
     "execution_count": 47,
     "metadata": {},
     "output_type": "execute_result"
    }
   ],
   "source": [
    "df.loc[2,'Chemistry']"
   ]
  },
  {
   "cell_type": "code",
   "execution_count": null,
   "id": "17a580a1",
   "metadata": {},
   "outputs": [],
   "source": [
    "# to extract more than one value."
   ]
  },
  {
   "cell_type": "code",
   "execution_count": 48,
   "id": "f1d85887",
   "metadata": {},
   "outputs": [
    {
     "data": {
      "text/html": [
       "<div>\n",
       "<style scoped>\n",
       "    .dataframe tbody tr th:only-of-type {\n",
       "        vertical-align: middle;\n",
       "    }\n",
       "\n",
       "    .dataframe tbody tr th {\n",
       "        vertical-align: top;\n",
       "    }\n",
       "\n",
       "    .dataframe thead th {\n",
       "        text-align: right;\n",
       "    }\n",
       "</style>\n",
       "<table border=\"1\" class=\"dataframe\">\n",
       "  <thead>\n",
       "    <tr style=\"text-align: right;\">\n",
       "      <th></th>\n",
       "      <th>Literature</th>\n",
       "      <th>Peace</th>\n",
       "    </tr>\n",
       "  </thead>\n",
       "  <tbody>\n",
       "    <tr>\n",
       "      <th>4</th>\n",
       "      <td>Henryk Sienkiewicz</td>\n",
       "      <td>Bertha von Suttner</td>\n",
       "    </tr>\n",
       "    <tr>\n",
       "      <th>5</th>\n",
       "      <td>Giosuè Carducci</td>\n",
       "      <td>Theodore Roosevelt</td>\n",
       "    </tr>\n",
       "    <tr>\n",
       "      <th>6</th>\n",
       "      <td>Rudyard Kipling</td>\n",
       "      <td>Ernesto Teodoro Moneta;Louis Renault</td>\n",
       "    </tr>\n",
       "  </tbody>\n",
       "</table>\n",
       "</div>"
      ],
      "text/plain": [
       "           Literature                                 Peace\n",
       "4  Henryk Sienkiewicz                    Bertha von Suttner\n",
       "5     Giosuè Carducci                    Theodore Roosevelt\n",
       "6     Rudyard Kipling  Ernesto Teodoro Moneta;Louis Renault"
      ]
     },
     "execution_count": 48,
     "metadata": {},
     "output_type": "execute_result"
    }
   ],
   "source": [
    "df.loc[[4,5,6],['Literature','Peace']]"
   ]
  },
  {
   "cell_type": "code",
   "execution_count": null,
   "id": "e5d36158",
   "metadata": {},
   "outputs": [],
   "source": [
    "# iloc also used to extract the specific data based on index number of row and column.can also use slicing here."
   ]
  },
  {
   "cell_type": "code",
   "execution_count": 49,
   "id": "c0ef206c",
   "metadata": {},
   "outputs": [
    {
     "data": {
      "text/html": [
       "<div>\n",
       "<style scoped>\n",
       "    .dataframe tbody tr th:only-of-type {\n",
       "        vertical-align: middle;\n",
       "    }\n",
       "\n",
       "    .dataframe tbody tr th {\n",
       "        vertical-align: top;\n",
       "    }\n",
       "\n",
       "    .dataframe thead th {\n",
       "        text-align: right;\n",
       "    }\n",
       "</style>\n",
       "<table border=\"1\" class=\"dataframe\">\n",
       "  <thead>\n",
       "    <tr style=\"text-align: right;\">\n",
       "      <th></th>\n",
       "      <th>Year</th>\n",
       "      <th>Physics</th>\n",
       "      <th>Chemistry</th>\n",
       "    </tr>\n",
       "  </thead>\n",
       "  <tbody>\n",
       "    <tr>\n",
       "      <th>10</th>\n",
       "      <td>1911</td>\n",
       "      <td>Wilhelm Wien</td>\n",
       "      <td>Marie Skłodowska-Curie</td>\n",
       "    </tr>\n",
       "    <tr>\n",
       "      <th>11</th>\n",
       "      <td>1912</td>\n",
       "      <td>Gustaf Dalén</td>\n",
       "      <td>Victor Grignard;Paul Sabatier</td>\n",
       "    </tr>\n",
       "    <tr>\n",
       "      <th>12</th>\n",
       "      <td>1913</td>\n",
       "      <td>Heike Kamerlingh Onnes</td>\n",
       "      <td>Alfred Werner</td>\n",
       "    </tr>\n",
       "    <tr>\n",
       "      <th>13</th>\n",
       "      <td>1914</td>\n",
       "      <td>Max von Laue</td>\n",
       "      <td>Theodore William Richards</td>\n",
       "    </tr>\n",
       "    <tr>\n",
       "      <th>14</th>\n",
       "      <td>1915</td>\n",
       "      <td>William Henry Bragg;William Lawrence Bragg</td>\n",
       "      <td>Richard Willstätter</td>\n",
       "    </tr>\n",
       "  </tbody>\n",
       "</table>\n",
       "</div>"
      ],
      "text/plain": [
       "    Year                                     Physics  \\\n",
       "10  1911                                Wilhelm Wien   \n",
       "11  1912                                Gustaf Dalén   \n",
       "12  1913                      Heike Kamerlingh Onnes   \n",
       "13  1914                                Max von Laue   \n",
       "14  1915  William Henry Bragg;William Lawrence Bragg   \n",
       "\n",
       "                        Chemistry  \n",
       "10         Marie Skłodowska-Curie  \n",
       "11  Victor Grignard;Paul Sabatier  \n",
       "12                  Alfred Werner  \n",
       "13      Theodore William Richards  \n",
       "14            Richard Willstätter  "
      ]
     },
     "execution_count": 49,
     "metadata": {},
     "output_type": "execute_result"
    }
   ],
   "source": [
    "df.iloc[10:15,0:3]"
   ]
  },
  {
   "cell_type": "markdown",
   "id": "d4f99c9b",
   "metadata": {},
   "source": [
    "Some Examples to show how pandas operations are helpful to extract required infomation from dataset. "
   ]
  },
  {
   "cell_type": "markdown",
   "id": "1ab6c70d",
   "metadata": {},
   "source": [
    "Q1. What is first and last year of nobel prize?"
   ]
  },
  {
   "cell_type": "code",
   "execution_count": 50,
   "id": "18892131",
   "metadata": {},
   "outputs": [
    {
     "data": {
      "text/plain": [
       "0    1901\n",
       "Name: Year, dtype: object"
      ]
     },
     "execution_count": 50,
     "metadata": {},
     "output_type": "execute_result"
    }
   ],
   "source": [
    "df.head(1)['Year']    # head1 will give 1st value."
   ]
  },
  {
   "cell_type": "code",
   "execution_count": 51,
   "id": "042d3d40",
   "metadata": {},
   "outputs": [
    {
     "data": {
      "text/plain": [
       "117    2020\n",
       "Name: Year, dtype: object"
      ]
     },
     "execution_count": 51,
     "metadata": {},
     "output_type": "execute_result"
    }
   ],
   "source": [
    "df.tail(1)['Year'] # tail1 will give last value."
   ]
  },
  {
   "cell_type": "markdown",
   "id": "026a4f43",
   "metadata": {},
   "source": [
    "Q2. Who recieve the Nobel prize for Chemistry in year 2000?"
   ]
  },
  {
   "cell_type": "code",
   "execution_count": 52,
   "id": "a4fbfc7e",
   "metadata": {},
   "outputs": [
    {
     "data": {
      "text/plain": [
       "97    Alan J. Heeger;Alan MacDiarmid;Hideki Shirakawa\n",
       "Name: Chemistry, dtype: object"
      ]
     },
     "execution_count": 52,
     "metadata": {},
     "output_type": "execute_result"
    }
   ],
   "source": [
    "df[df['Year']=='2000']['Chemistry']"
   ]
  },
  {
   "cell_type": "markdown",
   "id": "4305bac1",
   "metadata": {},
   "source": [
    "Q3.How many Years there was no Nobel prize for 'Economics(The Sveriges Riksbank Prize)[13]'."
   ]
  },
  {
   "cell_type": "code",
   "execution_count": 53,
   "id": "7958cd9c",
   "metadata": {},
   "outputs": [
    {
     "data": {
      "text/plain": [
       "65"
      ]
     },
     "execution_count": 53,
     "metadata": {},
     "output_type": "execute_result"
    }
   ],
   "source": [
    "df[df['Economics(The Sveriges Riksbank Prize)[13]'].str.contains('—')]['Year'].count()"
   ]
  },
  {
   "cell_type": "markdown",
   "id": "9c4da409",
   "metadata": {},
   "source": [
    "# Data Visualization"
   ]
  },
  {
   "cell_type": "code",
   "execution_count": 54,
   "id": "5afd5621",
   "metadata": {},
   "outputs": [],
   "source": [
    "import matplotlib.pyplot as plt\n",
    "%matplotlib inline\n",
    "import seaborn as sns"
   ]
  },
  {
   "cell_type": "code",
   "execution_count": null,
   "id": "d7591889",
   "metadata": {},
   "outputs": [],
   "source": [
    "# In all columns there are some values which are none.\n",
    "# so first get the those values by applying following operation.\n",
    "# now we have values which are the no of count for each column."
   ]
  },
  {
   "cell_type": "code",
   "execution_count": 55,
   "id": "3073df9a",
   "metadata": {},
   "outputs": [
    {
     "data": {
      "text/plain": [
       "False    115\n",
       "True       3\n",
       "Name: Physics, dtype: int64"
      ]
     },
     "execution_count": 55,
     "metadata": {},
     "output_type": "execute_result"
    }
   ],
   "source": [
    "df['Physics'].str.contains('None').value_counts()"
   ]
  },
  {
   "cell_type": "code",
   "execution_count": 56,
   "id": "b4bbbcd7",
   "metadata": {},
   "outputs": [
    {
     "data": {
      "image/png": "[encoded data removed]",
      "text/plain": [
       "<Figure size 432x288 with 1 Axes>"
      ]
     },
     "metadata": {},
     "output_type": "display_data"
    }
   ],
   "source": [
    "df['Physics'].str.contains('None').value_counts().plot.pie(autopct =  \"%1.1F%%\", explode= (0,0.1))\n",
    "plt.title('prize for physics')\n",
    "plt.show()"
   ]
  },
  {
   "cell_type": "markdown",
   "id": "e3b61c19",
   "metadata": {},
   "source": [
    "false values are Number of Prize for Physics till 2020"
   ]
  },
  {
   "cell_type": "code",
   "execution_count": 57,
   "id": "c6e76adf",
   "metadata": {},
   "outputs": [
    {
     "data": {
      "text/plain": [
       "False    113\n",
       "True       5\n",
       "Name: Chemistry, dtype: int64"
      ]
     },
     "execution_count": 57,
     "metadata": {},
     "output_type": "execute_result"
    }
   ],
   "source": [
    "df['Chemistry'].str.contains('None').value_counts()"
   ]
  },
  {
   "cell_type": "code",
   "execution_count": 58,
   "id": "4a8afdef",
   "metadata": {},
   "outputs": [
    {
     "data": {
      "image/png": "[encoded data removed]",
      "text/plain": [
       "<Figure size 432x288 with 1 Axes>"
      ]
     },
     "metadata": {
      "needs_background": "light"
     },
     "output_type": "display_data"
    }
   ],
   "source": [
    "df['Chemistry'].str.contains('None').value_counts().plot(kind='bar')\n",
    "plt.title('bar plot')\n",
    "plt.ylabel('count')\n",
    "plt.xlabel('Chemistry')\n",
    "plt.show()"
   ]
  },
  {
   "cell_type": "markdown",
   "id": "7c789bf2",
   "metadata": {},
   "source": [
    "false values are Number of Prize for Chemistry till 2020"
   ]
  },
  {
   "cell_type": "code",
   "execution_count": 59,
   "id": "19e9c5a1",
   "metadata": {},
   "outputs": [
    {
     "data": {
      "text/plain": [
       "False    114\n",
       "True       4\n",
       "Name: Literature, dtype: int64"
      ]
     },
     "execution_count": 59,
     "metadata": {},
     "output_type": "execute_result"
    }
   ],
   "source": [
    "df['Literature'].str.contains('None').value_counts()"
   ]
  },
  {
   "cell_type": "code",
   "execution_count": 60,
   "id": "0e7d49cd",
   "metadata": {},
   "outputs": [
    {
     "data": {
      "image/png": "[encoded data removed]",
      "text/plain": [
       "<Figure size 432x288 with 1 Axes>"
      ]
     },
     "metadata": {
      "needs_background": "light"
     },
     "output_type": "display_data"
    }
   ],
   "source": [
    "sns.countplot(data=df,x=df['Literature'].str.contains('None').value_counts())\n",
    "plt.show()"
   ]
  },
  {
   "cell_type": "markdown",
   "id": "ca82d695",
   "metadata": {},
   "source": [
    "false values are Number of Prize for Lierature till 2020"
   ]
  },
  {
   "cell_type": "code",
   "execution_count": 61,
   "id": "c15814ee",
   "metadata": {},
   "outputs": [
    {
     "data": {
      "text/plain": [
       "False    112\n",
       "True       6\n",
       "Name: Physiologyor Medicine, dtype: int64"
      ]
     },
     "execution_count": 61,
     "metadata": {},
     "output_type": "execute_result"
    }
   ],
   "source": [
    "df['Physiologyor Medicine'].str.contains('None').value_counts()"
   ]
  },
  {
   "cell_type": "code",
   "execution_count": 62,
   "id": "ff208707",
   "metadata": {},
   "outputs": [
    {
     "data": {
      "image/png": "[encoded data removed]",
      "text/plain": [
       "<Figure size 432x288 with 1 Axes>"
      ]
     },
     "metadata": {
      "needs_background": "light"
     },
     "output_type": "display_data"
    }
   ],
   "source": [
    "df['Physiologyor Medicine'].str.contains('None').value_counts().plot(kind='bar')\n",
    "plt.title('bar plot')\n",
    "plt.ylabel('count')\n",
    "plt.xlabel('physics')\n",
    "plt.show()"
   ]
  },
  {
   "cell_type": "markdown",
   "id": "8695a11e",
   "metadata": {},
   "source": [
    "false values are Number of Prize for Physiology_medicine till 2020"
   ]
  },
  {
   "cell_type": "code",
   "execution_count": 63,
   "id": "7290cd70",
   "metadata": {},
   "outputs": [
    {
     "data": {
      "text/plain": [
       "False    102\n",
       "True      16\n",
       "Name: Peace, dtype: int64"
      ]
     },
     "execution_count": 63,
     "metadata": {},
     "output_type": "execute_result"
    }
   ],
   "source": [
    "df['Peace'].str.contains('None').value_counts()"
   ]
  },
  {
   "cell_type": "code",
   "execution_count": 64,
   "id": "057f2a1c",
   "metadata": {},
   "outputs": [
    {
     "data": {
      "image/png": "[encoded data removed]",
      "text/plain": [
       "<Figure size 432x288 with 1 Axes>"
      ]
     },
     "metadata": {
      "needs_background": "light"
     },
     "output_type": "display_data"
    }
   ],
   "source": [
    "sns.countplot(data=df,x=df['Peace'].str.contains('None').value_counts())\n",
    "plt.show()"
   ]
  },
  {
   "cell_type": "markdown",
   "id": "0189dd50",
   "metadata": {},
   "source": [
    "false values are Number of Prize for Peace till 2020"
   ]
  },
  {
   "cell_type": "code",
   "execution_count": 65,
   "id": "42304962",
   "metadata": {},
   "outputs": [
    {
     "data": {
      "text/plain": [
       "False    118\n",
       "Name: Economics(The Sveriges Riksbank Prize)[13], dtype: int64"
      ]
     },
     "execution_count": 65,
     "metadata": {},
     "output_type": "execute_result"
    }
   ],
   "source": [
    "df['Economics(The Sveriges Riksbank Prize)[13]'].str.contains('None').value_counts()"
   ]
  },
  {
   "cell_type": "code",
   "execution_count": 67,
   "id": "dd652dff",
   "metadata": {},
   "outputs": [
    {
     "data": {
      "text/plain": [
       "False    53\n",
       "Name: Economics(The Sveriges Riksbank Prize)[13], dtype: int64"
      ]
     },
     "execution_count": 67,
     "metadata": {},
     "output_type": "execute_result"
    }
   ],
   "source": [
    "df['Economics(The Sveriges Riksbank Prize)[13]'].str.contains('None').value_counts()- df[df['Economics(The Sveriges Riksbank Prize)[13]'].str.contains('—')]['Year'].count()"
   ]
  },
  {
   "cell_type": "code",
   "execution_count": null,
   "id": "494b0452",
   "metadata": {},
   "outputs": [],
   "source": [
    "#value none is 0 for economics category and some values are with (-).so total count is 54."
   ]
  },
  {
   "cell_type": "code",
   "execution_count": null,
   "id": "904c90f6",
   "metadata": {},
   "outputs": [],
   "source": [
    "# plotted one pie chart to show the distributioin of winners of nobel prize accoring to category."
   ]
  },
  {
   "cell_type": "code",
   "execution_count": 68,
   "id": "b0959fbc",
   "metadata": {},
   "outputs": [
    {
     "data": {
      "image/png": "[encoded data removed]",
      "text/plain": [
       "<Figure size 432x288 with 1 Axes>"
      ]
     },
     "metadata": {},
     "output_type": "display_data"
    }
   ],
   "source": [
    "categ_count = [115,113,114,112,102,53]\n",
    "categ_name =['Physics','Chemistry','Phsio_medi','Literature','Peace','Economics']\n",
    "cols = ['c','m','r','b','y','g']\n",
    "\n",
    "plt.pie(categ_count,labels=categ_name,colors=cols,\n",
    "        explode=(0,0,0,0,0,0.2),\n",
    "        startangle =45,\n",
    "        shadow = True,\n",
    "        autopct = '%1.2f%%')\n",
    "plt.title(\"% per Category\")\n",
    "\n",
    "plt.show()"
   ]
  },
  {
   "cell_type": "markdown",
   "id": "4a8d8339",
   "metadata": {},
   "source": [
    "As we can see in pie chart the winners in economics category are less  compare to others."
   ]
  },
  {
   "cell_type": "code",
   "execution_count": null,
   "id": "fc248cf1",
   "metadata": {},
   "outputs": [],
   "source": []
  },
  {
   "cell_type": "markdown",
   "id": "7eadc5ce",
   "metadata": {},
   "source": [
    "# Conclusion on Project:\n",
    "\n",
    "The pursose of choosing this paricular project is to show how webwcrapping is done in python using BeautifulSoup.\n",
    "\n",
    "There lots of websides which are giving information but  wikipedia  provides information in very simple way.\n",
    "\n",
    "Pandas operations are used to extract and analyze the data.\n",
    "\n",
    "After analyzing the data it is cocluded that there is no Nobel prize for Economics category.\n",
    "\n",
    "To get the infomatioin for any year and for any Category this data analysis is useful.\n",
    "\n"
   ]
  },
  {
   "cell_type": "code",
   "execution_count": null,
   "id": "87db596a",
   "metadata": {},
   "outputs": [],
   "source": []
  }
 ],
 "metadata": {
  "kernelspec": {
   "display_name": "Python 3",
   "language": "python",
   "name": "python3"
  },
  "language_info": {
   "codemirror_mode": {
    "name": "ipython",
    "version": 3
   },
   "file_extension": ".py",
   "mimetype": "text/x-python",
   "name": "python",
   "nbconvert_exporter": "python",
   "pygments_lexer": "ipython3",
   "version": "3.8.8"
  }
 },
 "nbformat": 4,
 "nbformat_minor": 5
}
