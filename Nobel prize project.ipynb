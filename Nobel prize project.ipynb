{
 "cells": [
  {
   "cell_type": "markdown",
   "id": "29d46de8",
   "metadata": {},
   "source": [
    "# Project :\n",
    "Webscrapping with Pandas oprations and Data visualization"
   ]
  },
  {
   "cell_type": "markdown",
   "id": "c418793b",
   "metadata": {},
   "source": [
    "# NOBEL PRIZE WINNER LIST"
   ]
  },
  {
   "cell_type": "markdown",
   "id": "9785f487",
   "metadata": {},
   "source": [
    "The aim is to extract the data from wikipedia for nobel prize winner list."
   ]
  },
  {
   "cell_type": "markdown",
   "id": "01f6588f",
   "metadata": {},
   "source": [
    "After extracting the data make the data useful for some operations."
   ]
  },
  {
   "cell_type": "markdown",
   "id": "568511db",
   "metadata": {},
   "source": [
    "For a particular requirement do some pandas opearation and represent data in data visualization."
   ]
  },
  {
   "cell_type": "markdown",
   "id": "62272d25",
   "metadata": {},
   "source": [
    "#                                       Data Extraction"
   ]
  },
  {
   "cell_type": "code",
   "execution_count": null,
   "id": "0a71b429",
   "metadata": {},
   "outputs": [],
   "source": [
    "# first step is to extract the data from website.for that we require to import requests and BeautifulSoap."
   ]
  },
  {
   "cell_type": "code",
   "execution_count": 3,
   "id": "e7a18f3c",
   "metadata": {},
   "outputs": [],
   "source": [
    "import requests"
   ]
  },
  {
   "cell_type": "code",
   "execution_count": 4,
   "id": "805ae50f",
   "metadata": {},
   "outputs": [],
   "source": [
    "r = requests.get('https://en.wikipedia.org/wiki/List_of_Nobel_laureates')"
   ]
  },
  {
   "cell_type": "code",
   "execution_count": 5,
   "id": "2b71ba6b",
   "metadata": {},
   "outputs": [
    {
     "data": {
      "text/plain": [
       "<Response [200]>"
      ]
     },
     "execution_count": 5,
     "metadata": {},
     "output_type": "execute_result"
    }
   ],
   "source": [
    "r"
   ]
  },
  {
   "cell_type": "code",
   "execution_count": 6,
   "id": "fb27516c",
   "metadata": {},
   "outputs": [],
   "source": [
    "from bs4 import BeautifulSoup"
   ]
  },
  {
   "cell_type": "code",
   "execution_count": 7,
   "id": "c0f1e5ef",
   "metadata": {},
   "outputs": [],
   "source": [
    "soup = BeautifulSoup(r.text,'html.parser')"
   ]
  },
  {
   "cell_type": "code",
   "execution_count": 8,
   "id": "2abe484b",
   "metadata": {},
   "outputs": [],
   "source": [
    "# now find the content of interest"
   ]
  },
  {
   "cell_type": "code",
   "execution_count": 10,
   "id": "efbe1b3b",
   "metadata": {},
   "outputs": [],
   "source": [
    "results = soup.find_all(\"tr\")"
   ]
  },
  {
   "cell_type": "code",
   "execution_count": 11,
   "id": "2fb32f54",
   "metadata": {
    "scrolled": false
   },
   "outputs": [
    {
     "data": {
      "text/plain": [
       "<tr>\n",
       "<th>Year\n",
       "</th>\n",
       "<th width=\"18%\"><a href=\"/wiki/List_of_Nobel_laureates_in_Physics\" title=\"List of Nobel laureates in Physics\">Physics</a>\n",
       "</th>\n",
       "<th width=\"16%\"><a href=\"/wiki/List_of_Nobel_laureates_in_Chemistry\" title=\"List of Nobel laureates in Chemistry\">Chemistry</a>\n",
       "</th>\n",
       "<th width=\"18%\"><a href=\"/wiki/List_of_Nobel_laureates_in_Physiology_or_Medicine\" title=\"List of Nobel laureates in Physiology or Medicine\">Physiology<br/>or Medicine</a>\n",
       "</th>\n",
       "<th width=\"16%\"><a href=\"/wiki/List_of_Nobel_laureates_in_Literature\" title=\"List of Nobel laureates in Literature\">Literature</a>\n",
       "</th>\n",
       "<th width=\"16%\"><a href=\"/wiki/List_of_Nobel_Peace_Prize_laureates\" title=\"List of Nobel Peace Prize laureates\">Peace</a>\n",
       "</th>\n",
       "<th width=\"15%\"><a class=\"mw-redirect\" href=\"/wiki/List_of_Nobel_laureates_in_Economics\" title=\"List of Nobel laureates in Economics\">Economics</a><br/>(The Sveriges Riksbank Prize)<sup class=\"reference\" id=\"cite_ref-13\"><a href=\"#cite_note-13\">[13]</a></sup>\n",
       "</th></tr>"
      ]
     },
     "execution_count": 11,
     "metadata": {},
     "output_type": "execute_result"
    }
   ],
   "source": [
    "results[0]"
   ]
  },
  {
   "cell_type": "markdown",
   "id": "5b543142",
   "metadata": {},
   "source": [
    "# Data collection"
   ]
  },
  {
   "cell_type": "code",
   "execution_count": null,
   "id": "a8124879",
   "metadata": {},
   "outputs": [],
   "source": [
    "# from above data extract the data of interest that is collection of data."
   ]
  },
  {
   "cell_type": "code",
   "execution_count": 10,
   "id": "57ac0852",
   "metadata": {},
   "outputs": [],
   "source": [
    "# first collect the column title so we need to do following operations."
   ]
  },
  {
   "cell_type": "code",
   "execution_count": 12,
   "id": "5898f1f3",
   "metadata": {},
   "outputs": [],
   "source": [
    "firstresult = results[0]"
   ]
  },
  {
   "cell_type": "code",
   "execution_count": 13,
   "id": "516fe57a",
   "metadata": {},
   "outputs": [
    {
     "data": {
      "text/plain": [
       "'Year'"
      ]
     },
     "execution_count": 13,
     "metadata": {},
     "output_type": "execute_result"
    }
   ],
   "source": [
    "firstresult.find_all('th')[0].text.strip()"
   ]
  },
  {
   "cell_type": "code",
   "execution_count": 14,
   "id": "7b6add0f",
   "metadata": {},
   "outputs": [
    {
     "data": {
      "text/plain": [
       "'Physics'"
      ]
     },
     "execution_count": 14,
     "metadata": {},
     "output_type": "execute_result"
    }
   ],
   "source": [
    "firstresult.find_all('th')[1].text.strip()"
   ]
  },
  {
   "cell_type": "code",
   "execution_count": 15,
   "id": "d96484e8",
   "metadata": {},
   "outputs": [
    {
     "data": {
      "text/plain": [
       "'Chemistry'"
      ]
     },
     "execution_count": 15,
     "metadata": {},
     "output_type": "execute_result"
    }
   ],
   "source": [
    "firstresult.find_all('th')[2].text.strip()"
   ]
  },
  {
   "cell_type": "code",
   "execution_count": 16,
   "id": "81106c4c",
   "metadata": {},
   "outputs": [
    {
     "data": {
      "text/plain": [
       "'Physiologyor Medicine'"
      ]
     },
     "execution_count": 16,
     "metadata": {},
     "output_type": "execute_result"
    }
   ],
   "source": [
    "firstresult.find_all('th')[3].text.strip()"
   ]
  },
  {
   "cell_type": "code",
   "execution_count": 17,
   "id": "19c230b7",
   "metadata": {},
   "outputs": [
    {
     "data": {
      "text/plain": [
       "'Literature'"
      ]
     },
     "execution_count": 17,
     "metadata": {},
     "output_type": "execute_result"
    }
   ],
   "source": [
    "firstresult.find_all('th')[4].text.strip()"
   ]
  },
  {
   "cell_type": "code",
   "execution_count": 18,
   "id": "417fb782",
   "metadata": {},
   "outputs": [
    {
     "data": {
      "text/plain": [
       "'Peace'"
      ]
     },
     "execution_count": 18,
     "metadata": {},
     "output_type": "execute_result"
    }
   ],
   "source": [
    "firstresult.find_all('th')[5].text.strip()"
   ]
  },
  {
   "cell_type": "code",
   "execution_count": 19,
   "id": "409524fb",
   "metadata": {},
   "outputs": [
    {
     "data": {
      "text/plain": [
       "'Economics(The Sveriges Riksbank Prize)[13]'"
      ]
     },
     "execution_count": 19,
     "metadata": {},
     "output_type": "execute_result"
    }
   ],
   "source": [
    "firstresult.find_all('th')[6].text.strip()"
   ]
  },
  {
   "cell_type": "code",
   "execution_count": 20,
   "id": "90f757d5",
   "metadata": {},
   "outputs": [],
   "source": [
    "# now some opearations to extract the content in columns."
   ]
  },
  {
   "cell_type": "code",
   "execution_count": 20,
   "id": "c79b17cb",
   "metadata": {},
   "outputs": [
    {
     "data": {
      "text/plain": [
       "<tr>\n",
       "<td align=\"center\">1901\n",
       "</td>\n",
       "<td><span data-sort-value=\"Röntgen, Wilhelm\"><span class=\"vcard\"><span class=\"fn\"><a href=\"/wiki/Wilhelm_R%C3%B6ntgen\" title=\"Wilhelm Röntgen\">Wilhelm Röntgen</a></span></span></span>\n",
       "</td>\n",
       "<td><span data-sort-value=\"Hoff, Jacobus Henricus van 't\"><span class=\"vcard\"><span class=\"fn\"><a href=\"/wiki/Jacobus_Henricus_van_%27t_Hoff\" title=\"Jacobus Henricus van 't Hoff\">Jacobus Henricus van 't Hoff</a></span></span></span>\n",
       "</td>\n",
       "<td><span data-sort-value=\"von Behring, Emil Adolf\"><span class=\"vcard\"><span class=\"fn\"><a class=\"mw-redirect\" href=\"/wiki/Emil_Adolf_von_Behring\" title=\"Emil Adolf von Behring\">Emil Adolf von Behring</a></span></span></span>\n",
       "</td>\n",
       "<td><span data-sort-value=\"Prudhomme, Sully\"><span class=\"vcard\"><span class=\"fn\"><a href=\"/wiki/Sully_Prudhomme\" title=\"Sully Prudhomme\">Sully Prudhomme</a></span></span></span>\n",
       "</td>\n",
       "<td><span data-sort-value=\"Dunant, Henry\"><span class=\"vcard\"><span class=\"fn\"><a href=\"/wiki/Henry_Dunant\" title=\"Henry Dunant\">Henry Dunant</a></span></span></span>;<br/><span data-sort-value=\"Passy, Frédéric\"><span class=\"vcard\"><span class=\"fn\"><a href=\"/wiki/Fr%C3%A9d%C3%A9ric_Passy\" title=\"Frédéric Passy\">Frédéric Passy</a></span></span></span>\n",
       "</td>\n",
       "<td align=\"center\">(prize not established)\n",
       "</td></tr>"
      ]
     },
     "execution_count": 20,
     "metadata": {},
     "output_type": "execute_result"
    }
   ],
   "source": [
    "results[1]"
   ]
  },
  {
   "cell_type": "code",
   "execution_count": 21,
   "id": "bef32f51",
   "metadata": {},
   "outputs": [
    {
     "data": {
      "text/plain": [
       "'1901'"
      ]
     },
     "execution_count": 21,
     "metadata": {},
     "output_type": "execute_result"
    }
   ],
   "source": [
    "results[1].find_all('td')[0].text.strip()"
   ]
  },
  {
   "cell_type": "code",
   "execution_count": 22,
   "id": "69ce9363",
   "metadata": {},
   "outputs": [
    {
     "data": {
      "text/plain": [
       "'Wilhelm Röntgen'"
      ]
     },
     "execution_count": 22,
     "metadata": {},
     "output_type": "execute_result"
    }
   ],
   "source": [
    "results[1].find_all('td')[1].text.strip()"
   ]
  },
  {
   "cell_type": "code",
   "execution_count": 23,
   "id": "2c7bb697",
   "metadata": {},
   "outputs": [
    {
     "data": {
      "text/plain": [
       "\"Jacobus Henricus van 't Hoff\""
      ]
     },
     "execution_count": 23,
     "metadata": {},
     "output_type": "execute_result"
    }
   ],
   "source": [
    "results[1].find_all('td')[2].text.strip()"
   ]
  },
  {
   "cell_type": "code",
   "execution_count": 24,
   "id": "3b461e20",
   "metadata": {},
   "outputs": [
    {
     "data": {
      "text/plain": [
       "'Emil Adolf von Behring'"
      ]
     },
     "execution_count": 24,
     "metadata": {},
     "output_type": "execute_result"
    }
   ],
   "source": [
    "results[1].find_all('td')[3].text.strip()"
   ]
  },
  {
   "cell_type": "code",
   "execution_count": 25,
   "id": "b5687e19",
   "metadata": {},
   "outputs": [
    {
     "data": {
      "text/plain": [
       "'Sully Prudhomme'"
      ]
     },
     "execution_count": 25,
     "metadata": {},
     "output_type": "execute_result"
    }
   ],
   "source": [
    "results[1].find_all('td')[4].text.strip()"
   ]
  },
  {
   "cell_type": "code",
   "execution_count": 26,
   "id": "80a30311",
   "metadata": {},
   "outputs": [
    {
     "data": {
      "text/plain": [
       "'Henry Dunant;Frédéric Passy'"
      ]
     },
     "execution_count": 26,
     "metadata": {},
     "output_type": "execute_result"
    }
   ],
   "source": [
    "results[1].find_all('td')[5].text.strip()"
   ]
  },
  {
   "cell_type": "code",
   "execution_count": 27,
   "id": "eb61d575",
   "metadata": {},
   "outputs": [
    {
     "data": {
      "text/plain": [
       "'(prize not established)'"
      ]
     },
     "execution_count": 27,
     "metadata": {},
     "output_type": "execute_result"
    }
   ],
   "source": [
    "results[1].find_all('td')[6].text.strip()"
   ]
  },
  {
   "cell_type": "code",
   "execution_count": 25,
   "id": "13cf89c2",
   "metadata": {},
   "outputs": [],
   "source": [
    "# after getting the data apply it to whole result with the help of loop and append it in a variable(table1)."
   ]
  },
  {
   "cell_type": "code",
   "execution_count": 28,
   "id": "97de8182",
   "metadata": {},
   "outputs": [],
   "source": [
    "table1 =[]\n",
    "\n",
    "\n",
    "\n",
    "for j in range(len(results)-1):\n",
    "    for i in results[j].find_all('td'):\n",
    "        year = i.text.strip()\n",
    "        \n",
    "        table1.append(year)\n",
    "    \n",
    "\n",
    "\n"
   ]
  },
  {
   "cell_type": "code",
   "execution_count": 32,
   "id": "66c51bee",
   "metadata": {},
   "outputs": [],
   "source": [
    "# to get the column names from data use loop and append it in variable (col)"
   ]
  },
  {
   "cell_type": "code",
   "execution_count": 30,
   "id": "7a1310d7",
   "metadata": {},
   "outputs": [],
   "source": [
    "col =[]\n",
    "for i in results[0].find_all('th'):\n",
    "    col.append(i.text.strip())\n",
    "    "
   ]
  },
  {
   "cell_type": "code",
   "execution_count": 31,
   "id": "a5811594",
   "metadata": {},
   "outputs": [
    {
     "data": {
      "text/plain": [
       "['Year',\n",
       " 'Physics',\n",
       " 'Chemistry',\n",
       " 'Physiologyor Medicine',\n",
       " 'Literature',\n",
       " 'Peace',\n",
       " 'Economics(The Sveriges Riksbank Prize)[13]']"
      ]
     },
     "execution_count": 31,
     "metadata": {},
     "output_type": "execute_result"
    }
   ],
   "source": [
    "col"
   ]
  },
  {
   "cell_type": "code",
   "execution_count": 35,
   "id": "11bc62f6",
   "metadata": {},
   "outputs": [],
   "source": [
    "# The data which got in table1 is in the form of list.\n",
    "#If we add this data in dataframe it will go in 1 column so to avoid this slice the data as given in below cell."
   ]
  },
  {
   "cell_type": "code",
   "execution_count": 32,
   "id": "75e96e9a",
   "metadata": {},
   "outputs": [
    {
     "data": {
      "text/plain": [
       "['1901',\n",
       " 'Wilhelm Röntgen',\n",
       " \"Jacobus Henricus van 't Hoff\",\n",
       " 'Emil Adolf von Behring',\n",
       " 'Sully Prudhomme',\n",
       " 'Henry Dunant;Frédéric Passy',\n",
       " '(prize not established)']"
      ]
     },
     "execution_count": 32,
     "metadata": {},
     "output_type": "execute_result"
    }
   ],
   "source": [
    "table1[0:7]\n"
   ]
  },
  {
   "cell_type": "code",
   "execution_count": 33,
   "id": "92b8e2e1",
   "metadata": {},
   "outputs": [
    {
     "data": {
      "text/plain": [
       "['1902',\n",
       " 'Hendrik Lorentz;Pieter Zeeman',\n",
       " 'Hermann Emil Fischer',\n",
       " 'Ronald Ross',\n",
       " 'Theodor Mommsen',\n",
       " 'Élie Ducommun;Charles Albert Gobat',\n",
       " '—']"
      ]
     },
     "execution_count": 33,
     "metadata": {},
     "output_type": "execute_result"
    }
   ],
   "source": [
    "table1[7:14]"
   ]
  },
  {
   "cell_type": "code",
   "execution_count": 38,
   "id": "e5f2dbb6",
   "metadata": {},
   "outputs": [],
   "source": [
    "#To make the slices, from whole data we cant do it manually so apply a function to iterate the table1 to make chunk of 7 elements."
   ]
  },
  {
   "cell_type": "code",
   "execution_count": 34,
   "id": "9703154a",
   "metadata": {},
   "outputs": [],
   "source": [
    "Tabledata =list(zip(*(iter(table1),) * 7))\n",
    "    "
   ]
  },
  {
   "cell_type": "code",
   "execution_count": 36,
   "id": "7a49e1ce",
   "metadata": {},
   "outputs": [
    {
     "data": {
      "text/plain": [
       "('1901',\n",
       " 'Wilhelm Röntgen',\n",
       " \"Jacobus Henricus van 't Hoff\",\n",
       " 'Emil Adolf von Behring',\n",
       " 'Sully Prudhomme',\n",
       " 'Henry Dunant;Frédéric Passy',\n",
       " '(prize not established)')"
      ]
     },
     "execution_count": 36,
     "metadata": {},
     "output_type": "execute_result"
    }
   ],
   "source": [
    "Tabledata[0] # now got the data rowwise."
   ]
  },
  {
   "cell_type": "markdown",
   "id": "8413580c",
   "metadata": {},
   "source": [
    "# Data Analysis"
   ]
  },
  {
   "cell_type": "code",
   "execution_count": null,
   "id": "eca66f2f",
   "metadata": {},
   "outputs": [],
   "source": [
    "# Now i have sliced data in the form of list which is then apply to make dataframe."
   ]
  },
  {
   "cell_type": "code",
   "execution_count": 34,
   "id": "9211805a",
   "metadata": {},
   "outputs": [],
   "source": [
    "# To make dataframe first install pandas"
   ]
  },
  {
   "cell_type": "code",
   "execution_count": 37,
   "id": "8270cbf6",
   "metadata": {},
   "outputs": [],
   "source": [
    "import pandas as pd"
   ]
  },
  {
   "cell_type": "code",
   "execution_count": 38,
   "id": "8be05663",
   "metadata": {},
   "outputs": [
    {
     "data": {
      "text/html": [
       "<div>\n",
       "<style scoped>\n",
       "    .dataframe tbody tr th:only-of-type {\n",
       "        vertical-align: middle;\n",
       "    }\n",
       "\n",
       "    .dataframe tbody tr th {\n",
       "        vertical-align: top;\n",
       "    }\n",
       "\n",
       "    .dataframe thead th {\n",
       "        text-align: right;\n",
       "    }\n",
       "</style>\n",
       "<table border=\"1\" class=\"dataframe\">\n",
       "  <thead>\n",
       "    <tr style=\"text-align: right;\">\n",
       "      <th></th>\n",
       "      <th>Year</th>\n",
       "      <th>Physics</th>\n",
       "      <th>Chemistry</th>\n",
       "      <th>Physiologyor Medicine</th>\n",
       "      <th>Literature</th>\n",
       "      <th>Peace</th>\n",
       "      <th>Economics(The Sveriges Riksbank Prize)[13]</th>\n",
       "    </tr>\n",
       "  </thead>\n",
       "  <tbody>\n",
       "    <tr>\n",
       "      <th>0</th>\n",
       "      <td>1901</td>\n",
       "      <td>Wilhelm Röntgen</td>\n",
       "      <td>Jacobus Henricus van 't Hoff</td>\n",
       "      <td>Emil Adolf von Behring</td>\n",
       "      <td>Sully Prudhomme</td>\n",
       "      <td>Henry Dunant;Frédéric Passy</td>\n",
       "      <td>(prize not established)</td>\n",
       "    </tr>\n",
       "    <tr>\n",
       "      <th>1</th>\n",
       "      <td>1902</td>\n",
       "      <td>Hendrik Lorentz;Pieter Zeeman</td>\n",
       "      <td>Hermann Emil Fischer</td>\n",
       "      <td>Ronald Ross</td>\n",
       "      <td>Theodor Mommsen</td>\n",
       "      <td>Élie Ducommun;Charles Albert Gobat</td>\n",
       "      <td>—</td>\n",
       "    </tr>\n",
       "    <tr>\n",
       "      <th>2</th>\n",
       "      <td>1903</td>\n",
       "      <td>Henri Becquerel;Pierre Curie;Marie Curie</td>\n",
       "      <td>Svante Arrhenius</td>\n",
       "      <td>Niels Ryberg Finsen</td>\n",
       "      <td>Bjørnstjerne Bjørnson</td>\n",
       "      <td>Randal Cremer</td>\n",
       "      <td>—</td>\n",
       "    </tr>\n",
       "    <tr>\n",
       "      <th>3</th>\n",
       "      <td>1904</td>\n",
       "      <td>Lord Rayleigh</td>\n",
       "      <td>William Ramsay</td>\n",
       "      <td>Ivan Pavlov</td>\n",
       "      <td>Frédéric Mistral;José Echegaray</td>\n",
       "      <td>Institut de Droit International</td>\n",
       "      <td>—</td>\n",
       "    </tr>\n",
       "    <tr>\n",
       "      <th>4</th>\n",
       "      <td>1905</td>\n",
       "      <td>Philipp Lenard</td>\n",
       "      <td>Adolf von Baeyer</td>\n",
       "      <td>Robert Koch</td>\n",
       "      <td>Henryk Sienkiewicz</td>\n",
       "      <td>Bertha von Suttner</td>\n",
       "      <td>—</td>\n",
       "    </tr>\n",
       "  </tbody>\n",
       "</table>\n",
       "</div>"
      ],
      "text/plain": [
       "   Year                                   Physics  \\\n",
       "0  1901                           Wilhelm Röntgen   \n",
       "1  1902             Hendrik Lorentz;Pieter Zeeman   \n",
       "2  1903  Henri Becquerel;Pierre Curie;Marie Curie   \n",
       "3  1904                             Lord Rayleigh   \n",
       "4  1905                            Philipp Lenard   \n",
       "\n",
       "                      Chemistry   Physiologyor Medicine  \\\n",
       "0  Jacobus Henricus van 't Hoff  Emil Adolf von Behring   \n",
       "1          Hermann Emil Fischer             Ronald Ross   \n",
       "2              Svante Arrhenius     Niels Ryberg Finsen   \n",
       "3                William Ramsay             Ivan Pavlov   \n",
       "4              Adolf von Baeyer             Robert Koch   \n",
       "\n",
       "                        Literature                               Peace  \\\n",
       "0                  Sully Prudhomme         Henry Dunant;Frédéric Passy   \n",
       "1                  Theodor Mommsen  Élie Ducommun;Charles Albert Gobat   \n",
       "2            Bjørnstjerne Bjørnson                       Randal Cremer   \n",
       "3  Frédéric Mistral;José Echegaray     Institut de Droit International   \n",
       "4               Henryk Sienkiewicz                  Bertha von Suttner   \n",
       "\n",
       "  Economics(The Sveriges Riksbank Prize)[13]  \n",
       "0                    (prize not established)  \n",
       "1                                          —  \n",
       "2                                          —  \n",
       "3                                          —  \n",
       "4                                          —  "
      ]
     },
     "execution_count": 38,
     "metadata": {},
     "output_type": "execute_result"
    }
   ],
   "source": [
    "df = pd.DataFrame(Tabledata,columns=col)\n",
    "df.head()\n"
   ]
  },
  {
   "cell_type": "markdown",
   "id": "c0d2c08a",
   "metadata": {},
   "source": [
    " df.head() will gives the first five values from dataframe."
   ]
  },
  {
   "cell_type": "code",
   "execution_count": 39,
   "id": "3ad82b88",
   "metadata": {},
   "outputs": [
    {
     "name": "stdout",
     "output_type": "stream",
     "text": [
      "<class 'pandas.core.frame.DataFrame'>\n",
      "RangeIndex: 122 entries, 0 to 121\n",
      "Data columns (total 7 columns):\n",
      " #   Column                                      Non-Null Count  Dtype \n",
      "---  ------                                      --------------  ----- \n",
      " 0   Year                                        122 non-null    object\n",
      " 1   Physics                                     122 non-null    object\n",
      " 2   Chemistry                                   122 non-null    object\n",
      " 3   Physiologyor Medicine                       122 non-null    object\n",
      " 4   Literature                                  122 non-null    object\n",
      " 5   Peace                                       122 non-null    object\n",
      " 6   Economics(The Sveriges Riksbank Prize)[13]  122 non-null    object\n",
      "dtypes: object(7)\n",
      "memory usage: 6.8+ KB\n"
     ]
    }
   ],
   "source": [
    "df.info()"
   ]
  },
  {
   "cell_type": "code",
   "execution_count": 40,
   "id": "2ddaf151",
   "metadata": {},
   "outputs": [
    {
     "data": {
      "text/html": [
       "<div>\n",
       "<style scoped>\n",
       "    .dataframe tbody tr th:only-of-type {\n",
       "        vertical-align: middle;\n",
       "    }\n",
       "\n",
       "    .dataframe tbody tr th {\n",
       "        vertical-align: top;\n",
       "    }\n",
       "\n",
       "    .dataframe thead th {\n",
       "        text-align: right;\n",
       "    }\n",
       "</style>\n",
       "<table border=\"1\" class=\"dataframe\">\n",
       "  <thead>\n",
       "    <tr style=\"text-align: right;\">\n",
       "      <th></th>\n",
       "      <th>Year</th>\n",
       "      <th>Physics</th>\n",
       "      <th>Chemistry</th>\n",
       "      <th>Physiologyor Medicine</th>\n",
       "      <th>Literature</th>\n",
       "      <th>Peace</th>\n",
       "      <th>Economics(The Sveriges Riksbank Prize)[13]</th>\n",
       "    </tr>\n",
       "  </thead>\n",
       "  <tbody>\n",
       "    <tr>\n",
       "      <th>count</th>\n",
       "      <td>122</td>\n",
       "      <td>122</td>\n",
       "      <td>122</td>\n",
       "      <td>122</td>\n",
       "      <td>122</td>\n",
       "      <td>122</td>\n",
       "      <td>122</td>\n",
       "    </tr>\n",
       "    <tr>\n",
       "      <th>unique</th>\n",
       "      <td>122</td>\n",
       "      <td>120</td>\n",
       "      <td>118</td>\n",
       "      <td>117</td>\n",
       "      <td>119</td>\n",
       "      <td>106</td>\n",
       "      <td>58</td>\n",
       "    </tr>\n",
       "    <tr>\n",
       "      <th>top</th>\n",
       "      <td>1991</td>\n",
       "      <td>None</td>\n",
       "      <td>None</td>\n",
       "      <td>None</td>\n",
       "      <td>None</td>\n",
       "      <td>None</td>\n",
       "      <td>—</td>\n",
       "    </tr>\n",
       "    <tr>\n",
       "      <th>freq</th>\n",
       "      <td>1</td>\n",
       "      <td>3</td>\n",
       "      <td>5</td>\n",
       "      <td>6</td>\n",
       "      <td>4</td>\n",
       "      <td>15</td>\n",
       "      <td>65</td>\n",
       "    </tr>\n",
       "  </tbody>\n",
       "</table>\n",
       "</div>"
      ],
      "text/plain": [
       "        Year Physics Chemistry Physiologyor Medicine Literature Peace  \\\n",
       "count    122     122       122                   122        122   122   \n",
       "unique   122     120       118                   117        119   106   \n",
       "top     1991    None      None                  None       None  None   \n",
       "freq       1       3         5                     6          4    15   \n",
       "\n",
       "       Economics(The Sveriges Riksbank Prize)[13]  \n",
       "count                                         122  \n",
       "unique                                         58  \n",
       "top                                             —  \n",
       "freq                                           65  "
      ]
     },
     "execution_count": 40,
     "metadata": {},
     "output_type": "execute_result"
    }
   ],
   "source": [
    "df.describe(include=['object'])"
   ]
  },
  {
   "cell_type": "markdown",
   "id": "a3807660",
   "metadata": {},
   "source": [
    "df.info will gives the information about how many columns what is datatype of columns."
   ]
  },
  {
   "cell_type": "code",
   "execution_count": 41,
   "id": "035a57d6",
   "metadata": {},
   "outputs": [
    {
     "data": {
      "text/plain": [
       "Year                                          0\n",
       "Physics                                       0\n",
       "Chemistry                                     0\n",
       "Physiologyor Medicine                         0\n",
       "Literature                                    0\n",
       "Peace                                         0\n",
       "Economics(The Sveriges Riksbank Prize)[13]    0\n",
       "dtype: int64"
      ]
     },
     "execution_count": 41,
     "metadata": {},
     "output_type": "execute_result"
    }
   ],
   "source": [
    "df.isna().sum()"
   ]
  },
  {
   "cell_type": "markdown",
   "id": "ca8858c7",
   "metadata": {},
   "source": [
    "df.isna() will gives the Nan values which will affect the dataset during data analysis.\n",
    "so to handle these valus we have to know how many values are present in each columns."
   ]
  },
  {
   "cell_type": "code",
   "execution_count": 42,
   "id": "3223423d",
   "metadata": {},
   "outputs": [
    {
     "data": {
      "text/plain": [
       "(122, 7)"
      ]
     },
     "execution_count": 42,
     "metadata": {},
     "output_type": "execute_result"
    }
   ],
   "source": [
    "df.shape"
   ]
  },
  {
   "cell_type": "markdown",
   "id": "24d6c5cf",
   "metadata": {},
   "source": [
    "df.shape gives the information about the number of rows and columns."
   ]
  },
  {
   "cell_type": "code",
   "execution_count": 43,
   "id": "4e1f230f",
   "metadata": {},
   "outputs": [
    {
     "data": {
      "text/html": [
       "<div>\n",
       "<style scoped>\n",
       "    .dataframe tbody tr th:only-of-type {\n",
       "        vertical-align: middle;\n",
       "    }\n",
       "\n",
       "    .dataframe tbody tr th {\n",
       "        vertical-align: top;\n",
       "    }\n",
       "\n",
       "    .dataframe thead th {\n",
       "        text-align: right;\n",
       "    }\n",
       "</style>\n",
       "<table border=\"1\" class=\"dataframe\">\n",
       "  <thead>\n",
       "    <tr style=\"text-align: right;\">\n",
       "      <th></th>\n",
       "      <th>Year</th>\n",
       "      <th>Physics</th>\n",
       "      <th>Chemistry</th>\n",
       "      <th>Physiologyor Medicine</th>\n",
       "      <th>Literature</th>\n",
       "      <th>Peace</th>\n",
       "      <th>Economics(The Sveriges Riksbank Prize)[13]</th>\n",
       "    </tr>\n",
       "  </thead>\n",
       "  <tbody>\n",
       "    <tr>\n",
       "      <th>112</th>\n",
       "      <td>2015</td>\n",
       "      <td>Takaaki Kajita;Arthur B. McDonald</td>\n",
       "      <td>Tomas Lindahl; Paul L. Modrich;Aziz Sancar</td>\n",
       "      <td>William C. Campbell;Satoshi Ōmura;Tu Youyou</td>\n",
       "      <td>Svetlana Alexievich</td>\n",
       "      <td>Tunisian National Dialogue Quartet</td>\n",
       "      <td>Angus Deaton</td>\n",
       "    </tr>\n",
       "    <tr>\n",
       "      <th>113</th>\n",
       "      <td>2016</td>\n",
       "      <td>David J. Thouless;Duncan Haldane;John M. Koste...</td>\n",
       "      <td>Jean-Pierre Sauvage;Fraser Stoddart;Ben Feringa</td>\n",
       "      <td>Yoshinori Ohsumi</td>\n",
       "      <td>Bob Dylan</td>\n",
       "      <td>Juan Manuel Santos</td>\n",
       "      <td>Oliver Hart;Bengt R. Holmström</td>\n",
       "    </tr>\n",
       "    <tr>\n",
       "      <th>114</th>\n",
       "      <td>2017</td>\n",
       "      <td>Rainer Weiss;Barry Barish;Kip Thorne</td>\n",
       "      <td>Jacques Dubochet;Joachim Frank;Richard Henderson</td>\n",
       "      <td>Jeffrey C. Hall;Michael Rosbash;Michael W. Young</td>\n",
       "      <td>Kazuo Ishiguro</td>\n",
       "      <td>International Campaign to Abolish Nuclear Weapons</td>\n",
       "      <td>Richard Thaler</td>\n",
       "    </tr>\n",
       "    <tr>\n",
       "      <th>115</th>\n",
       "      <td>2018</td>\n",
       "      <td>Arthur Ashkin;Gérard Mourou;Donna Strickland</td>\n",
       "      <td>Frances H. Arnold;George P. Smith;Greg Winter</td>\n",
       "      <td>James P. Allison; Tasuku Honjo</td>\n",
       "      <td>Olga Tokarczuk [g]</td>\n",
       "      <td>Denis Mukwege; Nadia Murad</td>\n",
       "      <td>William Nordhaus; Paul Romer</td>\n",
       "    </tr>\n",
       "    <tr>\n",
       "      <th>116</th>\n",
       "      <td>2019</td>\n",
       "      <td>James Peebles; Michel Mayor; Didier Queloz</td>\n",
       "      <td>John B. Goodenough;M. Stanley Whittingham;Akir...</td>\n",
       "      <td>William Kaelin Jr.;Peter J. Ratcliffe;Gregg L....</td>\n",
       "      <td>Peter Handke</td>\n",
       "      <td>Abiy Ahmed</td>\n",
       "      <td>Abhijit Banerjee;Esther Duflo;Michael Kremer</td>\n",
       "    </tr>\n",
       "    <tr>\n",
       "      <th>117</th>\n",
       "      <td>2020</td>\n",
       "      <td>Roger Penrose; Reinhard Genzel; Andrea M. Ghez</td>\n",
       "      <td>Emmanuelle Charpentier;Jennifer Doudna</td>\n",
       "      <td>Harvey J. Alter; Michael Houghton; Charles M. ...</td>\n",
       "      <td>Louise Glück</td>\n",
       "      <td>World Food Programme</td>\n",
       "      <td>Paul R. Milgrom;Robert B. Wilson</td>\n",
       "    </tr>\n",
       "    <tr>\n",
       "      <th>118</th>\n",
       "      <td></td>\n",
       "      <td>Wikimedia Commons has media related to Nobel l...</td>\n",
       "      <td>Lists of Nobel laureates</td>\n",
       "      <td>Chemistry\\nLiterature\\nPeace\\nPhysics\\nPhysiol...</td>\n",
       "      <td></td>\n",
       "      <td>Economics1</td>\n",
       "      <td>by subject\\nChemistry\\nEconomics\\nLiterature\\n...</td>\n",
       "    </tr>\n",
       "    <tr>\n",
       "      <th>119</th>\n",
       "      <td>Chemistry\\nEconomics\\nLiterature\\nPeace\\nPhysi...</td>\n",
       "      <td>African\\nArab\\nAsian\\nBengali\\nBlack\\nChristia...</td>\n",
       "      <td>Argentine\\nAustralian\\nBelgian\\nChinese\\nDanis...</td>\n",
       "      <td>List of Nobel laureates by year</td>\n",
       "      <td>University of California, Berkeley\\nUniversity...</td>\n",
       "      <td>Heads of state and government</td>\n",
       "      <td>Chemistry\\nEconomics\\nLiterature\\nPeace\\nPhysi...</td>\n",
       "    </tr>\n",
       "    <tr>\n",
       "      <th>120</th>\n",
       "      <td>African\\nArab\\nAsian\\nBengali\\nBlack\\nChristia...</td>\n",
       "      <td>Argentine\\nAustralian\\nBelgian\\nChinese\\nDanis...</td>\n",
       "      <td>List of Nobel laureates by year</td>\n",
       "      <td>University of California, Berkeley\\nUniversity...</td>\n",
       "      <td>Heads of state and government</td>\n",
       "      <td>by subject\\nChemistry\\nLiterature\\nby criterio...</td>\n",
       "      <td>Chemistry\\nLiterature</td>\n",
       "    </tr>\n",
       "    <tr>\n",
       "      <th>121</th>\n",
       "      <td>Female\\nOrganizations</td>\n",
       "      <td>Chemistry\\nLiterature</td>\n",
       "      <td>Female\\nOrganizations</td>\n",
       "      <td>Nobel Foundation\\nNobel Committees\\nChemistry\\...</td>\n",
       "      <td>Controversies\\nAlfred Nobel\\nLindau Nobel Laur...</td>\n",
       "      <td>1 Nobel Memorial Prize (not one of the origina...</td>\n",
       "      <td>Laureates\\nCommittee (members)\\nInstitute\\nCen...</td>\n",
       "    </tr>\n",
       "  </tbody>\n",
       "</table>\n",
       "</div>"
      ],
      "text/plain": [
       "                                                  Year  \\\n",
       "112                                               2015   \n",
       "113                                               2016   \n",
       "114                                               2017   \n",
       "115                                               2018   \n",
       "116                                               2019   \n",
       "117                                               2020   \n",
       "118                                                      \n",
       "119  Chemistry\\nEconomics\\nLiterature\\nPeace\\nPhysi...   \n",
       "120  African\\nArab\\nAsian\\nBengali\\nBlack\\nChristia...   \n",
       "121                              Female\\nOrganizations   \n",
       "\n",
       "                                               Physics  \\\n",
       "112                  Takaaki Kajita;Arthur B. McDonald   \n",
       "113  David J. Thouless;Duncan Haldane;John M. Koste...   \n",
       "114               Rainer Weiss;Barry Barish;Kip Thorne   \n",
       "115       Arthur Ashkin;Gérard Mourou;Donna Strickland   \n",
       "116         James Peebles; Michel Mayor; Didier Queloz   \n",
       "117     Roger Penrose; Reinhard Genzel; Andrea M. Ghez   \n",
       "118  Wikimedia Commons has media related to Nobel l...   \n",
       "119  African\\nArab\\nAsian\\nBengali\\nBlack\\nChristia...   \n",
       "120  Argentine\\nAustralian\\nBelgian\\nChinese\\nDanis...   \n",
       "121                              Chemistry\\nLiterature   \n",
       "\n",
       "                                             Chemistry  \\\n",
       "112         Tomas Lindahl; Paul L. Modrich;Aziz Sancar   \n",
       "113    Jean-Pierre Sauvage;Fraser Stoddart;Ben Feringa   \n",
       "114   Jacques Dubochet;Joachim Frank;Richard Henderson   \n",
       "115      Frances H. Arnold;George P. Smith;Greg Winter   \n",
       "116  John B. Goodenough;M. Stanley Whittingham;Akir...   \n",
       "117             Emmanuelle Charpentier;Jennifer Doudna   \n",
       "118                           Lists of Nobel laureates   \n",
       "119  Argentine\\nAustralian\\nBelgian\\nChinese\\nDanis...   \n",
       "120                    List of Nobel laureates by year   \n",
       "121                              Female\\nOrganizations   \n",
       "\n",
       "                                 Physiologyor Medicine  \\\n",
       "112        William C. Campbell;Satoshi Ōmura;Tu Youyou   \n",
       "113                                   Yoshinori Ohsumi   \n",
       "114   Jeffrey C. Hall;Michael Rosbash;Michael W. Young   \n",
       "115                     James P. Allison; Tasuku Honjo   \n",
       "116  William Kaelin Jr.;Peter J. Ratcliffe;Gregg L....   \n",
       "117  Harvey J. Alter; Michael Houghton; Charles M. ...   \n",
       "118  Chemistry\\nLiterature\\nPeace\\nPhysics\\nPhysiol...   \n",
       "119                    List of Nobel laureates by year   \n",
       "120  University of California, Berkeley\\nUniversity...   \n",
       "121  Nobel Foundation\\nNobel Committees\\nChemistry\\...   \n",
       "\n",
       "                                            Literature  \\\n",
       "112                                Svetlana Alexievich   \n",
       "113                                          Bob Dylan   \n",
       "114                                     Kazuo Ishiguro   \n",
       "115                                 Olga Tokarczuk [g]   \n",
       "116                                       Peter Handke   \n",
       "117                                       Louise Glück   \n",
       "118                                                      \n",
       "119  University of California, Berkeley\\nUniversity...   \n",
       "120                      Heads of state and government   \n",
       "121  Controversies\\nAlfred Nobel\\nLindau Nobel Laur...   \n",
       "\n",
       "                                                 Peace  \\\n",
       "112                 Tunisian National Dialogue Quartet   \n",
       "113                                 Juan Manuel Santos   \n",
       "114  International Campaign to Abolish Nuclear Weapons   \n",
       "115                         Denis Mukwege; Nadia Murad   \n",
       "116                                         Abiy Ahmed   \n",
       "117                               World Food Programme   \n",
       "118                                         Economics1   \n",
       "119                      Heads of state and government   \n",
       "120  by subject\\nChemistry\\nLiterature\\nby criterio...   \n",
       "121  1 Nobel Memorial Prize (not one of the origina...   \n",
       "\n",
       "            Economics(The Sveriges Riksbank Prize)[13]  \n",
       "112                                       Angus Deaton  \n",
       "113                     Oliver Hart;Bengt R. Holmström  \n",
       "114                                     Richard Thaler  \n",
       "115                       William Nordhaus; Paul Romer  \n",
       "116       Abhijit Banerjee;Esther Duflo;Michael Kremer  \n",
       "117                   Paul R. Milgrom;Robert B. Wilson  \n",
       "118  by subject\\nChemistry\\nEconomics\\nLiterature\\n...  \n",
       "119  Chemistry\\nEconomics\\nLiterature\\nPeace\\nPhysi...  \n",
       "120                              Chemistry\\nLiterature  \n",
       "121  Laureates\\nCommittee (members)\\nInstitute\\nCen...  "
      ]
     },
     "execution_count": 43,
     "metadata": {},
     "output_type": "execute_result"
    }
   ],
   "source": [
    "df.tail(10)"
   ]
  },
  {
   "cell_type": "markdown",
   "id": "9e4c1aea",
   "metadata": {},
   "source": [
    "df.tail will give infomation last values in dataset."
   ]
  },
  {
   "cell_type": "code",
   "execution_count": null,
   "id": "a903a8cd",
   "metadata": {},
   "outputs": [],
   "source": [
    "# by observing the tail we came to know that there are certain row which are not useful for data analysis.\n",
    "# so to remove that rows we have used df.drop"
   ]
  },
  {
   "cell_type": "code",
   "execution_count": 44,
   "id": "3e9d3b62",
   "metadata": {},
   "outputs": [],
   "source": [
    "df.drop([118,119,120,121],axis = 'index',inplace= True)"
   ]
  },
  {
   "cell_type": "code",
   "execution_count": 45,
   "id": "04b96e77",
   "metadata": {},
   "outputs": [
    {
     "data": {
      "text/html": [
       "<div>\n",
       "<style scoped>\n",
       "    .dataframe tbody tr th:only-of-type {\n",
       "        vertical-align: middle;\n",
       "    }\n",
       "\n",
       "    .dataframe tbody tr th {\n",
       "        vertical-align: top;\n",
       "    }\n",
       "\n",
       "    .dataframe thead th {\n",
       "        text-align: right;\n",
       "    }\n",
       "</style>\n",
       "<table border=\"1\" class=\"dataframe\">\n",
       "  <thead>\n",
       "    <tr style=\"text-align: right;\">\n",
       "      <th></th>\n",
       "      <th>Year</th>\n",
       "      <th>Physics</th>\n",
       "      <th>Chemistry</th>\n",
       "      <th>Physiologyor Medicine</th>\n",
       "      <th>Literature</th>\n",
       "      <th>Peace</th>\n",
       "      <th>Economics(The Sveriges Riksbank Prize)[13]</th>\n",
       "    </tr>\n",
       "  </thead>\n",
       "  <tbody>\n",
       "    <tr>\n",
       "      <th>113</th>\n",
       "      <td>2016</td>\n",
       "      <td>David J. Thouless;Duncan Haldane;John M. Koste...</td>\n",
       "      <td>Jean-Pierre Sauvage;Fraser Stoddart;Ben Feringa</td>\n",
       "      <td>Yoshinori Ohsumi</td>\n",
       "      <td>Bob Dylan</td>\n",
       "      <td>Juan Manuel Santos</td>\n",
       "      <td>Oliver Hart;Bengt R. Holmström</td>\n",
       "    </tr>\n",
       "    <tr>\n",
       "      <th>114</th>\n",
       "      <td>2017</td>\n",
       "      <td>Rainer Weiss;Barry Barish;Kip Thorne</td>\n",
       "      <td>Jacques Dubochet;Joachim Frank;Richard Henderson</td>\n",
       "      <td>Jeffrey C. Hall;Michael Rosbash;Michael W. Young</td>\n",
       "      <td>Kazuo Ishiguro</td>\n",
       "      <td>International Campaign to Abolish Nuclear Weapons</td>\n",
       "      <td>Richard Thaler</td>\n",
       "    </tr>\n",
       "    <tr>\n",
       "      <th>115</th>\n",
       "      <td>2018</td>\n",
       "      <td>Arthur Ashkin;Gérard Mourou;Donna Strickland</td>\n",
       "      <td>Frances H. Arnold;George P. Smith;Greg Winter</td>\n",
       "      <td>James P. Allison; Tasuku Honjo</td>\n",
       "      <td>Olga Tokarczuk [g]</td>\n",
       "      <td>Denis Mukwege; Nadia Murad</td>\n",
       "      <td>William Nordhaus; Paul Romer</td>\n",
       "    </tr>\n",
       "    <tr>\n",
       "      <th>116</th>\n",
       "      <td>2019</td>\n",
       "      <td>James Peebles; Michel Mayor; Didier Queloz</td>\n",
       "      <td>John B. Goodenough;M. Stanley Whittingham;Akir...</td>\n",
       "      <td>William Kaelin Jr.;Peter J. Ratcliffe;Gregg L....</td>\n",
       "      <td>Peter Handke</td>\n",
       "      <td>Abiy Ahmed</td>\n",
       "      <td>Abhijit Banerjee;Esther Duflo;Michael Kremer</td>\n",
       "    </tr>\n",
       "    <tr>\n",
       "      <th>117</th>\n",
       "      <td>2020</td>\n",
       "      <td>Roger Penrose; Reinhard Genzel; Andrea M. Ghez</td>\n",
       "      <td>Emmanuelle Charpentier;Jennifer Doudna</td>\n",
       "      <td>Harvey J. Alter; Michael Houghton; Charles M. ...</td>\n",
       "      <td>Louise Glück</td>\n",
       "      <td>World Food Programme</td>\n",
       "      <td>Paul R. Milgrom;Robert B. Wilson</td>\n",
       "    </tr>\n",
       "  </tbody>\n",
       "</table>\n",
       "</div>"
      ],
      "text/plain": [
       "     Year                                            Physics  \\\n",
       "113  2016  David J. Thouless;Duncan Haldane;John M. Koste...   \n",
       "114  2017               Rainer Weiss;Barry Barish;Kip Thorne   \n",
       "115  2018       Arthur Ashkin;Gérard Mourou;Donna Strickland   \n",
       "116  2019         James Peebles; Michel Mayor; Didier Queloz   \n",
       "117  2020     Roger Penrose; Reinhard Genzel; Andrea M. Ghez   \n",
       "\n",
       "                                             Chemistry  \\\n",
       "113    Jean-Pierre Sauvage;Fraser Stoddart;Ben Feringa   \n",
       "114   Jacques Dubochet;Joachim Frank;Richard Henderson   \n",
       "115      Frances H. Arnold;George P. Smith;Greg Winter   \n",
       "116  John B. Goodenough;M. Stanley Whittingham;Akir...   \n",
       "117             Emmanuelle Charpentier;Jennifer Doudna   \n",
       "\n",
       "                                 Physiologyor Medicine          Literature  \\\n",
       "113                                   Yoshinori Ohsumi           Bob Dylan   \n",
       "114   Jeffrey C. Hall;Michael Rosbash;Michael W. Young      Kazuo Ishiguro   \n",
       "115                     James P. Allison; Tasuku Honjo  Olga Tokarczuk [g]   \n",
       "116  William Kaelin Jr.;Peter J. Ratcliffe;Gregg L....        Peter Handke   \n",
       "117  Harvey J. Alter; Michael Houghton; Charles M. ...        Louise Glück   \n",
       "\n",
       "                                                 Peace  \\\n",
       "113                                 Juan Manuel Santos   \n",
       "114  International Campaign to Abolish Nuclear Weapons   \n",
       "115                         Denis Mukwege; Nadia Murad   \n",
       "116                                         Abiy Ahmed   \n",
       "117                               World Food Programme   \n",
       "\n",
       "       Economics(The Sveriges Riksbank Prize)[13]  \n",
       "113                Oliver Hart;Bengt R. Holmström  \n",
       "114                                Richard Thaler  \n",
       "115                  William Nordhaus; Paul Romer  \n",
       "116  Abhijit Banerjee;Esther Duflo;Michael Kremer  \n",
       "117              Paul R. Milgrom;Robert B. Wilson  "
      ]
     },
     "execution_count": 45,
     "metadata": {},
     "output_type": "execute_result"
    }
   ],
   "source": [
    "df.tail(5)"
   ]
  },
  {
   "cell_type": "code",
   "execution_count": null,
   "id": "2c474ace",
   "metadata": {},
   "outputs": [],
   "source": [
    "# column name are already present in dataset but if want to change then use rename.\n",
    "# this is temporary change to make it perment use inplace = True."
   ]
  },
  {
   "cell_type": "code",
   "execution_count": 46,
   "id": "8815e27c",
   "metadata": {},
   "outputs": [
    {
     "data": {
      "text/html": [
       "<div>\n",
       "<style scoped>\n",
       "    .dataframe tbody tr th:only-of-type {\n",
       "        vertical-align: middle;\n",
       "    }\n",
       "\n",
       "    .dataframe tbody tr th {\n",
       "        vertical-align: top;\n",
       "    }\n",
       "\n",
       "    .dataframe thead th {\n",
       "        text-align: right;\n",
       "    }\n",
       "</style>\n",
       "<table border=\"1\" class=\"dataframe\">\n",
       "  <thead>\n",
       "    <tr style=\"text-align: right;\">\n",
       "      <th></th>\n",
       "      <th>YEAR</th>\n",
       "      <th>PHYSICS</th>\n",
       "      <th>CHEMISTRY</th>\n",
       "      <th>Physiologyor Medicine</th>\n",
       "      <th>LITERATURE</th>\n",
       "      <th>PEACE</th>\n",
       "      <th>ECONOMICS</th>\n",
       "    </tr>\n",
       "  </thead>\n",
       "  <tbody>\n",
       "    <tr>\n",
       "      <th>0</th>\n",
       "      <td>1901</td>\n",
       "      <td>Wilhelm Röntgen</td>\n",
       "      <td>Jacobus Henricus van 't Hoff</td>\n",
       "      <td>Emil Adolf von Behring</td>\n",
       "      <td>Sully Prudhomme</td>\n",
       "      <td>Henry Dunant;Frédéric Passy</td>\n",
       "      <td>(prize not established)</td>\n",
       "    </tr>\n",
       "    <tr>\n",
       "      <th>1</th>\n",
       "      <td>1902</td>\n",
       "      <td>Hendrik Lorentz;Pieter Zeeman</td>\n",
       "      <td>Hermann Emil Fischer</td>\n",
       "      <td>Ronald Ross</td>\n",
       "      <td>Theodor Mommsen</td>\n",
       "      <td>Élie Ducommun;Charles Albert Gobat</td>\n",
       "      <td>—</td>\n",
       "    </tr>\n",
       "    <tr>\n",
       "      <th>2</th>\n",
       "      <td>1903</td>\n",
       "      <td>Henri Becquerel;Pierre Curie;Marie Curie</td>\n",
       "      <td>Svante Arrhenius</td>\n",
       "      <td>Niels Ryberg Finsen</td>\n",
       "      <td>Bjørnstjerne Bjørnson</td>\n",
       "      <td>Randal Cremer</td>\n",
       "      <td>—</td>\n",
       "    </tr>\n",
       "    <tr>\n",
       "      <th>3</th>\n",
       "      <td>1904</td>\n",
       "      <td>Lord Rayleigh</td>\n",
       "      <td>William Ramsay</td>\n",
       "      <td>Ivan Pavlov</td>\n",
       "      <td>Frédéric Mistral;José Echegaray</td>\n",
       "      <td>Institut de Droit International</td>\n",
       "      <td>—</td>\n",
       "    </tr>\n",
       "    <tr>\n",
       "      <th>4</th>\n",
       "      <td>1905</td>\n",
       "      <td>Philipp Lenard</td>\n",
       "      <td>Adolf von Baeyer</td>\n",
       "      <td>Robert Koch</td>\n",
       "      <td>Henryk Sienkiewicz</td>\n",
       "      <td>Bertha von Suttner</td>\n",
       "      <td>—</td>\n",
       "    </tr>\n",
       "    <tr>\n",
       "      <th>...</th>\n",
       "      <td>...</td>\n",
       "      <td>...</td>\n",
       "      <td>...</td>\n",
       "      <td>...</td>\n",
       "      <td>...</td>\n",
       "      <td>...</td>\n",
       "      <td>...</td>\n",
       "    </tr>\n",
       "    <tr>\n",
       "      <th>113</th>\n",
       "      <td>2016</td>\n",
       "      <td>David J. Thouless;Duncan Haldane;John M. Koste...</td>\n",
       "      <td>Jean-Pierre Sauvage;Fraser Stoddart;Ben Feringa</td>\n",
       "      <td>Yoshinori Ohsumi</td>\n",
       "      <td>Bob Dylan</td>\n",
       "      <td>Juan Manuel Santos</td>\n",
       "      <td>Oliver Hart;Bengt R. Holmström</td>\n",
       "    </tr>\n",
       "    <tr>\n",
       "      <th>114</th>\n",
       "      <td>2017</td>\n",
       "      <td>Rainer Weiss;Barry Barish;Kip Thorne</td>\n",
       "      <td>Jacques Dubochet;Joachim Frank;Richard Henderson</td>\n",
       "      <td>Jeffrey C. Hall;Michael Rosbash;Michael W. Young</td>\n",
       "      <td>Kazuo Ishiguro</td>\n",
       "      <td>International Campaign to Abolish Nuclear Weapons</td>\n",
       "      <td>Richard Thaler</td>\n",
       "    </tr>\n",
       "    <tr>\n",
       "      <th>115</th>\n",
       "      <td>2018</td>\n",
       "      <td>Arthur Ashkin;Gérard Mourou;Donna Strickland</td>\n",
       "      <td>Frances H. Arnold;George P. Smith;Greg Winter</td>\n",
       "      <td>James P. Allison; Tasuku Honjo</td>\n",
       "      <td>Olga Tokarczuk [g]</td>\n",
       "      <td>Denis Mukwege; Nadia Murad</td>\n",
       "      <td>William Nordhaus; Paul Romer</td>\n",
       "    </tr>\n",
       "    <tr>\n",
       "      <th>116</th>\n",
       "      <td>2019</td>\n",
       "      <td>James Peebles; Michel Mayor; Didier Queloz</td>\n",
       "      <td>John B. Goodenough;M. Stanley Whittingham;Akir...</td>\n",
       "      <td>William Kaelin Jr.;Peter J. Ratcliffe;Gregg L....</td>\n",
       "      <td>Peter Handke</td>\n",
       "      <td>Abiy Ahmed</td>\n",
       "      <td>Abhijit Banerjee;Esther Duflo;Michael Kremer</td>\n",
       "    </tr>\n",
       "    <tr>\n",
       "      <th>117</th>\n",
       "      <td>2020</td>\n",
       "      <td>Roger Penrose; Reinhard Genzel; Andrea M. Ghez</td>\n",
       "      <td>Emmanuelle Charpentier;Jennifer Doudna</td>\n",
       "      <td>Harvey J. Alter; Michael Houghton; Charles M. ...</td>\n",
       "      <td>Louise Glück</td>\n",
       "      <td>World Food Programme</td>\n",
       "      <td>Paul R. Milgrom;Robert B. Wilson</td>\n",
       "    </tr>\n",
       "  </tbody>\n",
       "</table>\n",
       "<p>118 rows × 7 columns</p>\n",
       "</div>"
      ],
      "text/plain": [
       "     YEAR                                            PHYSICS  \\\n",
       "0    1901                                    Wilhelm Röntgen   \n",
       "1    1902                      Hendrik Lorentz;Pieter Zeeman   \n",
       "2    1903           Henri Becquerel;Pierre Curie;Marie Curie   \n",
       "3    1904                                      Lord Rayleigh   \n",
       "4    1905                                     Philipp Lenard   \n",
       "..    ...                                                ...   \n",
       "113  2016  David J. Thouless;Duncan Haldane;John M. Koste...   \n",
       "114  2017               Rainer Weiss;Barry Barish;Kip Thorne   \n",
       "115  2018       Arthur Ashkin;Gérard Mourou;Donna Strickland   \n",
       "116  2019         James Peebles; Michel Mayor; Didier Queloz   \n",
       "117  2020     Roger Penrose; Reinhard Genzel; Andrea M. Ghez   \n",
       "\n",
       "                                             CHEMISTRY  \\\n",
       "0                         Jacobus Henricus van 't Hoff   \n",
       "1                                 Hermann Emil Fischer   \n",
       "2                                     Svante Arrhenius   \n",
       "3                                       William Ramsay   \n",
       "4                                     Adolf von Baeyer   \n",
       "..                                                 ...   \n",
       "113    Jean-Pierre Sauvage;Fraser Stoddart;Ben Feringa   \n",
       "114   Jacques Dubochet;Joachim Frank;Richard Henderson   \n",
       "115      Frances H. Arnold;George P. Smith;Greg Winter   \n",
       "116  John B. Goodenough;M. Stanley Whittingham;Akir...   \n",
       "117             Emmanuelle Charpentier;Jennifer Doudna   \n",
       "\n",
       "                                 Physiologyor Medicine  \\\n",
       "0                               Emil Adolf von Behring   \n",
       "1                                          Ronald Ross   \n",
       "2                                  Niels Ryberg Finsen   \n",
       "3                                          Ivan Pavlov   \n",
       "4                                          Robert Koch   \n",
       "..                                                 ...   \n",
       "113                                   Yoshinori Ohsumi   \n",
       "114   Jeffrey C. Hall;Michael Rosbash;Michael W. Young   \n",
       "115                     James P. Allison; Tasuku Honjo   \n",
       "116  William Kaelin Jr.;Peter J. Ratcliffe;Gregg L....   \n",
       "117  Harvey J. Alter; Michael Houghton; Charles M. ...   \n",
       "\n",
       "                          LITERATURE  \\\n",
       "0                    Sully Prudhomme   \n",
       "1                    Theodor Mommsen   \n",
       "2              Bjørnstjerne Bjørnson   \n",
       "3    Frédéric Mistral;José Echegaray   \n",
       "4                 Henryk Sienkiewicz   \n",
       "..                               ...   \n",
       "113                        Bob Dylan   \n",
       "114                   Kazuo Ishiguro   \n",
       "115               Olga Tokarczuk [g]   \n",
       "116                     Peter Handke   \n",
       "117                     Louise Glück   \n",
       "\n",
       "                                                 PEACE  \\\n",
       "0                          Henry Dunant;Frédéric Passy   \n",
       "1                   Élie Ducommun;Charles Albert Gobat   \n",
       "2                                        Randal Cremer   \n",
       "3                      Institut de Droit International   \n",
       "4                                   Bertha von Suttner   \n",
       "..                                                 ...   \n",
       "113                                 Juan Manuel Santos   \n",
       "114  International Campaign to Abolish Nuclear Weapons   \n",
       "115                         Denis Mukwege; Nadia Murad   \n",
       "116                                         Abiy Ahmed   \n",
       "117                               World Food Programme   \n",
       "\n",
       "                                        ECONOMICS  \n",
       "0                         (prize not established)  \n",
       "1                                               —  \n",
       "2                                               —  \n",
       "3                                               —  \n",
       "4                                               —  \n",
       "..                                            ...  \n",
       "113                Oliver Hart;Bengt R. Holmström  \n",
       "114                                Richard Thaler  \n",
       "115                  William Nordhaus; Paul Romer  \n",
       "116  Abhijit Banerjee;Esther Duflo;Michael Kremer  \n",
       "117              Paul R. Milgrom;Robert B. Wilson  \n",
       "\n",
       "[118 rows x 7 columns]"
      ]
     },
     "execution_count": 46,
     "metadata": {},
     "output_type": "execute_result"
    }
   ],
   "source": [
    "df.rename(columns={'Year':'YEAR','Physics':'PHYSICS','Chemistry':'CHEMISTRY','PhsiologyorMedicine':'PHSIO_MEDICINE','Literature':'LITERATURE','Peace':'PEACE','Economics(The Sveriges Riksbank Prize)[13]':'ECONOMICS'})"
   ]
  },
  {
   "cell_type": "code",
   "execution_count": 47,
   "id": "71aec1ca",
   "metadata": {},
   "outputs": [
    {
     "data": {
      "text/html": [
       "<div>\n",
       "<style scoped>\n",
       "    .dataframe tbody tr th:only-of-type {\n",
       "        vertical-align: middle;\n",
       "    }\n",
       "\n",
       "    .dataframe tbody tr th {\n",
       "        vertical-align: top;\n",
       "    }\n",
       "\n",
       "    .dataframe thead th {\n",
       "        text-align: right;\n",
       "    }\n",
       "</style>\n",
       "<table border=\"1\" class=\"dataframe\">\n",
       "  <thead>\n",
       "    <tr style=\"text-align: right;\">\n",
       "      <th></th>\n",
       "      <th>Year</th>\n",
       "      <th>Physics</th>\n",
       "      <th>Chemistry</th>\n",
       "      <th>Physiologyor Medicine</th>\n",
       "      <th>Literature</th>\n",
       "      <th>Peace</th>\n",
       "      <th>Economics(The Sveriges Riksbank Prize)[13]</th>\n",
       "    </tr>\n",
       "  </thead>\n",
       "  <tbody>\n",
       "    <tr>\n",
       "      <th>0</th>\n",
       "      <td>1901</td>\n",
       "      <td>Wilhelm Röntgen</td>\n",
       "      <td>Jacobus Henricus van 't Hoff</td>\n",
       "      <td>Emil Adolf von Behring</td>\n",
       "      <td>Sully Prudhomme</td>\n",
       "      <td>Henry Dunant;Frédéric Passy</td>\n",
       "      <td>(prize not established)</td>\n",
       "    </tr>\n",
       "    <tr>\n",
       "      <th>1</th>\n",
       "      <td>1902</td>\n",
       "      <td>Hendrik Lorentz;Pieter Zeeman</td>\n",
       "      <td>Hermann Emil Fischer</td>\n",
       "      <td>Ronald Ross</td>\n",
       "      <td>Theodor Mommsen</td>\n",
       "      <td>Élie Ducommun;Charles Albert Gobat</td>\n",
       "      <td>—</td>\n",
       "    </tr>\n",
       "    <tr>\n",
       "      <th>2</th>\n",
       "      <td>1903</td>\n",
       "      <td>Henri Becquerel;Pierre Curie;Marie Curie</td>\n",
       "      <td>Svante Arrhenius</td>\n",
       "      <td>Niels Ryberg Finsen</td>\n",
       "      <td>Bjørnstjerne Bjørnson</td>\n",
       "      <td>Randal Cremer</td>\n",
       "      <td>—</td>\n",
       "    </tr>\n",
       "    <tr>\n",
       "      <th>3</th>\n",
       "      <td>1904</td>\n",
       "      <td>Lord Rayleigh</td>\n",
       "      <td>William Ramsay</td>\n",
       "      <td>Ivan Pavlov</td>\n",
       "      <td>Frédéric Mistral;José Echegaray</td>\n",
       "      <td>Institut de Droit International</td>\n",
       "      <td>—</td>\n",
       "    </tr>\n",
       "    <tr>\n",
       "      <th>4</th>\n",
       "      <td>1905</td>\n",
       "      <td>Philipp Lenard</td>\n",
       "      <td>Adolf von Baeyer</td>\n",
       "      <td>Robert Koch</td>\n",
       "      <td>Henryk Sienkiewicz</td>\n",
       "      <td>Bertha von Suttner</td>\n",
       "      <td>—</td>\n",
       "    </tr>\n",
       "  </tbody>\n",
       "</table>\n",
       "</div>"
      ],
      "text/plain": [
       "   Year                                   Physics  \\\n",
       "0  1901                           Wilhelm Röntgen   \n",
       "1  1902             Hendrik Lorentz;Pieter Zeeman   \n",
       "2  1903  Henri Becquerel;Pierre Curie;Marie Curie   \n",
       "3  1904                             Lord Rayleigh   \n",
       "4  1905                            Philipp Lenard   \n",
       "\n",
       "                      Chemistry   Physiologyor Medicine  \\\n",
       "0  Jacobus Henricus van 't Hoff  Emil Adolf von Behring   \n",
       "1          Hermann Emil Fischer             Ronald Ross   \n",
       "2              Svante Arrhenius     Niels Ryberg Finsen   \n",
       "3                William Ramsay             Ivan Pavlov   \n",
       "4              Adolf von Baeyer             Robert Koch   \n",
       "\n",
       "                        Literature                               Peace  \\\n",
       "0                  Sully Prudhomme         Henry Dunant;Frédéric Passy   \n",
       "1                  Theodor Mommsen  Élie Ducommun;Charles Albert Gobat   \n",
       "2            Bjørnstjerne Bjørnson                       Randal Cremer   \n",
       "3  Frédéric Mistral;José Echegaray     Institut de Droit International   \n",
       "4               Henryk Sienkiewicz                  Bertha von Suttner   \n",
       "\n",
       "  Economics(The Sveriges Riksbank Prize)[13]  \n",
       "0                    (prize not established)  \n",
       "1                                          —  \n",
       "2                                          —  \n",
       "3                                          —  \n",
       "4                                          —  "
      ]
     },
     "execution_count": 47,
     "metadata": {},
     "output_type": "execute_result"
    }
   ],
   "source": [
    "df.head()"
   ]
  },
  {
   "cell_type": "code",
   "execution_count": null,
   "id": "e5ddad3f",
   "metadata": {},
   "outputs": [],
   "source": [
    "# If want to extact any spefific value from dataset then use loc.\n",
    "# loc contains two item row name and column name."
   ]
  },
  {
   "cell_type": "code",
   "execution_count": 48,
   "id": "923ab9d5",
   "metadata": {},
   "outputs": [
    {
     "data": {
      "text/plain": [
       "'Svante Arrhenius'"
      ]
     },
     "execution_count": 48,
     "metadata": {},
     "output_type": "execute_result"
    }
   ],
   "source": [
    "df.loc[2,'Chemistry']"
   ]
  },
  {
   "cell_type": "code",
   "execution_count": null,
   "id": "17a580a1",
   "metadata": {},
   "outputs": [],
   "source": [
    "# to extract more than one value."
   ]
  },
  {
   "cell_type": "code",
   "execution_count": 49,
   "id": "f1d85887",
   "metadata": {},
   "outputs": [
    {
     "data": {
      "text/html": [
       "<div>\n",
       "<style scoped>\n",
       "    .dataframe tbody tr th:only-of-type {\n",
       "        vertical-align: middle;\n",
       "    }\n",
       "\n",
       "    .dataframe tbody tr th {\n",
       "        vertical-align: top;\n",
       "    }\n",
       "\n",
       "    .dataframe thead th {\n",
       "        text-align: right;\n",
       "    }\n",
       "</style>\n",
       "<table border=\"1\" class=\"dataframe\">\n",
       "  <thead>\n",
       "    <tr style=\"text-align: right;\">\n",
       "      <th></th>\n",
       "      <th>Literature</th>\n",
       "      <th>Peace</th>\n",
       "    </tr>\n",
       "  </thead>\n",
       "  <tbody>\n",
       "    <tr>\n",
       "      <th>4</th>\n",
       "      <td>Henryk Sienkiewicz</td>\n",
       "      <td>Bertha von Suttner</td>\n",
       "    </tr>\n",
       "    <tr>\n",
       "      <th>5</th>\n",
       "      <td>Giosuè Carducci</td>\n",
       "      <td>Theodore Roosevelt</td>\n",
       "    </tr>\n",
       "    <tr>\n",
       "      <th>6</th>\n",
       "      <td>Rudyard Kipling</td>\n",
       "      <td>Ernesto Teodoro Moneta;Louis Renault</td>\n",
       "    </tr>\n",
       "  </tbody>\n",
       "</table>\n",
       "</div>"
      ],
      "text/plain": [
       "           Literature                                 Peace\n",
       "4  Henryk Sienkiewicz                    Bertha von Suttner\n",
       "5     Giosuè Carducci                    Theodore Roosevelt\n",
       "6     Rudyard Kipling  Ernesto Teodoro Moneta;Louis Renault"
      ]
     },
     "execution_count": 49,
     "metadata": {},
     "output_type": "execute_result"
    }
   ],
   "source": [
    "df.loc[[4,5,6],['Literature','Peace']]"
   ]
  },
  {
   "cell_type": "code",
   "execution_count": null,
   "id": "e5d36158",
   "metadata": {},
   "outputs": [],
   "source": [
    "# iloc also used to extract the specific data based on index number of row and column.can also use slicing here."
   ]
  },
  {
   "cell_type": "code",
   "execution_count": 50,
   "id": "c0ef206c",
   "metadata": {},
   "outputs": [
    {
     "data": {
      "text/html": [
       "<div>\n",
       "<style scoped>\n",
       "    .dataframe tbody tr th:only-of-type {\n",
       "        vertical-align: middle;\n",
       "    }\n",
       "\n",
       "    .dataframe tbody tr th {\n",
       "        vertical-align: top;\n",
       "    }\n",
       "\n",
       "    .dataframe thead th {\n",
       "        text-align: right;\n",
       "    }\n",
       "</style>\n",
       "<table border=\"1\" class=\"dataframe\">\n",
       "  <thead>\n",
       "    <tr style=\"text-align: right;\">\n",
       "      <th></th>\n",
       "      <th>Year</th>\n",
       "      <th>Physics</th>\n",
       "      <th>Chemistry</th>\n",
       "    </tr>\n",
       "  </thead>\n",
       "  <tbody>\n",
       "    <tr>\n",
       "      <th>10</th>\n",
       "      <td>1911</td>\n",
       "      <td>Wilhelm Wien</td>\n",
       "      <td>Marie Skłodowska-Curie</td>\n",
       "    </tr>\n",
       "    <tr>\n",
       "      <th>11</th>\n",
       "      <td>1912</td>\n",
       "      <td>Gustaf Dalén</td>\n",
       "      <td>Victor Grignard;Paul Sabatier</td>\n",
       "    </tr>\n",
       "    <tr>\n",
       "      <th>12</th>\n",
       "      <td>1913</td>\n",
       "      <td>Heike Kamerlingh Onnes</td>\n",
       "      <td>Alfred Werner</td>\n",
       "    </tr>\n",
       "    <tr>\n",
       "      <th>13</th>\n",
       "      <td>1914</td>\n",
       "      <td>Max von Laue</td>\n",
       "      <td>Theodore William Richards</td>\n",
       "    </tr>\n",
       "    <tr>\n",
       "      <th>14</th>\n",
       "      <td>1915</td>\n",
       "      <td>William Henry Bragg;William Lawrence Bragg</td>\n",
       "      <td>Richard Willstätter</td>\n",
       "    </tr>\n",
       "  </tbody>\n",
       "</table>\n",
       "</div>"
      ],
      "text/plain": [
       "    Year                                     Physics  \\\n",
       "10  1911                                Wilhelm Wien   \n",
       "11  1912                                Gustaf Dalén   \n",
       "12  1913                      Heike Kamerlingh Onnes   \n",
       "13  1914                                Max von Laue   \n",
       "14  1915  William Henry Bragg;William Lawrence Bragg   \n",
       "\n",
       "                        Chemistry  \n",
       "10         Marie Skłodowska-Curie  \n",
       "11  Victor Grignard;Paul Sabatier  \n",
       "12                  Alfred Werner  \n",
       "13      Theodore William Richards  \n",
       "14            Richard Willstätter  "
      ]
     },
     "execution_count": 50,
     "metadata": {},
     "output_type": "execute_result"
    }
   ],
   "source": [
    "df.iloc[10:15,0:3]"
   ]
  },
  {
   "cell_type": "markdown",
   "id": "d4f99c9b",
   "metadata": {},
   "source": [
    "Some Examples to show how pandas operations are helpful to extract required infomation from dataset. "
   ]
  },
  {
   "cell_type": "markdown",
   "id": "1ab6c70d",
   "metadata": {},
   "source": [
    "Q1. What is first and last year of nobel prize?"
   ]
  },
  {
   "cell_type": "code",
   "execution_count": 51,
   "id": "18892131",
   "metadata": {},
   "outputs": [
    {
     "data": {
      "text/plain": [
       "0    1901\n",
       "Name: Year, dtype: object"
      ]
     },
     "execution_count": 51,
     "metadata": {},
     "output_type": "execute_result"
    }
   ],
   "source": [
    "df.head(1)['Year']    # head1 will give 1st value."
   ]
  },
  {
   "cell_type": "code",
   "execution_count": 52,
   "id": "042d3d40",
   "metadata": {},
   "outputs": [
    {
     "data": {
      "text/plain": [
       "117    2020\n",
       "Name: Year, dtype: object"
      ]
     },
     "execution_count": 52,
     "metadata": {},
     "output_type": "execute_result"
    }
   ],
   "source": [
    "df.tail(1)['Year'] # tail1 will give last value."
   ]
  },
  {
   "cell_type": "markdown",
   "id": "026a4f43",
   "metadata": {},
   "source": [
    "Q2. Who recieve the Nobel prize for Chemistry in year 2000?"
   ]
  },
  {
   "cell_type": "code",
   "execution_count": 53,
   "id": "a4fbfc7e",
   "metadata": {},
   "outputs": [
    {
     "data": {
      "text/plain": [
       "97    Alan J. Heeger;Alan MacDiarmid;Hideki Shirakawa\n",
       "Name: Chemistry, dtype: object"
      ]
     },
     "execution_count": 53,
     "metadata": {},
     "output_type": "execute_result"
    }
   ],
   "source": [
    "df[df['Year']=='2000']['Chemistry']"
   ]
  },
  {
   "cell_type": "markdown",
   "id": "4305bac1",
   "metadata": {},
   "source": [
    "Q3.How many Years there was no Nobel prize for 'Economics(The Sveriges Riksbank Prize)[13]'."
   ]
  },
  {
   "cell_type": "code",
   "execution_count": 54,
   "id": "7958cd9c",
   "metadata": {},
   "outputs": [
    {
     "data": {
      "text/plain": [
       "65"
      ]
     },
     "execution_count": 54,
     "metadata": {},
     "output_type": "execute_result"
    }
   ],
   "source": [
    "df[df['Economics(The Sveriges Riksbank Prize)[13]'].str.contains('—')]['Year'].count()"
   ]
  },
  {
   "cell_type": "markdown",
   "id": "9c4da409",
   "metadata": {},
   "source": [
    "# Data Visualization"
   ]
  },
  {
   "cell_type": "code",
   "execution_count": 55,
   "id": "5afd5621",
   "metadata": {},
   "outputs": [],
   "source": [
    "import matplotlib.pyplot as plt\n",
    "%matplotlib inline\n",
    "import seaborn as sns"
   ]
  },
  {
   "cell_type": "code",
   "execution_count": null,
   "id": "d7591889",
   "metadata": {},
   "outputs": [],
   "source": [
    "# In all columns there are some values which are none.\n",
    "# so first get the those values by applying following operation.\n",
    "# now we have values which are the no of count for each column."
   ]
  },
  {
   "cell_type": "code",
   "execution_count": 56,
   "id": "3073df9a",
   "metadata": {},
   "outputs": [
    {
     "data": {
      "text/plain": [
       "False    115\n",
       "True       3\n",
       "Name: Physics, dtype: int64"
      ]
     },
     "execution_count": 56,
     "metadata": {},
     "output_type": "execute_result"
    }
   ],
   "source": [
    "df['Physics'].str.contains('None').value_counts()"
   ]
  },
  {
   "cell_type": "code",
   "execution_count": 57,
   "id": "b4bbbcd7",
   "metadata": {},
   "outputs": [
    {
     "data": {
      "image/png": "[encoded data removed]",
      "text/plain": [
       "<Figure size 432x288 with 1 Axes>"
      ]
     },
     "metadata": {},
     "output_type": "display_data"
    }
   ],
   "source": [
    "df['Physics'].str.contains('None').value_counts().plot.pie(autopct =  \"%1.1F%%\", explode= (0,0.1))\n",
    "plt.title('Total no.Winners for Physics')\n",
    "plt.show()"
   ]
  },
  {
   "cell_type": "markdown",
   "id": "e3b61c19",
   "metadata": {},
   "source": [
    "false values are Number of Prize for Physics till 2020"
   ]
  },
  {
   "cell_type": "code",
   "execution_count": 58,
   "id": "c6e76adf",
   "metadata": {},
   "outputs": [
    {
     "data": {
      "text/plain": [
       "False    113\n",
       "True       5\n",
       "Name: Chemistry, dtype: int64"
      ]
     },
     "execution_count": 58,
     "metadata": {},
     "output_type": "execute_result"
    }
   ],
   "source": [
    "df['Chemistry'].str.contains('None').value_counts()"
   ]
  },
  {
   "cell_type": "code",
   "execution_count": 59,
   "id": "4a8afdef",
   "metadata": {},
   "outputs": [
    {
     "data": {
      "image/png": "[encoded data removed]",
      "text/plain": [
       "<Figure size 432x288 with 1 Axes>"
      ]
     },
     "metadata": {
      "needs_background": "light"
     },
     "output_type": "display_data"
    }
   ],
   "source": [
    "df['Chemistry'].str.contains('None').value_counts().plot(kind='bar')\n",
    "plt.title('Total no.Winners for Chemistry')\n",
    "plt.ylabel('count')\n",
    "plt.xlabel('Chemistry')\n",
    "plt.show()"
   ]
  },
  {
   "cell_type": "markdown",
   "id": "7c789bf2",
   "metadata": {},
   "source": [
    "false values are Number of Prize for Chemistry till 2020"
   ]
  },
  {
   "cell_type": "code",
   "execution_count": 60,
   "id": "19e9c5a1",
   "metadata": {},
   "outputs": [
    {
     "data": {
      "text/plain": [
       "False    114\n",
       "True       4\n",
       "Name: Literature, dtype: int64"
      ]
     },
     "execution_count": 60,
     "metadata": {},
     "output_type": "execute_result"
    }
   ],
   "source": [
    "df['Literature'].str.contains('None').value_counts()"
   ]
  },
  {
   "cell_type": "code",
   "execution_count": 61,
   "id": "0e7d49cd",
   "metadata": {},
   "outputs": [
    {
     "data": {
      "image/png": "[encoded data removed]",
      "text/plain": [
       "<Figure size 432x288 with 1 Axes>"
      ]
     },
     "metadata": {
      "needs_background": "light"
     },
     "output_type": "display_data"
    }
   ],
   "source": [
    "sns.countplot(data=df,x=df['Literature'].str.contains('None').value_counts())\n",
    "plt.show()"
   ]
  },
  {
   "cell_type": "markdown",
   "id": "ca82d695",
   "metadata": {},
   "source": [
    "false values are Number of Prize for Lierature till 2020"
   ]
  },
  {
   "cell_type": "code",
   "execution_count": 62,
   "id": "c15814ee",
   "metadata": {},
   "outputs": [
    {
     "data": {
      "text/plain": [
       "False    112\n",
       "True       6\n",
       "Name: Physiologyor Medicine, dtype: int64"
      ]
     },
     "execution_count": 62,
     "metadata": {},
     "output_type": "execute_result"
    }
   ],
   "source": [
    "df['Physiologyor Medicine'].str.contains('None').value_counts()"
   ]
  },
  {
   "cell_type": "code",
   "execution_count": 63,
   "id": "ff208707",
   "metadata": {},
   "outputs": [
    {
     "data": {
      "image/png": "[encoded data removed]",
      "text/plain": [
       "<Figure size 432x288 with 1 Axes>"
      ]
     },
     "metadata": {
      "needs_background": "light"
     },
     "output_type": "display_data"
    }
   ],
   "source": [
    "df['Physiologyor Medicine'].str.contains('None').value_counts().plot(kind='bar')\n",
    "plt.title('Winners for Physio_medicines')\n",
    "plt.ylabel('count')\n",
    "plt.xlabel('physics')\n",
    "plt.show()"
   ]
  },
  {
   "cell_type": "markdown",
   "id": "8695a11e",
   "metadata": {},
   "source": [
    "false values are Number of Prize for Physiology_medicine till 2020"
   ]
  },
  {
   "cell_type": "code",
   "execution_count": 64,
   "id": "7290cd70",
   "metadata": {},
   "outputs": [
    {
     "data": {
      "text/plain": [
       "False    102\n",
       "True      16\n",
       "Name: Peace, dtype: int64"
      ]
     },
     "execution_count": 64,
     "metadata": {},
     "output_type": "execute_result"
    }
   ],
   "source": [
    "df['Peace'].str.contains('None').value_counts()"
   ]
  },
  {
   "cell_type": "code",
   "execution_count": 65,
   "id": "057f2a1c",
   "metadata": {},
   "outputs": [
    {
     "data": {
      "image/png": "[encoded data removed]",
      "text/plain": [
       "<Figure size 432x288 with 1 Axes>"
      ]
     },
     "metadata": {
      "needs_background": "light"
     },
     "output_type": "display_data"
    }
   ],
   "source": [
    "sns.countplot(data=df,x=df['Peace'].str.contains('None').value_counts())\n",
    "plt.show()"
   ]
  },
  {
   "cell_type": "markdown",
   "id": "0189dd50",
   "metadata": {},
   "source": [
    "false values are Number of Prize for Peace till 2020"
   ]
  },
  {
   "cell_type": "code",
   "execution_count": 66,
   "id": "42304962",
   "metadata": {},
   "outputs": [
    {
     "data": {
      "text/plain": [
       "False    118\n",
       "Name: Economics(The Sveriges Riksbank Prize)[13], dtype: int64"
      ]
     },
     "execution_count": 66,
     "metadata": {},
     "output_type": "execute_result"
    }
   ],
   "source": [
    "df['Economics(The Sveriges Riksbank Prize)[13]'].str.contains('None').value_counts()"
   ]
  },
  {
   "cell_type": "code",
   "execution_count": 67,
   "id": "dd652dff",
   "metadata": {},
   "outputs": [
    {
     "data": {
      "text/plain": [
       "False    53\n",
       "Name: Economics(The Sveriges Riksbank Prize)[13], dtype: int64"
      ]
     },
     "execution_count": 67,
     "metadata": {},
     "output_type": "execute_result"
    }
   ],
   "source": [
    "df['Economics(The Sveriges Riksbank Prize)[13]'].str.contains('None').value_counts()- df[df['Economics(The Sveriges Riksbank Prize)[13]'].str.contains('—')]['Year'].count()"
   ]
  },
  {
   "cell_type": "code",
   "execution_count": null,
   "id": "494b0452",
   "metadata": {},
   "outputs": [],
   "source": [
    "#value none is 0 for economics category and some values are with (-).so total count is 54."
   ]
  },
  {
   "cell_type": "code",
   "execution_count": null,
   "id": "904c90f6",
   "metadata": {},
   "outputs": [],
   "source": [
    "# plotted one pie chart to show the distributioin of winners of nobel prize accoring to category."
   ]
  },
  {
   "cell_type": "code",
   "execution_count": 68,
   "id": "b0959fbc",
   "metadata": {},
   "outputs": [
    {
     "data": {
      "image/png": "[encoded data removed]",
      "text/plain": [
       "<Figure size 432x288 with 1 Axes>"
      ]
     },
     "metadata": {},
     "output_type": "display_data"
    }
   ],
   "source": [
    "categ_count = [115,113,114,112,102,53]\n",
    "categ_name =['Physics','Chemistry','Phsio_medi','Literature','Peace','Economics']\n",
    "cols = ['c','m','r','b','y','g']\n",
    "\n",
    "plt.pie(categ_count,labels=categ_name,colors=cols,\n",
    "        explode=(0,0,0,0,0,0.2),\n",
    "        startangle =45,\n",
    "        shadow = True,\n",
    "        autopct = '%1.2f%%')\n",
    "plt.title(\"% per Category\")\n",
    "\n",
    "plt.show()"
   ]
  },
  {
   "cell_type": "markdown",
   "id": "4a8d8339",
   "metadata": {},
   "source": [
    "As we can see in pie chart the winners in economics category are less  compare to others."
   ]
  },
  {
   "cell_type": "code",
   "execution_count": 69,
   "id": "fc248cf1",
   "metadata": {},
   "outputs": [],
   "source": [
    "df.to_csv('Nobel_Prize.csv', index=False)  # To save the file."
   ]
  },
  {
   "cell_type": "code",
   "execution_count": 73,
   "id": "c5350685",
   "metadata": {},
   "outputs": [
    {
     "data": {
      "text/html": [
       "<div>\n",
       "<style scoped>\n",
       "    .dataframe tbody tr th:only-of-type {\n",
       "        vertical-align: middle;\n",
       "    }\n",
       "\n",
       "    .dataframe tbody tr th {\n",
       "        vertical-align: top;\n",
       "    }\n",
       "\n",
       "    .dataframe thead th {\n",
       "        text-align: right;\n",
       "    }\n",
       "</style>\n",
       "<table border=\"1\" class=\"dataframe\">\n",
       "  <thead>\n",
       "    <tr style=\"text-align: right;\">\n",
       "      <th></th>\n",
       "      <th>Year</th>\n",
       "      <th>Physics</th>\n",
       "      <th>Chemistry</th>\n",
       "      <th>Physiologyor Medicine</th>\n",
       "      <th>Literature</th>\n",
       "      <th>Peace</th>\n",
       "      <th>Economics(The Sveriges Riksbank Prize)[13]</th>\n",
       "    </tr>\n",
       "  </thead>\n",
       "  <tbody>\n",
       "    <tr>\n",
       "      <th>0</th>\n",
       "      <td>1901</td>\n",
       "      <td>Wilhelm Röntgen</td>\n",
       "      <td>Jacobus Henricus van 't Hoff</td>\n",
       "      <td>Emil Adolf von Behring</td>\n",
       "      <td>Sully Prudhomme</td>\n",
       "      <td>Henry Dunant;Frédéric Passy</td>\n",
       "      <td>(prize not established)</td>\n",
       "    </tr>\n",
       "    <tr>\n",
       "      <th>1</th>\n",
       "      <td>1902</td>\n",
       "      <td>Hendrik Lorentz;Pieter Zeeman</td>\n",
       "      <td>Hermann Emil Fischer</td>\n",
       "      <td>Ronald Ross</td>\n",
       "      <td>Theodor Mommsen</td>\n",
       "      <td>Élie Ducommun;Charles Albert Gobat</td>\n",
       "      <td>—</td>\n",
       "    </tr>\n",
       "    <tr>\n",
       "      <th>2</th>\n",
       "      <td>1903</td>\n",
       "      <td>Henri Becquerel;Pierre Curie;Marie Curie</td>\n",
       "      <td>Svante Arrhenius</td>\n",
       "      <td>Niels Ryberg Finsen</td>\n",
       "      <td>Bjørnstjerne Bjørnson</td>\n",
       "      <td>Randal Cremer</td>\n",
       "      <td>—</td>\n",
       "    </tr>\n",
       "    <tr>\n",
       "      <th>3</th>\n",
       "      <td>1904</td>\n",
       "      <td>Lord Rayleigh</td>\n",
       "      <td>William Ramsay</td>\n",
       "      <td>Ivan Pavlov</td>\n",
       "      <td>Frédéric Mistral;José Echegaray</td>\n",
       "      <td>Institut de Droit International</td>\n",
       "      <td>—</td>\n",
       "    </tr>\n",
       "    <tr>\n",
       "      <th>4</th>\n",
       "      <td>1905</td>\n",
       "      <td>Philipp Lenard</td>\n",
       "      <td>Adolf von Baeyer</td>\n",
       "      <td>Robert Koch</td>\n",
       "      <td>Henryk Sienkiewicz</td>\n",
       "      <td>Bertha von Suttner</td>\n",
       "      <td>—</td>\n",
       "    </tr>\n",
       "  </tbody>\n",
       "</table>\n",
       "</div>"
      ],
      "text/plain": [
       "   Year                                   Physics  \\\n",
       "0  1901                           Wilhelm Röntgen   \n",
       "1  1902             Hendrik Lorentz;Pieter Zeeman   \n",
       "2  1903  Henri Becquerel;Pierre Curie;Marie Curie   \n",
       "3  1904                             Lord Rayleigh   \n",
       "4  1905                            Philipp Lenard   \n",
       "\n",
       "                      Chemistry   Physiologyor Medicine  \\\n",
       "0  Jacobus Henricus van 't Hoff  Emil Adolf von Behring   \n",
       "1          Hermann Emil Fischer             Ronald Ross   \n",
       "2              Svante Arrhenius     Niels Ryberg Finsen   \n",
       "3                William Ramsay             Ivan Pavlov   \n",
       "4              Adolf von Baeyer             Robert Koch   \n",
       "\n",
       "                        Literature                               Peace  \\\n",
       "0                  Sully Prudhomme         Henry Dunant;Frédéric Passy   \n",
       "1                  Theodor Mommsen  Élie Ducommun;Charles Albert Gobat   \n",
       "2            Bjørnstjerne Bjørnson                       Randal Cremer   \n",
       "3  Frédéric Mistral;José Echegaray     Institut de Droit International   \n",
       "4               Henryk Sienkiewicz                  Bertha von Suttner   \n",
       "\n",
       "  Economics(The Sveriges Riksbank Prize)[13]  \n",
       "0                    (prize not established)  \n",
       "1                                          —  \n",
       "2                                          —  \n",
       "3                                          —  \n",
       "4                                          —  "
      ]
     },
     "execution_count": 73,
     "metadata": {},
     "output_type": "execute_result"
    }
   ],
   "source": [
    "nb= pd.read_csv('Nobel_Prize.csv')\n",
    "nb.head()"
   ]
  },
  {
   "cell_type": "markdown",
   "id": "7eadc5ce",
   "metadata": {},
   "source": [
    "# Conclusion on Project:\n",
    "\n",
    "The pursose of choosing this paricular project is to show how webwcrapping is done in python using BeautifulSoup.\n",
    "\n",
    "There lots of websides which are giving information but  wikipedia  provides information in very simple way.\n",
    "\n",
    "Pandas operations are used to extract and analyze the data.\n",
    "\n",
    "After analyzing the data it is cocluded that there is no Nobel prize for Economics category.\n",
    "\n",
    "To get the infomatioin for any year and for any Category this data analysis is useful.\n",
    "\n"
   ]
  },
  {
   "cell_type": "code",
   "execution_count": null,
   "id": "87db596a",
   "metadata": {},
   "outputs": [],
   "source": []
  }
 ],
 "metadata": {
  "kernelspec": {
   "display_name": "Python 3",
   "language": "python",
   "name": "python3"
  },
  "language_info": {
   "codemirror_mode": {
    "name": "ipython",
    "version": 3
   },
   "file_extension": ".py",
   "mimetype": "text/x-python",
   "name": "python",
   "nbconvert_exporter": "python",
   "pygments_lexer": "ipython3",
   "version": "3.8.8"
  }
 },
 "nbformat": 4,
 "nbformat_minor": 5
}
